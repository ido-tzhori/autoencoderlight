{
 "cells": [
  {
   "cell_type": "code",
   "execution_count": 3,
   "metadata": {},
   "outputs": [],
   "source": [
    "import cv2\n",
    "import numpy as np\n",
    "import os\n",
    "import random\n",
    "from pytube import Playlist, YouTube\n",
    "import matplotlib.pyplot as plt\n",
    "import pickle"
   ]
  },
  {
   "cell_type": "code",
   "execution_count": 4,
   "metadata": {},
   "outputs": [],
   "source": [
    "def extract_frames_from_video(video_path, size = 256):\n",
    "    \"\"\"\n",
    "    Extracts frames from a video.\n",
    "\n",
    "    :param video_path: Path to the video file.\n",
    "    :return: List of frames as numpy arrays.\n",
    "    \"\"\"\n",
    "    cap = cv2.VideoCapture(video_path)\n",
    "    if not cap.isOpened():\n",
    "        raise IOError(f\"Cannot open video {video_path}\")\n",
    "\n",
    "    frames = []\n",
    "    while True:\n",
    "        ret, frame = cap.read()\n",
    "        if not ret:\n",
    "            break\n",
    "        frame = cv2.cvtColor(frame, cv2.COLOR_BGR2GRAY)\n",
    "        frame = cv2.resize(frame, (size, size))\n",
    "        frames.append(frame / size)\n",
    "    cap.release()\n",
    "    return frames\n",
    "\n",
    "def extract_frames_from_video_min(video_path, start_minute, end_minute, size=256):\n",
    "    \"\"\"\n",
    "    Extracts frames from a specified range of minutes in a video.\n",
    "\n",
    "    :param video_path: Path to the video file.\n",
    "    :param start_minute: The starting minute from which to extract frames.\n",
    "    :param end_minute: The ending minute until which to extract frames.\n",
    "    :param size: The size to which each frame is resized.\n",
    "    :return: List of frames as numpy arrays.\n",
    "    \"\"\"\n",
    "    cap = cv2.VideoCapture(video_path)\n",
    "    if not cap.isOpened():\n",
    "        raise IOError(f\"Cannot open video {video_path}\")\n",
    "\n",
    "    # Get video properties\n",
    "    fps = cap.get(cv2.CAP_PROP_FPS)\n",
    "\n",
    "    # Convert times to frame numbers\n",
    "    start_frame = int(start_minute * 60 * fps)\n",
    "    end_frame = int(end_minute * 60 * fps)\n",
    "\n",
    "    frames = []\n",
    "    current_frame = 0\n",
    "    while True:\n",
    "        ret, frame = cap.read()\n",
    "        if not ret or current_frame > end_frame:\n",
    "            break\n",
    "\n",
    "        if current_frame >= start_frame:\n",
    "            frame = cv2.cvtColor(frame, cv2.COLOR_BGR2GRAY)\n",
    "            frame = cv2.resize(frame, (size, size))\n",
    "            frames.append(frame / size)\n",
    "\n",
    "        current_frame += 1\n",
    "\n",
    "    cap.release()\n",
    "    return frames\n",
    "\n",
    "def get_clips(frames_list, sequence_size, stride=10):\n",
    "    \"\"\"\n",
    "    Splits the list of frames into clips of a fixed size with a given stride.\n",
    "\n",
    "    :param frames_list: List of frames.\n",
    "    :param sequence_size: The number of frames in each clip.\n",
    "    :param stride: The step size between the start of each clip.\n",
    "    :return: List of clips.\n",
    "    \"\"\"\n",
    "    clips = []\n",
    "    for i in range(0, len(frames_list) - sequence_size + 1, stride):\n",
    "        clip = np.array(frames_list[i:i + sequence_size])  # Creating a clip\n",
    "        clip = np.expand_dims(clip, axis=-1)  # Adding the channel dimension\n",
    "        clips.append(clip)\n",
    "    return clips\n",
    "\n",
    "def get_training_set_from_video(video_path, sequence_size=16):\n",
    "    frames = extract_frames_from_video(video_path)\n",
    "    return np.array(get_clips(frames, sequence_size))\n",
    "\n",
    "def visualize_frames(training_data, num_sequences=1, num_frames=10):\n",
    "    \"\"\"\n",
    "    Visualizes frames from the training data.\n",
    "\n",
    "    :param training_data: The training data containing sequences of frames.\n",
    "    :param num_sequences: Number of sequences to visualize.\n",
    "    :param num_frames: Number of frames to visualize per sequence.\n",
    "    \"\"\"\n",
    "    for sequence in range(min(num_sequences, len(training_data))):\n",
    "        fig, axs = plt.subplots(1, num_frames, figsize=(20, 2))\n",
    "        for frame in range(num_frames):\n",
    "            axs[frame].imshow(training_data[sequence][frame, :, :, 0], cmap='gray')\n",
    "            axs[frame].axis('off')\n",
    "        plt.show()\n",
    "        \n",
    "def visualize_as_video(training_data, sequence_idx=0, delay=30):\n",
    "    \"\"\"\n",
    "    Visualizes a sequence of frames as a video.\n",
    "\n",
    "    :param training_data: The training data containing sequences of frames.\n",
    "    :param sequence_idx: Index of the sequence to visualize.\n",
    "    :param delay: Delay between frames in milliseconds.\n",
    "    \"\"\"\n",
    "    sequence = training_data[sequence_idx]\n",
    "    for frame in sequence:\n",
    "        frame_display = frame[:, :, 0] \n",
    "        cv2.imshow('Frame', frame_display)\n",
    "        if cv2.waitKey(delay) & 0xFF == ord('q'):\n",
    "            break\n",
    "    cv2.destroyAllWindows()"
   ]
  },
  {
   "cell_type": "code",
   "execution_count": 5,
   "metadata": {},
   "outputs": [],
   "source": [
    "video_path = '/Users/idotzhori/Desktop/Desktop - Ido’s Laptop/autoencoderlight/full_video_2.mp4'"
   ]
  },
  {
   "cell_type": "code",
   "execution_count": 6,
   "metadata": {},
   "outputs": [],
   "source": [
    "frames = extract_frames_from_video_min(video_path, 39, 40)"
   ]
  },
  {
   "cell_type": "code",
   "execution_count": 7,
   "metadata": {},
   "outputs": [
    {
     "data": {
      "text/plain": [
       "1800"
      ]
     },
     "execution_count": 7,
     "metadata": {},
     "output_type": "execute_result"
    }
   ],
   "source": [
    "len(frames)"
   ]
  },
  {
   "cell_type": "code",
   "execution_count": 8,
   "metadata": {},
   "outputs": [],
   "source": [
    "with open('full_frames_39_40.pickle', 'wb') as f:\n",
    "    pickle.dump(frames, f)"
   ]
  },
  {
   "cell_type": "code",
   "execution_count": null,
   "metadata": {},
   "outputs": [],
   "source": [
    "with open('full_frames.pickle', 'rb') as f:\n",
    "    frames = pickle.load(f)"
   ]
  },
  {
   "cell_type": "code",
   "execution_count": 9,
   "metadata": {},
   "outputs": [],
   "source": [
    "test_set = np.array(get_clips(frames, 16))"
   ]
  },
  {
   "cell_type": "code",
   "execution_count": 10,
   "metadata": {},
   "outputs": [],
   "source": [
    "for i in range(len(test_set)):\n",
    "    visualize_as_video(test_set, sequence_idx=i, delay=10)"
   ]
  },
  {
   "cell_type": "code",
   "execution_count": null,
   "metadata": {},
   "outputs": [],
   "source": [
    "model = load_model('256x256_3_8.h5')"
   ]
  },
  {
   "cell_type": "code",
   "execution_count": null,
   "metadata": {},
   "outputs": [],
   "source": [
    "predictions = model.predict(test_set[0:5])"
   ]
  }
 ],
 "metadata": {
  "kernelspec": {
   "display_name": "Python 3 (ipykernel)",
   "language": "python",
   "name": "python3"
  },
  "language_info": {
   "codemirror_mode": {
    "name": "ipython",
    "version": 3
   },
   "file_extension": ".py",
   "mimetype": "text/x-python",
   "name": "python",
   "nbconvert_exporter": "python",
   "pygments_lexer": "ipython3",
   "version": "3.9.13"
  }
 },
 "nbformat": 4,
 "nbformat_minor": 2
}
