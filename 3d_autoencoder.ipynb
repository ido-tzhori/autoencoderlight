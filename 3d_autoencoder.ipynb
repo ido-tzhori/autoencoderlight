{
 "cells": [
  {
   "cell_type": "code",
   "execution_count": 1,
   "id": "ba708151",
   "metadata": {},
   "outputs": [],
   "source": [
    "import os\n",
    "import glob\n",
    "import pickle\n",
    "import numpy as np\n",
    "from sklearn.model_selection import train_test_split\n",
    "from tqdm import tqdm"
   ]
  },
  {
   "cell_type": "code",
   "execution_count": 2,
   "id": "6990f580",
   "metadata": {},
   "outputs": [
    {
     "name": "stderr",
     "output_type": "stream",
     "text": [
      "100%|█████████████████████████████████████████| 131/131 [00:13<00:00,  9.78it/s]\n"
     ]
    }
   ],
   "source": [
    "processed_clips_directory = '/Users/idotzhori/Desktop/Highlight Detection/processed_clips'\n",
    "\n",
    "pkl_files = glob.glob(os.path.join(processed_clips_directory, '*.pkl'))\n",
    "\n",
    "all_data = []\n",
    "\n",
    "for file in tqdm(pkl_files):\n",
    "    with open(file, 'rb') as f:\n",
    "        clip_data = pickle.load(f)\n",
    "        all_data.extend(clip_data)\n",
    "\n",
    "all_data = np.array(all_data)"
   ]
  },
  {
   "cell_type": "code",
   "execution_count": 4,
   "id": "24662579",
   "metadata": {},
   "outputs": [],
   "source": [
    "train_data, test_data = train_test_split(all_data, test_size=0.2)"
   ]
  },
  {
   "cell_type": "code",
   "execution_count": 3,
   "id": "23f3027f",
   "metadata": {},
   "outputs": [
    {
     "data": {
      "text/plain": [
       "(3630, 20, 256, 256, 1)"
      ]
     },
     "execution_count": 3,
     "metadata": {},
     "output_type": "execute_result"
    }
   ],
   "source": [
    "all_data.shape"
   ]
  }
 ],
 "metadata": {
  "kernelspec": {
   "display_name": "Python 3 (ipykernel)",
   "language": "python",
   "name": "python3"
  },
  "language_info": {
   "codemirror_mode": {
    "name": "ipython",
    "version": 3
   },
   "file_extension": ".py",
   "mimetype": "text/x-python",
   "name": "python",
   "nbconvert_exporter": "python",
   "pygments_lexer": "ipython3",
   "version": "3.9.13"
  }
 },
 "nbformat": 4,
 "nbformat_minor": 5
}
