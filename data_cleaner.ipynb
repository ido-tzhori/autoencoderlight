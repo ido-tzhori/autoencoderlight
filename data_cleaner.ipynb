{
 "cells": [
  {
   "cell_type": "code",
   "execution_count": 1,
   "id": "dc4961f9",
   "metadata": {},
   "outputs": [],
   "source": [
    "import cv2\n",
    "import numpy as np\n",
    "import os \n",
    "import subprocess\n",
    "import matplotlib.pyplot as plt\n",
    "import pickle\n",
    "from tqdm import tqdm\n",
    "from moviepy.editor import VideoFileClip\n",
    "import random"
   ]
  },
  {
   "cell_type": "code",
   "execution_count": 2,
   "id": "0478270c",
   "metadata": {},
   "outputs": [],
   "source": [
    "base_directory = os.getcwd()\n",
    "\n",
    "output_directory = os.path.join(base_directory, \"cleaned_highlights\")\n",
    "if not os.path.exists(output_directory):\n",
    "    os.makedirs(output_directory)"
   ]
  },
  {
   "cell_type": "code",
   "execution_count": 14,
   "id": "4a9b49fb",
   "metadata": {},
   "outputs": [],
   "source": [
    "video_path = os.path.join(base_directory, 'labeled_videos copy')"
   ]
  },
  {
   "cell_type": "code",
   "execution_count": 21,
   "id": "0a859538",
   "metadata": {},
   "outputs": [
    {
     "name": "stdout",
     "output_type": "stream",
     "text": [
      "Moviepy - Building video /Users/idotzhori/Desktop/autoencoderlight/cleaned_highlights/NewcastleUnitedvLeicesterCity_scene_11.mp4.\n",
      "MoviePy - Writing audio in NewcastleUnitedvLeicesterCity_scene_11TEMP_MPY_wvf_snd.mp3\n"
     ]
    },
    {
     "name": "stderr",
     "output_type": "stream",
     "text": [
      "                                                                                \r"
     ]
    },
    {
     "name": "stdout",
     "output_type": "stream",
     "text": [
      "MoviePy - Done.\n",
      "Moviepy - Writing video /Users/idotzhori/Desktop/autoencoderlight/cleaned_highlights/NewcastleUnitedvLeicesterCity_scene_11.mp4\n",
      "\n"
     ]
    },
    {
     "name": "stderr",
     "output_type": "stream",
     "text": [
      "                                                                                \r"
     ]
    },
    {
     "name": "stdout",
     "output_type": "stream",
     "text": [
      "Moviepy - Done !\n",
      "Moviepy - video ready /Users/idotzhori/Desktop/autoencoderlight/cleaned_highlights/NewcastleUnitedvLeicesterCity_scene_11.mp4\n",
      "Moviepy - Building video /Users/idotzhori/Desktop/autoencoderlight/cleaned_highlights/ManchesterUnitedvBrentford_scene_14.mp4.\n",
      "MoviePy - Writing audio in ManchesterUnitedvBrentford_scene_14TEMP_MPY_wvf_snd.mp3\n"
     ]
    },
    {
     "name": "stderr",
     "output_type": "stream",
     "text": [
      "                                                                                \r"
     ]
    },
    {
     "name": "stdout",
     "output_type": "stream",
     "text": [
      "MoviePy - Done.\n",
      "Moviepy - Writing video /Users/idotzhori/Desktop/autoencoderlight/cleaned_highlights/ManchesterUnitedvBrentford_scene_14.mp4\n",
      "\n"
     ]
    },
    {
     "name": "stderr",
     "output_type": "stream",
     "text": [
      "                                                                                \r"
     ]
    },
    {
     "name": "stdout",
     "output_type": "stream",
     "text": [
      "Moviepy - Done !\n",
      "Moviepy - video ready /Users/idotzhori/Desktop/autoencoderlight/cleaned_highlights/ManchesterUnitedvBrentford_scene_14.mp4\n",
      "Moviepy - Building video /Users/idotzhori/Desktop/autoencoderlight/cleaned_highlights/WolvesvTottenhamHotspur_scene_1.mp4.\n",
      "MoviePy - Writing audio in WolvesvTottenhamHotspur_scene_1TEMP_MPY_wvf_snd.mp3\n"
     ]
    },
    {
     "name": "stderr",
     "output_type": "stream",
     "text": [
      "                                                                                \r"
     ]
    },
    {
     "name": "stdout",
     "output_type": "stream",
     "text": [
      "MoviePy - Done.\n",
      "Moviepy - Writing video /Users/idotzhori/Desktop/autoencoderlight/cleaned_highlights/WolvesvTottenhamHotspur_scene_1.mp4\n",
      "\n"
     ]
    },
    {
     "name": "stderr",
     "output_type": "stream",
     "text": [
      "                                                                                \r"
     ]
    },
    {
     "name": "stdout",
     "output_type": "stream",
     "text": [
      "Moviepy - Done !\n",
      "Moviepy - video ready /Users/idotzhori/Desktop/autoencoderlight/cleaned_highlights/WolvesvTottenhamHotspur_scene_1.mp4\n",
      "Moviepy - Building video /Users/idotzhori/Desktop/autoencoderlight/cleaned_highlights/ManchesterUnitedvChelsea_scene_19.mp4.\n",
      "MoviePy - Writing audio in ManchesterUnitedvChelsea_scene_19TEMP_MPY_wvf_snd.mp3\n"
     ]
    },
    {
     "name": "stderr",
     "output_type": "stream",
     "text": [
      "                                                                                \r"
     ]
    },
    {
     "name": "stdout",
     "output_type": "stream",
     "text": [
      "MoviePy - Done.\n",
      "Moviepy - Writing video /Users/idotzhori/Desktop/autoencoderlight/cleaned_highlights/ManchesterUnitedvChelsea_scene_19.mp4\n",
      "\n"
     ]
    },
    {
     "name": "stderr",
     "output_type": "stream",
     "text": [
      "                                                                                \r"
     ]
    },
    {
     "name": "stdout",
     "output_type": "stream",
     "text": [
      "Moviepy - Done !\n",
      "Moviepy - video ready /Users/idotzhori/Desktop/autoencoderlight/cleaned_highlights/ManchesterUnitedvChelsea_scene_19.mp4\n",
      "Moviepy - Building video /Users/idotzhori/Desktop/autoencoderlight/cleaned_highlights/LiverpoolvEverton_scene_21.mp4.\n",
      "MoviePy - Writing audio in LiverpoolvEverton_scene_21TEMP_MPY_wvf_snd.mp3\n"
     ]
    },
    {
     "name": "stderr",
     "output_type": "stream",
     "text": [
      "                                                                                \r"
     ]
    },
    {
     "name": "stdout",
     "output_type": "stream",
     "text": [
      "MoviePy - Done.\n",
      "Moviepy - Writing video /Users/idotzhori/Desktop/autoencoderlight/cleaned_highlights/LiverpoolvEverton_scene_21.mp4\n",
      "\n"
     ]
    },
    {
     "name": "stderr",
     "output_type": "stream",
     "text": [
      "                                                                                \r"
     ]
    },
    {
     "name": "stdout",
     "output_type": "stream",
     "text": [
      "Moviepy - Done !\n",
      "Moviepy - video ready /Users/idotzhori/Desktop/autoencoderlight/cleaned_highlights/LiverpoolvEverton_scene_21.mp4\n",
      "Moviepy - Building video /Users/idotzhori/Desktop/autoencoderlight/cleaned_highlights/LeicesterCityvLiverpool_scene_6.mp4.\n",
      "MoviePy - Writing audio in LeicesterCityvLiverpool_scene_6TEMP_MPY_wvf_snd.mp3\n"
     ]
    },
    {
     "name": "stderr",
     "output_type": "stream",
     "text": [
      "                                                                                \r"
     ]
    },
    {
     "name": "stdout",
     "output_type": "stream",
     "text": [
      "MoviePy - Done.\n",
      "Moviepy - Writing video /Users/idotzhori/Desktop/autoencoderlight/cleaned_highlights/LeicesterCityvLiverpool_scene_6.mp4\n",
      "\n"
     ]
    },
    {
     "name": "stderr",
     "output_type": "stream",
     "text": [
      "                                                                                \r"
     ]
    },
    {
     "name": "stdout",
     "output_type": "stream",
     "text": [
      "Moviepy - Done !\n",
      "Moviepy - video ready /Users/idotzhori/Desktop/autoencoderlight/cleaned_highlights/LeicesterCityvLiverpool_scene_6.mp4\n",
      "Moviepy - Building video /Users/idotzhori/Desktop/autoencoderlight/cleaned_highlights/NewcastleUnitedvBrighton_scene_10.mp4.\n",
      "MoviePy - Writing audio in NewcastleUnitedvBrighton_scene_10TEMP_MPY_wvf_snd.mp3\n"
     ]
    },
    {
     "name": "stderr",
     "output_type": "stream",
     "text": [
      "                                                                                \r"
     ]
    },
    {
     "name": "stdout",
     "output_type": "stream",
     "text": [
      "MoviePy - Done.\n",
      "Moviepy - Writing video /Users/idotzhori/Desktop/autoencoderlight/cleaned_highlights/NewcastleUnitedvBrighton_scene_10.mp4\n",
      "\n"
     ]
    },
    {
     "name": "stderr",
     "output_type": "stream",
     "text": [
      "                                                                                \r"
     ]
    },
    {
     "name": "stdout",
     "output_type": "stream",
     "text": [
      "Moviepy - Done !\n",
      "Moviepy - video ready /Users/idotzhori/Desktop/autoencoderlight/cleaned_highlights/NewcastleUnitedvBrighton_scene_10.mp4\n",
      "Moviepy - Building video /Users/idotzhori/Desktop/autoencoderlight/cleaned_highlights/TottenhamHotspurvNottinghamForest_scene_18.mp4.\n",
      "MoviePy - Writing audio in TottenhamHotspurvNottinghamForest_scene_18TEMP_MPY_wvf_snd.mp3\n"
     ]
    },
    {
     "name": "stderr",
     "output_type": "stream",
     "text": [
      "                                                                                \r"
     ]
    },
    {
     "name": "stdout",
     "output_type": "stream",
     "text": [
      "MoviePy - Done.\n",
      "Moviepy - Writing video /Users/idotzhori/Desktop/autoencoderlight/cleaned_highlights/TottenhamHotspurvNottinghamForest_scene_18.mp4\n",
      "\n"
     ]
    },
    {
     "name": "stderr",
     "output_type": "stream",
     "text": [
      "                                                                                \r"
     ]
    },
    {
     "name": "stdout",
     "output_type": "stream",
     "text": [
      "Moviepy - Done !\n",
      "Moviepy - video ready /Users/idotzhori/Desktop/autoencoderlight/cleaned_highlights/TottenhamHotspurvNottinghamForest_scene_18.mp4\n",
      "Moviepy - Building video /Users/idotzhori/Desktop/autoencoderlight/cleaned_highlights/FulhamvArsenal_scene_8.mp4.\n",
      "MoviePy - Writing audio in FulhamvArsenal_scene_8TEMP_MPY_wvf_snd.mp3\n"
     ]
    },
    {
     "name": "stderr",
     "output_type": "stream",
     "text": [
      "                                                                                \r"
     ]
    },
    {
     "name": "stdout",
     "output_type": "stream",
     "text": [
      "MoviePy - Done.\n",
      "Moviepy - Writing video /Users/idotzhori/Desktop/autoencoderlight/cleaned_highlights/FulhamvArsenal_scene_8.mp4\n",
      "\n"
     ]
    },
    {
     "name": "stderr",
     "output_type": "stream",
     "text": [
      "                                                                                \r"
     ]
    },
    {
     "name": "stdout",
     "output_type": "stream",
     "text": [
      "Moviepy - Done !\n",
      "Moviepy - video ready /Users/idotzhori/Desktop/autoencoderlight/cleaned_highlights/FulhamvArsenal_scene_8.mp4\n",
      "Moviepy - Building video /Users/idotzhori/Desktop/autoencoderlight/cleaned_highlights/EvertonvBrentford_scene_1.mp4.\n",
      "MoviePy - Writing audio in EvertonvBrentford_scene_1TEMP_MPY_wvf_snd.mp3\n"
     ]
    },
    {
     "name": "stderr",
     "output_type": "stream",
     "text": [
      "                                                                                \r"
     ]
    },
    {
     "name": "stdout",
     "output_type": "stream",
     "text": [
      "MoviePy - Done.\n",
      "Moviepy - Writing video /Users/idotzhori/Desktop/autoencoderlight/cleaned_highlights/EvertonvBrentford_scene_1.mp4\n",
      "\n"
     ]
    },
    {
     "name": "stderr",
     "output_type": "stream",
     "text": [
      "                                                                                \r"
     ]
    },
    {
     "name": "stdout",
     "output_type": "stream",
     "text": [
      "Moviepy - Done !\n",
      "Moviepy - video ready /Users/idotzhori/Desktop/autoencoderlight/cleaned_highlights/EvertonvBrentford_scene_1.mp4\n",
      "Moviepy - Building video /Users/idotzhori/Desktop/autoencoderlight/cleaned_highlights/BrightonvWolves_scene_3.mp4.\n",
      "MoviePy - Writing audio in BrightonvWolves_scene_3TEMP_MPY_wvf_snd.mp3\n"
     ]
    },
    {
     "name": "stderr",
     "output_type": "stream",
     "text": [
      "                                                                                \r"
     ]
    },
    {
     "name": "stdout",
     "output_type": "stream",
     "text": [
      "MoviePy - Done.\n",
      "Moviepy - Writing video /Users/idotzhori/Desktop/autoencoderlight/cleaned_highlights/BrightonvWolves_scene_3.mp4\n",
      "\n"
     ]
    },
    {
     "name": "stderr",
     "output_type": "stream",
     "text": [
      "                                                                                \r"
     ]
    },
    {
     "name": "stdout",
     "output_type": "stream",
     "text": [
      "Moviepy - Done !\n",
      "Moviepy - video ready /Users/idotzhori/Desktop/autoencoderlight/cleaned_highlights/BrightonvWolves_scene_3.mp4\n",
      "Moviepy - Building video /Users/idotzhori/Desktop/autoencoderlight/cleaned_highlights/ChelseavBrighton_scene_28.mp4.\n",
      "MoviePy - Writing audio in ChelseavBrighton_scene_28TEMP_MPY_wvf_snd.mp3\n"
     ]
    },
    {
     "name": "stderr",
     "output_type": "stream",
     "text": [
      "                                                                                \r"
     ]
    },
    {
     "name": "stdout",
     "output_type": "stream",
     "text": [
      "MoviePy - Done.\n",
      "Moviepy - Writing video /Users/idotzhori/Desktop/autoencoderlight/cleaned_highlights/ChelseavBrighton_scene_28.mp4\n",
      "\n"
     ]
    },
    {
     "name": "stderr",
     "output_type": "stream",
     "text": [
      "                                                                                \r"
     ]
    },
    {
     "name": "stdout",
     "output_type": "stream",
     "text": [
      "Moviepy - Done !\n",
      "Moviepy - video ready /Users/idotzhori/Desktop/autoencoderlight/cleaned_highlights/ChelseavBrighton_scene_28.mp4\n",
      "Moviepy - Building video /Users/idotzhori/Desktop/autoencoderlight/cleaned_highlights/LeicesterCityvArsenal_scene_7.mp4.\n",
      "MoviePy - Writing audio in LeicesterCityvArsenal_scene_7TEMP_MPY_wvf_snd.mp3\n"
     ]
    },
    {
     "name": "stderr",
     "output_type": "stream",
     "text": [
      "                                                                                \r"
     ]
    },
    {
     "name": "stdout",
     "output_type": "stream",
     "text": [
      "MoviePy - Done.\n",
      "Moviepy - Writing video /Users/idotzhori/Desktop/autoencoderlight/cleaned_highlights/LeicesterCityvArsenal_scene_7.mp4\n",
      "\n"
     ]
    },
    {
     "name": "stderr",
     "output_type": "stream",
     "text": [
      "                                                                                \r"
     ]
    },
    {
     "name": "stdout",
     "output_type": "stream",
     "text": [
      "Moviepy - Done !\n",
      "Moviepy - video ready /Users/idotzhori/Desktop/autoencoderlight/cleaned_highlights/LeicesterCityvArsenal_scene_7.mp4\n",
      "Moviepy - Building video /Users/idotzhori/Desktop/autoencoderlight/cleaned_highlights/ChelseavBrighton_scene_14.mp4.\n",
      "MoviePy - Writing audio in ChelseavBrighton_scene_14TEMP_MPY_wvf_snd.mp3\n"
     ]
    },
    {
     "name": "stderr",
     "output_type": "stream",
     "text": [
      "                                                                                \r"
     ]
    },
    {
     "name": "stdout",
     "output_type": "stream",
     "text": [
      "MoviePy - Done.\n",
      "Moviepy - Writing video /Users/idotzhori/Desktop/autoencoderlight/cleaned_highlights/ChelseavBrighton_scene_14.mp4\n",
      "\n"
     ]
    },
    {
     "name": "stderr",
     "output_type": "stream",
     "text": [
      "                                                                                \r"
     ]
    },
    {
     "name": "stdout",
     "output_type": "stream",
     "text": [
      "Moviepy - Done !\n",
      "Moviepy - video ready /Users/idotzhori/Desktop/autoencoderlight/cleaned_highlights/ChelseavBrighton_scene_14.mp4\n",
      "Moviepy - Building video /Users/idotzhori/Desktop/autoencoderlight/cleaned_highlights/EvertonvTottenhamHotspur_scene_4.mp4.\n",
      "MoviePy - Writing audio in EvertonvTottenhamHotspur_scene_4TEMP_MPY_wvf_snd.mp3\n"
     ]
    },
    {
     "name": "stderr",
     "output_type": "stream",
     "text": [
      "                                                                                \r"
     ]
    },
    {
     "name": "stdout",
     "output_type": "stream",
     "text": [
      "MoviePy - Done.\n",
      "Moviepy - Writing video /Users/idotzhori/Desktop/autoencoderlight/cleaned_highlights/EvertonvTottenhamHotspur_scene_4.mp4\n",
      "\n"
     ]
    },
    {
     "name": "stderr",
     "output_type": "stream",
     "text": [
      "                                                                                \r"
     ]
    },
    {
     "name": "stdout",
     "output_type": "stream",
     "text": [
      "Moviepy - Done !\n",
      "Moviepy - video ready /Users/idotzhori/Desktop/autoencoderlight/cleaned_highlights/EvertonvTottenhamHotspur_scene_4.mp4\n",
      "Moviepy - Building video /Users/idotzhori/Desktop/autoencoderlight/cleaned_highlights/BrentfordvNottinghamForest_scene_13.mp4.\n",
      "MoviePy - Writing audio in BrentfordvNottinghamForest_scene_13TEMP_MPY_wvf_snd.mp3\n"
     ]
    },
    {
     "name": "stderr",
     "output_type": "stream",
     "text": [
      "                                                                                \r"
     ]
    },
    {
     "name": "stdout",
     "output_type": "stream",
     "text": [
      "MoviePy - Done.\n",
      "Moviepy - Writing video /Users/idotzhori/Desktop/autoencoderlight/cleaned_highlights/BrentfordvNottinghamForest_scene_13.mp4\n",
      "\n"
     ]
    },
    {
     "name": "stderr",
     "output_type": "stream",
     "text": [
      "                                                                                \r"
     ]
    },
    {
     "name": "stdout",
     "output_type": "stream",
     "text": [
      "Moviepy - Done !\n",
      "Moviepy - video ready /Users/idotzhori/Desktop/autoencoderlight/cleaned_highlights/BrentfordvNottinghamForest_scene_13.mp4\n",
      "Moviepy - Building video /Users/idotzhori/Desktop/autoencoderlight/cleaned_highlights/EvertonvBrentford_scene_24.mp4.\n",
      "MoviePy - Writing audio in EvertonvBrentford_scene_24TEMP_MPY_wvf_snd.mp3\n"
     ]
    },
    {
     "name": "stderr",
     "output_type": "stream",
     "text": [
      "                                                                                \r"
     ]
    },
    {
     "name": "stdout",
     "output_type": "stream",
     "text": [
      "MoviePy - Done.\n",
      "Moviepy - Writing video /Users/idotzhori/Desktop/autoencoderlight/cleaned_highlights/EvertonvBrentford_scene_24.mp4\n",
      "\n"
     ]
    },
    {
     "name": "stderr",
     "output_type": "stream",
     "text": [
      "                                                                                \r"
     ]
    },
    {
     "name": "stdout",
     "output_type": "stream",
     "text": [
      "Moviepy - Done !\n",
      "Moviepy - video ready /Users/idotzhori/Desktop/autoencoderlight/cleaned_highlights/EvertonvBrentford_scene_24.mp4\n",
      "Moviepy - Building video /Users/idotzhori/Desktop/autoencoderlight/cleaned_highlights/EvertonvTottenhamHotspur_scene_20.mp4.\n",
      "MoviePy - Writing audio in EvertonvTottenhamHotspur_scene_20TEMP_MPY_wvf_snd.mp3\n"
     ]
    },
    {
     "name": "stderr",
     "output_type": "stream",
     "text": [
      "                                                                                \r"
     ]
    },
    {
     "name": "stdout",
     "output_type": "stream",
     "text": [
      "MoviePy - Done.\n",
      "Moviepy - Writing video /Users/idotzhori/Desktop/autoencoderlight/cleaned_highlights/EvertonvTottenhamHotspur_scene_20.mp4\n",
      "\n"
     ]
    },
    {
     "name": "stderr",
     "output_type": "stream",
     "text": [
      "                                                                                \r"
     ]
    },
    {
     "name": "stdout",
     "output_type": "stream",
     "text": [
      "Moviepy - Done !\n",
      "Moviepy - video ready /Users/idotzhori/Desktop/autoencoderlight/cleaned_highlights/EvertonvTottenhamHotspur_scene_20.mp4\n",
      "Moviepy - Building video /Users/idotzhori/Desktop/autoencoderlight/cleaned_highlights/EvertonvTottenhamHotspur_scene_34.mp4.\n",
      "MoviePy - Writing audio in EvertonvTottenhamHotspur_scene_34TEMP_MPY_wvf_snd.mp3\n"
     ]
    },
    {
     "name": "stderr",
     "output_type": "stream",
     "text": [
      "                                                                                \r"
     ]
    },
    {
     "name": "stdout",
     "output_type": "stream",
     "text": [
      "MoviePy - Done.\n",
      "Moviepy - Writing video /Users/idotzhori/Desktop/autoencoderlight/cleaned_highlights/EvertonvTottenhamHotspur_scene_34.mp4\n",
      "\n"
     ]
    },
    {
     "name": "stderr",
     "output_type": "stream",
     "text": [
      "                                                                                \r"
     ]
    },
    {
     "name": "stdout",
     "output_type": "stream",
     "text": [
      "Moviepy - Done !\n",
      "Moviepy - video ready /Users/idotzhori/Desktop/autoencoderlight/cleaned_highlights/EvertonvTottenhamHotspur_scene_34.mp4\n",
      "Moviepy - Building video /Users/idotzhori/Desktop/autoencoderlight/cleaned_highlights/LeedsUnitedvNottinghamForest_scene_1.mp4.\n",
      "MoviePy - Writing audio in LeedsUnitedvNottinghamForest_scene_1TEMP_MPY_wvf_snd.mp3\n"
     ]
    },
    {
     "name": "stderr",
     "output_type": "stream",
     "text": [
      "                                                                                \r"
     ]
    },
    {
     "name": "stdout",
     "output_type": "stream",
     "text": [
      "MoviePy - Done.\n",
      "Moviepy - Writing video /Users/idotzhori/Desktop/autoencoderlight/cleaned_highlights/LeedsUnitedvNottinghamForest_scene_1.mp4\n",
      "\n"
     ]
    },
    {
     "name": "stderr",
     "output_type": "stream",
     "text": [
      "                                                                                \r"
     ]
    },
    {
     "name": "stdout",
     "output_type": "stream",
     "text": [
      "Moviepy - Done !\n",
      "Moviepy - video ready /Users/idotzhori/Desktop/autoencoderlight/cleaned_highlights/LeedsUnitedvNottinghamForest_scene_1.mp4\n",
      "Moviepy - Building video /Users/idotzhori/Desktop/autoencoderlight/cleaned_highlights/TottenhamHotspurvCrystalPalace_scene_14.mp4.\n",
      "MoviePy - Writing audio in TottenhamHotspurvCrystalPalace_scene_14TEMP_MPY_wvf_snd.mp3\n"
     ]
    },
    {
     "name": "stderr",
     "output_type": "stream",
     "text": [
      "                                                                                \r"
     ]
    },
    {
     "name": "stdout",
     "output_type": "stream",
     "text": [
      "MoviePy - Done.\n",
      "Moviepy - Writing video /Users/idotzhori/Desktop/autoencoderlight/cleaned_highlights/TottenhamHotspurvCrystalPalace_scene_14.mp4\n",
      "\n"
     ]
    },
    {
     "name": "stderr",
     "output_type": "stream",
     "text": [
      "                                                                                \r"
     ]
    },
    {
     "name": "stdout",
     "output_type": "stream",
     "text": [
      "Moviepy - Done !\n",
      "Moviepy - video ready /Users/idotzhori/Desktop/autoencoderlight/cleaned_highlights/TottenhamHotspurvCrystalPalace_scene_14.mp4\n",
      "Moviepy - Building video /Users/idotzhori/Desktop/autoencoderlight/cleaned_highlights/EvertonvFulham_scene_31.mp4.\n",
      "MoviePy - Writing audio in EvertonvFulham_scene_31TEMP_MPY_wvf_snd.mp3\n"
     ]
    },
    {
     "name": "stderr",
     "output_type": "stream",
     "text": [
      "                                                                                \r"
     ]
    },
    {
     "name": "stdout",
     "output_type": "stream",
     "text": [
      "MoviePy - Done.\n",
      "Moviepy - Writing video /Users/idotzhori/Desktop/autoencoderlight/cleaned_highlights/EvertonvFulham_scene_31.mp4\n",
      "\n"
     ]
    },
    {
     "name": "stderr",
     "output_type": "stream",
     "text": [
      "                                                                                \r"
     ]
    },
    {
     "name": "stdout",
     "output_type": "stream",
     "text": [
      "Moviepy - Done !\n",
      "Moviepy - video ready /Users/idotzhori/Desktop/autoencoderlight/cleaned_highlights/EvertonvFulham_scene_31.mp4\n",
      "Moviepy - Building video /Users/idotzhori/Desktop/autoencoderlight/cleaned_highlights/FulhamvArsenal_scene_9.mp4.\n",
      "MoviePy - Writing audio in FulhamvArsenal_scene_9TEMP_MPY_wvf_snd.mp3\n"
     ]
    },
    {
     "name": "stderr",
     "output_type": "stream",
     "text": [
      "                                                                                \r"
     ]
    },
    {
     "name": "stdout",
     "output_type": "stream",
     "text": [
      "MoviePy - Done.\n",
      "Moviepy - Writing video /Users/idotzhori/Desktop/autoencoderlight/cleaned_highlights/FulhamvArsenal_scene_9.mp4\n",
      "\n"
     ]
    },
    {
     "name": "stderr",
     "output_type": "stream",
     "text": [
      "                                                                                \r"
     ]
    },
    {
     "name": "stdout",
     "output_type": "stream",
     "text": [
      "Moviepy - Done !\n",
      "Moviepy - video ready /Users/idotzhori/Desktop/autoencoderlight/cleaned_highlights/FulhamvArsenal_scene_9.mp4\n",
      "Moviepy - Building video /Users/idotzhori/Desktop/autoencoderlight/cleaned_highlights/ManchesterCityvNewcastleUnited_scene_7.mp4.\n",
      "MoviePy - Writing audio in ManchesterCityvNewcastleUnited_scene_7TEMP_MPY_wvf_snd.mp3\n"
     ]
    },
    {
     "name": "stderr",
     "output_type": "stream",
     "text": [
      "                                                                                \r"
     ]
    },
    {
     "name": "stdout",
     "output_type": "stream",
     "text": [
      "MoviePy - Done.\n",
      "Moviepy - Writing video /Users/idotzhori/Desktop/autoencoderlight/cleaned_highlights/ManchesterCityvNewcastleUnited_scene_7.mp4\n",
      "\n"
     ]
    },
    {
     "name": "stderr",
     "output_type": "stream",
     "text": [
      "                                                                                \r"
     ]
    },
    {
     "name": "stdout",
     "output_type": "stream",
     "text": [
      "Moviepy - Done !\n",
      "Moviepy - video ready /Users/idotzhori/Desktop/autoencoderlight/cleaned_highlights/ManchesterCityvNewcastleUnited_scene_7.mp4\n",
      "Moviepy - Building video /Users/idotzhori/Desktop/autoencoderlight/cleaned_highlights/ManchesterCityvLiverpool_scene_3.mp4.\n",
      "MoviePy - Writing audio in ManchesterCityvLiverpool_scene_3TEMP_MPY_wvf_snd.mp3\n"
     ]
    },
    {
     "name": "stderr",
     "output_type": "stream",
     "text": [
      "                                                                                \r"
     ]
    },
    {
     "name": "stdout",
     "output_type": "stream",
     "text": [
      "MoviePy - Done.\n",
      "Moviepy - Writing video /Users/idotzhori/Desktop/autoencoderlight/cleaned_highlights/ManchesterCityvLiverpool_scene_3.mp4\n",
      "\n"
     ]
    },
    {
     "name": "stderr",
     "output_type": "stream",
     "text": [
      "                                                                                \r"
     ]
    },
    {
     "name": "stdout",
     "output_type": "stream",
     "text": [
      "Moviepy - Done !\n",
      "Moviepy - video ready /Users/idotzhori/Desktop/autoencoderlight/cleaned_highlights/ManchesterCityvLiverpool_scene_3.mp4\n",
      "Moviepy - Building video /Users/idotzhori/Desktop/autoencoderlight/cleaned_highlights/ChelseavEverton_scene_10.mp4.\n",
      "MoviePy - Writing audio in ChelseavEverton_scene_10TEMP_MPY_wvf_snd.mp3\n"
     ]
    },
    {
     "name": "stderr",
     "output_type": "stream",
     "text": [
      "                                                                                \r"
     ]
    },
    {
     "name": "stdout",
     "output_type": "stream",
     "text": [
      "MoviePy - Done.\n",
      "Moviepy - Writing video /Users/idotzhori/Desktop/autoencoderlight/cleaned_highlights/ChelseavEverton_scene_10.mp4\n",
      "\n"
     ]
    },
    {
     "name": "stderr",
     "output_type": "stream",
     "text": [
      "                                                                                \r"
     ]
    },
    {
     "name": "stdout",
     "output_type": "stream",
     "text": [
      "Moviepy - Done !\n",
      "Moviepy - video ready /Users/idotzhori/Desktop/autoencoderlight/cleaned_highlights/ChelseavEverton_scene_10.mp4\n",
      "Moviepy - Building video /Users/idotzhori/Desktop/autoencoderlight/cleaned_highlights/NewcastleUnitedvLeicesterCity_scene_12.mp4.\n",
      "MoviePy - Writing audio in NewcastleUnitedvLeicesterCity_scene_12TEMP_MPY_wvf_snd.mp3\n"
     ]
    },
    {
     "name": "stderr",
     "output_type": "stream",
     "text": [
      "                                                                                \r"
     ]
    },
    {
     "name": "stdout",
     "output_type": "stream",
     "text": [
      "MoviePy - Done.\n",
      "Moviepy - Writing video /Users/idotzhori/Desktop/autoencoderlight/cleaned_highlights/NewcastleUnitedvLeicesterCity_scene_12.mp4\n",
      "\n"
     ]
    },
    {
     "name": "stderr",
     "output_type": "stream",
     "text": [
      "                                                                                \r"
     ]
    },
    {
     "name": "stdout",
     "output_type": "stream",
     "text": [
      "Moviepy - Done !\n",
      "Moviepy - video ready /Users/idotzhori/Desktop/autoencoderlight/cleaned_highlights/NewcastleUnitedvLeicesterCity_scene_12.mp4\n",
      "Moviepy - Building video /Users/idotzhori/Desktop/autoencoderlight/cleaned_highlights/BrightonvCrystalPalace_scene_19.mp4.\n",
      "MoviePy - Writing audio in BrightonvCrystalPalace_scene_19TEMP_MPY_wvf_snd.mp3\n"
     ]
    },
    {
     "name": "stderr",
     "output_type": "stream",
     "text": [
      "                                                                                \r"
     ]
    },
    {
     "name": "stdout",
     "output_type": "stream",
     "text": [
      "MoviePy - Done.\n",
      "Moviepy - Writing video /Users/idotzhori/Desktop/autoencoderlight/cleaned_highlights/BrightonvCrystalPalace_scene_19.mp4\n",
      "\n"
     ]
    },
    {
     "name": "stderr",
     "output_type": "stream",
     "text": [
      "                                                                                \r"
     ]
    },
    {
     "name": "stdout",
     "output_type": "stream",
     "text": [
      "Moviepy - Done !\n",
      "Moviepy - video ready /Users/idotzhori/Desktop/autoencoderlight/cleaned_highlights/BrightonvCrystalPalace_scene_19.mp4\n",
      "Moviepy - Building video /Users/idotzhori/Desktop/autoencoderlight/cleaned_highlights/SouthamptonvFulham_scene_14.mp4.\n",
      "MoviePy - Writing audio in SouthamptonvFulham_scene_14TEMP_MPY_wvf_snd.mp3\n"
     ]
    },
    {
     "name": "stderr",
     "output_type": "stream",
     "text": [
      "                                                                                \r"
     ]
    },
    {
     "name": "stdout",
     "output_type": "stream",
     "text": [
      "MoviePy - Done.\n",
      "Moviepy - Writing video /Users/idotzhori/Desktop/autoencoderlight/cleaned_highlights/SouthamptonvFulham_scene_14.mp4\n",
      "\n"
     ]
    },
    {
     "name": "stderr",
     "output_type": "stream",
     "text": [
      "                                                                                \r"
     ]
    },
    {
     "name": "stdout",
     "output_type": "stream",
     "text": [
      "Moviepy - Done !\n",
      "Moviepy - video ready /Users/idotzhori/Desktop/autoencoderlight/cleaned_highlights/SouthamptonvFulham_scene_14.mp4\n",
      "Moviepy - Building video /Users/idotzhori/Desktop/autoencoderlight/cleaned_highlights/LeicesterCityvLiverpool_scene_5.mp4.\n",
      "MoviePy - Writing audio in LeicesterCityvLiverpool_scene_5TEMP_MPY_wvf_snd.mp3\n"
     ]
    },
    {
     "name": "stderr",
     "output_type": "stream",
     "text": [
      "                                                                                \r"
     ]
    },
    {
     "name": "stdout",
     "output_type": "stream",
     "text": [
      "MoviePy - Done.\n",
      "Moviepy - Writing video /Users/idotzhori/Desktop/autoencoderlight/cleaned_highlights/LeicesterCityvLiverpool_scene_5.mp4\n",
      "\n"
     ]
    },
    {
     "name": "stderr",
     "output_type": "stream",
     "text": [
      "                                                                                \r"
     ]
    },
    {
     "name": "stdout",
     "output_type": "stream",
     "text": [
      "Moviepy - Done !\n",
      "Moviepy - video ready /Users/idotzhori/Desktop/autoencoderlight/cleaned_highlights/LeicesterCityvLiverpool_scene_5.mp4\n",
      "Moviepy - Building video /Users/idotzhori/Desktop/autoencoderlight/cleaned_highlights/NewcastleUnitedvBrighton_scene_13.mp4.\n",
      "MoviePy - Writing audio in NewcastleUnitedvBrighton_scene_13TEMP_MPY_wvf_snd.mp3\n"
     ]
    },
    {
     "name": "stderr",
     "output_type": "stream",
     "text": [
      "                                                                                \r"
     ]
    },
    {
     "name": "stdout",
     "output_type": "stream",
     "text": [
      "MoviePy - Done.\n",
      "Moviepy - Writing video /Users/idotzhori/Desktop/autoencoderlight/cleaned_highlights/NewcastleUnitedvBrighton_scene_13.mp4\n",
      "\n"
     ]
    },
    {
     "name": "stderr",
     "output_type": "stream",
     "text": [
      "                                                                                \r"
     ]
    },
    {
     "name": "stdout",
     "output_type": "stream",
     "text": [
      "Moviepy - Done !\n",
      "Moviepy - video ready /Users/idotzhori/Desktop/autoencoderlight/cleaned_highlights/NewcastleUnitedvBrighton_scene_13.mp4\n",
      "Moviepy - Building video /Users/idotzhori/Desktop/autoencoderlight/cleaned_highlights/ManchesterCityvNewcastleUnited_scene_5.mp4.\n",
      "MoviePy - Writing audio in ManchesterCityvNewcastleUnited_scene_5TEMP_MPY_wvf_snd.mp3\n"
     ]
    },
    {
     "name": "stderr",
     "output_type": "stream",
     "text": [
      "                                                                                \r"
     ]
    },
    {
     "name": "stdout",
     "output_type": "stream",
     "text": [
      "MoviePy - Done.\n",
      "Moviepy - Writing video /Users/idotzhori/Desktop/autoencoderlight/cleaned_highlights/ManchesterCityvNewcastleUnited_scene_5.mp4\n",
      "\n"
     ]
    },
    {
     "name": "stderr",
     "output_type": "stream",
     "text": [
      "                                                                                \r"
     ]
    },
    {
     "name": "stdout",
     "output_type": "stream",
     "text": [
      "Moviepy - Done !\n",
      "Moviepy - video ready /Users/idotzhori/Desktop/autoencoderlight/cleaned_highlights/ManchesterCityvNewcastleUnited_scene_5.mp4\n",
      "Moviepy - Building video /Users/idotzhori/Desktop/autoencoderlight/cleaned_highlights/SouthamptonvLiverpool_scene_21.mp4.\n",
      "MoviePy - Writing audio in SouthamptonvLiverpool_scene_21TEMP_MPY_wvf_snd.mp3\n"
     ]
    },
    {
     "name": "stderr",
     "output_type": "stream",
     "text": [
      "                                                                                \r"
     ]
    },
    {
     "name": "stdout",
     "output_type": "stream",
     "text": [
      "MoviePy - Done.\n",
      "Moviepy - Writing video /Users/idotzhori/Desktop/autoencoderlight/cleaned_highlights/SouthamptonvLiverpool_scene_21.mp4\n",
      "\n"
     ]
    },
    {
     "name": "stderr",
     "output_type": "stream",
     "text": [
      "                                                                                \r"
     ]
    },
    {
     "name": "stdout",
     "output_type": "stream",
     "text": [
      "Moviepy - Done !\n",
      "Moviepy - video ready /Users/idotzhori/Desktop/autoencoderlight/cleaned_highlights/SouthamptonvLiverpool_scene_21.mp4\n",
      "Moviepy - Building video /Users/idotzhori/Desktop/autoencoderlight/cleaned_highlights/BrightonvWestHamUnited_scene_6.mp4.\n",
      "MoviePy - Writing audio in BrightonvWestHamUnited_scene_6TEMP_MPY_wvf_snd.mp3\n"
     ]
    },
    {
     "name": "stderr",
     "output_type": "stream",
     "text": [
      "                                                                                \r"
     ]
    },
    {
     "name": "stdout",
     "output_type": "stream",
     "text": [
      "MoviePy - Done.\n",
      "Moviepy - Writing video /Users/idotzhori/Desktop/autoencoderlight/cleaned_highlights/BrightonvWestHamUnited_scene_6.mp4\n",
      "\n"
     ]
    },
    {
     "name": "stderr",
     "output_type": "stream",
     "text": [
      "                                                                                \r"
     ]
    },
    {
     "name": "stdout",
     "output_type": "stream",
     "text": [
      "Moviepy - Done !\n",
      "Moviepy - video ready /Users/idotzhori/Desktop/autoencoderlight/cleaned_highlights/BrightonvWestHamUnited_scene_6.mp4\n",
      "Moviepy - Building video /Users/idotzhori/Desktop/autoencoderlight/cleaned_highlights/LeedsUnitedvNottinghamForest_scene_3.mp4.\n",
      "MoviePy - Writing audio in LeedsUnitedvNottinghamForest_scene_3TEMP_MPY_wvf_snd.mp3\n"
     ]
    },
    {
     "name": "stderr",
     "output_type": "stream",
     "text": [
      "                                                                                \r"
     ]
    },
    {
     "name": "stdout",
     "output_type": "stream",
     "text": [
      "MoviePy - Done.\n",
      "Moviepy - Writing video /Users/idotzhori/Desktop/autoencoderlight/cleaned_highlights/LeedsUnitedvNottinghamForest_scene_3.mp4\n",
      "\n"
     ]
    },
    {
     "name": "stderr",
     "output_type": "stream",
     "text": [
      "                                                                                \r"
     ]
    },
    {
     "name": "stdout",
     "output_type": "stream",
     "text": [
      "Moviepy - Done !\n",
      "Moviepy - video ready /Users/idotzhori/Desktop/autoencoderlight/cleaned_highlights/LeedsUnitedvNottinghamForest_scene_3.mp4\n",
      "Moviepy - Building video /Users/idotzhori/Desktop/autoencoderlight/cleaned_highlights/ChelseavBrighton_scene_17.mp4.\n",
      "MoviePy - Writing audio in ChelseavBrighton_scene_17TEMP_MPY_wvf_snd.mp3\n"
     ]
    },
    {
     "name": "stderr",
     "output_type": "stream",
     "text": [
      "                                                                                \r"
     ]
    },
    {
     "name": "stdout",
     "output_type": "stream",
     "text": [
      "MoviePy - Done.\n",
      "Moviepy - Writing video /Users/idotzhori/Desktop/autoencoderlight/cleaned_highlights/ChelseavBrighton_scene_17.mp4\n",
      "\n"
     ]
    },
    {
     "name": "stderr",
     "output_type": "stream",
     "text": [
      "                                                                                \r"
     ]
    },
    {
     "name": "stdout",
     "output_type": "stream",
     "text": [
      "Moviepy - Done !\n",
      "Moviepy - video ready /Users/idotzhori/Desktop/autoencoderlight/cleaned_highlights/ChelseavBrighton_scene_17.mp4\n",
      "Moviepy - Building video /Users/idotzhori/Desktop/autoencoderlight/cleaned_highlights/EvertonvTottenhamHotspur_scene_37.mp4.\n",
      "MoviePy - Writing audio in EvertonvTottenhamHotspur_scene_37TEMP_MPY_wvf_snd.mp3\n"
     ]
    },
    {
     "name": "stderr",
     "output_type": "stream",
     "text": [
      "                                                                                \r"
     ]
    },
    {
     "name": "stdout",
     "output_type": "stream",
     "text": [
      "MoviePy - Done.\n",
      "Moviepy - Writing video /Users/idotzhori/Desktop/autoencoderlight/cleaned_highlights/EvertonvTottenhamHotspur_scene_37.mp4\n",
      "\n"
     ]
    },
    {
     "name": "stderr",
     "output_type": "stream",
     "text": [
      "                                                                                \r"
     ]
    },
    {
     "name": "stdout",
     "output_type": "stream",
     "text": [
      "Moviepy - Done !\n",
      "Moviepy - video ready /Users/idotzhori/Desktop/autoencoderlight/cleaned_highlights/EvertonvTottenhamHotspur_scene_37.mp4\n",
      "Moviepy - Building video /Users/idotzhori/Desktop/autoencoderlight/cleaned_highlights/EvertonvTottenhamHotspur_scene_23.mp4.\n",
      "MoviePy - Writing audio in EvertonvTottenhamHotspur_scene_23TEMP_MPY_wvf_snd.mp3\n"
     ]
    },
    {
     "name": "stderr",
     "output_type": "stream",
     "text": [
      "                                                                                \r"
     ]
    },
    {
     "name": "stdout",
     "output_type": "stream",
     "text": [
      "MoviePy - Done.\n",
      "Moviepy - Writing video /Users/idotzhori/Desktop/autoencoderlight/cleaned_highlights/EvertonvTottenhamHotspur_scene_23.mp4\n",
      "\n"
     ]
    },
    {
     "name": "stderr",
     "output_type": "stream",
     "text": [
      "                                                                                \r"
     ]
    },
    {
     "name": "stdout",
     "output_type": "stream",
     "text": [
      "Moviepy - Done !\n",
      "Moviepy - video ready /Users/idotzhori/Desktop/autoencoderlight/cleaned_highlights/EvertonvTottenhamHotspur_scene_23.mp4\n",
      "Moviepy - Building video /Users/idotzhori/Desktop/autoencoderlight/cleaned_highlights/TottenhamHotspurvCrystalPalace_scene_17.mp4.\n",
      "MoviePy - Writing audio in TottenhamHotspurvCrystalPalace_scene_17TEMP_MPY_wvf_snd.mp3\n"
     ]
    },
    {
     "name": "stderr",
     "output_type": "stream",
     "text": [
      "                                                                                \r"
     ]
    },
    {
     "name": "stdout",
     "output_type": "stream",
     "text": [
      "MoviePy - Done.\n",
      "Moviepy - Writing video /Users/idotzhori/Desktop/autoencoderlight/cleaned_highlights/TottenhamHotspurvCrystalPalace_scene_17.mp4\n",
      "\n"
     ]
    },
    {
     "name": "stderr",
     "output_type": "stream",
     "text": [
      "                                                                                \r"
     ]
    },
    {
     "name": "stdout",
     "output_type": "stream",
     "text": [
      "Moviepy - Done !\n",
      "Moviepy - video ready /Users/idotzhori/Desktop/autoencoderlight/cleaned_highlights/TottenhamHotspurvCrystalPalace_scene_17.mp4\n",
      "Moviepy - Building video /Users/idotzhori/Desktop/autoencoderlight/cleaned_highlights/FulhamvWolves_scene_9.mp4.\n",
      "MoviePy - Writing audio in FulhamvWolves_scene_9TEMP_MPY_wvf_snd.mp3\n"
     ]
    },
    {
     "name": "stderr",
     "output_type": "stream",
     "text": [
      "                                                                                \r"
     ]
    },
    {
     "name": "stdout",
     "output_type": "stream",
     "text": [
      "MoviePy - Done.\n",
      "Moviepy - Writing video /Users/idotzhori/Desktop/autoencoderlight/cleaned_highlights/FulhamvWolves_scene_9.mp4\n",
      "\n"
     ]
    },
    {
     "name": "stderr",
     "output_type": "stream",
     "text": [
      "                                                                                \r"
     ]
    },
    {
     "name": "stdout",
     "output_type": "stream",
     "text": [
      "Moviepy - Done !\n",
      "Moviepy - video ready /Users/idotzhori/Desktop/autoencoderlight/cleaned_highlights/FulhamvWolves_scene_9.mp4\n",
      "Moviepy - Building video /Users/idotzhori/Desktop/autoencoderlight/cleaned_highlights/WolvesvTottenhamHotspur_scene_16.mp4.\n",
      "MoviePy - Writing audio in WolvesvTottenhamHotspur_scene_16TEMP_MPY_wvf_snd.mp3\n"
     ]
    },
    {
     "name": "stderr",
     "output_type": "stream",
     "text": [
      "                                                                                \r"
     ]
    },
    {
     "name": "stdout",
     "output_type": "stream",
     "text": [
      "MoviePy - Done.\n",
      "Moviepy - Writing video /Users/idotzhori/Desktop/autoencoderlight/cleaned_highlights/WolvesvTottenhamHotspur_scene_16.mp4\n",
      "\n"
     ]
    },
    {
     "name": "stderr",
     "output_type": "stream",
     "text": [
      "                                                                                \r"
     ]
    },
    {
     "name": "stdout",
     "output_type": "stream",
     "text": [
      "Moviepy - Done !\n",
      "Moviepy - video ready /Users/idotzhori/Desktop/autoencoderlight/cleaned_highlights/WolvesvTottenhamHotspur_scene_16.mp4\n",
      "Moviepy - Building video /Users/idotzhori/Desktop/autoencoderlight/cleaned_highlights/ChelseavNottinghamForest_scene_13.mp4.\n",
      "MoviePy - Writing audio in ChelseavNottinghamForest_scene_13TEMP_MPY_wvf_snd.mp3\n"
     ]
    },
    {
     "name": "stderr",
     "output_type": "stream",
     "text": [
      "                                                                                \r"
     ]
    },
    {
     "name": "stdout",
     "output_type": "stream",
     "text": [
      "MoviePy - Done.\n",
      "Moviepy - Writing video /Users/idotzhori/Desktop/autoencoderlight/cleaned_highlights/ChelseavNottinghamForest_scene_13.mp4\n",
      "\n"
     ]
    },
    {
     "name": "stderr",
     "output_type": "stream",
     "text": [
      "                                                                                \r"
     ]
    },
    {
     "name": "stdout",
     "output_type": "stream",
     "text": [
      "Moviepy - Done !\n",
      "Moviepy - video ready /Users/idotzhori/Desktop/autoencoderlight/cleaned_highlights/ChelseavNottinghamForest_scene_13.mp4\n",
      "Moviepy - Building video /Users/idotzhori/Desktop/autoencoderlight/cleaned_highlights/ChelseavBrighton_scene_9.mp4.\n",
      "MoviePy - Writing audio in ChelseavBrighton_scene_9TEMP_MPY_wvf_snd.mp3\n"
     ]
    },
    {
     "name": "stderr",
     "output_type": "stream",
     "text": [
      "                                                                                \r"
     ]
    },
    {
     "name": "stdout",
     "output_type": "stream",
     "text": [
      "MoviePy - Done.\n",
      "Moviepy - Writing video /Users/idotzhori/Desktop/autoencoderlight/cleaned_highlights/ChelseavBrighton_scene_9.mp4\n",
      "\n"
     ]
    },
    {
     "name": "stderr",
     "output_type": "stream",
     "text": [
      "                                                                                \r"
     ]
    },
    {
     "name": "stdout",
     "output_type": "stream",
     "text": [
      "Moviepy - Done !\n",
      "Moviepy - video ready /Users/idotzhori/Desktop/autoencoderlight/cleaned_highlights/ChelseavBrighton_scene_9.mp4\n",
      "Moviepy - Building video /Users/idotzhori/Desktop/autoencoderlight/cleaned_highlights/WolvesvTottenhamHotspur_scene_3.mp4.\n",
      "MoviePy - Writing audio in WolvesvTottenhamHotspur_scene_3TEMP_MPY_wvf_snd.mp3\n"
     ]
    },
    {
     "name": "stderr",
     "output_type": "stream",
     "text": [
      "                                                                                \r"
     ]
    },
    {
     "name": "stdout",
     "output_type": "stream",
     "text": [
      "MoviePy - Done.\n",
      "Moviepy - Writing video /Users/idotzhori/Desktop/autoencoderlight/cleaned_highlights/WolvesvTottenhamHotspur_scene_3.mp4\n",
      "\n"
     ]
    },
    {
     "name": "stderr",
     "output_type": "stream",
     "text": [
      "                                                                                \r"
     ]
    },
    {
     "name": "stdout",
     "output_type": "stream",
     "text": [
      "Moviepy - Done !\n",
      "Moviepy - video ready /Users/idotzhori/Desktop/autoencoderlight/cleaned_highlights/WolvesvTottenhamHotspur_scene_3.mp4\n",
      "Moviepy - Building video /Users/idotzhori/Desktop/autoencoderlight/cleaned_highlights/LiverpoolvFulham_scene_4.mp4.\n",
      "MoviePy - Writing audio in LiverpoolvFulham_scene_4TEMP_MPY_wvf_snd.mp3\n"
     ]
    },
    {
     "name": "stderr",
     "output_type": "stream",
     "text": [
      "                                                                                \r"
     ]
    },
    {
     "name": "stdout",
     "output_type": "stream",
     "text": [
      "MoviePy - Done.\n",
      "Moviepy - Writing video /Users/idotzhori/Desktop/autoencoderlight/cleaned_highlights/LiverpoolvFulham_scene_4.mp4\n",
      "\n"
     ]
    },
    {
     "name": "stderr",
     "output_type": "stream",
     "text": [
      "                                                                                \r"
     ]
    },
    {
     "name": "stdout",
     "output_type": "stream",
     "text": [
      "Moviepy - Done !\n",
      "Moviepy - video ready /Users/idotzhori/Desktop/autoencoderlight/cleaned_highlights/LiverpoolvFulham_scene_4.mp4\n",
      "Moviepy - Building video /Users/idotzhori/Desktop/autoencoderlight/cleaned_highlights/ChelseavEverton_scene_1.mp4.\n",
      "MoviePy - Writing audio in ChelseavEverton_scene_1TEMP_MPY_wvf_snd.mp3\n"
     ]
    },
    {
     "name": "stderr",
     "output_type": "stream",
     "text": [
      "                                                                                \r"
     ]
    },
    {
     "name": "stdout",
     "output_type": "stream",
     "text": [
      "MoviePy - Done.\n",
      "Moviepy - Writing video /Users/idotzhori/Desktop/autoencoderlight/cleaned_highlights/ChelseavEverton_scene_1.mp4\n",
      "\n"
     ]
    },
    {
     "name": "stderr",
     "output_type": "stream",
     "text": [
      "                                                                                \r"
     ]
    },
    {
     "name": "stdout",
     "output_type": "stream",
     "text": [
      "Moviepy - Done !\n",
      "Moviepy - video ready /Users/idotzhori/Desktop/autoencoderlight/cleaned_highlights/ChelseavEverton_scene_1.mp4\n",
      "Moviepy - Building video /Users/idotzhori/Desktop/autoencoderlight/cleaned_highlights/WestHamUnitedvLeedsUnited_scene_1.mp4.\n",
      "MoviePy - Writing audio in WestHamUnitedvLeedsUnited_scene_1TEMP_MPY_wvf_snd.mp3\n"
     ]
    },
    {
     "name": "stderr",
     "output_type": "stream",
     "text": [
      "                                                                                \r"
     ]
    },
    {
     "name": "stdout",
     "output_type": "stream",
     "text": [
      "MoviePy - Done.\n",
      "Moviepy - Writing video /Users/idotzhori/Desktop/autoencoderlight/cleaned_highlights/WestHamUnitedvLeedsUnited_scene_1.mp4\n",
      "\n"
     ]
    },
    {
     "name": "stderr",
     "output_type": "stream",
     "text": [
      "                                                                                \r"
     ]
    },
    {
     "name": "stdout",
     "output_type": "stream",
     "text": [
      "Moviepy - Done !\n",
      "Moviepy - video ready /Users/idotzhori/Desktop/autoencoderlight/cleaned_highlights/WestHamUnitedvLeedsUnited_scene_1.mp4\n",
      "Moviepy - Building video /Users/idotzhori/Desktop/autoencoderlight/cleaned_highlights/LeicesterCityvAstonVilla_scene_24.mp4.\n",
      "MoviePy - Writing audio in LeicesterCityvAstonVilla_scene_24TEMP_MPY_wvf_snd.mp3\n"
     ]
    },
    {
     "name": "stderr",
     "output_type": "stream",
     "text": [
      "                                                                                \r"
     ]
    },
    {
     "name": "stdout",
     "output_type": "stream",
     "text": [
      "MoviePy - Done.\n",
      "Moviepy - Writing video /Users/idotzhori/Desktop/autoencoderlight/cleaned_highlights/LeicesterCityvAstonVilla_scene_24.mp4\n",
      "\n"
     ]
    },
    {
     "name": "stderr",
     "output_type": "stream",
     "text": [
      "                                                                                \r"
     ]
    },
    {
     "name": "stdout",
     "output_type": "stream",
     "text": [
      "Moviepy - Done !\n",
      "Moviepy - video ready /Users/idotzhori/Desktop/autoencoderlight/cleaned_highlights/LeicesterCityvAstonVilla_scene_24.mp4\n",
      "Moviepy - Building video /Users/idotzhori/Desktop/autoencoderlight/cleaned_highlights/TottenhamHotspurvNottinghamForest_scene_36.mp4.\n",
      "MoviePy - Writing audio in TottenhamHotspurvNottinghamForest_scene_36TEMP_MPY_wvf_snd.mp3\n"
     ]
    },
    {
     "name": "stderr",
     "output_type": "stream",
     "text": [
      "                                                                                \r"
     ]
    },
    {
     "name": "stdout",
     "output_type": "stream",
     "text": [
      "MoviePy - Done.\n",
      "Moviepy - Writing video /Users/idotzhori/Desktop/autoencoderlight/cleaned_highlights/TottenhamHotspurvNottinghamForest_scene_36.mp4\n",
      "\n"
     ]
    },
    {
     "name": "stderr",
     "output_type": "stream",
     "text": [
      "                                                                                \r"
     ]
    },
    {
     "name": "stdout",
     "output_type": "stream",
     "text": [
      "Moviepy - Done !\n",
      "Moviepy - video ready /Users/idotzhori/Desktop/autoencoderlight/cleaned_highlights/TottenhamHotspurvNottinghamForest_scene_36.mp4\n",
      "Moviepy - Building video /Users/idotzhori/Desktop/autoencoderlight/cleaned_highlights/NewcastleUnitedvBrighton_scene_16.mp4.\n",
      "MoviePy - Writing audio in NewcastleUnitedvBrighton_scene_16TEMP_MPY_wvf_snd.mp3\n"
     ]
    },
    {
     "name": "stderr",
     "output_type": "stream",
     "text": [
      "                                                                                \r"
     ]
    },
    {
     "name": "stdout",
     "output_type": "stream",
     "text": [
      "MoviePy - Done.\n",
      "Moviepy - Writing video /Users/idotzhori/Desktop/autoencoderlight/cleaned_highlights/NewcastleUnitedvBrighton_scene_16.mp4\n",
      "\n"
     ]
    },
    {
     "name": "stderr",
     "output_type": "stream",
     "text": [
      "                                                                                \r"
     ]
    },
    {
     "name": "stdout",
     "output_type": "stream",
     "text": [
      "Moviepy - Done !\n",
      "Moviepy - video ready /Users/idotzhori/Desktop/autoencoderlight/cleaned_highlights/NewcastleUnitedvBrighton_scene_16.mp4\n",
      "Moviepy - Building video /Users/idotzhori/Desktop/autoencoderlight/cleaned_highlights/FulhamvWestHamUnited_scene_11.mp4.\n",
      "MoviePy - Writing audio in FulhamvWestHamUnited_scene_11TEMP_MPY_wvf_snd.mp3\n"
     ]
    },
    {
     "name": "stderr",
     "output_type": "stream",
     "text": [
      "                                                                                \r"
     ]
    },
    {
     "name": "stdout",
     "output_type": "stream",
     "text": [
      "MoviePy - Done.\n",
      "Moviepy - Writing video /Users/idotzhori/Desktop/autoencoderlight/cleaned_highlights/FulhamvWestHamUnited_scene_11.mp4\n",
      "\n"
     ]
    },
    {
     "name": "stderr",
     "output_type": "stream",
     "text": [
      "                                                                                \r"
     ]
    },
    {
     "name": "stdout",
     "output_type": "stream",
     "text": [
      "Moviepy - Done !\n",
      "Moviepy - video ready /Users/idotzhori/Desktop/autoencoderlight/cleaned_highlights/FulhamvWestHamUnited_scene_11.mp4\n",
      "Moviepy - Building video /Users/idotzhori/Desktop/autoencoderlight/cleaned_highlights/EvertonvFulham_scene_22.mp4.\n",
      "MoviePy - Writing audio in EvertonvFulham_scene_22TEMP_MPY_wvf_snd.mp3\n"
     ]
    },
    {
     "name": "stderr",
     "output_type": "stream",
     "text": [
      "                                                                                \r"
     ]
    },
    {
     "name": "stdout",
     "output_type": "stream",
     "text": [
      "MoviePy - Done.\n",
      "Moviepy - Writing video /Users/idotzhori/Desktop/autoencoderlight/cleaned_highlights/EvertonvFulham_scene_22.mp4\n",
      "\n"
     ]
    },
    {
     "name": "stderr",
     "output_type": "stream",
     "text": [
      "                                                                                \r"
     ]
    },
    {
     "name": "stdout",
     "output_type": "stream",
     "text": [
      "Moviepy - Done !\n",
      "Moviepy - video ready /Users/idotzhori/Desktop/autoencoderlight/cleaned_highlights/EvertonvFulham_scene_22.mp4\n",
      "Moviepy - Building video /Users/idotzhori/Desktop/autoencoderlight/cleaned_highlights/LeedsUnitedvLeicesterCity_scene_17.mp4.\n",
      "MoviePy - Writing audio in LeedsUnitedvLeicesterCity_scene_17TEMP_MPY_wvf_snd.mp3\n"
     ]
    },
    {
     "name": "stderr",
     "output_type": "stream",
     "text": [
      "                                                                                \r"
     ]
    },
    {
     "name": "stdout",
     "output_type": "stream",
     "text": [
      "MoviePy - Done.\n",
      "Moviepy - Writing video /Users/idotzhori/Desktop/autoencoderlight/cleaned_highlights/LeedsUnitedvLeicesterCity_scene_17.mp4\n",
      "\n"
     ]
    },
    {
     "name": "stderr",
     "output_type": "stream",
     "text": [
      "                                                                                \r"
     ]
    },
    {
     "name": "stdout",
     "output_type": "stream",
     "text": [
      "Moviepy - Done !\n",
      "Moviepy - video ready /Users/idotzhori/Desktop/autoencoderlight/cleaned_highlights/LeedsUnitedvLeicesterCity_scene_17.mp4\n",
      "Moviepy - Building video /Users/idotzhori/Desktop/autoencoderlight/cleaned_highlights/WestHamUnitedvArsenal_scene_9.mp4.\n",
      "MoviePy - Writing audio in WestHamUnitedvArsenal_scene_9TEMP_MPY_wvf_snd.mp3\n"
     ]
    },
    {
     "name": "stderr",
     "output_type": "stream",
     "text": [
      "                                                                                \r"
     ]
    },
    {
     "name": "stdout",
     "output_type": "stream",
     "text": [
      "MoviePy - Done.\n",
      "Moviepy - Writing video /Users/idotzhori/Desktop/autoencoderlight/cleaned_highlights/WestHamUnitedvArsenal_scene_9.mp4\n",
      "\n"
     ]
    },
    {
     "name": "stderr",
     "output_type": "stream",
     "text": [
      "                                                                                \r"
     ]
    },
    {
     "name": "stdout",
     "output_type": "stream",
     "text": [
      "Moviepy - Done !\n",
      "Moviepy - video ready /Users/idotzhori/Desktop/autoencoderlight/cleaned_highlights/WestHamUnitedvArsenal_scene_9.mp4\n",
      "Moviepy - Building video /Users/idotzhori/Desktop/autoencoderlight/cleaned_highlights/EvertonvTottenhamHotspur_scene_27.mp4.\n",
      "MoviePy - Writing audio in EvertonvTottenhamHotspur_scene_27TEMP_MPY_wvf_snd.mp3\n"
     ]
    },
    {
     "name": "stderr",
     "output_type": "stream",
     "text": [
      "                                                                                \r"
     ]
    },
    {
     "name": "stdout",
     "output_type": "stream",
     "text": [
      "MoviePy - Done.\n",
      "Moviepy - Writing video /Users/idotzhori/Desktop/autoencoderlight/cleaned_highlights/EvertonvTottenhamHotspur_scene_27.mp4\n",
      "\n"
     ]
    },
    {
     "name": "stderr",
     "output_type": "stream",
     "text": [
      "                                                                                \r"
     ]
    },
    {
     "name": "stdout",
     "output_type": "stream",
     "text": [
      "Moviepy - Done !\n",
      "Moviepy - video ready /Users/idotzhori/Desktop/autoencoderlight/cleaned_highlights/EvertonvTottenhamHotspur_scene_27.mp4\n",
      "Moviepy - Building video /Users/idotzhori/Desktop/autoencoderlight/cleaned_highlights/LeicesterCityvArsenal_scene_1.mp4.\n",
      "MoviePy - Writing audio in LeicesterCityvArsenal_scene_1TEMP_MPY_wvf_snd.mp3\n"
     ]
    },
    {
     "name": "stderr",
     "output_type": "stream",
     "text": [
      "                                                                                \r"
     ]
    },
    {
     "name": "stdout",
     "output_type": "stream",
     "text": [
      "MoviePy - Done.\n",
      "Moviepy - Writing video /Users/idotzhori/Desktop/autoencoderlight/cleaned_highlights/LeicesterCityvArsenal_scene_1.mp4\n",
      "\n"
     ]
    },
    {
     "name": "stderr",
     "output_type": "stream",
     "text": [
      "                                                                                \r"
     ]
    },
    {
     "name": "stdout",
     "output_type": "stream",
     "text": [
      "Moviepy - Done !\n",
      "Moviepy - video ready /Users/idotzhori/Desktop/autoencoderlight/cleaned_highlights/LeicesterCityvArsenal_scene_1.mp4\n",
      "Moviepy - Building video /Users/idotzhori/Desktop/autoencoderlight/cleaned_highlights/WestHamUnitedvArsenal_scene_8.mp4.\n",
      "MoviePy - Writing audio in WestHamUnitedvArsenal_scene_8TEMP_MPY_wvf_snd.mp3\n"
     ]
    },
    {
     "name": "stderr",
     "output_type": "stream",
     "text": [
      "                                                                                \r"
     ]
    },
    {
     "name": "stdout",
     "output_type": "stream",
     "text": [
      "MoviePy - Done.\n",
      "Moviepy - Writing video /Users/idotzhori/Desktop/autoencoderlight/cleaned_highlights/WestHamUnitedvArsenal_scene_8.mp4\n",
      "\n"
     ]
    },
    {
     "name": "stderr",
     "output_type": "stream",
     "text": [
      "                                                                                \r"
     ]
    },
    {
     "name": "stdout",
     "output_type": "stream",
     "text": [
      "Moviepy - Done !\n",
      "Moviepy - video ready /Users/idotzhori/Desktop/autoencoderlight/cleaned_highlights/WestHamUnitedvArsenal_scene_8.mp4\n",
      "Moviepy - Building video /Users/idotzhori/Desktop/autoencoderlight/cleaned_highlights/WolvesvTottenhamHotspur_scene_13.mp4.\n",
      "MoviePy - Writing audio in WolvesvTottenhamHotspur_scene_13TEMP_MPY_wvf_snd.mp3\n"
     ]
    },
    {
     "name": "stderr",
     "output_type": "stream",
     "text": [
      "                                                                                \r"
     ]
    },
    {
     "name": "stdout",
     "output_type": "stream",
     "text": [
      "MoviePy - Done.\n",
      "Moviepy - Writing video /Users/idotzhori/Desktop/autoencoderlight/cleaned_highlights/WolvesvTottenhamHotspur_scene_13.mp4\n",
      "\n"
     ]
    },
    {
     "name": "stderr",
     "output_type": "stream",
     "text": [
      "                                                                                \r"
     ]
    },
    {
     "name": "stdout",
     "output_type": "stream",
     "text": [
      "Moviepy - Done !\n",
      "Moviepy - video ready /Users/idotzhori/Desktop/autoencoderlight/cleaned_highlights/WolvesvTottenhamHotspur_scene_13.mp4\n",
      "Moviepy - Building video /Users/idotzhori/Desktop/autoencoderlight/cleaned_highlights/TottenhamHotspurvNottinghamForest_scene_23.mp4.\n",
      "MoviePy - Writing audio in TottenhamHotspurvNottinghamForest_scene_23TEMP_MPY_wvf_snd.mp3\n"
     ]
    },
    {
     "name": "stderr",
     "output_type": "stream",
     "text": [
      "                                                                                \r"
     ]
    },
    {
     "name": "stdout",
     "output_type": "stream",
     "text": [
      "MoviePy - Done.\n",
      "Moviepy - Writing video /Users/idotzhori/Desktop/autoencoderlight/cleaned_highlights/TottenhamHotspurvNottinghamForest_scene_23.mp4\n",
      "\n"
     ]
    },
    {
     "name": "stderr",
     "output_type": "stream",
     "text": [
      "                                                                                \r"
     ]
    },
    {
     "name": "stdout",
     "output_type": "stream",
     "text": [
      "Moviepy - Done !\n",
      "Moviepy - video ready /Users/idotzhori/Desktop/autoencoderlight/cleaned_highlights/TottenhamHotspurvNottinghamForest_scene_23.mp4\n",
      "Moviepy - Building video /Users/idotzhori/Desktop/autoencoderlight/cleaned_highlights/LeicesterCityvAstonVilla_scene_25.mp4.\n",
      "MoviePy - Writing audio in LeicesterCityvAstonVilla_scene_25TEMP_MPY_wvf_snd.mp3\n"
     ]
    },
    {
     "name": "stderr",
     "output_type": "stream",
     "text": [
      "                                                                                \r"
     ]
    },
    {
     "name": "stdout",
     "output_type": "stream",
     "text": [
      "MoviePy - Done.\n",
      "Moviepy - Writing video /Users/idotzhori/Desktop/autoencoderlight/cleaned_highlights/LeicesterCityvAstonVilla_scene_25.mp4\n",
      "\n"
     ]
    },
    {
     "name": "stderr",
     "output_type": "stream",
     "text": [
      "                                                                                \r"
     ]
    },
    {
     "name": "stdout",
     "output_type": "stream",
     "text": [
      "Moviepy - Done !\n",
      "Moviepy - video ready /Users/idotzhori/Desktop/autoencoderlight/cleaned_highlights/LeicesterCityvAstonVilla_scene_25.mp4\n",
      "Moviepy - Building video /Users/idotzhori/Desktop/autoencoderlight/cleaned_highlights/NewcastleUnitedvLeicesterCity_scene_16.mp4.\n",
      "MoviePy - Writing audio in NewcastleUnitedvLeicesterCity_scene_16TEMP_MPY_wvf_snd.mp3\n"
     ]
    },
    {
     "name": "stderr",
     "output_type": "stream",
     "text": [
      "                                                                                \r"
     ]
    },
    {
     "name": "stdout",
     "output_type": "stream",
     "text": [
      "MoviePy - Done.\n",
      "Moviepy - Writing video /Users/idotzhori/Desktop/autoencoderlight/cleaned_highlights/NewcastleUnitedvLeicesterCity_scene_16.mp4\n",
      "\n"
     ]
    },
    {
     "name": "stderr",
     "output_type": "stream",
     "text": [
      "                                                                                \r"
     ]
    },
    {
     "name": "stdout",
     "output_type": "stream",
     "text": [
      "Moviepy - Done !\n",
      "Moviepy - video ready /Users/idotzhori/Desktop/autoencoderlight/cleaned_highlights/NewcastleUnitedvLeicesterCity_scene_16.mp4\n",
      "Moviepy - Building video /Users/idotzhori/Desktop/autoencoderlight/cleaned_highlights/ManchesterUnitedvBrentford_scene_13.mp4.\n",
      "MoviePy - Writing audio in ManchesterUnitedvBrentford_scene_13TEMP_MPY_wvf_snd.mp3\n"
     ]
    },
    {
     "name": "stderr",
     "output_type": "stream",
     "text": [
      "                                                                                \r"
     ]
    },
    {
     "name": "stdout",
     "output_type": "stream",
     "text": [
      "MoviePy - Done.\n",
      "Moviepy - Writing video /Users/idotzhori/Desktop/autoencoderlight/cleaned_highlights/ManchesterUnitedvBrentford_scene_13.mp4\n",
      "\n"
     ]
    },
    {
     "name": "stderr",
     "output_type": "stream",
     "text": [
      "                                                                                \r"
     ]
    },
    {
     "name": "stdout",
     "output_type": "stream",
     "text": [
      "Moviepy - Done !\n",
      "Moviepy - video ready /Users/idotzhori/Desktop/autoencoderlight/cleaned_highlights/ManchesterUnitedvBrentford_scene_13.mp4\n",
      "Moviepy - Building video /Users/idotzhori/Desktop/autoencoderlight/cleaned_highlights/WolvesvTottenhamHotspur_scene_4.mp4.\n",
      "MoviePy - Writing audio in WolvesvTottenhamHotspur_scene_4TEMP_MPY_wvf_snd.mp3\n"
     ]
    },
    {
     "name": "stderr",
     "output_type": "stream",
     "text": [
      "                                                                                \r"
     ]
    },
    {
     "name": "stdout",
     "output_type": "stream",
     "text": [
      "MoviePy - Done.\n",
      "Moviepy - Writing video /Users/idotzhori/Desktop/autoencoderlight/cleaned_highlights/WolvesvTottenhamHotspur_scene_4.mp4\n",
      "\n"
     ]
    },
    {
     "name": "stderr",
     "output_type": "stream",
     "text": [
      "                                                                                \r"
     ]
    },
    {
     "name": "stdout",
     "output_type": "stream",
     "text": [
      "Moviepy - Done !\n",
      "Moviepy - video ready /Users/idotzhori/Desktop/autoencoderlight/cleaned_highlights/WolvesvTottenhamHotspur_scene_4.mp4\n",
      "Moviepy - Building video /Users/idotzhori/Desktop/autoencoderlight/cleaned_highlights/BrightonvCrystalPalace_scene_23.mp4.\n",
      "MoviePy - Writing audio in BrightonvCrystalPalace_scene_23TEMP_MPY_wvf_snd.mp3\n"
     ]
    },
    {
     "name": "stderr",
     "output_type": "stream",
     "text": [
      "                                                                                \r"
     ]
    },
    {
     "name": "stdout",
     "output_type": "stream",
     "text": [
      "MoviePy - Done.\n",
      "Moviepy - Writing video /Users/idotzhori/Desktop/autoencoderlight/cleaned_highlights/BrightonvCrystalPalace_scene_23.mp4\n",
      "\n"
     ]
    },
    {
     "name": "stderr",
     "output_type": "stream",
     "text": [
      "                                                                                \r"
     ]
    },
    {
     "name": "stdout",
     "output_type": "stream",
     "text": [
      "Moviepy - Done !\n",
      "Moviepy - video ready /Users/idotzhori/Desktop/autoencoderlight/cleaned_highlights/BrightonvCrystalPalace_scene_23.mp4\n",
      "Moviepy - Building video /Users/idotzhori/Desktop/autoencoderlight/cleaned_highlights/CrystalPalacevLeicesterCity_scene_15.mp4.\n",
      "MoviePy - Writing audio in CrystalPalacevLeicesterCity_scene_15TEMP_MPY_wvf_snd.mp3\n"
     ]
    },
    {
     "name": "stderr",
     "output_type": "stream",
     "text": [
      "                                                                                \r"
     ]
    },
    {
     "name": "stdout",
     "output_type": "stream",
     "text": [
      "MoviePy - Done.\n",
      "Moviepy - Writing video /Users/idotzhori/Desktop/autoencoderlight/cleaned_highlights/CrystalPalacevLeicesterCity_scene_15.mp4\n",
      "\n"
     ]
    },
    {
     "name": "stderr",
     "output_type": "stream",
     "text": [
      "                                                                                \r"
     ]
    },
    {
     "name": "stdout",
     "output_type": "stream",
     "text": [
      "Moviepy - Done !\n",
      "Moviepy - video ready /Users/idotzhori/Desktop/autoencoderlight/cleaned_highlights/CrystalPalacevLeicesterCity_scene_15.mp4\n",
      "Moviepy - Building video /Users/idotzhori/Desktop/autoencoderlight/cleaned_highlights/EvertonvBrentford_scene_4.mp4.\n",
      "MoviePy - Writing audio in EvertonvBrentford_scene_4TEMP_MPY_wvf_snd.mp3\n"
     ]
    },
    {
     "name": "stderr",
     "output_type": "stream",
     "text": [
      "                                                                                \r"
     ]
    },
    {
     "name": "stdout",
     "output_type": "stream",
     "text": [
      "MoviePy - Done.\n",
      "Moviepy - Writing video /Users/idotzhori/Desktop/autoencoderlight/cleaned_highlights/EvertonvBrentford_scene_4.mp4\n",
      "\n"
     ]
    },
    {
     "name": "stderr",
     "output_type": "stream",
     "text": [
      "                                                                                \r"
     ]
    },
    {
     "name": "stdout",
     "output_type": "stream",
     "text": [
      "Moviepy - Done !\n",
      "Moviepy - video ready /Users/idotzhori/Desktop/autoencoderlight/cleaned_highlights/EvertonvBrentford_scene_4.mp4\n",
      "Moviepy - Building video /Users/idotzhori/Desktop/autoencoderlight/cleaned_highlights/EvertonvFulham_scene_35.mp4.\n",
      "MoviePy - Writing audio in EvertonvFulham_scene_35TEMP_MPY_wvf_snd.mp3\n"
     ]
    },
    {
     "name": "stderr",
     "output_type": "stream",
     "text": [
      "                                                                                \r"
     ]
    },
    {
     "name": "stdout",
     "output_type": "stream",
     "text": [
      "MoviePy - Done.\n",
      "Moviepy - Writing video /Users/idotzhori/Desktop/autoencoderlight/cleaned_highlights/EvertonvFulham_scene_35.mp4\n",
      "\n"
     ]
    },
    {
     "name": "stderr",
     "output_type": "stream",
     "text": [
      "                                                                                \r"
     ]
    },
    {
     "name": "stdout",
     "output_type": "stream",
     "text": [
      "Moviepy - Done !\n",
      "Moviepy - video ready /Users/idotzhori/Desktop/autoencoderlight/cleaned_highlights/EvertonvFulham_scene_35.mp4\n",
      "Moviepy - Building video /Users/idotzhori/Desktop/autoencoderlight/cleaned_highlights/LeicesterCityvArsenal_scene_2.mp4.\n",
      "MoviePy - Writing audio in LeicesterCityvArsenal_scene_2TEMP_MPY_wvf_snd.mp3\n"
     ]
    },
    {
     "name": "stderr",
     "output_type": "stream",
     "text": [
      "                                                                                \r"
     ]
    },
    {
     "name": "stdout",
     "output_type": "stream",
     "text": [
      "MoviePy - Done.\n",
      "Moviepy - Writing video /Users/idotzhori/Desktop/autoencoderlight/cleaned_highlights/LeicesterCityvArsenal_scene_2.mp4\n",
      "\n"
     ]
    },
    {
     "name": "stderr",
     "output_type": "stream",
     "text": [
      "                                                                                \r"
     ]
    },
    {
     "name": "stdout",
     "output_type": "stream",
     "text": [
      "Moviepy - Done !\n",
      "Moviepy - video ready /Users/idotzhori/Desktop/autoencoderlight/cleaned_highlights/LeicesterCityvArsenal_scene_2.mp4\n",
      "Moviepy - Building video /Users/idotzhori/Desktop/autoencoderlight/cleaned_highlights/EvertonvBrentford_scene_20.mp4.\n",
      "MoviePy - Writing audio in EvertonvBrentford_scene_20TEMP_MPY_wvf_snd.mp3\n"
     ]
    },
    {
     "name": "stderr",
     "output_type": "stream",
     "text": [
      "                                                                                \r"
     ]
    },
    {
     "name": "stdout",
     "output_type": "stream",
     "text": [
      "MoviePy - Done.\n",
      "Moviepy - Writing video /Users/idotzhori/Desktop/autoencoderlight/cleaned_highlights/EvertonvBrentford_scene_20.mp4\n",
      "\n"
     ]
    },
    {
     "name": "stderr",
     "output_type": "stream",
     "text": [
      "                                                                                \r"
     ]
    },
    {
     "name": "stdout",
     "output_type": "stream",
     "text": [
      "Moviepy - Done !\n",
      "Moviepy - video ready /Users/idotzhori/Desktop/autoencoderlight/cleaned_highlights/EvertonvBrentford_scene_20.mp4\n",
      "Moviepy - Building video /Users/idotzhori/Desktop/autoencoderlight/cleaned_highlights/ChelseavBrighton_scene_10.mp4.\n",
      "MoviePy - Writing audio in ChelseavBrighton_scene_10TEMP_MPY_wvf_snd.mp3\n"
     ]
    },
    {
     "name": "stderr",
     "output_type": "stream",
     "text": [
      "                                                                                \r"
     ]
    },
    {
     "name": "stdout",
     "output_type": "stream",
     "text": [
      "MoviePy - Done.\n",
      "Moviepy - Writing video /Users/idotzhori/Desktop/autoencoderlight/cleaned_highlights/ChelseavBrighton_scene_10.mp4\n",
      "\n"
     ]
    },
    {
     "name": "stderr",
     "output_type": "stream",
     "text": [
      "                                                                                \r"
     ]
    },
    {
     "name": "stdout",
     "output_type": "stream",
     "text": [
      "Moviepy - Done !\n",
      "Moviepy - video ready /Users/idotzhori/Desktop/autoencoderlight/cleaned_highlights/ChelseavBrighton_scene_10.mp4\n",
      "Moviepy - Building video /Users/idotzhori/Desktop/autoencoderlight/cleaned_highlights/LeedsUnitedvSouthampton_scene_12.mp4.\n",
      "MoviePy - Writing audio in LeedsUnitedvSouthampton_scene_12TEMP_MPY_wvf_snd.mp3\n"
     ]
    },
    {
     "name": "stderr",
     "output_type": "stream",
     "text": [
      "                                                                                \r"
     ]
    },
    {
     "name": "stdout",
     "output_type": "stream",
     "text": [
      "MoviePy - Done.\n",
      "Moviepy - Writing video /Users/idotzhori/Desktop/autoencoderlight/cleaned_highlights/LeedsUnitedvSouthampton_scene_12.mp4\n",
      "\n"
     ]
    },
    {
     "name": "stderr",
     "output_type": "stream",
     "text": [
      "                                                                                \r"
     ]
    },
    {
     "name": "stdout",
     "output_type": "stream",
     "text": [
      "Moviepy - Done !\n",
      "Moviepy - video ready /Users/idotzhori/Desktop/autoencoderlight/cleaned_highlights/LeedsUnitedvSouthampton_scene_12.mp4\n",
      "Moviepy - Building video /Users/idotzhori/Desktop/autoencoderlight/cleaned_highlights/LeedsUnitedvLeicesterCity_scene_15.mp4.\n",
      "MoviePy - Writing audio in LeedsUnitedvLeicesterCity_scene_15TEMP_MPY_wvf_snd.mp3\n"
     ]
    },
    {
     "name": "stderr",
     "output_type": "stream",
     "text": [
      "                                                                                \r"
     ]
    },
    {
     "name": "stdout",
     "output_type": "stream",
     "text": [
      "MoviePy - Done.\n",
      "Moviepy - Writing video /Users/idotzhori/Desktop/autoencoderlight/cleaned_highlights/LeedsUnitedvLeicesterCity_scene_15.mp4\n",
      "\n"
     ]
    },
    {
     "name": "stderr",
     "output_type": "stream",
     "text": [
      "                                                                                \r"
     ]
    },
    {
     "name": "stdout",
     "output_type": "stream",
     "text": [
      "Moviepy - Done !\n",
      "Moviepy - video ready /Users/idotzhori/Desktop/autoencoderlight/cleaned_highlights/LeedsUnitedvLeicesterCity_scene_15.mp4\n",
      "Moviepy - Building video /Users/idotzhori/Desktop/autoencoderlight/cleaned_highlights/FulhamvWestHamUnited_scene_13.mp4.\n",
      "MoviePy - Writing audio in FulhamvWestHamUnited_scene_13TEMP_MPY_wvf_snd.mp3\n"
     ]
    },
    {
     "name": "stderr",
     "output_type": "stream",
     "text": [
      "                                                                                \r"
     ]
    },
    {
     "name": "stdout",
     "output_type": "stream",
     "text": [
      "MoviePy - Done.\n",
      "Moviepy - Writing video /Users/idotzhori/Desktop/autoencoderlight/cleaned_highlights/FulhamvWestHamUnited_scene_13.mp4\n",
      "\n"
     ]
    },
    {
     "name": "stderr",
     "output_type": "stream",
     "text": [
      "                                                                                \r"
     ]
    },
    {
     "name": "stdout",
     "output_type": "stream",
     "text": [
      "Moviepy - Done !\n",
      "Moviepy - video ready /Users/idotzhori/Desktop/autoencoderlight/cleaned_highlights/FulhamvWestHamUnited_scene_13.mp4\n",
      "Moviepy - Building video /Users/idotzhori/Desktop/autoencoderlight/cleaned_highlights/LeicesterCityvAstonVilla_scene_26.mp4.\n",
      "MoviePy - Writing audio in LeicesterCityvAstonVilla_scene_26TEMP_MPY_wvf_snd.mp3\n"
     ]
    },
    {
     "name": "stderr",
     "output_type": "stream",
     "text": [
      "                                                                                \r"
     ]
    },
    {
     "name": "stdout",
     "output_type": "stream",
     "text": [
      "MoviePy - Done.\n",
      "Moviepy - Writing video /Users/idotzhori/Desktop/autoencoderlight/cleaned_highlights/LeicesterCityvAstonVilla_scene_26.mp4\n",
      "\n"
     ]
    },
    {
     "name": "stderr",
     "output_type": "stream",
     "text": [
      "                                                                                \r"
     ]
    },
    {
     "name": "stdout",
     "output_type": "stream",
     "text": [
      "Moviepy - Done !\n",
      "Moviepy - video ready /Users/idotzhori/Desktop/autoencoderlight/cleaned_highlights/LeicesterCityvAstonVilla_scene_26.mp4\n",
      "Moviepy - Building video /Users/idotzhori/Desktop/autoencoderlight/cleaned_highlights/LeedsUnitedvNottinghamForest_scene_11.mp4.\n",
      "MoviePy - Writing audio in LeedsUnitedvNottinghamForest_scene_11TEMP_MPY_wvf_snd.mp3\n"
     ]
    },
    {
     "name": "stderr",
     "output_type": "stream",
     "text": [
      "                                                                                \r"
     ]
    },
    {
     "name": "stdout",
     "output_type": "stream",
     "text": [
      "MoviePy - Done.\n",
      "Moviepy - Writing video /Users/idotzhori/Desktop/autoencoderlight/cleaned_highlights/LeedsUnitedvNottinghamForest_scene_11.mp4\n",
      "\n"
     ]
    },
    {
     "name": "stderr",
     "output_type": "stream",
     "text": [
      "                                                                                \r"
     ]
    },
    {
     "name": "stdout",
     "output_type": "stream",
     "text": [
      "Moviepy - Done !\n",
      "Moviepy - video ready /Users/idotzhori/Desktop/autoencoderlight/cleaned_highlights/LeedsUnitedvNottinghamForest_scene_11.mp4\n",
      "Moviepy - Building video /Users/idotzhori/Desktop/autoencoderlight/cleaned_highlights/ChelseavEverton_scene_3.mp4.\n",
      "MoviePy - Writing audio in ChelseavEverton_scene_3TEMP_MPY_wvf_snd.mp3\n"
     ]
    },
    {
     "name": "stderr",
     "output_type": "stream",
     "text": [
      "                                                                                \r"
     ]
    },
    {
     "name": "stdout",
     "output_type": "stream",
     "text": [
      "MoviePy - Done.\n",
      "Moviepy - Writing video /Users/idotzhori/Desktop/autoencoderlight/cleaned_highlights/ChelseavEverton_scene_3.mp4\n",
      "\n"
     ]
    },
    {
     "name": "stderr",
     "output_type": "stream",
     "text": [
      "                                                                                \r"
     ]
    },
    {
     "name": "stdout",
     "output_type": "stream",
     "text": [
      "Moviepy - Done !\n",
      "Moviepy - video ready /Users/idotzhori/Desktop/autoencoderlight/cleaned_highlights/ChelseavEverton_scene_3.mp4\n",
      "Moviepy - Building video /Users/idotzhori/Desktop/autoencoderlight/cleaned_highlights/WestHamUnitedvLeedsUnited_scene_3.mp4.\n",
      "MoviePy - Writing audio in WestHamUnitedvLeedsUnited_scene_3TEMP_MPY_wvf_snd.mp3\n"
     ]
    },
    {
     "name": "stderr",
     "output_type": "stream",
     "text": [
      "                                                                                \r"
     ]
    },
    {
     "name": "stdout",
     "output_type": "stream",
     "text": [
      "MoviePy - Done.\n",
      "Moviepy - Writing video /Users/idotzhori/Desktop/autoencoderlight/cleaned_highlights/WestHamUnitedvLeedsUnited_scene_3.mp4\n",
      "\n"
     ]
    },
    {
     "name": "stderr",
     "output_type": "stream",
     "text": [
      "                                                                                \r"
     ]
    },
    {
     "name": "stdout",
     "output_type": "stream",
     "text": [
      "Moviepy - Done !\n",
      "Moviepy - video ready /Users/idotzhori/Desktop/autoencoderlight/cleaned_highlights/WestHamUnitedvLeedsUnited_scene_3.mp4\n",
      "Moviepy - Building video /Users/idotzhori/Desktop/autoencoderlight/cleaned_highlights/LeedsUnitedvNewcastleUnited_scene_9.mp4.\n",
      "MoviePy - Writing audio in LeedsUnitedvNewcastleUnited_scene_9TEMP_MPY_wvf_snd.mp3\n"
     ]
    },
    {
     "name": "stderr",
     "output_type": "stream",
     "text": [
      "                                                                                \r"
     ]
    },
    {
     "name": "stdout",
     "output_type": "stream",
     "text": [
      "MoviePy - Done.\n",
      "Moviepy - Writing video /Users/idotzhori/Desktop/autoencoderlight/cleaned_highlights/LeedsUnitedvNewcastleUnited_scene_9.mp4\n",
      "\n"
     ]
    },
    {
     "name": "stderr",
     "output_type": "stream",
     "text": [
      "                                                                                \r"
     ]
    },
    {
     "name": "stdout",
     "output_type": "stream",
     "text": [
      "Moviepy - Done !\n",
      "Moviepy - video ready /Users/idotzhori/Desktop/autoencoderlight/cleaned_highlights/LeedsUnitedvNewcastleUnited_scene_9.mp4\n",
      "Moviepy - Building video /Users/idotzhori/Desktop/autoencoderlight/cleaned_highlights/WestHamUnitedvNottinghamForest_scene_13.mp4.\n",
      "MoviePy - Writing audio in WestHamUnitedvNottinghamForest_scene_13TEMP_MPY_wvf_snd.mp3\n"
     ]
    },
    {
     "name": "stderr",
     "output_type": "stream",
     "text": [
      "                                                                                \r"
     ]
    },
    {
     "name": "stdout",
     "output_type": "stream",
     "text": [
      "MoviePy - Done.\n",
      "Moviepy - Writing video /Users/idotzhori/Desktop/autoencoderlight/cleaned_highlights/WestHamUnitedvNottinghamForest_scene_13.mp4\n",
      "\n"
     ]
    },
    {
     "name": "stderr",
     "output_type": "stream",
     "text": [
      "                                                                                \r"
     ]
    },
    {
     "name": "stdout",
     "output_type": "stream",
     "text": [
      "Moviepy - Done !\n",
      "Moviepy - video ready /Users/idotzhori/Desktop/autoencoderlight/cleaned_highlights/WestHamUnitedvNottinghamForest_scene_13.mp4\n",
      "Moviepy - Building video /Users/idotzhori/Desktop/autoencoderlight/cleaned_highlights/CrystalPalacevLeicesterCity_scene_8.mp4.\n",
      "MoviePy - Writing audio in CrystalPalacevLeicesterCity_scene_8TEMP_MPY_wvf_snd.mp3\n"
     ]
    },
    {
     "name": "stderr",
     "output_type": "stream",
     "text": [
      "                                                                                \r"
     ]
    },
    {
     "name": "stdout",
     "output_type": "stream",
     "text": [
      "MoviePy - Done.\n",
      "Moviepy - Writing video /Users/idotzhori/Desktop/autoencoderlight/cleaned_highlights/CrystalPalacevLeicesterCity_scene_8.mp4\n",
      "\n"
     ]
    },
    {
     "name": "stderr",
     "output_type": "stream",
     "text": [
      "                                                                                \r"
     ]
    },
    {
     "name": "stdout",
     "output_type": "stream",
     "text": [
      "Moviepy - Done !\n",
      "Moviepy - video ready /Users/idotzhori/Desktop/autoencoderlight/cleaned_highlights/CrystalPalacevLeicesterCity_scene_8.mp4\n",
      "Moviepy - Building video /Users/idotzhori/Desktop/autoencoderlight/cleaned_highlights/ChelseavNottinghamForest_scene_7.mp4.\n",
      "MoviePy - Writing audio in ChelseavNottinghamForest_scene_7TEMP_MPY_wvf_snd.mp3\n"
     ]
    },
    {
     "name": "stderr",
     "output_type": "stream",
     "text": [
      "                                                                                \r"
     ]
    },
    {
     "name": "stdout",
     "output_type": "stream",
     "text": [
      "MoviePy - Done.\n",
      "Moviepy - Writing video /Users/idotzhori/Desktop/autoencoderlight/cleaned_highlights/ChelseavNottinghamForest_scene_7.mp4\n",
      "\n"
     ]
    },
    {
     "name": "stderr",
     "output_type": "stream",
     "text": [
      "                                                                                \r"
     ]
    },
    {
     "name": "stdout",
     "output_type": "stream",
     "text": [
      "Moviepy - Done !\n",
      "Moviepy - video ready /Users/idotzhori/Desktop/autoencoderlight/cleaned_highlights/ChelseavNottinghamForest_scene_7.mp4\n",
      "Moviepy - Building video /Users/idotzhori/Desktop/autoencoderlight/cleaned_highlights/BournemouthvFulham_scene_1.mp4.\n",
      "MoviePy - Writing audio in BournemouthvFulham_scene_1TEMP_MPY_wvf_snd.mp3\n"
     ]
    },
    {
     "name": "stderr",
     "output_type": "stream",
     "text": [
      "                                                                                \r"
     ]
    },
    {
     "name": "stdout",
     "output_type": "stream",
     "text": [
      "MoviePy - Done.\n",
      "Moviepy - Writing video /Users/idotzhori/Desktop/autoencoderlight/cleaned_highlights/BournemouthvFulham_scene_1.mp4\n",
      "\n"
     ]
    },
    {
     "name": "stderr",
     "output_type": "stream",
     "text": [
      "                                                                                \r"
     ]
    },
    {
     "name": "stdout",
     "output_type": "stream",
     "text": [
      "Moviepy - Done !\n",
      "Moviepy - video ready /Users/idotzhori/Desktop/autoencoderlight/cleaned_highlights/BournemouthvFulham_scene_1.mp4\n",
      "Moviepy - Building video /Users/idotzhori/Desktop/autoencoderlight/cleaned_highlights/ManchesterUnitedvAstonVilla_scene_3.mp4.\n",
      "MoviePy - Writing audio in ManchesterUnitedvAstonVilla_scene_3TEMP_MPY_wvf_snd.mp3\n"
     ]
    },
    {
     "name": "stderr",
     "output_type": "stream",
     "text": [
      "                                                                                \r"
     ]
    },
    {
     "name": "stdout",
     "output_type": "stream",
     "text": [
      "MoviePy - Done.\n",
      "Moviepy - Writing video /Users/idotzhori/Desktop/autoencoderlight/cleaned_highlights/ManchesterUnitedvAstonVilla_scene_3.mp4\n",
      "\n"
     ]
    },
    {
     "name": "stderr",
     "output_type": "stream",
     "text": [
      "                                                                                \r"
     ]
    },
    {
     "name": "stdout",
     "output_type": "stream",
     "text": [
      "Moviepy - Done !\n",
      "Moviepy - video ready /Users/idotzhori/Desktop/autoencoderlight/cleaned_highlights/ManchesterUnitedvAstonVilla_scene_3.mp4\n",
      "Moviepy - Building video /Users/idotzhori/Desktop/autoencoderlight/cleaned_highlights/ManchesterCityvLeedsUnited_scene_16.mp4.\n",
      "MoviePy - Writing audio in ManchesterCityvLeedsUnited_scene_16TEMP_MPY_wvf_snd.mp3\n"
     ]
    },
    {
     "name": "stderr",
     "output_type": "stream",
     "text": [
      "                                                                                \r"
     ]
    },
    {
     "name": "stdout",
     "output_type": "stream",
     "text": [
      "MoviePy - Done.\n",
      "Moviepy - Writing video /Users/idotzhori/Desktop/autoencoderlight/cleaned_highlights/ManchesterCityvLeedsUnited_scene_16.mp4\n",
      "\n"
     ]
    },
    {
     "name": "stderr",
     "output_type": "stream",
     "text": [
      "                                                                                \r"
     ]
    },
    {
     "name": "stdout",
     "output_type": "stream",
     "text": [
      "Moviepy - Done !\n",
      "Moviepy - video ready /Users/idotzhori/Desktop/autoencoderlight/cleaned_highlights/ManchesterCityvLeedsUnited_scene_16.mp4\n",
      "Moviepy - Building video /Users/idotzhori/Desktop/autoencoderlight/cleaned_highlights/FulhamvArsenal_scene_17.mp4.\n",
      "MoviePy - Writing audio in FulhamvArsenal_scene_17TEMP_MPY_wvf_snd.mp3\n"
     ]
    },
    {
     "name": "stderr",
     "output_type": "stream",
     "text": [
      "                                                                                \r"
     ]
    },
    {
     "name": "stdout",
     "output_type": "stream",
     "text": [
      "MoviePy - Done.\n",
      "Moviepy - Writing video /Users/idotzhori/Desktop/autoencoderlight/cleaned_highlights/FulhamvArsenal_scene_17.mp4\n",
      "\n"
     ]
    },
    {
     "name": "stderr",
     "output_type": "stream",
     "text": [
      "                                                                                \r"
     ]
    },
    {
     "name": "stdout",
     "output_type": "stream",
     "text": [
      "Moviepy - Done !\n",
      "Moviepy - video ready /Users/idotzhori/Desktop/autoencoderlight/cleaned_highlights/FulhamvArsenal_scene_17.mp4\n",
      "Moviepy - Building video /Users/idotzhori/Desktop/autoencoderlight/cleaned_highlights/LiverpoolvArsenal_scene_28.mp4.\n",
      "MoviePy - Writing audio in LiverpoolvArsenal_scene_28TEMP_MPY_wvf_snd.mp3\n"
     ]
    },
    {
     "name": "stderr",
     "output_type": "stream",
     "text": [
      "                                                                                \r"
     ]
    },
    {
     "name": "stdout",
     "output_type": "stream",
     "text": [
      "MoviePy - Done.\n",
      "Moviepy - Writing video /Users/idotzhori/Desktop/autoencoderlight/cleaned_highlights/LiverpoolvArsenal_scene_28.mp4\n",
      "\n"
     ]
    },
    {
     "name": "stderr",
     "output_type": "stream",
     "text": [
      "                                                                                \r"
     ]
    },
    {
     "name": "stdout",
     "output_type": "stream",
     "text": [
      "Moviepy - Done !\n",
      "Moviepy - video ready /Users/idotzhori/Desktop/autoencoderlight/cleaned_highlights/LiverpoolvArsenal_scene_28.mp4\n",
      "Moviepy - Building video /Users/idotzhori/Desktop/autoencoderlight/cleaned_highlights/LeedsUnitedvManchesterUnited_scene_11.mp4.\n",
      "MoviePy - Writing audio in LeedsUnitedvManchesterUnited_scene_11TEMP_MPY_wvf_snd.mp3\n"
     ]
    },
    {
     "name": "stderr",
     "output_type": "stream",
     "text": [
      "                                                                                \r"
     ]
    },
    {
     "name": "stdout",
     "output_type": "stream",
     "text": [
      "MoviePy - Done.\n",
      "Moviepy - Writing video /Users/idotzhori/Desktop/autoencoderlight/cleaned_highlights/LeedsUnitedvManchesterUnited_scene_11.mp4\n",
      "\n"
     ]
    },
    {
     "name": "stderr",
     "output_type": "stream",
     "text": [
      "                                                                                \r"
     ]
    },
    {
     "name": "stdout",
     "output_type": "stream",
     "text": [
      "Moviepy - Done !\n",
      "Moviepy - video ready /Users/idotzhori/Desktop/autoencoderlight/cleaned_highlights/LeedsUnitedvManchesterUnited_scene_11.mp4\n",
      "Moviepy - Building video /Users/idotzhori/Desktop/autoencoderlight/cleaned_highlights/LeedsUnitedvLeicesterCity_scene_1.mp4.\n",
      "MoviePy - Writing audio in LeedsUnitedvLeicesterCity_scene_1TEMP_MPY_wvf_snd.mp3\n"
     ]
    },
    {
     "name": "stderr",
     "output_type": "stream",
     "text": [
      "                                                                                \r"
     ]
    },
    {
     "name": "stdout",
     "output_type": "stream",
     "text": [
      "MoviePy - Done.\n",
      "Moviepy - Writing video /Users/idotzhori/Desktop/autoencoderlight/cleaned_highlights/LeedsUnitedvLeicesterCity_scene_1.mp4\n",
      "\n"
     ]
    },
    {
     "name": "stderr",
     "output_type": "stream",
     "text": [
      "                                                                                \r"
     ]
    },
    {
     "name": "stdout",
     "output_type": "stream",
     "text": [
      "Moviepy - Done !\n",
      "Moviepy - video ready /Users/idotzhori/Desktop/autoencoderlight/cleaned_highlights/LeedsUnitedvLeicesterCity_scene_1.mp4\n",
      "Moviepy - Building video /Users/idotzhori/Desktop/autoencoderlight/cleaned_highlights/TottenhamHotspurvBournemouth_scene_15.mp4.\n",
      "MoviePy - Writing audio in TottenhamHotspurvBournemouth_scene_15TEMP_MPY_wvf_snd.mp3\n"
     ]
    },
    {
     "name": "stderr",
     "output_type": "stream",
     "text": [
      "                                                                                \r"
     ]
    },
    {
     "name": "stdout",
     "output_type": "stream",
     "text": [
      "MoviePy - Done.\n",
      "Moviepy - Writing video /Users/idotzhori/Desktop/autoencoderlight/cleaned_highlights/TottenhamHotspurvBournemouth_scene_15.mp4\n",
      "\n"
     ]
    },
    {
     "name": "stderr",
     "output_type": "stream",
     "text": [
      "                                                                                \r"
     ]
    },
    {
     "name": "stdout",
     "output_type": "stream",
     "text": [
      "Moviepy - Done !\n",
      "Moviepy - video ready /Users/idotzhori/Desktop/autoencoderlight/cleaned_highlights/TottenhamHotspurvBournemouth_scene_15.mp4\n",
      "Moviepy - Building video /Users/idotzhori/Desktop/autoencoderlight/cleaned_highlights/BrightonvCrystalPalace_scene_4.mp4.\n",
      "MoviePy - Writing audio in BrightonvCrystalPalace_scene_4TEMP_MPY_wvf_snd.mp3\n"
     ]
    },
    {
     "name": "stderr",
     "output_type": "stream",
     "text": [
      "                                                                                \r"
     ]
    },
    {
     "name": "stdout",
     "output_type": "stream",
     "text": [
      "MoviePy - Done.\n",
      "Moviepy - Writing video /Users/idotzhori/Desktop/autoencoderlight/cleaned_highlights/BrightonvCrystalPalace_scene_4.mp4\n",
      "\n"
     ]
    },
    {
     "name": "stderr",
     "output_type": "stream",
     "text": [
      "                                                                                \r"
     ]
    },
    {
     "name": "stdout",
     "output_type": "stream",
     "text": [
      "Moviepy - Done !\n",
      "Moviepy - video ready /Users/idotzhori/Desktop/autoencoderlight/cleaned_highlights/BrightonvCrystalPalace_scene_4.mp4\n",
      "Moviepy - Building video /Users/idotzhori/Desktop/autoencoderlight/cleaned_highlights/BrightonvFulham_scene_8.mp4.\n",
      "MoviePy - Writing audio in BrightonvFulham_scene_8TEMP_MPY_wvf_snd.mp3\n"
     ]
    },
    {
     "name": "stderr",
     "output_type": "stream",
     "text": [
      "                                                                                \r"
     ]
    },
    {
     "name": "stdout",
     "output_type": "stream",
     "text": [
      "MoviePy - Done.\n",
      "Moviepy - Writing video /Users/idotzhori/Desktop/autoencoderlight/cleaned_highlights/BrightonvFulham_scene_8.mp4\n",
      "\n"
     ]
    },
    {
     "name": "stderr",
     "output_type": "stream",
     "text": [
      "                                                                                \r"
     ]
    },
    {
     "name": "stdout",
     "output_type": "stream",
     "text": [
      "Moviepy - Done !\n",
      "Moviepy - video ready /Users/idotzhori/Desktop/autoencoderlight/cleaned_highlights/BrightonvFulham_scene_8.mp4\n",
      "Moviepy - Building video /Users/idotzhori/Desktop/autoencoderlight/cleaned_highlights/WestHamUnitedvManchesterUnited_scene_11.mp4.\n",
      "MoviePy - Writing audio in WestHamUnitedvManchesterUnited_scene_11TEMP_MPY_wvf_snd.mp3\n"
     ]
    },
    {
     "name": "stderr",
     "output_type": "stream",
     "text": [
      "                                                                                \r"
     ]
    },
    {
     "name": "stdout",
     "output_type": "stream",
     "text": [
      "MoviePy - Done.\n",
      "Moviepy - Writing video /Users/idotzhori/Desktop/autoencoderlight/cleaned_highlights/WestHamUnitedvManchesterUnited_scene_11.mp4\n",
      "\n"
     ]
    },
    {
     "name": "stderr",
     "output_type": "stream",
     "text": [
      "                                                                                \r"
     ]
    },
    {
     "name": "stdout",
     "output_type": "stream",
     "text": [
      "Moviepy - Done !\n",
      "Moviepy - video ready /Users/idotzhori/Desktop/autoencoderlight/cleaned_highlights/WestHamUnitedvManchesterUnited_scene_11.mp4\n",
      "Moviepy - Building video /Users/idotzhori/Desktop/autoencoderlight/cleaned_highlights/NottinghamForestvManchesterCity_scene_4.mp4.\n",
      "MoviePy - Writing audio in NottinghamForestvManchesterCity_scene_4TEMP_MPY_wvf_snd.mp3\n"
     ]
    },
    {
     "name": "stderr",
     "output_type": "stream",
     "text": [
      "                                                                                \r"
     ]
    },
    {
     "name": "stdout",
     "output_type": "stream",
     "text": [
      "MoviePy - Done.\n",
      "Moviepy - Writing video /Users/idotzhori/Desktop/autoencoderlight/cleaned_highlights/NottinghamForestvManchesterCity_scene_4.mp4\n",
      "\n"
     ]
    },
    {
     "name": "stderr",
     "output_type": "stream",
     "text": [
      "                                                                                \r"
     ]
    },
    {
     "name": "stdout",
     "output_type": "stream",
     "text": [
      "Moviepy - Done !\n",
      "Moviepy - video ready /Users/idotzhori/Desktop/autoencoderlight/cleaned_highlights/NottinghamForestvManchesterCity_scene_4.mp4\n",
      "Moviepy - Building video /Users/idotzhori/Desktop/autoencoderlight/cleaned_highlights/LeicesterCityvAstonVilla_scene_4.mp4.\n",
      "MoviePy - Writing audio in LeicesterCityvAstonVilla_scene_4TEMP_MPY_wvf_snd.mp3\n"
     ]
    },
    {
     "name": "stderr",
     "output_type": "stream",
     "text": [
      "                                                                                \r"
     ]
    },
    {
     "name": "stdout",
     "output_type": "stream",
     "text": [
      "MoviePy - Done.\n",
      "Moviepy - Writing video /Users/idotzhori/Desktop/autoencoderlight/cleaned_highlights/LeicesterCityvAstonVilla_scene_4.mp4\n",
      "\n"
     ]
    },
    {
     "name": "stderr",
     "output_type": "stream",
     "text": [
      "                                                                                \r"
     ]
    },
    {
     "name": "stdout",
     "output_type": "stream",
     "text": [
      "Moviepy - Done !\n",
      "Moviepy - video ready /Users/idotzhori/Desktop/autoencoderlight/cleaned_highlights/LeicesterCityvAstonVilla_scene_4.mp4\n",
      "Moviepy - Building video /Users/idotzhori/Desktop/autoencoderlight/cleaned_highlights/NottinghamForestvBrighton_scene_9.mp4.\n",
      "MoviePy - Writing audio in NottinghamForestvBrighton_scene_9TEMP_MPY_wvf_snd.mp3\n"
     ]
    },
    {
     "name": "stderr",
     "output_type": "stream",
     "text": [
      "                                                                                \r"
     ]
    },
    {
     "name": "stdout",
     "output_type": "stream",
     "text": [
      "MoviePy - Done.\n",
      "Moviepy - Writing video /Users/idotzhori/Desktop/autoencoderlight/cleaned_highlights/NottinghamForestvBrighton_scene_9.mp4\n",
      "\n"
     ]
    },
    {
     "name": "stderr",
     "output_type": "stream",
     "text": [
      "                                                                                \r"
     ]
    },
    {
     "name": "stdout",
     "output_type": "stream",
     "text": [
      "Moviepy - Done !\n",
      "Moviepy - video ready /Users/idotzhori/Desktop/autoencoderlight/cleaned_highlights/NottinghamForestvBrighton_scene_9.mp4\n",
      "Moviepy - Building video /Users/idotzhori/Desktop/autoencoderlight/cleaned_highlights/ManchesterUnitedvLeicesterCity_scene_15.mp4.\n",
      "MoviePy - Writing audio in ManchesterUnitedvLeicesterCity_scene_15TEMP_MPY_wvf_snd.mp3\n"
     ]
    },
    {
     "name": "stderr",
     "output_type": "stream",
     "text": [
      "                                                                                \r"
     ]
    },
    {
     "name": "stdout",
     "output_type": "stream",
     "text": [
      "MoviePy - Done.\n",
      "Moviepy - Writing video /Users/idotzhori/Desktop/autoencoderlight/cleaned_highlights/ManchesterUnitedvLeicesterCity_scene_15.mp4\n",
      "\n"
     ]
    },
    {
     "name": "stderr",
     "output_type": "stream",
     "text": [
      "                                                                                \r"
     ]
    },
    {
     "name": "stdout",
     "output_type": "stream",
     "text": [
      "Moviepy - Done !\n",
      "Moviepy - video ready /Users/idotzhori/Desktop/autoencoderlight/cleaned_highlights/ManchesterUnitedvLeicesterCity_scene_15.mp4\n",
      "Moviepy - Building video /Users/idotzhori/Desktop/autoencoderlight/cleaned_highlights/NottinghamForestvManchesterCity_scene_20.mp4.\n",
      "MoviePy - Writing audio in NottinghamForestvManchesterCity_scene_20TEMP_MPY_wvf_snd.mp3\n"
     ]
    },
    {
     "name": "stderr",
     "output_type": "stream",
     "text": [
      "                                                                                \r"
     ]
    },
    {
     "name": "stdout",
     "output_type": "stream",
     "text": [
      "MoviePy - Done.\n",
      "Moviepy - Writing video /Users/idotzhori/Desktop/autoencoderlight/cleaned_highlights/NottinghamForestvManchesterCity_scene_20.mp4\n",
      "\n"
     ]
    },
    {
     "name": "stderr",
     "output_type": "stream",
     "text": [
      "                                                                                \r"
     ]
    },
    {
     "name": "stdout",
     "output_type": "stream",
     "text": [
      "Moviepy - Done !\n",
      "Moviepy - video ready /Users/idotzhori/Desktop/autoencoderlight/cleaned_highlights/NottinghamForestvManchesterCity_scene_20.mp4\n",
      "Moviepy - Building video /Users/idotzhori/Desktop/autoencoderlight/cleaned_highlights/ManchesterCityvArsenal_scene_24.mp4.\n",
      "MoviePy - Writing audio in ManchesterCityvArsenal_scene_24TEMP_MPY_wvf_snd.mp3\n"
     ]
    },
    {
     "name": "stderr",
     "output_type": "stream",
     "text": [
      "                                                                                \r"
     ]
    },
    {
     "name": "stdout",
     "output_type": "stream",
     "text": [
      "MoviePy - Done.\n",
      "Moviepy - Writing video /Users/idotzhori/Desktop/autoencoderlight/cleaned_highlights/ManchesterCityvArsenal_scene_24.mp4\n",
      "\n"
     ]
    },
    {
     "name": "stderr",
     "output_type": "stream",
     "text": [
      "                                                                                \r"
     ]
    },
    {
     "name": "stdout",
     "output_type": "stream",
     "text": [
      "Moviepy - Done !\n",
      "Moviepy - video ready /Users/idotzhori/Desktop/autoencoderlight/cleaned_highlights/ManchesterCityvArsenal_scene_24.mp4\n",
      "Moviepy - Building video /Users/idotzhori/Desktop/autoencoderlight/cleaned_highlights/ManchesterUnitedvBrentford_scene_9.mp4.\n",
      "MoviePy - Writing audio in ManchesterUnitedvBrentford_scene_9TEMP_MPY_wvf_snd.mp3\n"
     ]
    },
    {
     "name": "stderr",
     "output_type": "stream",
     "text": [
      "                                                                                \r"
     ]
    },
    {
     "name": "stdout",
     "output_type": "stream",
     "text": [
      "MoviePy - Done.\n",
      "Moviepy - Writing video /Users/idotzhori/Desktop/autoencoderlight/cleaned_highlights/ManchesterUnitedvBrentford_scene_9.mp4\n",
      "\n"
     ]
    },
    {
     "name": "stderr",
     "output_type": "stream",
     "text": [
      "                                                                                \r"
     ]
    },
    {
     "name": "stdout",
     "output_type": "stream",
     "text": [
      "Moviepy - Done !\n",
      "Moviepy - video ready /Users/idotzhori/Desktop/autoencoderlight/cleaned_highlights/ManchesterUnitedvBrentford_scene_9.mp4\n",
      "Moviepy - Building video /Users/idotzhori/Desktop/autoencoderlight/cleaned_highlights/ManchesterUnitedvEverton_scene_2.mp4.\n",
      "MoviePy - Writing audio in ManchesterUnitedvEverton_scene_2TEMP_MPY_wvf_snd.mp3\n"
     ]
    },
    {
     "name": "stderr",
     "output_type": "stream",
     "text": [
      "                                                                                \r"
     ]
    },
    {
     "name": "stdout",
     "output_type": "stream",
     "text": [
      "MoviePy - Done.\n",
      "Moviepy - Writing video /Users/idotzhori/Desktop/autoencoderlight/cleaned_highlights/ManchesterUnitedvEverton_scene_2.mp4\n",
      "\n"
     ]
    },
    {
     "name": "stderr",
     "output_type": "stream",
     "text": [
      "                                                                                \r"
     ]
    },
    {
     "name": "stdout",
     "output_type": "stream",
     "text": [
      "Moviepy - Done !\n",
      "Moviepy - video ready /Users/idotzhori/Desktop/autoencoderlight/cleaned_highlights/ManchesterUnitedvEverton_scene_2.mp4\n",
      "Moviepy - Building video /Users/idotzhori/Desktop/autoencoderlight/cleaned_highlights/FulhamvCrystalPalace_scene_18.mp4.\n",
      "MoviePy - Writing audio in FulhamvCrystalPalace_scene_18TEMP_MPY_wvf_snd.mp3\n"
     ]
    },
    {
     "name": "stderr",
     "output_type": "stream",
     "text": [
      "                                                                                \r"
     ]
    },
    {
     "name": "stdout",
     "output_type": "stream",
     "text": [
      "MoviePy - Done.\n",
      "Moviepy - Writing video /Users/idotzhori/Desktop/autoencoderlight/cleaned_highlights/FulhamvCrystalPalace_scene_18.mp4\n",
      "\n"
     ]
    },
    {
     "name": "stderr",
     "output_type": "stream",
     "text": [
      "                                                                                \r"
     ]
    },
    {
     "name": "stdout",
     "output_type": "stream",
     "text": [
      "Moviepy - Done !\n",
      "Moviepy - video ready /Users/idotzhori/Desktop/autoencoderlight/cleaned_highlights/FulhamvCrystalPalace_scene_18.mp4\n",
      "Moviepy - Building video /Users/idotzhori/Desktop/autoencoderlight/cleaned_highlights/FulhamvArsenal_scene_15.mp4.\n",
      "MoviePy - Writing audio in FulhamvArsenal_scene_15TEMP_MPY_wvf_snd.mp3\n"
     ]
    },
    {
     "name": "stderr",
     "output_type": "stream",
     "text": [
      "                                                                                \r"
     ]
    },
    {
     "name": "stdout",
     "output_type": "stream",
     "text": [
      "MoviePy - Done.\n",
      "Moviepy - Writing video /Users/idotzhori/Desktop/autoencoderlight/cleaned_highlights/FulhamvArsenal_scene_15.mp4\n",
      "\n"
     ]
    },
    {
     "name": "stderr",
     "output_type": "stream",
     "text": [
      "                                                                                \r"
     ]
    },
    {
     "name": "stdout",
     "output_type": "stream",
     "text": [
      "Moviepy - Done !\n",
      "Moviepy - video ready /Users/idotzhori/Desktop/autoencoderlight/cleaned_highlights/FulhamvArsenal_scene_15.mp4\n",
      "Moviepy - Building video /Users/idotzhori/Desktop/autoencoderlight/cleaned_highlights/ChelseavSouthampton_scene_26.mp4.\n",
      "MoviePy - Writing audio in ChelseavSouthampton_scene_26TEMP_MPY_wvf_snd.mp3\n"
     ]
    },
    {
     "name": "stderr",
     "output_type": "stream",
     "text": [
      "                                                                                \r"
     ]
    },
    {
     "name": "stdout",
     "output_type": "stream",
     "text": [
      "MoviePy - Done.\n",
      "Moviepy - Writing video /Users/idotzhori/Desktop/autoencoderlight/cleaned_highlights/ChelseavSouthampton_scene_26.mp4\n",
      "\n"
     ]
    },
    {
     "name": "stderr",
     "output_type": "stream",
     "text": [
      "                                                                                \r"
     ]
    },
    {
     "name": "stdout",
     "output_type": "stream",
     "text": [
      "Moviepy - Done !\n",
      "Moviepy - video ready /Users/idotzhori/Desktop/autoencoderlight/cleaned_highlights/ChelseavSouthampton_scene_26.mp4\n",
      "Moviepy - Building video /Users/idotzhori/Desktop/autoencoderlight/cleaned_highlights/ManchesterCityvLeedsUnited_scene_14.mp4.\n",
      "MoviePy - Writing audio in ManchesterCityvLeedsUnited_scene_14TEMP_MPY_wvf_snd.mp3\n"
     ]
    },
    {
     "name": "stderr",
     "output_type": "stream",
     "text": [
      "                                                                                \r"
     ]
    },
    {
     "name": "stdout",
     "output_type": "stream",
     "text": [
      "MoviePy - Done.\n",
      "Moviepy - Writing video /Users/idotzhori/Desktop/autoencoderlight/cleaned_highlights/ManchesterCityvLeedsUnited_scene_14.mp4\n",
      "\n"
     ]
    },
    {
     "name": "stderr",
     "output_type": "stream",
     "text": [
      "                                                                                \r"
     ]
    },
    {
     "name": "stdout",
     "output_type": "stream",
     "text": [
      "Moviepy - Done !\n",
      "Moviepy - video ready /Users/idotzhori/Desktop/autoencoderlight/cleaned_highlights/ManchesterCityvLeedsUnited_scene_14.mp4\n",
      "Moviepy - Building video /Users/idotzhori/Desktop/autoencoderlight/cleaned_highlights/BournemouthvFulham_scene_15.mp4.\n",
      "MoviePy - Writing audio in BournemouthvFulham_scene_15TEMP_MPY_wvf_snd.mp3\n"
     ]
    },
    {
     "name": "stderr",
     "output_type": "stream",
     "text": [
      "                                                                                \r"
     ]
    },
    {
     "name": "stdout",
     "output_type": "stream",
     "text": [
      "MoviePy - Done.\n",
      "Moviepy - Writing video /Users/idotzhori/Desktop/autoencoderlight/cleaned_highlights/BournemouthvFulham_scene_15.mp4\n",
      "\n"
     ]
    },
    {
     "name": "stderr",
     "output_type": "stream",
     "text": [
      "                                                                                \r"
     ]
    },
    {
     "name": "stdout",
     "output_type": "stream",
     "text": [
      "Moviepy - Done !\n",
      "Moviepy - video ready /Users/idotzhori/Desktop/autoencoderlight/cleaned_highlights/BournemouthvFulham_scene_15.mp4\n",
      "Moviepy - Building video /Users/idotzhori/Desktop/autoencoderlight/cleaned_highlights/ManchesterUnitedvAstonVilla_scene_1.mp4.\n",
      "MoviePy - Writing audio in ManchesterUnitedvAstonVilla_scene_1TEMP_MPY_wvf_snd.mp3\n"
     ]
    },
    {
     "name": "stderr",
     "output_type": "stream",
     "text": [
      "                                                                                \r"
     ]
    },
    {
     "name": "stdout",
     "output_type": "stream",
     "text": [
      "MoviePy - Done.\n",
      "Moviepy - Writing video /Users/idotzhori/Desktop/autoencoderlight/cleaned_highlights/ManchesterUnitedvAstonVilla_scene_1.mp4\n",
      "\n"
     ]
    },
    {
     "name": "stderr",
     "output_type": "stream",
     "text": [
      "                                                                                \r"
     ]
    },
    {
     "name": "stdout",
     "output_type": "stream",
     "text": [
      "Moviepy - Done !\n",
      "Moviepy - video ready /Users/idotzhori/Desktop/autoencoderlight/cleaned_highlights/ManchesterUnitedvAstonVilla_scene_1.mp4\n",
      "Moviepy - Building video /Users/idotzhori/Desktop/autoencoderlight/cleaned_highlights/WestHamUnitedvManchesterUnited_scene_10.mp4.\n",
      "MoviePy - Writing audio in WestHamUnitedvManchesterUnited_scene_10TEMP_MPY_wvf_snd.mp3\n"
     ]
    },
    {
     "name": "stderr",
     "output_type": "stream",
     "text": [
      "                                                                                \r"
     ]
    },
    {
     "name": "stdout",
     "output_type": "stream",
     "text": [
      "MoviePy - Done.\n",
      "Moviepy - Writing video /Users/idotzhori/Desktop/autoencoderlight/cleaned_highlights/WestHamUnitedvManchesterUnited_scene_10.mp4\n",
      "\n"
     ]
    },
    {
     "name": "stderr",
     "output_type": "stream",
     "text": [
      "                                                                                \r"
     ]
    },
    {
     "name": "stdout",
     "output_type": "stream",
     "text": [
      "Moviepy - Done !\n",
      "Moviepy - video ready /Users/idotzhori/Desktop/autoencoderlight/cleaned_highlights/WestHamUnitedvManchesterUnited_scene_10.mp4\n",
      "Moviepy - Building video /Users/idotzhori/Desktop/autoencoderlight/cleaned_highlights/ChelseavNottinghamForest_scene_5.mp4.\n",
      "MoviePy - Writing audio in ChelseavNottinghamForest_scene_5TEMP_MPY_wvf_snd.mp3\n"
     ]
    },
    {
     "name": "stderr",
     "output_type": "stream",
     "text": [
      "                                                                                \r"
     ]
    },
    {
     "name": "stdout",
     "output_type": "stream",
     "text": [
      "MoviePy - Done.\n",
      "Moviepy - Writing video /Users/idotzhori/Desktop/autoencoderlight/cleaned_highlights/ChelseavNottinghamForest_scene_5.mp4\n",
      "\n"
     ]
    },
    {
     "name": "stderr",
     "output_type": "stream",
     "text": [
      "                                                                                \r"
     ]
    },
    {
     "name": "stdout",
     "output_type": "stream",
     "text": [
      "Moviepy - Done !\n",
      "Moviepy - video ready /Users/idotzhori/Desktop/autoencoderlight/cleaned_highlights/ChelseavNottinghamForest_scene_5.mp4\n",
      "Moviepy - Building video /Users/idotzhori/Desktop/autoencoderlight/cleaned_highlights/ChelseavNottinghamForest_scene_1.mp4.\n",
      "MoviePy - Writing audio in ChelseavNottinghamForest_scene_1TEMP_MPY_wvf_snd.mp3\n"
     ]
    },
    {
     "name": "stderr",
     "output_type": "stream",
     "text": [
      "                                                                                \r"
     ]
    },
    {
     "name": "stdout",
     "output_type": "stream",
     "text": [
      "MoviePy - Done.\n",
      "Moviepy - Writing video /Users/idotzhori/Desktop/autoencoderlight/cleaned_highlights/ChelseavNottinghamForest_scene_1.mp4\n",
      "\n"
     ]
    },
    {
     "name": "stderr",
     "output_type": "stream",
     "text": [
      "                                                                                \r"
     ]
    },
    {
     "name": "stdout",
     "output_type": "stream",
     "text": [
      "Moviepy - Done !\n",
      "Moviepy - video ready /Users/idotzhori/Desktop/autoencoderlight/cleaned_highlights/ChelseavNottinghamForest_scene_1.mp4\n",
      "Moviepy - Building video /Users/idotzhori/Desktop/autoencoderlight/cleaned_highlights/ManchesterUnitedvAstonVilla_scene_5.mp4.\n",
      "MoviePy - Writing audio in ManchesterUnitedvAstonVilla_scene_5TEMP_MPY_wvf_snd.mp3\n"
     ]
    },
    {
     "name": "stderr",
     "output_type": "stream",
     "text": [
      "                                                                                \r"
     ]
    },
    {
     "name": "stdout",
     "output_type": "stream",
     "text": [
      "MoviePy - Done.\n",
      "Moviepy - Writing video /Users/idotzhori/Desktop/autoencoderlight/cleaned_highlights/ManchesterUnitedvAstonVilla_scene_5.mp4\n",
      "\n"
     ]
    },
    {
     "name": "stderr",
     "output_type": "stream",
     "text": [
      "                                                                                \r"
     ]
    },
    {
     "name": "stdout",
     "output_type": "stream",
     "text": [
      "Moviepy - Done !\n",
      "Moviepy - video ready /Users/idotzhori/Desktop/autoencoderlight/cleaned_highlights/ManchesterUnitedvAstonVilla_scene_5.mp4\n",
      "Moviepy - Building video /Users/idotzhori/Desktop/autoencoderlight/cleaned_highlights/BrightonvCrystalPalace_scene_3.mp4.\n",
      "MoviePy - Writing audio in BrightonvCrystalPalace_scene_3TEMP_MPY_wvf_snd.mp3\n"
     ]
    },
    {
     "name": "stderr",
     "output_type": "stream",
     "text": [
      "                                                                                \r"
     ]
    },
    {
     "name": "stdout",
     "output_type": "stream",
     "text": [
      "MoviePy - Done.\n",
      "Moviepy - Writing video /Users/idotzhori/Desktop/autoencoderlight/cleaned_highlights/BrightonvCrystalPalace_scene_3.mp4\n",
      "\n"
     ]
    },
    {
     "name": "stderr",
     "output_type": "stream",
     "text": [
      "                                                                                \r"
     ]
    },
    {
     "name": "stdout",
     "output_type": "stream",
     "text": [
      "Moviepy - Done !\n",
      "Moviepy - video ready /Users/idotzhori/Desktop/autoencoderlight/cleaned_highlights/BrightonvCrystalPalace_scene_3.mp4\n",
      "Moviepy - Building video /Users/idotzhori/Desktop/autoencoderlight/cleaned_highlights/NottinghamForestvBrighton_scene_24.mp4.\n",
      "MoviePy - Writing audio in NottinghamForestvBrighton_scene_24TEMP_MPY_wvf_snd.mp3\n"
     ]
    },
    {
     "name": "stderr",
     "output_type": "stream",
     "text": [
      "                                                                                \r"
     ]
    },
    {
     "name": "stdout",
     "output_type": "stream",
     "text": [
      "MoviePy - Done.\n",
      "Moviepy - Writing video /Users/idotzhori/Desktop/autoencoderlight/cleaned_highlights/NottinghamForestvBrighton_scene_24.mp4\n",
      "\n"
     ]
    },
    {
     "name": "stderr",
     "output_type": "stream",
     "text": [
      "                                                                                \r"
     ]
    },
    {
     "name": "stdout",
     "output_type": "stream",
     "text": [
      "Moviepy - Done !\n",
      "Moviepy - video ready /Users/idotzhori/Desktop/autoencoderlight/cleaned_highlights/NottinghamForestvBrighton_scene_24.mp4\n",
      "Moviepy - Building video /Users/idotzhori/Desktop/autoencoderlight/cleaned_highlights/BournemouthvFulham_scene_11.mp4.\n",
      "MoviePy - Writing audio in BournemouthvFulham_scene_11TEMP_MPY_wvf_snd.mp3\n"
     ]
    },
    {
     "name": "stderr",
     "output_type": "stream",
     "text": [
      "                                                                                \r"
     ]
    },
    {
     "name": "stdout",
     "output_type": "stream",
     "text": [
      "MoviePy - Done.\n",
      "Moviepy - Writing video /Users/idotzhori/Desktop/autoencoderlight/cleaned_highlights/BournemouthvFulham_scene_11.mp4\n",
      "\n"
     ]
    },
    {
     "name": "stderr",
     "output_type": "stream",
     "text": [
      "                                                                                \r"
     ]
    },
    {
     "name": "stdout",
     "output_type": "stream",
     "text": [
      "Moviepy - Done !\n",
      "Moviepy - video ready /Users/idotzhori/Desktop/autoencoderlight/cleaned_highlights/BournemouthvFulham_scene_11.mp4\n",
      "Moviepy - Building video /Users/idotzhori/Desktop/autoencoderlight/cleaned_highlights/LiverpoolvEverton_scene_5.mp4.\n",
      "MoviePy - Writing audio in LiverpoolvEverton_scene_5TEMP_MPY_wvf_snd.mp3\n"
     ]
    },
    {
     "name": "stderr",
     "output_type": "stream",
     "text": [
      "                                                                                \r"
     ]
    },
    {
     "name": "stdout",
     "output_type": "stream",
     "text": [
      "MoviePy - Done.\n",
      "Moviepy - Writing video /Users/idotzhori/Desktop/autoencoderlight/cleaned_highlights/LiverpoolvEverton_scene_5.mp4\n",
      "\n"
     ]
    },
    {
     "name": "stderr",
     "output_type": "stream",
     "text": [
      "                                                                                \r"
     ]
    },
    {
     "name": "stdout",
     "output_type": "stream",
     "text": [
      "Moviepy - Done !\n",
      "Moviepy - video ready /Users/idotzhori/Desktop/autoencoderlight/cleaned_highlights/LiverpoolvEverton_scene_5.mp4\n",
      "Moviepy - Building video /Users/idotzhori/Desktop/autoencoderlight/cleaned_highlights/LeedsUnitedvManchesterUnited_scene_16.mp4.\n",
      "MoviePy - Writing audio in LeedsUnitedvManchesterUnited_scene_16TEMP_MPY_wvf_snd.mp3\n"
     ]
    },
    {
     "name": "stderr",
     "output_type": "stream",
     "text": [
      "                                                                                \r"
     ]
    },
    {
     "name": "stdout",
     "output_type": "stream",
     "text": [
      "MoviePy - Done.\n",
      "Moviepy - Writing video /Users/idotzhori/Desktop/autoencoderlight/cleaned_highlights/LeedsUnitedvManchesterUnited_scene_16.mp4\n",
      "\n"
     ]
    },
    {
     "name": "stderr",
     "output_type": "stream",
     "text": [
      "                                                                                \r"
     ]
    },
    {
     "name": "stdout",
     "output_type": "stream",
     "text": [
      "Moviepy - Done !\n",
      "Moviepy - video ready /Users/idotzhori/Desktop/autoencoderlight/cleaned_highlights/LeedsUnitedvManchesterUnited_scene_16.mp4\n",
      "Moviepy - Building video /Users/idotzhori/Desktop/autoencoderlight/cleaned_highlights/ManchesterCityvLeicesterCity_scene_17.mp4.\n",
      "MoviePy - Writing audio in ManchesterCityvLeicesterCity_scene_17TEMP_MPY_wvf_snd.mp3\n"
     ]
    },
    {
     "name": "stderr",
     "output_type": "stream",
     "text": [
      "                                                                                \r"
     ]
    },
    {
     "name": "stdout",
     "output_type": "stream",
     "text": [
      "MoviePy - Done.\n",
      "Moviepy - Writing video /Users/idotzhori/Desktop/autoencoderlight/cleaned_highlights/ManchesterCityvLeicesterCity_scene_17.mp4\n",
      "\n"
     ]
    },
    {
     "name": "stderr",
     "output_type": "stream",
     "text": [
      "                                                                                \r"
     ]
    },
    {
     "name": "stdout",
     "output_type": "stream",
     "text": [
      "Moviepy - Done !\n",
      "Moviepy - video ready /Users/idotzhori/Desktop/autoencoderlight/cleaned_highlights/ManchesterCityvLeicesterCity_scene_17.mp4\n",
      "Moviepy - Building video /Users/idotzhori/Desktop/autoencoderlight/cleaned_highlights/ManchesterCityvNewcastleUnited_scene_10.mp4.\n",
      "MoviePy - Writing audio in ManchesterCityvNewcastleUnited_scene_10TEMP_MPY_wvf_snd.mp3\n"
     ]
    },
    {
     "name": "stderr",
     "output_type": "stream",
     "text": [
      "                                                                                \r"
     ]
    },
    {
     "name": "stdout",
     "output_type": "stream",
     "text": [
      "MoviePy - Done.\n",
      "Moviepy - Writing video /Users/idotzhori/Desktop/autoencoderlight/cleaned_highlights/ManchesterCityvNewcastleUnited_scene_10.mp4\n",
      "\n"
     ]
    },
    {
     "name": "stderr",
     "output_type": "stream",
     "text": [
      "                                                                                \r"
     ]
    },
    {
     "name": "stdout",
     "output_type": "stream",
     "text": [
      "Moviepy - Done !\n",
      "Moviepy - video ready /Users/idotzhori/Desktop/autoencoderlight/cleaned_highlights/ManchesterCityvNewcastleUnited_scene_10.mp4\n",
      "Moviepy - Building video /Users/idotzhori/Desktop/autoencoderlight/cleaned_highlights/WestHamUnitedvAstonVilla_scene_6.mp4.\n",
      "MoviePy - Writing audio in WestHamUnitedvAstonVilla_scene_6TEMP_MPY_wvf_snd.mp3\n"
     ]
    },
    {
     "name": "stderr",
     "output_type": "stream",
     "text": [
      "                                                                                \r"
     ]
    },
    {
     "name": "stdout",
     "output_type": "stream",
     "text": [
      "MoviePy - Done.\n",
      "Moviepy - Writing video /Users/idotzhori/Desktop/autoencoderlight/cleaned_highlights/WestHamUnitedvAstonVilla_scene_6.mp4\n",
      "\n"
     ]
    },
    {
     "name": "stderr",
     "output_type": "stream",
     "text": [
      "                                                                                \r"
     ]
    },
    {
     "name": "stdout",
     "output_type": "stream",
     "text": [
      "Moviepy - Done !\n",
      "Moviepy - video ready /Users/idotzhori/Desktop/autoencoderlight/cleaned_highlights/WestHamUnitedvAstonVilla_scene_6.mp4\n",
      "Moviepy - Building video /Users/idotzhori/Desktop/autoencoderlight/cleaned_highlights/NewcastleUnitedvWolves_scene_17.mp4.\n",
      "MoviePy - Writing audio in NewcastleUnitedvWolves_scene_17TEMP_MPY_wvf_snd.mp3\n"
     ]
    },
    {
     "name": "stderr",
     "output_type": "stream",
     "text": [
      "                                                                                \r"
     ]
    },
    {
     "name": "stdout",
     "output_type": "stream",
     "text": [
      "MoviePy - Done.\n",
      "Moviepy - Writing video /Users/idotzhori/Desktop/autoencoderlight/cleaned_highlights/NewcastleUnitedvWolves_scene_17.mp4\n",
      "\n"
     ]
    },
    {
     "name": "stderr",
     "output_type": "stream",
     "text": [
      "                                                                                \r"
     ]
    },
    {
     "name": "stdout",
     "output_type": "stream",
     "text": [
      "Moviepy - Done !\n",
      "Moviepy - video ready /Users/idotzhori/Desktop/autoencoderlight/cleaned_highlights/NewcastleUnitedvWolves_scene_17.mp4\n",
      "Moviepy - Building video /Users/idotzhori/Desktop/autoencoderlight/cleaned_highlights/NottinghamForestvArsenal_scene_8.mp4.\n",
      "MoviePy - Writing audio in NottinghamForestvArsenal_scene_8TEMP_MPY_wvf_snd.mp3\n"
     ]
    },
    {
     "name": "stderr",
     "output_type": "stream",
     "text": [
      "                                                                                \r"
     ]
    },
    {
     "name": "stdout",
     "output_type": "stream",
     "text": [
      "MoviePy - Done.\n",
      "Moviepy - Writing video /Users/idotzhori/Desktop/autoencoderlight/cleaned_highlights/NottinghamForestvArsenal_scene_8.mp4\n",
      "\n"
     ]
    },
    {
     "name": "stderr",
     "output_type": "stream",
     "text": [
      "                                                                                \r"
     ]
    },
    {
     "name": "stdout",
     "output_type": "stream",
     "text": [
      "Moviepy - Done !\n",
      "Moviepy - video ready /Users/idotzhori/Desktop/autoencoderlight/cleaned_highlights/NottinghamForestvArsenal_scene_8.mp4\n",
      "Moviepy - Building video /Users/idotzhori/Desktop/autoencoderlight/cleaned_highlights/BrentfordvNewcastleUnited_scene_22.mp4.\n",
      "MoviePy - Writing audio in BrentfordvNewcastleUnited_scene_22TEMP_MPY_wvf_snd.mp3\n"
     ]
    },
    {
     "name": "stderr",
     "output_type": "stream",
     "text": [
      "                                                                                \r"
     ]
    },
    {
     "name": "stdout",
     "output_type": "stream",
     "text": [
      "MoviePy - Done.\n",
      "Moviepy - Writing video /Users/idotzhori/Desktop/autoencoderlight/cleaned_highlights/BrentfordvNewcastleUnited_scene_22.mp4\n",
      "\n"
     ]
    },
    {
     "name": "stderr",
     "output_type": "stream",
     "text": [
      "                                                                                \r"
     ]
    },
    {
     "name": "stdout",
     "output_type": "stream",
     "text": [
      "Moviepy - Done !\n",
      "Moviepy - video ready /Users/idotzhori/Desktop/autoencoderlight/cleaned_highlights/BrentfordvNewcastleUnited_scene_22.mp4\n",
      "Moviepy - Building video /Users/idotzhori/Desktop/autoencoderlight/cleaned_highlights/ChelseavSouthampton_scene_23.mp4.\n",
      "MoviePy - Writing audio in ChelseavSouthampton_scene_23TEMP_MPY_wvf_snd.mp3\n"
     ]
    },
    {
     "name": "stderr",
     "output_type": "stream",
     "text": [
      "                                                                                \r"
     ]
    },
    {
     "name": "stdout",
     "output_type": "stream",
     "text": [
      "MoviePy - Done.\n",
      "Moviepy - Writing video /Users/idotzhori/Desktop/autoencoderlight/cleaned_highlights/ChelseavSouthampton_scene_23.mp4\n",
      "\n"
     ]
    },
    {
     "name": "stderr",
     "output_type": "stream",
     "text": [
      "                                                                                \r"
     ]
    },
    {
     "name": "stdout",
     "output_type": "stream",
     "text": [
      "Moviepy - Done !\n",
      "Moviepy - video ready /Users/idotzhori/Desktop/autoencoderlight/cleaned_highlights/ChelseavSouthampton_scene_23.mp4\n",
      "Moviepy - Building video /Users/idotzhori/Desktop/autoencoderlight/cleaned_highlights/LeedsUnitedvNewcastleUnited_scene_17.mp4.\n",
      "MoviePy - Writing audio in LeedsUnitedvNewcastleUnited_scene_17TEMP_MPY_wvf_snd.mp3\n"
     ]
    },
    {
     "name": "stderr",
     "output_type": "stream",
     "text": [
      "                                                                                \r"
     ]
    },
    {
     "name": "stdout",
     "output_type": "stream",
     "text": [
      "MoviePy - Done.\n",
      "Moviepy - Writing video /Users/idotzhori/Desktop/autoencoderlight/cleaned_highlights/LeedsUnitedvNewcastleUnited_scene_17.mp4\n",
      "\n"
     ]
    },
    {
     "name": "stderr",
     "output_type": "stream",
     "text": [
      "                                                                                \r"
     ]
    },
    {
     "name": "stdout",
     "output_type": "stream",
     "text": [
      "Moviepy - Done !\n",
      "Moviepy - video ready /Users/idotzhori/Desktop/autoencoderlight/cleaned_highlights/LeedsUnitedvNewcastleUnited_scene_17.mp4\n",
      "Moviepy - Building video /Users/idotzhori/Desktop/autoencoderlight/cleaned_highlights/ManchesterUnitedvLeicesterCity_scene_11.mp4.\n",
      "MoviePy - Writing audio in ManchesterUnitedvLeicesterCity_scene_11TEMP_MPY_wvf_snd.mp3\n"
     ]
    },
    {
     "name": "stderr",
     "output_type": "stream",
     "text": [
      "                                                                                \r"
     ]
    },
    {
     "name": "stdout",
     "output_type": "stream",
     "text": [
      "MoviePy - Done.\n",
      "Moviepy - Writing video /Users/idotzhori/Desktop/autoencoderlight/cleaned_highlights/ManchesterUnitedvLeicesterCity_scene_11.mp4\n",
      "\n"
     ]
    },
    {
     "name": "stderr",
     "output_type": "stream",
     "text": [
      "                                                                                \r"
     ]
    },
    {
     "name": "stdout",
     "output_type": "stream",
     "text": [
      "Moviepy - Done !\n",
      "Moviepy - video ready /Users/idotzhori/Desktop/autoencoderlight/cleaned_highlights/ManchesterUnitedvLeicesterCity_scene_11.mp4\n",
      "Moviepy - Building video /Users/idotzhori/Desktop/autoencoderlight/cleaned_highlights/ManchesterCityvLeedsUnited_scene_11.mp4.\n",
      "MoviePy - Writing audio in ManchesterCityvLeedsUnited_scene_11TEMP_MPY_wvf_snd.mp3\n"
     ]
    },
    {
     "name": "stderr",
     "output_type": "stream",
     "text": [
      "                                                                                \r"
     ]
    },
    {
     "name": "stdout",
     "output_type": "stream",
     "text": [
      "MoviePy - Done.\n",
      "Moviepy - Writing video /Users/idotzhori/Desktop/autoencoderlight/cleaned_highlights/ManchesterCityvLeedsUnited_scene_11.mp4\n",
      "\n"
     ]
    },
    {
     "name": "stderr",
     "output_type": "stream",
     "text": [
      "                                                                                \r"
     ]
    },
    {
     "name": "stdout",
     "output_type": "stream",
     "text": [
      "Moviepy - Done !\n",
      "Moviepy - video ready /Users/idotzhori/Desktop/autoencoderlight/cleaned_highlights/ManchesterCityvLeedsUnited_scene_11.mp4\n",
      "Moviepy - Building video /Users/idotzhori/Desktop/autoencoderlight/cleaned_highlights/BrightonvCrystalPalace_scene_2.mp4.\n",
      "MoviePy - Writing audio in BrightonvCrystalPalace_scene_2TEMP_MPY_wvf_snd.mp3\n"
     ]
    },
    {
     "name": "stderr",
     "output_type": "stream",
     "text": [
      "                                                                                \r"
     ]
    },
    {
     "name": "stdout",
     "output_type": "stream",
     "text": [
      "MoviePy - Done.\n",
      "Moviepy - Writing video /Users/idotzhori/Desktop/autoencoderlight/cleaned_highlights/BrightonvCrystalPalace_scene_2.mp4\n",
      "\n"
     ]
    },
    {
     "name": "stderr",
     "output_type": "stream",
     "text": [
      "                                                                                \r"
     ]
    },
    {
     "name": "stdout",
     "output_type": "stream",
     "text": [
      "Moviepy - Done !\n",
      "Moviepy - video ready /Users/idotzhori/Desktop/autoencoderlight/cleaned_highlights/BrightonvCrystalPalace_scene_2.mp4\n",
      "Moviepy - Building video /Users/idotzhori/Desktop/autoencoderlight/cleaned_highlights/LeicesterCityvAstonVilla_scene_2.mp4.\n",
      "MoviePy - Writing audio in LeicesterCityvAstonVilla_scene_2TEMP_MPY_wvf_snd.mp3\n"
     ]
    },
    {
     "name": "stderr",
     "output_type": "stream",
     "text": [
      "                                                                                \r"
     ]
    },
    {
     "name": "stdout",
     "output_type": "stream",
     "text": [
      "MoviePy - Done.\n",
      "Moviepy - Writing video /Users/idotzhori/Desktop/autoencoderlight/cleaned_highlights/LeicesterCityvAstonVilla_scene_2.mp4\n",
      "\n"
     ]
    },
    {
     "name": "stderr",
     "output_type": "stream",
     "text": [
      "                                                                                \r"
     ]
    },
    {
     "name": "stdout",
     "output_type": "stream",
     "text": [
      "Moviepy - Done !\n",
      "Moviepy - video ready /Users/idotzhori/Desktop/autoencoderlight/cleaned_highlights/LeicesterCityvAstonVilla_scene_2.mp4\n",
      "Moviepy - Building video /Users/idotzhori/Desktop/autoencoderlight/cleaned_highlights/LiverpoolvAstonVilla_scene_13.mp4.\n",
      "MoviePy - Writing audio in LiverpoolvAstonVilla_scene_13TEMP_MPY_wvf_snd.mp3\n"
     ]
    },
    {
     "name": "stderr",
     "output_type": "stream",
     "text": [
      "                                                                                \r"
     ]
    },
    {
     "name": "stdout",
     "output_type": "stream",
     "text": [
      "MoviePy - Done.\n",
      "Moviepy - Writing video /Users/idotzhori/Desktop/autoencoderlight/cleaned_highlights/LiverpoolvAstonVilla_scene_13.mp4\n",
      "\n"
     ]
    },
    {
     "name": "stderr",
     "output_type": "stream",
     "text": [
      "                                                                                \r"
     ]
    },
    {
     "name": "stdout",
     "output_type": "stream",
     "text": [
      "Moviepy - Done !\n",
      "Moviepy - video ready /Users/idotzhori/Desktop/autoencoderlight/cleaned_highlights/LiverpoolvAstonVilla_scene_13.mp4\n",
      "Moviepy - Building video /Users/idotzhori/Desktop/autoencoderlight/cleaned_highlights/WestHamUnitedvLeedsUnited_scene_10.mp4.\n",
      "MoviePy - Writing audio in WestHamUnitedvLeedsUnited_scene_10TEMP_MPY_wvf_snd.mp3\n"
     ]
    },
    {
     "name": "stderr",
     "output_type": "stream",
     "text": [
      "                                                                                \r"
     ]
    },
    {
     "name": "stdout",
     "output_type": "stream",
     "text": [
      "MoviePy - Done.\n",
      "Moviepy - Writing video /Users/idotzhori/Desktop/autoencoderlight/cleaned_highlights/WestHamUnitedvLeedsUnited_scene_10.mp4\n",
      "\n"
     ]
    },
    {
     "name": "stderr",
     "output_type": "stream",
     "text": [
      "                                                                                \r"
     ]
    },
    {
     "name": "stdout",
     "output_type": "stream",
     "text": [
      "Moviepy - Done !\n",
      "Moviepy - video ready /Users/idotzhori/Desktop/autoencoderlight/cleaned_highlights/WestHamUnitedvLeedsUnited_scene_10.mp4\n",
      "Moviepy - Building video /Users/idotzhori/Desktop/autoencoderlight/cleaned_highlights/WestHamUnitedvNottinghamForest_scene_7.mp4.\n",
      "MoviePy - Writing audio in WestHamUnitedvNottinghamForest_scene_7TEMP_MPY_wvf_snd.mp3\n"
     ]
    },
    {
     "name": "stderr",
     "output_type": "stream",
     "text": [
      "                                                                                \r"
     ]
    },
    {
     "name": "stdout",
     "output_type": "stream",
     "text": [
      "MoviePy - Done.\n",
      "Moviepy - Writing video /Users/idotzhori/Desktop/autoencoderlight/cleaned_highlights/WestHamUnitedvNottinghamForest_scene_7.mp4\n",
      "\n"
     ]
    },
    {
     "name": "stderr",
     "output_type": "stream",
     "text": [
      "                                                                                \r"
     ]
    },
    {
     "name": "stdout",
     "output_type": "stream",
     "text": [
      "Moviepy - Done !\n",
      "Moviepy - video ready /Users/idotzhori/Desktop/autoencoderlight/cleaned_highlights/WestHamUnitedvNottinghamForest_scene_7.mp4\n",
      "Moviepy - Building video /Users/idotzhori/Desktop/autoencoderlight/cleaned_highlights/ManchesterUnitedvAstonVilla_scene_11.mp4.\n",
      "MoviePy - Writing audio in ManchesterUnitedvAstonVilla_scene_11TEMP_MPY_wvf_snd.mp3\n"
     ]
    },
    {
     "name": "stderr",
     "output_type": "stream",
     "text": [
      "                                                                                \r"
     ]
    },
    {
     "name": "stdout",
     "output_type": "stream",
     "text": [
      "MoviePy - Done.\n",
      "Moviepy - Writing video /Users/idotzhori/Desktop/autoencoderlight/cleaned_highlights/ManchesterUnitedvAstonVilla_scene_11.mp4\n",
      "\n"
     ]
    },
    {
     "name": "stderr",
     "output_type": "stream",
     "text": [
      "                                                                                \r"
     ]
    },
    {
     "name": "stdout",
     "output_type": "stream",
     "text": [
      "Moviepy - Done !\n",
      "Moviepy - video ready /Users/idotzhori/Desktop/autoencoderlight/cleaned_highlights/ManchesterUnitedvAstonVilla_scene_11.mp4\n",
      "Moviepy - Building video /Users/idotzhori/Desktop/autoencoderlight/cleaned_highlights/LeedsUnitedvManchesterUnited_scene_15.mp4.\n",
      "MoviePy - Writing audio in LeedsUnitedvManchesterUnited_scene_15TEMP_MPY_wvf_snd.mp3\n"
     ]
    },
    {
     "name": "stderr",
     "output_type": "stream",
     "text": [
      "                                                                                \r"
     ]
    },
    {
     "name": "stdout",
     "output_type": "stream",
     "text": [
      "MoviePy - Done.\n",
      "Moviepy - Writing video /Users/idotzhori/Desktop/autoencoderlight/cleaned_highlights/LeedsUnitedvManchesterUnited_scene_15.mp4\n",
      "\n"
     ]
    },
    {
     "name": "stderr",
     "output_type": "stream",
     "text": [
      "                                                                                \r"
     ]
    },
    {
     "name": "stdout",
     "output_type": "stream",
     "text": [
      "Moviepy - Done !\n",
      "Moviepy - video ready /Users/idotzhori/Desktop/autoencoderlight/cleaned_highlights/LeedsUnitedvManchesterUnited_scene_15.mp4\n",
      "Moviepy - Building video /Users/idotzhori/Desktop/autoencoderlight/cleaned_highlights/BrightonvWestHamUnited_scene_13.mp4.\n",
      "MoviePy - Writing audio in BrightonvWestHamUnited_scene_13TEMP_MPY_wvf_snd.mp3\n"
     ]
    },
    {
     "name": "stderr",
     "output_type": "stream",
     "text": [
      "                                                                                \r"
     ]
    },
    {
     "name": "stdout",
     "output_type": "stream",
     "text": [
      "MoviePy - Done.\n",
      "Moviepy - Writing video /Users/idotzhori/Desktop/autoencoderlight/cleaned_highlights/BrightonvWestHamUnited_scene_13.mp4\n",
      "\n"
     ]
    },
    {
     "name": "stderr",
     "output_type": "stream",
     "text": [
      "                                                                                \r"
     ]
    },
    {
     "name": "stdout",
     "output_type": "stream",
     "text": [
      "Moviepy - Done !\n",
      "Moviepy - video ready /Users/idotzhori/Desktop/autoencoderlight/cleaned_highlights/BrightonvWestHamUnited_scene_13.mp4\n",
      "Moviepy - Building video /Users/idotzhori/Desktop/autoencoderlight/cleaned_highlights/ManchesterCityvArsenal_scene_8.mp4.\n",
      "MoviePy - Writing audio in ManchesterCityvArsenal_scene_8TEMP_MPY_wvf_snd.mp3\n"
     ]
    },
    {
     "name": "stderr",
     "output_type": "stream",
     "text": [
      "                                                                                \r"
     ]
    },
    {
     "name": "stdout",
     "output_type": "stream",
     "text": [
      "MoviePy - Done.\n",
      "Moviepy - Writing video /Users/idotzhori/Desktop/autoencoderlight/cleaned_highlights/ManchesterCityvArsenal_scene_8.mp4\n",
      "\n"
     ]
    },
    {
     "name": "stderr",
     "output_type": "stream",
     "text": [
      "                                                                                \r"
     ]
    },
    {
     "name": "stdout",
     "output_type": "stream",
     "text": [
      "Moviepy - Done !\n",
      "Moviepy - video ready /Users/idotzhori/Desktop/autoencoderlight/cleaned_highlights/ManchesterCityvArsenal_scene_8.mp4\n",
      "Moviepy - Building video /Users/idotzhori/Desktop/autoencoderlight/cleaned_highlights/BournemouthvLiverpool_scene_13.mp4.\n",
      "MoviePy - Writing audio in BournemouthvLiverpool_scene_13TEMP_MPY_wvf_snd.mp3\n"
     ]
    },
    {
     "name": "stderr",
     "output_type": "stream",
     "text": [
      "                                                                                \r"
     ]
    },
    {
     "name": "stdout",
     "output_type": "stream",
     "text": [
      "MoviePy - Done.\n",
      "Moviepy - Writing video /Users/idotzhori/Desktop/autoencoderlight/cleaned_highlights/BournemouthvLiverpool_scene_13.mp4\n",
      "\n"
     ]
    },
    {
     "name": "stderr",
     "output_type": "stream",
     "text": [
      "                                                                                \r"
     ]
    },
    {
     "name": "stdout",
     "output_type": "stream",
     "text": [
      "Moviepy - Done !\n",
      "Moviepy - video ready /Users/idotzhori/Desktop/autoencoderlight/cleaned_highlights/BournemouthvLiverpool_scene_13.mp4\n",
      "Moviepy - Building video /Users/idotzhori/Desktop/autoencoderlight/cleaned_highlights/SouthamptonvFulham_scene_5.mp4.\n",
      "MoviePy - Writing audio in SouthamptonvFulham_scene_5TEMP_MPY_wvf_snd.mp3\n"
     ]
    },
    {
     "name": "stderr",
     "output_type": "stream",
     "text": [
      "                                                                                \r"
     ]
    },
    {
     "name": "stdout",
     "output_type": "stream",
     "text": [
      "MoviePy - Done.\n",
      "Moviepy - Writing video /Users/idotzhori/Desktop/autoencoderlight/cleaned_highlights/SouthamptonvFulham_scene_5.mp4\n",
      "\n"
     ]
    },
    {
     "name": "stderr",
     "output_type": "stream",
     "text": [
      "                                                                                \r"
     ]
    },
    {
     "name": "stdout",
     "output_type": "stream",
     "text": [
      "Moviepy - Done !\n",
      "Moviepy - video ready /Users/idotzhori/Desktop/autoencoderlight/cleaned_highlights/SouthamptonvFulham_scene_5.mp4\n",
      "Moviepy - Building video /Users/idotzhori/Desktop/autoencoderlight/cleaned_highlights/FulhamvArsenal_scene_12.mp4.\n",
      "MoviePy - Writing audio in FulhamvArsenal_scene_12TEMP_MPY_wvf_snd.mp3\n"
     ]
    },
    {
     "name": "stderr",
     "output_type": "stream",
     "text": [
      "                                                                                \r"
     ]
    },
    {
     "name": "stdout",
     "output_type": "stream",
     "text": [
      "MoviePy - Done.\n",
      "Moviepy - Writing video /Users/idotzhori/Desktop/autoencoderlight/cleaned_highlights/FulhamvArsenal_scene_12.mp4\n",
      "\n"
     ]
    },
    {
     "name": "stderr",
     "output_type": "stream",
     "text": [
      "                                                                                \r"
     ]
    },
    {
     "name": "stdout",
     "output_type": "stream",
     "text": [
      "Moviepy - Done !\n",
      "Moviepy - video ready /Users/idotzhori/Desktop/autoencoderlight/cleaned_highlights/FulhamvArsenal_scene_12.mp4\n",
      "Moviepy - Building video /Users/idotzhori/Desktop/autoencoderlight/cleaned_highlights/BournemouthvLiverpool_scene_12.mp4.\n",
      "MoviePy - Writing audio in BournemouthvLiverpool_scene_12TEMP_MPY_wvf_snd.mp3\n"
     ]
    },
    {
     "name": "stderr",
     "output_type": "stream",
     "text": [
      "                                                                                \r"
     ]
    },
    {
     "name": "stdout",
     "output_type": "stream",
     "text": [
      "MoviePy - Done.\n",
      "Moviepy - Writing video /Users/idotzhori/Desktop/autoencoderlight/cleaned_highlights/BournemouthvLiverpool_scene_12.mp4\n",
      "\n"
     ]
    },
    {
     "name": "stderr",
     "output_type": "stream",
     "text": [
      "                                                                                \r"
     ]
    },
    {
     "name": "stdout",
     "output_type": "stream",
     "text": [
      "Moviepy - Done !\n",
      "Moviepy - video ready /Users/idotzhori/Desktop/autoencoderlight/cleaned_highlights/BournemouthvLiverpool_scene_12.mp4\n",
      "Moviepy - Building video /Users/idotzhori/Desktop/autoencoderlight/cleaned_highlights/WestHamUnitedvAstonVilla_scene_4.mp4.\n",
      "MoviePy - Writing audio in WestHamUnitedvAstonVilla_scene_4TEMP_MPY_wvf_snd.mp3\n"
     ]
    },
    {
     "name": "stderr",
     "output_type": "stream",
     "text": [
      "                                                                                \r"
     ]
    },
    {
     "name": "stdout",
     "output_type": "stream",
     "text": [
      "MoviePy - Done.\n",
      "Moviepy - Writing video /Users/idotzhori/Desktop/autoencoderlight/cleaned_highlights/WestHamUnitedvAstonVilla_scene_4.mp4\n",
      "\n"
     ]
    },
    {
     "name": "stderr",
     "output_type": "stream",
     "text": [
      "                                                                                \r"
     ]
    },
    {
     "name": "stdout",
     "output_type": "stream",
     "text": [
      "Moviepy - Done !\n",
      "Moviepy - video ready /Users/idotzhori/Desktop/autoencoderlight/cleaned_highlights/WestHamUnitedvAstonVilla_scene_4.mp4\n",
      "Moviepy - Building video /Users/idotzhori/Desktop/autoencoderlight/cleaned_highlights/ManchesterCityvNewcastleUnited_scene_12.mp4.\n",
      "MoviePy - Writing audio in ManchesterCityvNewcastleUnited_scene_12TEMP_MPY_wvf_snd.mp3\n"
     ]
    },
    {
     "name": "stderr",
     "output_type": "stream",
     "text": [
      "                                                                                \r"
     ]
    },
    {
     "name": "stdout",
     "output_type": "stream",
     "text": [
      "MoviePy - Done.\n",
      "Moviepy - Writing video /Users/idotzhori/Desktop/autoencoderlight/cleaned_highlights/ManchesterCityvNewcastleUnited_scene_12.mp4\n",
      "\n"
     ]
    },
    {
     "name": "stderr",
     "output_type": "stream",
     "text": [
      "                                                                                \r"
     ]
    },
    {
     "name": "stdout",
     "output_type": "stream",
     "text": [
      "Moviepy - Done !\n",
      "Moviepy - video ready /Users/idotzhori/Desktop/autoencoderlight/cleaned_highlights/ManchesterCityvNewcastleUnited_scene_12.mp4\n",
      "Moviepy - Building video /Users/idotzhori/Desktop/autoencoderlight/cleaned_highlights/ManchesterCityvLeicesterCity_scene_15.mp4.\n",
      "MoviePy - Writing audio in ManchesterCityvLeicesterCity_scene_15TEMP_MPY_wvf_snd.mp3\n"
     ]
    },
    {
     "name": "stderr",
     "output_type": "stream",
     "text": [
      "                                                                                \r"
     ]
    },
    {
     "name": "stdout",
     "output_type": "stream",
     "text": [
      "MoviePy - Done.\n",
      "Moviepy - Writing video /Users/idotzhori/Desktop/autoencoderlight/cleaned_highlights/ManchesterCityvLeicesterCity_scene_15.mp4\n",
      "\n"
     ]
    },
    {
     "name": "stderr",
     "output_type": "stream",
     "text": [
      "                                                                                \r"
     ]
    },
    {
     "name": "stdout",
     "output_type": "stream",
     "text": [
      "Moviepy - Done !\n",
      "Moviepy - video ready /Users/idotzhori/Desktop/autoencoderlight/cleaned_highlights/ManchesterCityvLeicesterCity_scene_15.mp4\n",
      "Moviepy - Building video /Users/idotzhori/Desktop/autoencoderlight/cleaned_highlights/BrightonvWestHamUnited_scene_12.mp4.\n",
      "MoviePy - Writing audio in BrightonvWestHamUnited_scene_12TEMP_MPY_wvf_snd.mp3\n"
     ]
    },
    {
     "name": "stderr",
     "output_type": "stream",
     "text": [
      "                                                                                \r"
     ]
    },
    {
     "name": "stdout",
     "output_type": "stream",
     "text": [
      "MoviePy - Done.\n",
      "Moviepy - Writing video /Users/idotzhori/Desktop/autoencoderlight/cleaned_highlights/BrightonvWestHamUnited_scene_12.mp4\n",
      "\n"
     ]
    },
    {
     "name": "stderr",
     "output_type": "stream",
     "text": [
      "                                                                                \r"
     ]
    },
    {
     "name": "stdout",
     "output_type": "stream",
     "text": [
      "Moviepy - Done !\n",
      "Moviepy - video ready /Users/idotzhori/Desktop/autoencoderlight/cleaned_highlights/BrightonvWestHamUnited_scene_12.mp4\n",
      "Moviepy - Building video /Users/idotzhori/Desktop/autoencoderlight/cleaned_highlights/LeedsUnitedvManchesterUnited_scene_14.mp4.\n",
      "MoviePy - Writing audio in LeedsUnitedvManchesterUnited_scene_14TEMP_MPY_wvf_snd.mp3\n"
     ]
    },
    {
     "name": "stderr",
     "output_type": "stream",
     "text": [
      "                                                                                \r"
     ]
    },
    {
     "name": "stdout",
     "output_type": "stream",
     "text": [
      "MoviePy - Done.\n",
      "Moviepy - Writing video /Users/idotzhori/Desktop/autoencoderlight/cleaned_highlights/LeedsUnitedvManchesterUnited_scene_14.mp4\n",
      "\n"
     ]
    },
    {
     "name": "stderr",
     "output_type": "stream",
     "text": [
      "                                                                                \r"
     ]
    },
    {
     "name": "stdout",
     "output_type": "stream",
     "text": [
      "Moviepy - Done !\n",
      "Moviepy - video ready /Users/idotzhori/Desktop/autoencoderlight/cleaned_highlights/LeedsUnitedvManchesterUnited_scene_14.mp4\n",
      "Moviepy - Building video /Users/idotzhori/Desktop/autoencoderlight/cleaned_highlights/ManchesterUnitedvAstonVilla_scene_10.mp4.\n",
      "MoviePy - Writing audio in ManchesterUnitedvAstonVilla_scene_10TEMP_MPY_wvf_snd.mp3\n"
     ]
    },
    {
     "name": "stderr",
     "output_type": "stream",
     "text": [
      "                                                                                \r"
     ]
    },
    {
     "name": "stdout",
     "output_type": "stream",
     "text": [
      "MoviePy - Done.\n",
      "Moviepy - Writing video /Users/idotzhori/Desktop/autoencoderlight/cleaned_highlights/ManchesterUnitedvAstonVilla_scene_10.mp4\n",
      "\n"
     ]
    },
    {
     "name": "stderr",
     "output_type": "stream",
     "text": [
      "                                                                                \r"
     ]
    },
    {
     "name": "stdout",
     "output_type": "stream",
     "text": [
      "Moviepy - Done !\n",
      "Moviepy - video ready /Users/idotzhori/Desktop/autoencoderlight/cleaned_highlights/ManchesterUnitedvAstonVilla_scene_10.mp4\n",
      "Moviepy - Building video /Users/idotzhori/Desktop/autoencoderlight/cleaned_highlights/TottenhamHotspurvBournemouth_scene_10.mp4.\n",
      "MoviePy - Writing audio in TottenhamHotspurvBournemouth_scene_10TEMP_MPY_wvf_snd.mp3\n"
     ]
    },
    {
     "name": "stderr",
     "output_type": "stream",
     "text": [
      "                                                                                \r"
     ]
    },
    {
     "name": "stdout",
     "output_type": "stream",
     "text": [
      "MoviePy - Done.\n",
      "Moviepy - Writing video /Users/idotzhori/Desktop/autoencoderlight/cleaned_highlights/TottenhamHotspurvBournemouth_scene_10.mp4\n",
      "\n"
     ]
    },
    {
     "name": "stderr",
     "output_type": "stream",
     "text": [
      "                                                                                \r"
     ]
    },
    {
     "name": "stdout",
     "output_type": "stream",
     "text": [
      "Moviepy - Done !\n",
      "Moviepy - video ready /Users/idotzhori/Desktop/autoencoderlight/cleaned_highlights/TottenhamHotspurvBournemouth_scene_10.mp4\n",
      "Moviepy - Building video /Users/idotzhori/Desktop/autoencoderlight/cleaned_highlights/WestHamUnitedvLeedsUnited_scene_11.mp4.\n",
      "MoviePy - Writing audio in WestHamUnitedvLeedsUnited_scene_11TEMP_MPY_wvf_snd.mp3\n"
     ]
    },
    {
     "name": "stderr",
     "output_type": "stream",
     "text": [
      "                                                                                \r"
     ]
    },
    {
     "name": "stdout",
     "output_type": "stream",
     "text": [
      "MoviePy - Done.\n",
      "Moviepy - Writing video /Users/idotzhori/Desktop/autoencoderlight/cleaned_highlights/WestHamUnitedvLeedsUnited_scene_11.mp4\n",
      "\n"
     ]
    },
    {
     "name": "stderr",
     "output_type": "stream",
     "text": [
      "                                                                                \r"
     ]
    },
    {
     "name": "stdout",
     "output_type": "stream",
     "text": [
      "Moviepy - Done !\n",
      "Moviepy - video ready /Users/idotzhori/Desktop/autoencoderlight/cleaned_highlights/WestHamUnitedvLeedsUnited_scene_11.mp4\n",
      "Moviepy - Building video /Users/idotzhori/Desktop/autoencoderlight/cleaned_highlights/BrentfordvNewcastleUnited_scene_6.mp4.\n",
      "MoviePy - Writing audio in BrentfordvNewcastleUnited_scene_6TEMP_MPY_wvf_snd.mp3\n"
     ]
    },
    {
     "name": "stderr",
     "output_type": "stream",
     "text": [
      "                                                                                \r"
     ]
    },
    {
     "name": "stdout",
     "output_type": "stream",
     "text": [
      "MoviePy - Done.\n",
      "Moviepy - Writing video /Users/idotzhori/Desktop/autoencoderlight/cleaned_highlights/BrentfordvNewcastleUnited_scene_6.mp4\n",
      "\n"
     ]
    },
    {
     "name": "stderr",
     "output_type": "stream",
     "text": [
      "                                                                                \r"
     ]
    },
    {
     "name": "stdout",
     "output_type": "stream",
     "text": [
      "Moviepy - Done !\n",
      "Moviepy - video ready /Users/idotzhori/Desktop/autoencoderlight/cleaned_highlights/BrentfordvNewcastleUnited_scene_6.mp4\n",
      "Moviepy - Building video /Users/idotzhori/Desktop/autoencoderlight/cleaned_highlights/TottenhamHotspurvBournemouth_scene_21.mp4.\n",
      "MoviePy - Writing audio in TottenhamHotspurvBournemouth_scene_21TEMP_MPY_wvf_snd.mp3\n"
     ]
    },
    {
     "name": "stderr",
     "output_type": "stream",
     "text": [
      "                                                                                \r"
     ]
    },
    {
     "name": "stdout",
     "output_type": "stream",
     "text": [
      "MoviePy - Done.\n",
      "Moviepy - Writing video /Users/idotzhori/Desktop/autoencoderlight/cleaned_highlights/TottenhamHotspurvBournemouth_scene_21.mp4\n",
      "\n"
     ]
    },
    {
     "name": "stderr",
     "output_type": "stream",
     "text": [
      "                                                                                \r"
     ]
    },
    {
     "name": "stdout",
     "output_type": "stream",
     "text": [
      "Moviepy - Done !\n",
      "Moviepy - video ready /Users/idotzhori/Desktop/autoencoderlight/cleaned_highlights/TottenhamHotspurvBournemouth_scene_21.mp4\n",
      "Moviepy - Building video /Users/idotzhori/Desktop/autoencoderlight/cleaned_highlights/ManchesterUnitedvAstonVilla_scene_21.mp4.\n",
      "MoviePy - Writing audio in ManchesterUnitedvAstonVilla_scene_21TEMP_MPY_wvf_snd.mp3\n"
     ]
    },
    {
     "name": "stderr",
     "output_type": "stream",
     "text": [
      "                                                                                \r"
     ]
    },
    {
     "name": "stdout",
     "output_type": "stream",
     "text": [
      "MoviePy - Done.\n",
      "Moviepy - Writing video /Users/idotzhori/Desktop/autoencoderlight/cleaned_highlights/ManchesterUnitedvAstonVilla_scene_21.mp4\n",
      "\n"
     ]
    },
    {
     "name": "stderr",
     "output_type": "stream",
     "text": [
      "                                                                                \r"
     ]
    },
    {
     "name": "stdout",
     "output_type": "stream",
     "text": [
      "Moviepy - Done !\n",
      "Moviepy - video ready /Users/idotzhori/Desktop/autoencoderlight/cleaned_highlights/ManchesterUnitedvAstonVilla_scene_21.mp4\n",
      "Moviepy - Building video /Users/idotzhori/Desktop/autoencoderlight/cleaned_highlights/AstonVillavNottinghamForest_scene_7.mp4.\n",
      "MoviePy - Writing audio in AstonVillavNottinghamForest_scene_7TEMP_MPY_wvf_snd.mp3\n"
     ]
    },
    {
     "name": "stderr",
     "output_type": "stream",
     "text": [
      "                                                                                \r"
     ]
    },
    {
     "name": "stdout",
     "output_type": "stream",
     "text": [
      "MoviePy - Done.\n",
      "Moviepy - Writing video /Users/idotzhori/Desktop/autoencoderlight/cleaned_highlights/AstonVillavNottinghamForest_scene_7.mp4\n",
      "\n"
     ]
    },
    {
     "name": "stderr",
     "output_type": "stream",
     "text": [
      "                                                                                \r"
     ]
    },
    {
     "name": "stdout",
     "output_type": "stream",
     "text": [
      "Moviepy - Done !\n",
      "Moviepy - video ready /Users/idotzhori/Desktop/autoencoderlight/cleaned_highlights/AstonVillavNottinghamForest_scene_7.mp4\n",
      "Moviepy - Building video /Users/idotzhori/Desktop/autoencoderlight/cleaned_highlights/LeedsUnitedvManchesterUnited_scene_19.mp4.\n",
      "MoviePy - Writing audio in LeedsUnitedvManchesterUnited_scene_19TEMP_MPY_wvf_snd.mp3\n"
     ]
    },
    {
     "name": "stderr",
     "output_type": "stream",
     "text": [
      "                                                                                \r"
     ]
    },
    {
     "name": "stdout",
     "output_type": "stream",
     "text": [
      "MoviePy - Done.\n",
      "Moviepy - Writing video /Users/idotzhori/Desktop/autoencoderlight/cleaned_highlights/LeedsUnitedvManchesterUnited_scene_19.mp4\n",
      "\n"
     ]
    },
    {
     "name": "stderr",
     "output_type": "stream",
     "text": [
      "                                                                                \r"
     ]
    },
    {
     "name": "stdout",
     "output_type": "stream",
     "text": [
      "Moviepy - Done !\n",
      "Moviepy - video ready /Users/idotzhori/Desktop/autoencoderlight/cleaned_highlights/LeedsUnitedvManchesterUnited_scene_19.mp4\n",
      "Moviepy - Building video /Users/idotzhori/Desktop/autoencoderlight/cleaned_highlights/LeedsUnitedvNewcastleUnited_scene_19.mp4.\n",
      "MoviePy - Writing audio in LeedsUnitedvNewcastleUnited_scene_19TEMP_MPY_wvf_snd.mp3\n"
     ]
    },
    {
     "name": "stderr",
     "output_type": "stream",
     "text": [
      "                                                                                \r"
     ]
    },
    {
     "name": "stdout",
     "output_type": "stream",
     "text": [
      "MoviePy - Done.\n",
      "Moviepy - Writing video /Users/idotzhori/Desktop/autoencoderlight/cleaned_highlights/LeedsUnitedvNewcastleUnited_scene_19.mp4\n",
      "\n"
     ]
    },
    {
     "name": "stderr",
     "output_type": "stream",
     "text": [
      "                                                                                \r"
     ]
    },
    {
     "name": "stdout",
     "output_type": "stream",
     "text": [
      "Moviepy - Done !\n",
      "Moviepy - video ready /Users/idotzhori/Desktop/autoencoderlight/cleaned_highlights/LeedsUnitedvNewcastleUnited_scene_19.mp4\n",
      "Moviepy - Building video /Users/idotzhori/Desktop/autoencoderlight/cleaned_highlights/SouthamptonvLiverpool_scene_3.mp4.\n",
      "MoviePy - Writing audio in SouthamptonvLiverpool_scene_3TEMP_MPY_wvf_snd.mp3\n"
     ]
    },
    {
     "name": "stderr",
     "output_type": "stream",
     "text": [
      "                                                                                \r"
     ]
    },
    {
     "name": "stdout",
     "output_type": "stream",
     "text": [
      "MoviePy - Done.\n",
      "Moviepy - Writing video /Users/idotzhori/Desktop/autoencoderlight/cleaned_highlights/SouthamptonvLiverpool_scene_3.mp4\n",
      "\n"
     ]
    },
    {
     "name": "stderr",
     "output_type": "stream",
     "text": [
      "                                                                                \r"
     ]
    },
    {
     "name": "stdout",
     "output_type": "stream",
     "text": [
      "Moviepy - Done !\n",
      "Moviepy - video ready /Users/idotzhori/Desktop/autoencoderlight/cleaned_highlights/SouthamptonvLiverpool_scene_3.mp4\n",
      "Moviepy - Building video /Users/idotzhori/Desktop/autoencoderlight/cleaned_highlights/WestHamUnitedvAstonVilla_scene_9.mp4.\n",
      "MoviePy - Writing audio in WestHamUnitedvAstonVilla_scene_9TEMP_MPY_wvf_snd.mp3\n"
     ]
    },
    {
     "name": "stderr",
     "output_type": "stream",
     "text": [
      "                                                                                \r"
     ]
    },
    {
     "name": "stdout",
     "output_type": "stream",
     "text": [
      "MoviePy - Done.\n",
      "Moviepy - Writing video /Users/idotzhori/Desktop/autoencoderlight/cleaned_highlights/WestHamUnitedvAstonVilla_scene_9.mp4\n",
      "\n"
     ]
    },
    {
     "name": "stderr",
     "output_type": "stream",
     "text": [
      "                                                                                \r"
     ]
    },
    {
     "name": "stdout",
     "output_type": "stream",
     "text": [
      "Moviepy - Done !\n",
      "Moviepy - video ready /Users/idotzhori/Desktop/autoencoderlight/cleaned_highlights/WestHamUnitedvAstonVilla_scene_9.mp4\n",
      "Moviepy - Building video /Users/idotzhori/Desktop/autoencoderlight/cleaned_highlights/BrentfordvNewcastleUnited_scene_10.mp4.\n",
      "MoviePy - Writing audio in BrentfordvNewcastleUnited_scene_10TEMP_MPY_wvf_snd.mp3\n"
     ]
    },
    {
     "name": "stderr",
     "output_type": "stream",
     "text": [
      "                                                                                \r"
     ]
    },
    {
     "name": "stdout",
     "output_type": "stream",
     "text": [
      "MoviePy - Done.\n",
      "Moviepy - Writing video /Users/idotzhori/Desktop/autoencoderlight/cleaned_highlights/BrentfordvNewcastleUnited_scene_10.mp4\n",
      "\n"
     ]
    },
    {
     "name": "stderr",
     "output_type": "stream",
     "text": [
      "                                                                                \r"
     ]
    },
    {
     "name": "stdout",
     "output_type": "stream",
     "text": [
      "Moviepy - Done !\n",
      "Moviepy - video ready /Users/idotzhori/Desktop/autoencoderlight/cleaned_highlights/BrentfordvNewcastleUnited_scene_10.mp4\n",
      "Moviepy - Building video /Users/idotzhori/Desktop/autoencoderlight/cleaned_highlights/ManchesterUnitedvEverton_scene_8.mp4.\n",
      "MoviePy - Writing audio in ManchesterUnitedvEverton_scene_8TEMP_MPY_wvf_snd.mp3\n"
     ]
    },
    {
     "name": "stderr",
     "output_type": "stream",
     "text": [
      "                                                                                \r"
     ]
    },
    {
     "name": "stdout",
     "output_type": "stream",
     "text": [
      "MoviePy - Done.\n",
      "Moviepy - Writing video /Users/idotzhori/Desktop/autoencoderlight/cleaned_highlights/ManchesterUnitedvEverton_scene_8.mp4\n",
      "\n"
     ]
    },
    {
     "name": "stderr",
     "output_type": "stream",
     "text": [
      "                                                                                \r"
     ]
    },
    {
     "name": "stdout",
     "output_type": "stream",
     "text": [
      "Moviepy - Done !\n",
      "Moviepy - video ready /Users/idotzhori/Desktop/autoencoderlight/cleaned_highlights/ManchesterUnitedvEverton_scene_8.mp4\n",
      "Moviepy - Building video /Users/idotzhori/Desktop/autoencoderlight/cleaned_highlights/FulhamvWolves_scene_13.mp4.\n",
      "MoviePy - Writing audio in FulhamvWolves_scene_13TEMP_MPY_wvf_snd.mp3\n"
     ]
    },
    {
     "name": "stderr",
     "output_type": "stream",
     "text": [
      "                                                                                \r"
     ]
    },
    {
     "name": "stdout",
     "output_type": "stream",
     "text": [
      "MoviePy - Done.\n",
      "Moviepy - Writing video /Users/idotzhori/Desktop/autoencoderlight/cleaned_highlights/FulhamvWolves_scene_13.mp4\n",
      "\n"
     ]
    },
    {
     "name": "stderr",
     "output_type": "stream",
     "text": [
      "                                                                                \r"
     ]
    },
    {
     "name": "stdout",
     "output_type": "stream",
     "text": [
      "Moviepy - Done !\n",
      "Moviepy - video ready /Users/idotzhori/Desktop/autoencoderlight/cleaned_highlights/FulhamvWolves_scene_13.mp4\n",
      "Moviepy - Building video /Users/idotzhori/Desktop/autoencoderlight/cleaned_highlights/WestHamUnitedvArsenal_scene_11.mp4.\n",
      "MoviePy - Writing audio in WestHamUnitedvArsenal_scene_11TEMP_MPY_wvf_snd.mp3\n"
     ]
    },
    {
     "name": "stderr",
     "output_type": "stream",
     "text": [
      "                                                                                \r"
     ]
    },
    {
     "name": "stdout",
     "output_type": "stream",
     "text": [
      "MoviePy - Done.\n",
      "Moviepy - Writing video /Users/idotzhori/Desktop/autoencoderlight/cleaned_highlights/WestHamUnitedvArsenal_scene_11.mp4\n",
      "\n"
     ]
    },
    {
     "name": "stderr",
     "output_type": "stream",
     "text": [
      "                                                                                \r"
     ]
    },
    {
     "name": "stdout",
     "output_type": "stream",
     "text": [
      "Moviepy - Done !\n",
      "Moviepy - video ready /Users/idotzhori/Desktop/autoencoderlight/cleaned_highlights/WestHamUnitedvArsenal_scene_11.mp4\n",
      "Moviepy - Building video /Users/idotzhori/Desktop/autoencoderlight/cleaned_highlights/LeedsUnitedvSouthampton_scene_8.mp4.\n",
      "MoviePy - Writing audio in LeedsUnitedvSouthampton_scene_8TEMP_MPY_wvf_snd.mp3\n"
     ]
    },
    {
     "name": "stderr",
     "output_type": "stream",
     "text": [
      "                                                                                \r"
     ]
    },
    {
     "name": "stdout",
     "output_type": "stream",
     "text": [
      "MoviePy - Done.\n",
      "Moviepy - Writing video /Users/idotzhori/Desktop/autoencoderlight/cleaned_highlights/LeedsUnitedvSouthampton_scene_8.mp4\n",
      "\n"
     ]
    },
    {
     "name": "stderr",
     "output_type": "stream",
     "text": [
      "                                                                                \r"
     ]
    },
    {
     "name": "stdout",
     "output_type": "stream",
     "text": [
      "Moviepy - Done !\n",
      "Moviepy - video ready /Users/idotzhori/Desktop/autoencoderlight/cleaned_highlights/LeedsUnitedvSouthampton_scene_8.mp4\n",
      "Moviepy - Building video /Users/idotzhori/Desktop/autoencoderlight/cleaned_highlights/BrightonvFulham_scene_14.mp4.\n",
      "MoviePy - Writing audio in BrightonvFulham_scene_14TEMP_MPY_wvf_snd.mp3\n"
     ]
    },
    {
     "name": "stderr",
     "output_type": "stream",
     "text": [
      "                                                                                \r"
     ]
    },
    {
     "name": "stdout",
     "output_type": "stream",
     "text": [
      "MoviePy - Done.\n",
      "Moviepy - Writing video /Users/idotzhori/Desktop/autoencoderlight/cleaned_highlights/BrightonvFulham_scene_14.mp4\n",
      "\n"
     ]
    },
    {
     "name": "stderr",
     "output_type": "stream",
     "text": [
      "                                                                                \r"
     ]
    },
    {
     "name": "stdout",
     "output_type": "stream",
     "text": [
      "Moviepy - Done !\n",
      "Moviepy - video ready /Users/idotzhori/Desktop/autoencoderlight/cleaned_highlights/BrightonvFulham_scene_14.mp4\n",
      "Moviepy - Building video /Users/idotzhori/Desktop/autoencoderlight/cleaned_highlights/LiverpoolvFulham_scene_15.mp4.\n",
      "MoviePy - Writing audio in LiverpoolvFulham_scene_15TEMP_MPY_wvf_snd.mp3\n"
     ]
    },
    {
     "name": "stderr",
     "output_type": "stream",
     "text": [
      "                                                                                \r"
     ]
    },
    {
     "name": "stdout",
     "output_type": "stream",
     "text": [
      "MoviePy - Done.\n",
      "Moviepy - Writing video /Users/idotzhori/Desktop/autoencoderlight/cleaned_highlights/LiverpoolvFulham_scene_15.mp4\n",
      "\n"
     ]
    },
    {
     "name": "stderr",
     "output_type": "stream",
     "text": [
      "                                                                                \r"
     ]
    },
    {
     "name": "stdout",
     "output_type": "stream",
     "text": [
      "Moviepy - Done !\n",
      "Moviepy - video ready /Users/idotzhori/Desktop/autoencoderlight/cleaned_highlights/LiverpoolvFulham_scene_15.mp4\n",
      "Moviepy - Building video /Users/idotzhori/Desktop/autoencoderlight/cleaned_highlights/ManchesterCityvLeicesterCity_scene_19.mp4.\n",
      "MoviePy - Writing audio in ManchesterCityvLeicesterCity_scene_19TEMP_MPY_wvf_snd.mp3\n"
     ]
    },
    {
     "name": "stderr",
     "output_type": "stream",
     "text": [
      "                                                                                \r"
     ]
    },
    {
     "name": "stdout",
     "output_type": "stream",
     "text": [
      "MoviePy - Done.\n",
      "Moviepy - Writing video /Users/idotzhori/Desktop/autoencoderlight/cleaned_highlights/ManchesterCityvLeicesterCity_scene_19.mp4\n",
      "\n"
     ]
    },
    {
     "name": "stderr",
     "output_type": "stream",
     "text": [
      "                                                                                \r"
     ]
    },
    {
     "name": "stdout",
     "output_type": "stream",
     "text": [
      "Moviepy - Done !\n",
      "Moviepy - video ready /Users/idotzhori/Desktop/autoencoderlight/cleaned_highlights/ManchesterCityvLeicesterCity_scene_19.mp4\n",
      "Moviepy - Building video /Users/idotzhori/Desktop/autoencoderlight/cleaned_highlights/LeedsUnitedvManchesterUnited_scene_18.mp4.\n",
      "MoviePy - Writing audio in LeedsUnitedvManchesterUnited_scene_18TEMP_MPY_wvf_snd.mp3\n"
     ]
    },
    {
     "name": "stderr",
     "output_type": "stream",
     "text": [
      "                                                                                \r"
     ]
    },
    {
     "name": "stdout",
     "output_type": "stream",
     "text": [
      "MoviePy - Done.\n",
      "Moviepy - Writing video /Users/idotzhori/Desktop/autoencoderlight/cleaned_highlights/LeedsUnitedvManchesterUnited_scene_18.mp4\n",
      "\n"
     ]
    },
    {
     "name": "stderr",
     "output_type": "stream",
     "text": [
      "                                                                                \r"
     ]
    },
    {
     "name": "stdout",
     "output_type": "stream",
     "text": [
      "Moviepy - Done !\n",
      "Moviepy - video ready /Users/idotzhori/Desktop/autoencoderlight/cleaned_highlights/LeedsUnitedvManchesterUnited_scene_18.mp4\n",
      "Moviepy - Building video /Users/idotzhori/Desktop/autoencoderlight/cleaned_highlights/ManchesterUnitedvLeicesterCity_scene_6.mp4.\n",
      "MoviePy - Writing audio in ManchesterUnitedvLeicesterCity_scene_6TEMP_MPY_wvf_snd.mp3\n"
     ]
    },
    {
     "name": "stderr",
     "output_type": "stream",
     "text": [
      "                                                                                \r"
     ]
    },
    {
     "name": "stdout",
     "output_type": "stream",
     "text": [
      "MoviePy - Done.\n",
      "Moviepy - Writing video /Users/idotzhori/Desktop/autoencoderlight/cleaned_highlights/ManchesterUnitedvLeicesterCity_scene_6.mp4\n",
      "\n"
     ]
    },
    {
     "name": "stderr",
     "output_type": "stream",
     "text": [
      "                                                                                \r"
     ]
    },
    {
     "name": "stdout",
     "output_type": "stream",
     "text": [
      "Moviepy - Done !\n",
      "Moviepy - video ready /Users/idotzhori/Desktop/autoencoderlight/cleaned_highlights/ManchesterUnitedvLeicesterCity_scene_6.mp4\n",
      "Moviepy - Building video /Users/idotzhori/Desktop/autoencoderlight/cleaned_highlights/LeedsUnitedvLeicesterCity_scene_8.mp4.\n",
      "MoviePy - Writing audio in LeedsUnitedvLeicesterCity_scene_8TEMP_MPY_wvf_snd.mp3\n"
     ]
    },
    {
     "name": "stderr",
     "output_type": "stream",
     "text": [
      "                                                                                \r"
     ]
    },
    {
     "name": "stdout",
     "output_type": "stream",
     "text": [
      "MoviePy - Done.\n",
      "Moviepy - Writing video /Users/idotzhori/Desktop/autoencoderlight/cleaned_highlights/LeedsUnitedvLeicesterCity_scene_8.mp4\n",
      "\n"
     ]
    },
    {
     "name": "stderr",
     "output_type": "stream",
     "text": [
      "                                                                                \r"
     ]
    },
    {
     "name": "stdout",
     "output_type": "stream",
     "text": [
      "Moviepy - Done !\n",
      "Moviepy - video ready /Users/idotzhori/Desktop/autoencoderlight/cleaned_highlights/LeedsUnitedvLeicesterCity_scene_8.mp4\n",
      "Moviepy - Building video /Users/idotzhori/Desktop/autoencoderlight/cleaned_highlights/ChelseavSouthampton_scene_7.mp4.\n",
      "MoviePy - Writing audio in ChelseavSouthampton_scene_7TEMP_MPY_wvf_snd.mp3\n"
     ]
    },
    {
     "name": "stderr",
     "output_type": "stream",
     "text": [
      "                                                                                \r"
     ]
    },
    {
     "name": "stdout",
     "output_type": "stream",
     "text": [
      "MoviePy - Done.\n",
      "Moviepy - Writing video /Users/idotzhori/Desktop/autoencoderlight/cleaned_highlights/ChelseavSouthampton_scene_7.mp4\n",
      "\n"
     ]
    },
    {
     "name": "stderr",
     "output_type": "stream",
     "text": [
      "                                                                                \r"
     ]
    },
    {
     "name": "stdout",
     "output_type": "stream",
     "text": [
      "Moviepy - Done !\n",
      "Moviepy - video ready /Users/idotzhori/Desktop/autoencoderlight/cleaned_highlights/ChelseavSouthampton_scene_7.mp4\n",
      "Moviepy - Building video /Users/idotzhori/Desktop/autoencoderlight/cleaned_highlights/FulhamvWestHamUnited_scene_6.mp4.\n",
      "MoviePy - Writing audio in FulhamvWestHamUnited_scene_6TEMP_MPY_wvf_snd.mp3\n"
     ]
    },
    {
     "name": "stderr",
     "output_type": "stream",
     "text": [
      "                                                                                \r"
     ]
    },
    {
     "name": "stdout",
     "output_type": "stream",
     "text": [
      "MoviePy - Done.\n",
      "Moviepy - Writing video /Users/idotzhori/Desktop/autoencoderlight/cleaned_highlights/FulhamvWestHamUnited_scene_6.mp4\n",
      "\n"
     ]
    },
    {
     "name": "stderr",
     "output_type": "stream",
     "text": [
      "                                                                                \r"
     ]
    },
    {
     "name": "stdout",
     "output_type": "stream",
     "text": [
      "Moviepy - Done !\n",
      "Moviepy - video ready /Users/idotzhori/Desktop/autoencoderlight/cleaned_highlights/FulhamvWestHamUnited_scene_6.mp4\n",
      "Moviepy - Building video /Users/idotzhori/Desktop/autoencoderlight/cleaned_highlights/NewcastleUnitedvBrighton_scene_1.mp4.\n",
      "MoviePy - Writing audio in NewcastleUnitedvBrighton_scene_1TEMP_MPY_wvf_snd.mp3\n"
     ]
    },
    {
     "name": "stderr",
     "output_type": "stream",
     "text": [
      "                                                                                \r"
     ]
    },
    {
     "name": "stdout",
     "output_type": "stream",
     "text": [
      "MoviePy - Done.\n",
      "Moviepy - Writing video /Users/idotzhori/Desktop/autoencoderlight/cleaned_highlights/NewcastleUnitedvBrighton_scene_1.mp4\n",
      "\n"
     ]
    },
    {
     "name": "stderr",
     "output_type": "stream",
     "text": [
      "                                                                                \r"
     ]
    },
    {
     "name": "stdout",
     "output_type": "stream",
     "text": [
      "Moviepy - Done !\n",
      "Moviepy - video ready /Users/idotzhori/Desktop/autoencoderlight/cleaned_highlights/NewcastleUnitedvBrighton_scene_1.mp4\n",
      "Moviepy - Building video /Users/idotzhori/Desktop/autoencoderlight/cleaned_highlights/NottinghamForestvNewcastle_scene_10.mp4.\n",
      "MoviePy - Writing audio in NottinghamForestvNewcastle_scene_10TEMP_MPY_wvf_snd.mp3\n"
     ]
    },
    {
     "name": "stderr",
     "output_type": "stream",
     "text": [
      "                                                                                \r"
     ]
    },
    {
     "name": "stdout",
     "output_type": "stream",
     "text": [
      "MoviePy - Done.\n",
      "Moviepy - Writing video /Users/idotzhori/Desktop/autoencoderlight/cleaned_highlights/NottinghamForestvNewcastle_scene_10.mp4\n",
      "\n"
     ]
    },
    {
     "name": "stderr",
     "output_type": "stream",
     "text": [
      "                                                                                \r"
     ]
    },
    {
     "name": "stdout",
     "output_type": "stream",
     "text": [
      "Moviepy - Done !\n",
      "Moviepy - video ready /Users/idotzhori/Desktop/autoencoderlight/cleaned_highlights/NottinghamForestvNewcastle_scene_10.mp4\n",
      "Moviepy - Building video /Users/idotzhori/Desktop/autoencoderlight/cleaned_highlights/LiverpoolvFulham_scene_17.mp4.\n",
      "MoviePy - Writing audio in LiverpoolvFulham_scene_17TEMP_MPY_wvf_snd.mp3\n"
     ]
    },
    {
     "name": "stderr",
     "output_type": "stream",
     "text": [
      "                                                                                \r"
     ]
    },
    {
     "name": "stdout",
     "output_type": "stream",
     "text": [
      "MoviePy - Done.\n",
      "Moviepy - Writing video /Users/idotzhori/Desktop/autoencoderlight/cleaned_highlights/LiverpoolvFulham_scene_17.mp4\n",
      "\n"
     ]
    },
    {
     "name": "stderr",
     "output_type": "stream",
     "text": [
      "                                                                                \r"
     ]
    },
    {
     "name": "stdout",
     "output_type": "stream",
     "text": [
      "Moviepy - Done !\n",
      "Moviepy - video ready /Users/idotzhori/Desktop/autoencoderlight/cleaned_highlights/LiverpoolvFulham_scene_17.mp4\n",
      "Moviepy - Building video /Users/idotzhori/Desktop/autoencoderlight/cleaned_highlights/ManchesterCityvLeicesterCity_scene_1.mp4.\n",
      "MoviePy - Writing audio in ManchesterCityvLeicesterCity_scene_1TEMP_MPY_wvf_snd.mp3\n"
     ]
    },
    {
     "name": "stderr",
     "output_type": "stream",
     "text": [
      "                                                                                \r"
     ]
    },
    {
     "name": "stdout",
     "output_type": "stream",
     "text": [
      "MoviePy - Done.\n",
      "Moviepy - Writing video /Users/idotzhori/Desktop/autoencoderlight/cleaned_highlights/ManchesterCityvLeicesterCity_scene_1.mp4\n",
      "\n"
     ]
    },
    {
     "name": "stderr",
     "output_type": "stream",
     "text": [
      "                                                                                \r"
     ]
    },
    {
     "name": "stdout",
     "output_type": "stream",
     "text": [
      "Moviepy - Done !\n",
      "Moviepy - video ready /Users/idotzhori/Desktop/autoencoderlight/cleaned_highlights/ManchesterCityvLeicesterCity_scene_1.mp4\n",
      "Moviepy - Building video /Users/idotzhori/Desktop/autoencoderlight/cleaned_highlights/WestHamUnitedvArsenal_scene_12.mp4.\n",
      "MoviePy - Writing audio in WestHamUnitedvArsenal_scene_12TEMP_MPY_wvf_snd.mp3\n"
     ]
    },
    {
     "name": "stderr",
     "output_type": "stream",
     "text": [
      "                                                                                \r"
     ]
    },
    {
     "name": "stdout",
     "output_type": "stream",
     "text": [
      "MoviePy - Done.\n",
      "Moviepy - Writing video /Users/idotzhori/Desktop/autoencoderlight/cleaned_highlights/WestHamUnitedvArsenal_scene_12.mp4\n",
      "\n"
     ]
    },
    {
     "name": "stderr",
     "output_type": "stream",
     "text": [
      "                                                                                \r"
     ]
    },
    {
     "name": "stdout",
     "output_type": "stream",
     "text": [
      "Moviepy - Done !\n",
      "Moviepy - video ready /Users/idotzhori/Desktop/autoencoderlight/cleaned_highlights/WestHamUnitedvArsenal_scene_12.mp4\n",
      "Moviepy - Building video /Users/idotzhori/Desktop/autoencoderlight/cleaned_highlights/BrentfordvNewcastleUnited_scene_12.mp4.\n",
      "MoviePy - Writing audio in BrentfordvNewcastleUnited_scene_12TEMP_MPY_wvf_snd.mp3\n"
     ]
    },
    {
     "name": "stderr",
     "output_type": "stream",
     "text": [
      "                                                                                \r"
     ]
    },
    {
     "name": "stdout",
     "output_type": "stream",
     "text": [
      "MoviePy - Done.\n",
      "Moviepy - Writing video /Users/idotzhori/Desktop/autoencoderlight/cleaned_highlights/BrentfordvNewcastleUnited_scene_12.mp4\n",
      "\n"
     ]
    },
    {
     "name": "stderr",
     "output_type": "stream",
     "text": [
      "                                                                                \r"
     ]
    },
    {
     "name": "stdout",
     "output_type": "stream",
     "text": [
      "Moviepy - Done !\n",
      "Moviepy - video ready /Users/idotzhori/Desktop/autoencoderlight/cleaned_highlights/BrentfordvNewcastleUnited_scene_12.mp4\n",
      "Moviepy - Building video /Users/idotzhori/Desktop/autoencoderlight/cleaned_highlights/ChelseavSouthampton_scene_13.mp4.\n",
      "MoviePy - Writing audio in ChelseavSouthampton_scene_13TEMP_MPY_wvf_snd.mp3\n"
     ]
    },
    {
     "name": "stderr",
     "output_type": "stream",
     "text": [
      "                                                                                \r"
     ]
    },
    {
     "name": "stdout",
     "output_type": "stream",
     "text": [
      "MoviePy - Done.\n",
      "Moviepy - Writing video /Users/idotzhori/Desktop/autoencoderlight/cleaned_highlights/ChelseavSouthampton_scene_13.mp4\n",
      "\n"
     ]
    },
    {
     "name": "stderr",
     "output_type": "stream",
     "text": [
      "                                                                                \r"
     ]
    },
    {
     "name": "stdout",
     "output_type": "stream",
     "text": [
      "Moviepy - Done !\n",
      "Moviepy - video ready /Users/idotzhori/Desktop/autoencoderlight/cleaned_highlights/ChelseavSouthampton_scene_13.mp4\n",
      "Moviepy - Building video /Users/idotzhori/Desktop/autoencoderlight/cleaned_highlights/LeedsUnitedvManchesterUnited_scene_27.mp4.\n",
      "MoviePy - Writing audio in LeedsUnitedvManchesterUnited_scene_27TEMP_MPY_wvf_snd.mp3\n"
     ]
    },
    {
     "name": "stderr",
     "output_type": "stream",
     "text": [
      "                                                                                \r"
     ]
    },
    {
     "name": "stdout",
     "output_type": "stream",
     "text": [
      "MoviePy - Done.\n",
      "Moviepy - Writing video /Users/idotzhori/Desktop/autoencoderlight/cleaned_highlights/LeedsUnitedvManchesterUnited_scene_27.mp4\n",
      "\n"
     ]
    },
    {
     "name": "stderr",
     "output_type": "stream",
     "text": [
      "                                                                                \r"
     ]
    },
    {
     "name": "stdout",
     "output_type": "stream",
     "text": [
      "Moviepy - Done !\n",
      "Moviepy - video ready /Users/idotzhori/Desktop/autoencoderlight/cleaned_highlights/LeedsUnitedvManchesterUnited_scene_27.mp4\n",
      "Moviepy - Building video /Users/idotzhori/Desktop/autoencoderlight/cleaned_highlights/LiverpoolvEverton_scene_8.mp4.\n",
      "MoviePy - Writing audio in LiverpoolvEverton_scene_8TEMP_MPY_wvf_snd.mp3\n"
     ]
    },
    {
     "name": "stderr",
     "output_type": "stream",
     "text": [
      "                                                                                \r"
     ]
    },
    {
     "name": "stdout",
     "output_type": "stream",
     "text": [
      "MoviePy - Done.\n",
      "Moviepy - Writing video /Users/idotzhori/Desktop/autoencoderlight/cleaned_highlights/LiverpoolvEverton_scene_8.mp4\n",
      "\n"
     ]
    },
    {
     "name": "stderr",
     "output_type": "stream",
     "text": [
      "                                                                                \r"
     ]
    },
    {
     "name": "stdout",
     "output_type": "stream",
     "text": [
      "Moviepy - Done !\n",
      "Moviepy - video ready /Users/idotzhori/Desktop/autoencoderlight/cleaned_highlights/LiverpoolvEverton_scene_8.mp4\n",
      "Moviepy - Building video /Users/idotzhori/Desktop/autoencoderlight/cleaned_highlights/ManchesterUnitedvAstonVilla_scene_23.mp4.\n",
      "MoviePy - Writing audio in ManchesterUnitedvAstonVilla_scene_23TEMP_MPY_wvf_snd.mp3\n"
     ]
    },
    {
     "name": "stderr",
     "output_type": "stream",
     "text": [
      "                                                                                \r"
     ]
    },
    {
     "name": "stdout",
     "output_type": "stream",
     "text": [
      "MoviePy - Done.\n",
      "Moviepy - Writing video /Users/idotzhori/Desktop/autoencoderlight/cleaned_highlights/ManchesterUnitedvAstonVilla_scene_23.mp4\n",
      "\n"
     ]
    },
    {
     "name": "stderr",
     "output_type": "stream",
     "text": [
      "                                                                                \r"
     ]
    },
    {
     "name": "stdout",
     "output_type": "stream",
     "text": [
      "Moviepy - Done !\n",
      "Moviepy - video ready /Users/idotzhori/Desktop/autoencoderlight/cleaned_highlights/ManchesterUnitedvAstonVilla_scene_23.mp4\n",
      "Moviepy - Building video /Users/idotzhori/Desktop/autoencoderlight/cleaned_highlights/NottinghamForestvBrighton_scene_15.mp4.\n",
      "MoviePy - Writing audio in NottinghamForestvBrighton_scene_15TEMP_MPY_wvf_snd.mp3\n"
     ]
    },
    {
     "name": "stderr",
     "output_type": "stream",
     "text": [
      "                                                                                \r"
     ]
    },
    {
     "name": "stdout",
     "output_type": "stream",
     "text": [
      "MoviePy - Done.\n",
      "Moviepy - Writing video /Users/idotzhori/Desktop/autoencoderlight/cleaned_highlights/NottinghamForestvBrighton_scene_15.mp4\n",
      "\n"
     ]
    },
    {
     "name": "stderr",
     "output_type": "stream",
     "text": [
      "                                                                                \r"
     ]
    },
    {
     "name": "stdout",
     "output_type": "stream",
     "text": [
      "Moviepy - Done !\n",
      "Moviepy - video ready /Users/idotzhori/Desktop/autoencoderlight/cleaned_highlights/NottinghamForestvBrighton_scene_15.mp4\n",
      "Moviepy - Building video /Users/idotzhori/Desktop/autoencoderlight/cleaned_highlights/BournemouthvFulham_scene_20.mp4.\n",
      "MoviePy - Writing audio in BournemouthvFulham_scene_20TEMP_MPY_wvf_snd.mp3\n"
     ]
    },
    {
     "name": "stderr",
     "output_type": "stream",
     "text": [
      "                                                                                \r"
     ]
    },
    {
     "name": "stdout",
     "output_type": "stream",
     "text": [
      "MoviePy - Done.\n",
      "Moviepy - Writing video /Users/idotzhori/Desktop/autoencoderlight/cleaned_highlights/BournemouthvFulham_scene_20.mp4\n",
      "\n"
     ]
    },
    {
     "name": "stderr",
     "output_type": "stream",
     "text": [
      "                                                                                \r"
     ]
    },
    {
     "name": "stdout",
     "output_type": "stream",
     "text": [
      "Moviepy - Done !\n",
      "Moviepy - video ready /Users/idotzhori/Desktop/autoencoderlight/cleaned_highlights/BournemouthvFulham_scene_20.mp4\n",
      "Moviepy - Building video /Users/idotzhori/Desktop/autoencoderlight/cleaned_highlights/LeedsUnitedvBrighton_scene_24.mp4.\n",
      "MoviePy - Writing audio in LeedsUnitedvBrighton_scene_24TEMP_MPY_wvf_snd.mp3\n"
     ]
    },
    {
     "name": "stderr",
     "output_type": "stream",
     "text": [
      "                                                                                \r"
     ]
    },
    {
     "name": "stdout",
     "output_type": "stream",
     "text": [
      "MoviePy - Done.\n",
      "Moviepy - Writing video /Users/idotzhori/Desktop/autoencoderlight/cleaned_highlights/LeedsUnitedvBrighton_scene_24.mp4\n",
      "\n"
     ]
    },
    {
     "name": "stderr",
     "output_type": "stream",
     "text": [
      "                                                                                \r"
     ]
    },
    {
     "name": "stdout",
     "output_type": "stream",
     "text": [
      "Moviepy - Done !\n",
      "Moviepy - video ready /Users/idotzhori/Desktop/autoencoderlight/cleaned_highlights/LeedsUnitedvBrighton_scene_24.mp4\n",
      "Moviepy - Building video /Users/idotzhori/Desktop/autoencoderlight/cleaned_highlights/NottinghamForestvBrighton_scene_1.mp4.\n",
      "MoviePy - Writing audio in NottinghamForestvBrighton_scene_1TEMP_MPY_wvf_snd.mp3\n"
     ]
    },
    {
     "name": "stderr",
     "output_type": "stream",
     "text": [
      "                                                                                \r"
     ]
    },
    {
     "name": "stdout",
     "output_type": "stream",
     "text": [
      "MoviePy - Done.\n",
      "Moviepy - Writing video /Users/idotzhori/Desktop/autoencoderlight/cleaned_highlights/NottinghamForestvBrighton_scene_1.mp4\n",
      "\n"
     ]
    },
    {
     "name": "stderr",
     "output_type": "stream",
     "text": [
      "                                                                                \r"
     ]
    },
    {
     "name": "stdout",
     "output_type": "stream",
     "text": [
      "Moviepy - Done !\n",
      "Moviepy - video ready /Users/idotzhori/Desktop/autoencoderlight/cleaned_highlights/NottinghamForestvBrighton_scene_1.mp4\n",
      "Moviepy - Building video /Users/idotzhori/Desktop/autoencoderlight/cleaned_highlights/LeedsUnitedvBrighton_scene_18.mp4.\n",
      "MoviePy - Writing audio in LeedsUnitedvBrighton_scene_18TEMP_MPY_wvf_snd.mp3\n"
     ]
    },
    {
     "name": "stderr",
     "output_type": "stream",
     "text": [
      "                                                                                \r"
     ]
    },
    {
     "name": "stdout",
     "output_type": "stream",
     "text": [
      "MoviePy - Done.\n",
      "Moviepy - Writing video /Users/idotzhori/Desktop/autoencoderlight/cleaned_highlights/LeedsUnitedvBrighton_scene_18.mp4\n",
      "\n"
     ]
    },
    {
     "name": "stderr",
     "output_type": "stream",
     "text": [
      "                                                                                \r"
     ]
    },
    {
     "name": "stdout",
     "output_type": "stream",
     "text": [
      "Moviepy - Done !\n",
      "Moviepy - video ready /Users/idotzhori/Desktop/autoencoderlight/cleaned_highlights/LeedsUnitedvBrighton_scene_18.mp4\n",
      "Moviepy - Building video /Users/idotzhori/Desktop/autoencoderlight/cleaned_highlights/CrystalPalacevLeicesterCity_scene_3.mp4.\n",
      "MoviePy - Writing audio in CrystalPalacevLeicesterCity_scene_3TEMP_MPY_wvf_snd.mp3\n"
     ]
    },
    {
     "name": "stderr",
     "output_type": "stream",
     "text": [
      "                                                                                \r"
     ]
    },
    {
     "name": "stdout",
     "output_type": "stream",
     "text": [
      "MoviePy - Done.\n",
      "Moviepy - Writing video /Users/idotzhori/Desktop/autoencoderlight/cleaned_highlights/CrystalPalacevLeicesterCity_scene_3.mp4\n",
      "\n"
     ]
    },
    {
     "name": "stderr",
     "output_type": "stream",
     "text": [
      "                                                                                \r"
     ]
    },
    {
     "name": "stdout",
     "output_type": "stream",
     "text": [
      "Moviepy - Done !\n",
      "Moviepy - video ready /Users/idotzhori/Desktop/autoencoderlight/cleaned_highlights/CrystalPalacevLeicesterCity_scene_3.mp4\n",
      "Moviepy - Building video /Users/idotzhori/Desktop/autoencoderlight/cleaned_highlights/BrentfordvNewcastleUnited_scene_4.mp4.\n",
      "MoviePy - Writing audio in BrentfordvNewcastleUnited_scene_4TEMP_MPY_wvf_snd.mp3\n"
     ]
    },
    {
     "name": "stderr",
     "output_type": "stream",
     "text": [
      "                                                                                \r"
     ]
    },
    {
     "name": "stdout",
     "output_type": "stream",
     "text": [
      "MoviePy - Done.\n",
      "Moviepy - Writing video /Users/idotzhori/Desktop/autoencoderlight/cleaned_highlights/BrentfordvNewcastleUnited_scene_4.mp4\n",
      "\n"
     ]
    },
    {
     "name": "stderr",
     "output_type": "stream",
     "text": [
      "                                                                                \r"
     ]
    },
    {
     "name": "stdout",
     "output_type": "stream",
     "text": [
      "Moviepy - Done !\n",
      "Moviepy - video ready /Users/idotzhori/Desktop/autoencoderlight/cleaned_highlights/BrentfordvNewcastleUnited_scene_4.mp4\n",
      "Moviepy - Building video /Users/idotzhori/Desktop/autoencoderlight/cleaned_highlights/WestHamUnitedvManchesterUnited_scene_19.mp4.\n",
      "MoviePy - Writing audio in WestHamUnitedvManchesterUnited_scene_19TEMP_MPY_wvf_snd.mp3\n"
     ]
    },
    {
     "name": "stderr",
     "output_type": "stream",
     "text": [
      "                                                                                \r"
     ]
    },
    {
     "name": "stdout",
     "output_type": "stream",
     "text": [
      "MoviePy - Done.\n",
      "Moviepy - Writing video /Users/idotzhori/Desktop/autoencoderlight/cleaned_highlights/WestHamUnitedvManchesterUnited_scene_19.mp4\n",
      "\n"
     ]
    },
    {
     "name": "stderr",
     "output_type": "stream",
     "text": [
      "                                                                                \r"
     ]
    },
    {
     "name": "stdout",
     "output_type": "stream",
     "text": [
      "Moviepy - Done !\n",
      "Moviepy - video ready /Users/idotzhori/Desktop/autoencoderlight/cleaned_highlights/WestHamUnitedvManchesterUnited_scene_19.mp4\n",
      "Moviepy - Building video /Users/idotzhori/Desktop/autoencoderlight/cleaned_highlights/BrightonvFulham_scene_2.mp4.\n",
      "MoviePy - Writing audio in BrightonvFulham_scene_2TEMP_MPY_wvf_snd.mp3\n"
     ]
    },
    {
     "name": "stderr",
     "output_type": "stream",
     "text": [
      "                                                                                \r"
     ]
    },
    {
     "name": "stdout",
     "output_type": "stream",
     "text": [
      "MoviePy - Done.\n",
      "Moviepy - Writing video /Users/idotzhori/Desktop/autoencoderlight/cleaned_highlights/BrightonvFulham_scene_2.mp4\n",
      "\n"
     ]
    },
    {
     "name": "stderr",
     "output_type": "stream",
     "text": [
      "                                                                                \r"
     ]
    },
    {
     "name": "stdout",
     "output_type": "stream",
     "text": [
      "Moviepy - Done !\n",
      "Moviepy - video ready /Users/idotzhori/Desktop/autoencoderlight/cleaned_highlights/BrightonvFulham_scene_2.mp4\n",
      "Moviepy - Building video /Users/idotzhori/Desktop/autoencoderlight/cleaned_highlights/LiverpoolvArsenal_scene_3.mp4.\n",
      "MoviePy - Writing audio in LiverpoolvArsenal_scene_3TEMP_MPY_wvf_snd.mp3\n"
     ]
    },
    {
     "name": "stderr",
     "output_type": "stream",
     "text": [
      "                                                                                \r"
     ]
    },
    {
     "name": "stdout",
     "output_type": "stream",
     "text": [
      "MoviePy - Done.\n",
      "Moviepy - Writing video /Users/idotzhori/Desktop/autoencoderlight/cleaned_highlights/LiverpoolvArsenal_scene_3.mp4\n",
      "\n"
     ]
    },
    {
     "name": "stderr",
     "output_type": "stream",
     "text": [
      "                                                                                \r"
     ]
    },
    {
     "name": "stdout",
     "output_type": "stream",
     "text": [
      "Moviepy - Done !\n",
      "Moviepy - video ready /Users/idotzhori/Desktop/autoencoderlight/cleaned_highlights/LiverpoolvArsenal_scene_3.mp4\n",
      "Moviepy - Building video /Users/idotzhori/Desktop/autoencoderlight/cleaned_highlights/NottinghamForestvBrighton_scene_5.mp4.\n",
      "MoviePy - Writing audio in NottinghamForestvBrighton_scene_5TEMP_MPY_wvf_snd.mp3\n"
     ]
    },
    {
     "name": "stderr",
     "output_type": "stream",
     "text": [
      "                                                                                \r"
     ]
    },
    {
     "name": "stdout",
     "output_type": "stream",
     "text": [
      "MoviePy - Done.\n",
      "Moviepy - Writing video /Users/idotzhori/Desktop/autoencoderlight/cleaned_highlights/NottinghamForestvBrighton_scene_5.mp4\n",
      "\n"
     ]
    },
    {
     "name": "stderr",
     "output_type": "stream",
     "text": [
      "                                                                                \r"
     ]
    },
    {
     "name": "stdout",
     "output_type": "stream",
     "text": [
      "Moviepy - Done !\n",
      "Moviepy - video ready /Users/idotzhori/Desktop/autoencoderlight/cleaned_highlights/NottinghamForestvBrighton_scene_5.mp4\n",
      "Moviepy - Building video /Users/idotzhori/Desktop/autoencoderlight/cleaned_highlights/ManchesterCityvArsenal_scene_28.mp4.\n",
      "MoviePy - Writing audio in ManchesterCityvArsenal_scene_28TEMP_MPY_wvf_snd.mp3\n"
     ]
    },
    {
     "name": "stderr",
     "output_type": "stream",
     "text": [
      "                                                                                \r"
     ]
    },
    {
     "name": "stdout",
     "output_type": "stream",
     "text": [
      "MoviePy - Done.\n",
      "Moviepy - Writing video /Users/idotzhori/Desktop/autoencoderlight/cleaned_highlights/ManchesterCityvArsenal_scene_28.mp4\n",
      "\n"
     ]
    },
    {
     "name": "stderr",
     "output_type": "stream",
     "text": [
      "                                                                                \r"
     ]
    },
    {
     "name": "stdout",
     "output_type": "stream",
     "text": [
      "Moviepy - Done !\n",
      "Moviepy - video ready /Users/idotzhori/Desktop/autoencoderlight/cleaned_highlights/ManchesterCityvArsenal_scene_28.mp4\n",
      "Moviepy - Building video /Users/idotzhori/Desktop/autoencoderlight/cleaned_highlights/BrightonvWestHamUnited_scene_19.mp4.\n",
      "MoviePy - Writing audio in BrightonvWestHamUnited_scene_19TEMP_MPY_wvf_snd.mp3\n"
     ]
    },
    {
     "name": "stderr",
     "output_type": "stream",
     "text": [
      "                                                                                \r"
     ]
    },
    {
     "name": "stdout",
     "output_type": "stream",
     "text": [
      "MoviePy - Done.\n",
      "Moviepy - Writing video /Users/idotzhori/Desktop/autoencoderlight/cleaned_highlights/BrightonvWestHamUnited_scene_19.mp4\n",
      "\n"
     ]
    },
    {
     "name": "stderr",
     "output_type": "stream",
     "text": [
      "                                                                                \r"
     ]
    },
    {
     "name": "stdout",
     "output_type": "stream",
     "text": [
      "Moviepy - Done !\n",
      "Moviepy - video ready /Users/idotzhori/Desktop/autoencoderlight/cleaned_highlights/BrightonvWestHamUnited_scene_19.mp4\n",
      "Moviepy - Building video /Users/idotzhori/Desktop/autoencoderlight/cleaned_highlights/NottinghamForestvManchesterCity_scene_10.mp4.\n",
      "MoviePy - Writing audio in NottinghamForestvManchesterCity_scene_10TEMP_MPY_wvf_snd.mp3\n"
     ]
    },
    {
     "name": "stderr",
     "output_type": "stream",
     "text": [
      "                                                                                \r"
     ]
    },
    {
     "name": "stdout",
     "output_type": "stream",
     "text": [
      "MoviePy - Done.\n",
      "Moviepy - Writing video /Users/idotzhori/Desktop/autoencoderlight/cleaned_highlights/NottinghamForestvManchesterCity_scene_10.mp4\n",
      "\n"
     ]
    },
    {
     "name": "stderr",
     "output_type": "stream",
     "text": [
      "                                                                                \r"
     ]
    },
    {
     "name": "stdout",
     "output_type": "stream",
     "text": [
      "Moviepy - Done !\n",
      "Moviepy - video ready /Users/idotzhori/Desktop/autoencoderlight/cleaned_highlights/NottinghamForestvManchesterCity_scene_10.mp4\n",
      "Moviepy - Building video /Users/idotzhori/Desktop/autoencoderlight/cleaned_highlights/NewcastleUnitedvLiverpool_scene_17.mp4.\n",
      "MoviePy - Writing audio in NewcastleUnitedvLiverpool_scene_17TEMP_MPY_wvf_snd.mp3\n"
     ]
    },
    {
     "name": "stderr",
     "output_type": "stream",
     "text": [
      "                                                                                \r"
     ]
    },
    {
     "name": "stdout",
     "output_type": "stream",
     "text": [
      "MoviePy - Done.\n",
      "Moviepy - Writing video /Users/idotzhori/Desktop/autoencoderlight/cleaned_highlights/NewcastleUnitedvLiverpool_scene_17.mp4\n",
      "\n"
     ]
    },
    {
     "name": "stderr",
     "output_type": "stream",
     "text": [
      "                                                                                \r"
     ]
    },
    {
     "name": "stdout",
     "output_type": "stream",
     "text": [
      "Moviepy - Done !\n",
      "Moviepy - video ready /Users/idotzhori/Desktop/autoencoderlight/cleaned_highlights/NewcastleUnitedvLiverpool_scene_17.mp4\n",
      "Moviepy - Building video /Users/idotzhori/Desktop/autoencoderlight/cleaned_highlights/ManchesterUnitedvBrentford_scene_5.mp4.\n",
      "MoviePy - Writing audio in ManchesterUnitedvBrentford_scene_5TEMP_MPY_wvf_snd.mp3\n"
     ]
    },
    {
     "name": "stderr",
     "output_type": "stream",
     "text": [
      "                                                                                \r"
     ]
    },
    {
     "name": "stdout",
     "output_type": "stream",
     "text": [
      "MoviePy - Done.\n",
      "Moviepy - Writing video /Users/idotzhori/Desktop/autoencoderlight/cleaned_highlights/ManchesterUnitedvBrentford_scene_5.mp4\n",
      "\n"
     ]
    },
    {
     "name": "stderr",
     "output_type": "stream",
     "text": [
      "                                                                                \r"
     ]
    },
    {
     "name": "stdout",
     "output_type": "stream",
     "text": [
      "Moviepy - Done !\n",
      "Moviepy - video ready /Users/idotzhori/Desktop/autoencoderlight/cleaned_highlights/ManchesterUnitedvBrentford_scene_5.mp4\n",
      "Moviepy - Building video /Users/idotzhori/Desktop/autoencoderlight/cleaned_highlights/FulhamvArsenal_scene_18.mp4.\n",
      "MoviePy - Writing audio in FulhamvArsenal_scene_18TEMP_MPY_wvf_snd.mp3\n"
     ]
    },
    {
     "name": "stderr",
     "output_type": "stream",
     "text": [
      "                                                                                \r"
     ]
    },
    {
     "name": "stdout",
     "output_type": "stream",
     "text": [
      "MoviePy - Done.\n",
      "Moviepy - Writing video /Users/idotzhori/Desktop/autoencoderlight/cleaned_highlights/FulhamvArsenal_scene_18.mp4\n",
      "\n"
     ]
    },
    {
     "name": "stderr",
     "output_type": "stream",
     "text": [
      "                                                                                \r"
     ]
    },
    {
     "name": "stdout",
     "output_type": "stream",
     "text": [
      "Moviepy - Done !\n",
      "Moviepy - video ready /Users/idotzhori/Desktop/autoencoderlight/cleaned_highlights/FulhamvArsenal_scene_18.mp4\n",
      "Moviepy - Building video /Users/idotzhori/Desktop/autoencoderlight/cleaned_highlights/LiverpoolvFulham_scene_13.mp4.\n",
      "MoviePy - Writing audio in LiverpoolvFulham_scene_13TEMP_MPY_wvf_snd.mp3\n"
     ]
    },
    {
     "name": "stderr",
     "output_type": "stream",
     "text": [
      "                                                                                \r"
     ]
    },
    {
     "name": "stdout",
     "output_type": "stream",
     "text": [
      "MoviePy - Done.\n",
      "Moviepy - Writing video /Users/idotzhori/Desktop/autoencoderlight/cleaned_highlights/LiverpoolvFulham_scene_13.mp4\n",
      "\n"
     ]
    },
    {
     "name": "stderr",
     "output_type": "stream",
     "text": [
      "                                                                                \r"
     ]
    },
    {
     "name": "stdout",
     "output_type": "stream",
     "text": [
      "Moviepy - Done !\n",
      "Moviepy - video ready /Users/idotzhori/Desktop/autoencoderlight/cleaned_highlights/LiverpoolvFulham_scene_13.mp4\n",
      "Moviepy - Building video /Users/idotzhori/Desktop/autoencoderlight/cleaned_highlights/BrentfordvNewcastleUnited_scene_17.mp4.\n",
      "MoviePy - Writing audio in BrentfordvNewcastleUnited_scene_17TEMP_MPY_wvf_snd.mp3\n"
     ]
    },
    {
     "name": "stderr",
     "output_type": "stream",
     "text": [
      "                                                                                \r"
     ]
    },
    {
     "name": "stdout",
     "output_type": "stream",
     "text": [
      "MoviePy - Done.\n",
      "Moviepy - Writing video /Users/idotzhori/Desktop/autoencoderlight/cleaned_highlights/BrentfordvNewcastleUnited_scene_17.mp4\n",
      "\n"
     ]
    },
    {
     "name": "stderr",
     "output_type": "stream",
     "text": [
      "                                                                                \r"
     ]
    },
    {
     "name": "stdout",
     "output_type": "stream",
     "text": [
      "Moviepy - Done !\n",
      "Moviepy - video ready /Users/idotzhori/Desktop/autoencoderlight/cleaned_highlights/BrentfordvNewcastleUnited_scene_17.mp4\n",
      "Moviepy - Building video /Users/idotzhori/Desktop/autoencoderlight/cleaned_highlights/NottinghamForestvNewcastle_scene_14.mp4.\n",
      "MoviePy - Writing audio in NottinghamForestvNewcastle_scene_14TEMP_MPY_wvf_snd.mp3\n"
     ]
    },
    {
     "name": "stderr",
     "output_type": "stream",
     "text": [
      "                                                                                \r"
     ]
    },
    {
     "name": "stdout",
     "output_type": "stream",
     "text": [
      "MoviePy - Done.\n",
      "Moviepy - Writing video /Users/idotzhori/Desktop/autoencoderlight/cleaned_highlights/NottinghamForestvNewcastle_scene_14.mp4\n",
      "\n"
     ]
    },
    {
     "name": "stderr",
     "output_type": "stream",
     "text": [
      "                                                                                \r"
     ]
    },
    {
     "name": "stdout",
     "output_type": "stream",
     "text": [
      "Moviepy - Done !\n",
      "Moviepy - video ready /Users/idotzhori/Desktop/autoencoderlight/cleaned_highlights/NottinghamForestvNewcastle_scene_14.mp4\n",
      "Moviepy - Building video /Users/idotzhori/Desktop/autoencoderlight/cleaned_highlights/NewcastleUnitedvBrighton_scene_5.mp4.\n",
      "MoviePy - Writing audio in NewcastleUnitedvBrighton_scene_5TEMP_MPY_wvf_snd.mp3\n"
     ]
    },
    {
     "name": "stderr",
     "output_type": "stream",
     "text": [
      "                                                                                \r"
     ]
    },
    {
     "name": "stdout",
     "output_type": "stream",
     "text": [
      "MoviePy - Done.\n",
      "Moviepy - Writing video /Users/idotzhori/Desktop/autoencoderlight/cleaned_highlights/NewcastleUnitedvBrighton_scene_5.mp4\n",
      "\n"
     ]
    },
    {
     "name": "stderr",
     "output_type": "stream",
     "text": [
      "                                                                                \r"
     ]
    },
    {
     "name": "stdout",
     "output_type": "stream",
     "text": [
      "Moviepy - Done !\n",
      "Moviepy - video ready /Users/idotzhori/Desktop/autoencoderlight/cleaned_highlights/NewcastleUnitedvBrighton_scene_5.mp4\n",
      "Moviepy - Building video /Users/idotzhori/Desktop/autoencoderlight/cleaned_highlights/ManchesterCityvArsenal_scene_15.mp4.\n",
      "MoviePy - Writing audio in ManchesterCityvArsenal_scene_15TEMP_MPY_wvf_snd.mp3\n"
     ]
    },
    {
     "name": "stderr",
     "output_type": "stream",
     "text": [
      "                                                                                \r"
     ]
    },
    {
     "name": "stdout",
     "output_type": "stream",
     "text": [
      "MoviePy - Done.\n",
      "Moviepy - Writing video /Users/idotzhori/Desktop/autoencoderlight/cleaned_highlights/ManchesterCityvArsenal_scene_15.mp4\n",
      "\n"
     ]
    },
    {
     "name": "stderr",
     "output_type": "stream",
     "text": [
      "                                                                                \r"
     ]
    },
    {
     "name": "stdout",
     "output_type": "stream",
     "text": [
      "Moviepy - Done !\n",
      "Moviepy - video ready /Users/idotzhori/Desktop/autoencoderlight/cleaned_highlights/ManchesterCityvArsenal_scene_15.mp4\n",
      "Moviepy - Building video /Users/idotzhori/Desktop/autoencoderlight/cleaned_highlights/LeedsUnitedvManchesterUnited_scene_22.mp4.\n",
      "MoviePy - Writing audio in LeedsUnitedvManchesterUnited_scene_22TEMP_MPY_wvf_snd.mp3\n"
     ]
    },
    {
     "name": "stderr",
     "output_type": "stream",
     "text": [
      "                                                                                \r"
     ]
    },
    {
     "name": "stdout",
     "output_type": "stream",
     "text": [
      "MoviePy - Done.\n",
      "Moviepy - Writing video /Users/idotzhori/Desktop/autoencoderlight/cleaned_highlights/LeedsUnitedvManchesterUnited_scene_22.mp4\n",
      "\n"
     ]
    },
    {
     "name": "stderr",
     "output_type": "stream",
     "text": [
      "                                                                                \r"
     ]
    },
    {
     "name": "stdout",
     "output_type": "stream",
     "text": [
      "Moviepy - Done !\n",
      "Moviepy - video ready /Users/idotzhori/Desktop/autoencoderlight/cleaned_highlights/LeedsUnitedvManchesterUnited_scene_22.mp4\n",
      "Moviepy - Building video /Users/idotzhori/Desktop/autoencoderlight/cleaned_highlights/ManchesterUnitedvLeicesterCity_scene_18.mp4.\n",
      "MoviePy - Writing audio in ManchesterUnitedvLeicesterCity_scene_18TEMP_MPY_wvf_snd.mp3\n"
     ]
    },
    {
     "name": "stderr",
     "output_type": "stream",
     "text": [
      "                                                                                \r"
     ]
    },
    {
     "name": "stdout",
     "output_type": "stream",
     "text": [
      "MoviePy - Done.\n",
      "Moviepy - Writing video /Users/idotzhori/Desktop/autoencoderlight/cleaned_highlights/ManchesterUnitedvLeicesterCity_scene_18.mp4\n",
      "\n"
     ]
    },
    {
     "name": "stderr",
     "output_type": "stream",
     "text": [
      "                                                                                \r"
     ]
    },
    {
     "name": "stdout",
     "output_type": "stream",
     "text": [
      "Moviepy - Done !\n",
      "Moviepy - video ready /Users/idotzhori/Desktop/autoencoderlight/cleaned_highlights/ManchesterUnitedvLeicesterCity_scene_18.mp4\n",
      "Moviepy - Building video /Users/idotzhori/Desktop/autoencoderlight/cleaned_highlights/BournemouthvFulham_scene_19.mp4.\n",
      "MoviePy - Writing audio in BournemouthvFulham_scene_19TEMP_MPY_wvf_snd.mp3\n"
     ]
    },
    {
     "name": "stderr",
     "output_type": "stream",
     "text": [
      "                                                                                \r"
     ]
    },
    {
     "name": "stdout",
     "output_type": "stream",
     "text": [
      "MoviePy - Done.\n",
      "Moviepy - Writing video /Users/idotzhori/Desktop/autoencoderlight/cleaned_highlights/BournemouthvFulham_scene_19.mp4\n",
      "\n"
     ]
    },
    {
     "name": "stderr",
     "output_type": "stream",
     "text": [
      "                                                                                \r"
     ]
    },
    {
     "name": "stdout",
     "output_type": "stream",
     "text": [
      "Moviepy - Done !\n",
      "Moviepy - video ready /Users/idotzhori/Desktop/autoencoderlight/cleaned_highlights/BournemouthvFulham_scene_19.mp4\n",
      "Moviepy - Building video /Users/idotzhori/Desktop/autoencoderlight/cleaned_highlights/NottinghamForestvBrighton_scene_4.mp4.\n",
      "MoviePy - Writing audio in NottinghamForestvBrighton_scene_4TEMP_MPY_wvf_snd.mp3\n"
     ]
    },
    {
     "name": "stderr",
     "output_type": "stream",
     "text": [
      "                                                                                \r"
     ]
    },
    {
     "name": "stdout",
     "output_type": "stream",
     "text": [
      "MoviePy - Done.\n",
      "Moviepy - Writing video /Users/idotzhori/Desktop/autoencoderlight/cleaned_highlights/NottinghamForestvBrighton_scene_4.mp4\n",
      "\n"
     ]
    },
    {
     "name": "stderr",
     "output_type": "stream",
     "text": [
      "                                                                                \r"
     ]
    },
    {
     "name": "stdout",
     "output_type": "stream",
     "text": [
      "Moviepy - Done !\n",
      "Moviepy - video ready /Users/idotzhori/Desktop/autoencoderlight/cleaned_highlights/NottinghamForestvBrighton_scene_4.mp4\n",
      "Moviepy - Building video /Users/idotzhori/Desktop/autoencoderlight/cleaned_highlights/TottenhamHotspurvBournemouth_scene_26.mp4.\n",
      "MoviePy - Writing audio in TottenhamHotspurvBournemouth_scene_26TEMP_MPY_wvf_snd.mp3\n"
     ]
    },
    {
     "name": "stderr",
     "output_type": "stream",
     "text": [
      "                                                                                \r"
     ]
    },
    {
     "name": "stdout",
     "output_type": "stream",
     "text": [
      "MoviePy - Done.\n",
      "Moviepy - Writing video /Users/idotzhori/Desktop/autoencoderlight/cleaned_highlights/TottenhamHotspurvBournemouth_scene_26.mp4\n",
      "\n"
     ]
    },
    {
     "name": "stderr",
     "output_type": "stream",
     "text": [
      "                                                                                \r"
     ]
    },
    {
     "name": "stdout",
     "output_type": "stream",
     "text": [
      "Moviepy - Done !\n",
      "Moviepy - video ready /Users/idotzhori/Desktop/autoencoderlight/cleaned_highlights/TottenhamHotspurvBournemouth_scene_26.mp4\n",
      "Moviepy - Building video /Users/idotzhori/Desktop/autoencoderlight/cleaned_highlights/BrightonvFulham_scene_7.mp4.\n",
      "MoviePy - Writing audio in BrightonvFulham_scene_7TEMP_MPY_wvf_snd.mp3\n"
     ]
    },
    {
     "name": "stderr",
     "output_type": "stream",
     "text": [
      "                                                                                \r"
     ]
    },
    {
     "name": "stdout",
     "output_type": "stream",
     "text": [
      "MoviePy - Done.\n",
      "Moviepy - Writing video /Users/idotzhori/Desktop/autoencoderlight/cleaned_highlights/BrightonvFulham_scene_7.mp4\n",
      "\n"
     ]
    },
    {
     "name": "stderr",
     "output_type": "stream",
     "text": [
      "                                                                                \r"
     ]
    },
    {
     "name": "stdout",
     "output_type": "stream",
     "text": [
      "Moviepy - Done !\n",
      "Moviepy - video ready /Users/idotzhori/Desktop/autoencoderlight/cleaned_highlights/BrightonvFulham_scene_7.mp4\n",
      "Moviepy - Building video /Users/idotzhori/Desktop/autoencoderlight/cleaned_highlights/LeedsUnitedvBrighton_scene_23.mp4.\n",
      "MoviePy - Writing audio in LeedsUnitedvBrighton_scene_23TEMP_MPY_wvf_snd.mp3\n"
     ]
    },
    {
     "name": "stderr",
     "output_type": "stream",
     "text": [
      "                                                                                \r"
     ]
    },
    {
     "name": "stdout",
     "output_type": "stream",
     "text": [
      "MoviePy - Done.\n",
      "Moviepy - Writing video /Users/idotzhori/Desktop/autoencoderlight/cleaned_highlights/LeedsUnitedvBrighton_scene_23.mp4\n",
      "\n"
     ]
    },
    {
     "name": "stderr",
     "output_type": "stream",
     "text": [
      "                                                                                \r"
     ]
    },
    {
     "name": "stdout",
     "output_type": "stream",
     "text": [
      "Moviepy - Done !\n",
      "Moviepy - video ready /Users/idotzhori/Desktop/autoencoderlight/cleaned_highlights/LeedsUnitedvBrighton_scene_23.mp4\n",
      "Moviepy - Building video /Users/idotzhori/Desktop/autoencoderlight/cleaned_highlights/NewcastleUnitedvLiverpool_scene_2.mp4.\n",
      "MoviePy - Writing audio in NewcastleUnitedvLiverpool_scene_2TEMP_MPY_wvf_snd.mp3\n"
     ]
    },
    {
     "name": "stderr",
     "output_type": "stream",
     "text": [
      "                                                                                \r"
     ]
    },
    {
     "name": "stdout",
     "output_type": "stream",
     "text": [
      "MoviePy - Done.\n",
      "Moviepy - Writing video /Users/idotzhori/Desktop/autoencoderlight/cleaned_highlights/NewcastleUnitedvLiverpool_scene_2.mp4\n",
      "\n"
     ]
    },
    {
     "name": "stderr",
     "output_type": "stream",
     "text": [
      "                                                                                \r"
     ]
    },
    {
     "name": "stdout",
     "output_type": "stream",
     "text": [
      "Moviepy - Done !\n",
      "Moviepy - video ready /Users/idotzhori/Desktop/autoencoderlight/cleaned_highlights/NewcastleUnitedvLiverpool_scene_2.mp4\n",
      "Moviepy - Building video /Users/idotzhori/Desktop/autoencoderlight/cleaned_highlights/ManchesterCityvLeicesterCity_scene_7.mp4.\n",
      "MoviePy - Writing audio in ManchesterCityvLeicesterCity_scene_7TEMP_MPY_wvf_snd.mp3\n"
     ]
    },
    {
     "name": "stderr",
     "output_type": "stream",
     "text": [
      "                                                                                \r"
     ]
    },
    {
     "name": "stdout",
     "output_type": "stream",
     "text": [
      "MoviePy - Done.\n",
      "Moviepy - Writing video /Users/idotzhori/Desktop/autoencoderlight/cleaned_highlights/ManchesterCityvLeicesterCity_scene_7.mp4\n",
      "\n"
     ]
    },
    {
     "name": "stderr",
     "output_type": "stream",
     "text": [
      "                                                                                \r"
     ]
    },
    {
     "name": "stdout",
     "output_type": "stream",
     "text": [
      "Moviepy - Done !\n",
      "Moviepy - video ready /Users/idotzhori/Desktop/autoencoderlight/cleaned_highlights/ManchesterCityvLeicesterCity_scene_7.mp4\n",
      "Moviepy - Building video /Users/idotzhori/Desktop/autoencoderlight/cleaned_highlights/TottenhamHotspurvBournemouth_scene_8.mp4.\n",
      "MoviePy - Writing audio in TottenhamHotspurvBournemouth_scene_8TEMP_MPY_wvf_snd.mp3\n"
     ]
    },
    {
     "name": "stderr",
     "output_type": "stream",
     "text": [
      "                                                                                \r"
     ]
    },
    {
     "name": "stdout",
     "output_type": "stream",
     "text": [
      "MoviePy - Done.\n",
      "Moviepy - Writing video /Users/idotzhori/Desktop/autoencoderlight/cleaned_highlights/TottenhamHotspurvBournemouth_scene_8.mp4\n",
      "\n"
     ]
    },
    {
     "name": "stderr",
     "output_type": "stream",
     "text": [
      "                                                                                \r"
     ]
    },
    {
     "name": "stdout",
     "output_type": "stream",
     "text": [
      "Moviepy - Done !\n",
      "Moviepy - video ready /Users/idotzhori/Desktop/autoencoderlight/cleaned_highlights/TottenhamHotspurvBournemouth_scene_8.mp4\n",
      "Moviepy - Building video /Users/idotzhori/Desktop/autoencoderlight/cleaned_highlights/CrystalPalacevManchesterCity_scene_3.mp4.\n",
      "MoviePy - Writing audio in CrystalPalacevManchesterCity_scene_3TEMP_MPY_wvf_snd.mp3\n"
     ]
    },
    {
     "name": "stderr",
     "output_type": "stream",
     "text": [
      "                                                                                \r"
     ]
    },
    {
     "name": "stdout",
     "output_type": "stream",
     "text": [
      "MoviePy - Done.\n",
      "Moviepy - Writing video /Users/idotzhori/Desktop/autoencoderlight/cleaned_highlights/CrystalPalacevManchesterCity_scene_3.mp4\n",
      "\n"
     ]
    },
    {
     "name": "stderr",
     "output_type": "stream",
     "text": [
      "                                                                                \r"
     ]
    },
    {
     "name": "stdout",
     "output_type": "stream",
     "text": [
      "Moviepy - Done !\n",
      "Moviepy - video ready /Users/idotzhori/Desktop/autoencoderlight/cleaned_highlights/CrystalPalacevManchesterCity_scene_3.mp4\n",
      "Moviepy - Building video /Users/idotzhori/Desktop/autoencoderlight/cleaned_highlights/LiverpoolvArsenal_scene_18.mp4.\n",
      "MoviePy - Writing audio in LiverpoolvArsenal_scene_18TEMP_MPY_wvf_snd.mp3\n"
     ]
    },
    {
     "name": "stderr",
     "output_type": "stream",
     "text": [
      "                                                                                \r"
     ]
    },
    {
     "name": "stdout",
     "output_type": "stream",
     "text": [
      "MoviePy - Done.\n",
      "Moviepy - Writing video /Users/idotzhori/Desktop/autoencoderlight/cleaned_highlights/LiverpoolvArsenal_scene_18.mp4\n",
      "\n"
     ]
    },
    {
     "name": "stderr",
     "output_type": "stream",
     "text": [
      "                                                                                \r"
     ]
    },
    {
     "name": "stdout",
     "output_type": "stream",
     "text": [
      "Moviepy - Done !\n",
      "Moviepy - video ready /Users/idotzhori/Desktop/autoencoderlight/cleaned_highlights/LiverpoolvArsenal_scene_18.mp4\n",
      "Moviepy - Building video /Users/idotzhori/Desktop/autoencoderlight/cleaned_highlights/LiverpoolvArsenal_scene_30.mp4.\n",
      "MoviePy - Writing audio in LiverpoolvArsenal_scene_30TEMP_MPY_wvf_snd.mp3\n"
     ]
    },
    {
     "name": "stderr",
     "output_type": "stream",
     "text": [
      "                                                                                \r"
     ]
    },
    {
     "name": "stdout",
     "output_type": "stream",
     "text": [
      "MoviePy - Done.\n",
      "Moviepy - Writing video /Users/idotzhori/Desktop/autoencoderlight/cleaned_highlights/LiverpoolvArsenal_scene_30.mp4\n",
      "\n"
     ]
    },
    {
     "name": "stderr",
     "output_type": "stream",
     "text": [
      "                                                                                \r"
     ]
    },
    {
     "name": "stdout",
     "output_type": "stream",
     "text": [
      "Moviepy - Done !\n",
      "Moviepy - video ready /Users/idotzhori/Desktop/autoencoderlight/cleaned_highlights/LiverpoolvArsenal_scene_30.mp4\n",
      "Moviepy - Building video /Users/idotzhori/Desktop/autoencoderlight/cleaned_highlights/LeedsUnitedvManchesterUnited_scene_21.mp4.\n",
      "MoviePy - Writing audio in LeedsUnitedvManchesterUnited_scene_21TEMP_MPY_wvf_snd.mp3\n"
     ]
    },
    {
     "name": "stderr",
     "output_type": "stream",
     "text": [
      "                                                                                \r"
     ]
    },
    {
     "name": "stdout",
     "output_type": "stream",
     "text": [
      "MoviePy - Done.\n",
      "Moviepy - Writing video /Users/idotzhori/Desktop/autoencoderlight/cleaned_highlights/LeedsUnitedvManchesterUnited_scene_21.mp4\n",
      "\n"
     ]
    },
    {
     "name": "stderr",
     "output_type": "stream",
     "text": [
      "                                                                                \r"
     ]
    },
    {
     "name": "stdout",
     "output_type": "stream",
     "text": [
      "Moviepy - Done !\n",
      "Moviepy - video ready /Users/idotzhori/Desktop/autoencoderlight/cleaned_highlights/LeedsUnitedvManchesterUnited_scene_21.mp4\n",
      "Moviepy - Building video /Users/idotzhori/Desktop/autoencoderlight/cleaned_highlights/AstonVillavNottinghamForest_scene_3.mp4.\n",
      "MoviePy - Writing audio in AstonVillavNottinghamForest_scene_3TEMP_MPY_wvf_snd.mp3\n"
     ]
    },
    {
     "name": "stderr",
     "output_type": "stream",
     "text": [
      "                                                                                \r"
     ]
    },
    {
     "name": "stdout",
     "output_type": "stream",
     "text": [
      "MoviePy - Done.\n",
      "Moviepy - Writing video /Users/idotzhori/Desktop/autoencoderlight/cleaned_highlights/AstonVillavNottinghamForest_scene_3.mp4\n",
      "\n"
     ]
    },
    {
     "name": "stderr",
     "output_type": "stream",
     "text": [
      "                                                                                \r"
     ]
    },
    {
     "name": "stdout",
     "output_type": "stream",
     "text": [
      "Moviepy - Done !\n",
      "Moviepy - video ready /Users/idotzhori/Desktop/autoencoderlight/cleaned_highlights/AstonVillavNottinghamForest_scene_3.mp4\n",
      "Moviepy - Building video /Users/idotzhori/Desktop/autoencoderlight/cleaned_highlights/BrightonvCrystalPalace_scene_8.mp4.\n",
      "MoviePy - Writing audio in BrightonvCrystalPalace_scene_8TEMP_MPY_wvf_snd.mp3\n"
     ]
    },
    {
     "name": "stderr",
     "output_type": "stream",
     "text": [
      "                                                                                \r"
     ]
    },
    {
     "name": "stdout",
     "output_type": "stream",
     "text": [
      "MoviePy - Done.\n",
      "Moviepy - Writing video /Users/idotzhori/Desktop/autoencoderlight/cleaned_highlights/BrightonvCrystalPalace_scene_8.mp4\n",
      "\n"
     ]
    },
    {
     "name": "stderr",
     "output_type": "stream",
     "text": [
      "                                                                                \r"
     ]
    },
    {
     "name": "stdout",
     "output_type": "stream",
     "text": [
      "Moviepy - Done !\n",
      "Moviepy - video ready /Users/idotzhori/Desktop/autoencoderlight/cleaned_highlights/BrightonvCrystalPalace_scene_8.mp4\n",
      "Moviepy - Building video /Users/idotzhori/Desktop/autoencoderlight/cleaned_highlights/BrentfordvNewcastleUnited_scene_2.mp4.\n",
      "MoviePy - Writing audio in BrentfordvNewcastleUnited_scene_2TEMP_MPY_wvf_snd.mp3\n"
     ]
    },
    {
     "name": "stderr",
     "output_type": "stream",
     "text": [
      "                                                                                \r"
     ]
    },
    {
     "name": "stdout",
     "output_type": "stream",
     "text": [
      "MoviePy - Done.\n",
      "Moviepy - Writing video /Users/idotzhori/Desktop/autoencoderlight/cleaned_highlights/BrentfordvNewcastleUnited_scene_2.mp4\n",
      "\n"
     ]
    },
    {
     "name": "stderr",
     "output_type": "stream",
     "text": [
      "                                                                                \r"
     ]
    },
    {
     "name": "stdout",
     "output_type": "stream",
     "text": [
      "Moviepy - Done !\n",
      "Moviepy - video ready /Users/idotzhori/Desktop/autoencoderlight/cleaned_highlights/BrentfordvNewcastleUnited_scene_2.mp4\n",
      "Moviepy - Building video /Users/idotzhori/Desktop/autoencoderlight/cleaned_highlights/NewcastleUnitedvLeicesterCity_scene_30.mp4.\n",
      "MoviePy - Writing audio in NewcastleUnitedvLeicesterCity_scene_30TEMP_MPY_wvf_snd.mp3\n"
     ]
    },
    {
     "name": "stderr",
     "output_type": "stream",
     "text": [
      "                                                                                \r"
     ]
    },
    {
     "name": "stdout",
     "output_type": "stream",
     "text": [
      "MoviePy - Done.\n",
      "Moviepy - Writing video /Users/idotzhori/Desktop/autoencoderlight/cleaned_highlights/NewcastleUnitedvLeicesterCity_scene_30.mp4\n",
      "\n"
     ]
    },
    {
     "name": "stderr",
     "output_type": "stream",
     "text": [
      "                                                                                \r"
     ]
    },
    {
     "name": "stdout",
     "output_type": "stream",
     "text": [
      "Moviepy - Done !\n",
      "Moviepy - video ready /Users/idotzhori/Desktop/autoencoderlight/cleaned_highlights/NewcastleUnitedvLeicesterCity_scene_30.mp4\n",
      "Moviepy - Building video /Users/idotzhori/Desktop/autoencoderlight/cleaned_highlights/NottinghamForestvNewcastle_scene_3.mp4.\n",
      "MoviePy - Writing audio in NottinghamForestvNewcastle_scene_3TEMP_MPY_wvf_snd.mp3\n"
     ]
    },
    {
     "name": "stderr",
     "output_type": "stream",
     "text": [
      "                                                                                \r"
     ]
    },
    {
     "name": "stdout",
     "output_type": "stream",
     "text": [
      "MoviePy - Done.\n",
      "Moviepy - Writing video /Users/idotzhori/Desktop/autoencoderlight/cleaned_highlights/NottinghamForestvNewcastle_scene_3.mp4\n",
      "\n"
     ]
    },
    {
     "name": "stderr",
     "output_type": "stream",
     "text": [
      "                                                                                \r"
     ]
    },
    {
     "name": "stdout",
     "output_type": "stream",
     "text": [
      "Moviepy - Done !\n",
      "Moviepy - video ready /Users/idotzhori/Desktop/autoencoderlight/cleaned_highlights/NottinghamForestvNewcastle_scene_3.mp4\n",
      "Moviepy - Building video /Users/idotzhori/Desktop/autoencoderlight/cleaned_highlights/FulhamvArsenal_scene_1.mp4.\n",
      "MoviePy - Writing audio in FulhamvArsenal_scene_1TEMP_MPY_wvf_snd.mp3\n"
     ]
    },
    {
     "name": "stderr",
     "output_type": "stream",
     "text": [
      "                                                                                \r"
     ]
    },
    {
     "name": "stdout",
     "output_type": "stream",
     "text": [
      "MoviePy - Done.\n",
      "Moviepy - Writing video /Users/idotzhori/Desktop/autoencoderlight/cleaned_highlights/FulhamvArsenal_scene_1.mp4\n",
      "\n"
     ]
    },
    {
     "name": "stderr",
     "output_type": "stream",
     "text": [
      "                                                                                \r"
     ]
    },
    {
     "name": "stdout",
     "output_type": "stream",
     "text": [
      "Moviepy - Done !\n",
      "Moviepy - video ready /Users/idotzhori/Desktop/autoencoderlight/cleaned_highlights/FulhamvArsenal_scene_1.mp4\n",
      "Moviepy - Building video /Users/idotzhori/Desktop/autoencoderlight/cleaned_highlights/EvertonvFulham_scene_2.mp4.\n",
      "MoviePy - Writing audio in EvertonvFulham_scene_2TEMP_MPY_wvf_snd.mp3\n"
     ]
    },
    {
     "name": "stderr",
     "output_type": "stream",
     "text": [
      "                                                                                \r"
     ]
    },
    {
     "name": "stdout",
     "output_type": "stream",
     "text": [
      "MoviePy - Done.\n",
      "Moviepy - Writing video /Users/idotzhori/Desktop/autoencoderlight/cleaned_highlights/EvertonvFulham_scene_2.mp4\n",
      "\n"
     ]
    },
    {
     "name": "stderr",
     "output_type": "stream",
     "text": [
      "                                                                                \r"
     ]
    },
    {
     "name": "stdout",
     "output_type": "stream",
     "text": [
      "Moviepy - Done !\n",
      "Moviepy - video ready /Users/idotzhori/Desktop/autoencoderlight/cleaned_highlights/EvertonvFulham_scene_2.mp4\n",
      "Moviepy - Building video /Users/idotzhori/Desktop/autoencoderlight/cleaned_highlights/FulhamvManchesterCity_scene_3.mp4.\n",
      "MoviePy - Writing audio in FulhamvManchesterCity_scene_3TEMP_MPY_wvf_snd.mp3\n"
     ]
    },
    {
     "name": "stderr",
     "output_type": "stream",
     "text": [
      "                                                                                \r"
     ]
    },
    {
     "name": "stdout",
     "output_type": "stream",
     "text": [
      "MoviePy - Done.\n",
      "Moviepy - Writing video /Users/idotzhori/Desktop/autoencoderlight/cleaned_highlights/FulhamvManchesterCity_scene_3.mp4\n",
      "\n"
     ]
    },
    {
     "name": "stderr",
     "output_type": "stream",
     "text": [
      "                                                                                \r"
     ]
    },
    {
     "name": "stdout",
     "output_type": "stream",
     "text": [
      "Moviepy - Done !\n",
      "Moviepy - video ready /Users/idotzhori/Desktop/autoencoderlight/cleaned_highlights/FulhamvManchesterCity_scene_3.mp4\n",
      "Moviepy - Building video /Users/idotzhori/Desktop/autoencoderlight/cleaned_highlights/TottenhamHotspurvNottinghamForest_scene_9.mp4.\n",
      "MoviePy - Writing audio in TottenhamHotspurvNottinghamForest_scene_9TEMP_MPY_wvf_snd.mp3\n"
     ]
    },
    {
     "name": "stderr",
     "output_type": "stream",
     "text": [
      "                                                                                \r"
     ]
    },
    {
     "name": "stdout",
     "output_type": "stream",
     "text": [
      "MoviePy - Done.\n",
      "Moviepy - Writing video /Users/idotzhori/Desktop/autoencoderlight/cleaned_highlights/TottenhamHotspurvNottinghamForest_scene_9.mp4\n",
      "\n"
     ]
    },
    {
     "name": "stderr",
     "output_type": "stream",
     "text": [
      "                                                                                \r"
     ]
    },
    {
     "name": "stdout",
     "output_type": "stream",
     "text": [
      "Moviepy - Done !\n",
      "Moviepy - video ready /Users/idotzhori/Desktop/autoencoderlight/cleaned_highlights/TottenhamHotspurvNottinghamForest_scene_9.mp4\n",
      "Moviepy - Building video /Users/idotzhori/Desktop/autoencoderlight/cleaned_highlights/EvertonvFulham_scene_11.mp4.\n",
      "MoviePy - Writing audio in EvertonvFulham_scene_11TEMP_MPY_wvf_snd.mp3\n"
     ]
    },
    {
     "name": "stderr",
     "output_type": "stream",
     "text": [
      "                                                                                \r"
     ]
    },
    {
     "name": "stdout",
     "output_type": "stream",
     "text": [
      "MoviePy - Done.\n",
      "Moviepy - Writing video /Users/idotzhori/Desktop/autoencoderlight/cleaned_highlights/EvertonvFulham_scene_11.mp4\n",
      "\n"
     ]
    },
    {
     "name": "stderr",
     "output_type": "stream",
     "text": [
      "                                                                                \r"
     ]
    },
    {
     "name": "stdout",
     "output_type": "stream",
     "text": [
      "Moviepy - Done !\n",
      "Moviepy - video ready /Users/idotzhori/Desktop/autoencoderlight/cleaned_highlights/EvertonvFulham_scene_11.mp4\n",
      "Moviepy - Building video /Users/idotzhori/Desktop/autoencoderlight/cleaned_highlights/BrightonvWolves_scene_16.mp4.\n",
      "MoviePy - Writing audio in BrightonvWolves_scene_16TEMP_MPY_wvf_snd.mp3\n"
     ]
    },
    {
     "name": "stderr",
     "output_type": "stream",
     "text": [
      "                                                                                \r"
     ]
    },
    {
     "name": "stdout",
     "output_type": "stream",
     "text": [
      "MoviePy - Done.\n",
      "Moviepy - Writing video /Users/idotzhori/Desktop/autoencoderlight/cleaned_highlights/BrightonvWolves_scene_16.mp4\n",
      "\n"
     ]
    },
    {
     "name": "stderr",
     "output_type": "stream",
     "text": [
      "                                                                                \r"
     ]
    },
    {
     "name": "stdout",
     "output_type": "stream",
     "text": [
      "Moviepy - Done !\n",
      "Moviepy - video ready /Users/idotzhori/Desktop/autoencoderlight/cleaned_highlights/BrightonvWolves_scene_16.mp4\n",
      "Moviepy - Building video /Users/idotzhori/Desktop/autoencoderlight/cleaned_highlights/EvertonvTottenhamHotspur_scene_14.mp4.\n",
      "MoviePy - Writing audio in EvertonvTottenhamHotspur_scene_14TEMP_MPY_wvf_snd.mp3\n"
     ]
    },
    {
     "name": "stderr",
     "output_type": "stream",
     "text": [
      "                                                                                \r"
     ]
    },
    {
     "name": "stdout",
     "output_type": "stream",
     "text": [
      "MoviePy - Done.\n",
      "Moviepy - Writing video /Users/idotzhori/Desktop/autoencoderlight/cleaned_highlights/EvertonvTottenhamHotspur_scene_14.mp4\n",
      "\n"
     ]
    },
    {
     "name": "stderr",
     "output_type": "stream",
     "text": [
      "                                                                                \r"
     ]
    },
    {
     "name": "stdout",
     "output_type": "stream",
     "text": [
      "Moviepy - Done !\n",
      "Moviepy - video ready /Users/idotzhori/Desktop/autoencoderlight/cleaned_highlights/EvertonvTottenhamHotspur_scene_14.mp4\n",
      "Moviepy - Building video /Users/idotzhori/Desktop/autoencoderlight/cleaned_highlights/ManchesterUnitedvChelsea_scene_5.mp4.\n",
      "MoviePy - Writing audio in ManchesterUnitedvChelsea_scene_5TEMP_MPY_wvf_snd.mp3\n"
     ]
    },
    {
     "name": "stderr",
     "output_type": "stream",
     "text": [
      "                                                                                \r"
     ]
    },
    {
     "name": "stdout",
     "output_type": "stream",
     "text": [
      "MoviePy - Done.\n",
      "Moviepy - Writing video /Users/idotzhori/Desktop/autoencoderlight/cleaned_highlights/ManchesterUnitedvChelsea_scene_5.mp4\n",
      "\n"
     ]
    },
    {
     "name": "stderr",
     "output_type": "stream",
     "text": [
      "                                                                                \r"
     ]
    },
    {
     "name": "stdout",
     "output_type": "stream",
     "text": [
      "Moviepy - Done !\n",
      "Moviepy - video ready /Users/idotzhori/Desktop/autoencoderlight/cleaned_highlights/ManchesterUnitedvChelsea_scene_5.mp4\n",
      "Moviepy - Building video /Users/idotzhori/Desktop/autoencoderlight/cleaned_highlights/ChelseavBrighton_scene_20.mp4.\n",
      "MoviePy - Writing audio in ChelseavBrighton_scene_20TEMP_MPY_wvf_snd.mp3\n"
     ]
    },
    {
     "name": "stderr",
     "output_type": "stream",
     "text": [
      "                                                                                \r"
     ]
    },
    {
     "name": "stdout",
     "output_type": "stream",
     "text": [
      "MoviePy - Done.\n",
      "Moviepy - Writing video /Users/idotzhori/Desktop/autoencoderlight/cleaned_highlights/ChelseavBrighton_scene_20.mp4\n",
      "\n"
     ]
    },
    {
     "name": "stderr",
     "output_type": "stream",
     "text": [
      "                                                                                \r"
     ]
    },
    {
     "name": "stdout",
     "output_type": "stream",
     "text": [
      "Moviepy - Done !\n",
      "Moviepy - video ready /Users/idotzhori/Desktop/autoencoderlight/cleaned_highlights/ChelseavBrighton_scene_20.mp4\n",
      "Moviepy - Building video /Users/idotzhori/Desktop/autoencoderlight/cleaned_highlights/EvertonvTottenhamHotspur_scene_15.mp4.\n",
      "MoviePy - Writing audio in EvertonvTottenhamHotspur_scene_15TEMP_MPY_wvf_snd.mp3\n"
     ]
    },
    {
     "name": "stderr",
     "output_type": "stream",
     "text": [
      "                                                                                \r"
     ]
    },
    {
     "name": "stdout",
     "output_type": "stream",
     "text": [
      "MoviePy - Done.\n",
      "Moviepy - Writing video /Users/idotzhori/Desktop/autoencoderlight/cleaned_highlights/EvertonvTottenhamHotspur_scene_15.mp4\n",
      "\n"
     ]
    },
    {
     "name": "stderr",
     "output_type": "stream",
     "text": [
      "                                                                                \r"
     ]
    },
    {
     "name": "stdout",
     "output_type": "stream",
     "text": [
      "Moviepy - Done !\n",
      "Moviepy - video ready /Users/idotzhori/Desktop/autoencoderlight/cleaned_highlights/EvertonvTottenhamHotspur_scene_15.mp4\n",
      "Moviepy - Building video /Users/idotzhori/Desktop/autoencoderlight/cleaned_highlights/LeedsUnitedvBrighton_scene_4.mp4.\n",
      "MoviePy - Writing audio in LeedsUnitedvBrighton_scene_4TEMP_MPY_wvf_snd.mp3\n"
     ]
    },
    {
     "name": "stderr",
     "output_type": "stream",
     "text": [
      "                                                                                \r"
     ]
    },
    {
     "name": "stdout",
     "output_type": "stream",
     "text": [
      "MoviePy - Done.\n",
      "Moviepy - Writing video /Users/idotzhori/Desktop/autoencoderlight/cleaned_highlights/LeedsUnitedvBrighton_scene_4.mp4\n",
      "\n"
     ]
    },
    {
     "name": "stderr",
     "output_type": "stream",
     "text": [
      "                                                                                \r"
     ]
    },
    {
     "name": "stdout",
     "output_type": "stream",
     "text": [
      "Moviepy - Done !\n",
      "Moviepy - video ready /Users/idotzhori/Desktop/autoencoderlight/cleaned_highlights/LeedsUnitedvBrighton_scene_4.mp4\n",
      "Moviepy - Building video /Users/idotzhori/Desktop/autoencoderlight/cleaned_highlights/EvertonvTottenhamHotspur_scene_29.mp4.\n",
      "MoviePy - Writing audio in EvertonvTottenhamHotspur_scene_29TEMP_MPY_wvf_snd.mp3\n"
     ]
    },
    {
     "name": "stderr",
     "output_type": "stream",
     "text": [
      "                                                                                \r"
     ]
    },
    {
     "name": "stdout",
     "output_type": "stream",
     "text": [
      "MoviePy - Done.\n",
      "Moviepy - Writing video /Users/idotzhori/Desktop/autoencoderlight/cleaned_highlights/EvertonvTottenhamHotspur_scene_29.mp4\n",
      "\n"
     ]
    },
    {
     "name": "stderr",
     "output_type": "stream",
     "text": [
      "                                                                                \r"
     ]
    },
    {
     "name": "stdout",
     "output_type": "stream",
     "text": [
      "Moviepy - Done !\n",
      "Moviepy - video ready /Users/idotzhori/Desktop/autoencoderlight/cleaned_highlights/EvertonvTottenhamHotspur_scene_29.mp4\n",
      "Moviepy - Building video /Users/idotzhori/Desktop/autoencoderlight/cleaned_highlights/TottenhamHotspurvNottinghamForest_scene_8.mp4.\n",
      "MoviePy - Writing audio in TottenhamHotspurvNottinghamForest_scene_8TEMP_MPY_wvf_snd.mp3\n"
     ]
    },
    {
     "name": "stderr",
     "output_type": "stream",
     "text": [
      "                                                                                \r"
     ]
    },
    {
     "name": "stdout",
     "output_type": "stream",
     "text": [
      "MoviePy - Done.\n",
      "Moviepy - Writing video /Users/idotzhori/Desktop/autoencoderlight/cleaned_highlights/TottenhamHotspurvNottinghamForest_scene_8.mp4\n",
      "\n"
     ]
    },
    {
     "name": "stderr",
     "output_type": "stream",
     "text": [
      "                                                                                \r"
     ]
    },
    {
     "name": "stdout",
     "output_type": "stream",
     "text": [
      "Moviepy - Done !\n",
      "Moviepy - video ready /Users/idotzhori/Desktop/autoencoderlight/cleaned_highlights/TottenhamHotspurvNottinghamForest_scene_8.mp4\n",
      "Moviepy - Building video /Users/idotzhori/Desktop/autoencoderlight/cleaned_highlights/SouthamptonvLiverpool_scene_16.mp4.\n",
      "MoviePy - Writing audio in SouthamptonvLiverpool_scene_16TEMP_MPY_wvf_snd.mp3\n"
     ]
    },
    {
     "name": "stderr",
     "output_type": "stream",
     "text": [
      "                                                                                \r"
     ]
    },
    {
     "name": "stdout",
     "output_type": "stream",
     "text": [
      "MoviePy - Done.\n",
      "Moviepy - Writing video /Users/idotzhori/Desktop/autoencoderlight/cleaned_highlights/SouthamptonvLiverpool_scene_16.mp4\n",
      "\n"
     ]
    },
    {
     "name": "stderr",
     "output_type": "stream",
     "text": [
      "                                                                                \r"
     ]
    },
    {
     "name": "stdout",
     "output_type": "stream",
     "text": [
      "Moviepy - Done !\n",
      "Moviepy - video ready /Users/idotzhori/Desktop/autoencoderlight/cleaned_highlights/SouthamptonvLiverpool_scene_16.mp4\n",
      "Moviepy - Building video /Users/idotzhori/Desktop/autoencoderlight/cleaned_highlights/ManchesterUnitedvFulham_scene_7.mp4.\n",
      "MoviePy - Writing audio in ManchesterUnitedvFulham_scene_7TEMP_MPY_wvf_snd.mp3\n"
     ]
    },
    {
     "name": "stderr",
     "output_type": "stream",
     "text": [
      "                                                                                \r"
     ]
    },
    {
     "name": "stdout",
     "output_type": "stream",
     "text": [
      "MoviePy - Done.\n",
      "Moviepy - Writing video /Users/idotzhori/Desktop/autoencoderlight/cleaned_highlights/ManchesterUnitedvFulham_scene_7.mp4\n",
      "\n"
     ]
    },
    {
     "name": "stderr",
     "output_type": "stream",
     "text": [
      "                                                                                \r"
     ]
    },
    {
     "name": "stdout",
     "output_type": "stream",
     "text": [
      "Moviepy - Done !\n",
      "Moviepy - video ready /Users/idotzhori/Desktop/autoencoderlight/cleaned_highlights/ManchesterUnitedvFulham_scene_7.mp4\n",
      "Moviepy - Building video /Users/idotzhori/Desktop/autoencoderlight/cleaned_highlights/LeicesterCityvAstonVilla_scene_16.mp4.\n",
      "MoviePy - Writing audio in LeicesterCityvAstonVilla_scene_16TEMP_MPY_wvf_snd.mp3\n"
     ]
    },
    {
     "name": "stderr",
     "output_type": "stream",
     "text": [
      "                                                                                \r"
     ]
    },
    {
     "name": "stdout",
     "output_type": "stream",
     "text": [
      "MoviePy - Done.\n",
      "Moviepy - Writing video /Users/idotzhori/Desktop/autoencoderlight/cleaned_highlights/LeicesterCityvAstonVilla_scene_16.mp4\n",
      "\n"
     ]
    },
    {
     "name": "stderr",
     "output_type": "stream",
     "text": [
      "                                                                                \r"
     ]
    },
    {
     "name": "stdout",
     "output_type": "stream",
     "text": [
      "Moviepy - Done !\n",
      "Moviepy - video ready /Users/idotzhori/Desktop/autoencoderlight/cleaned_highlights/LeicesterCityvAstonVilla_scene_16.mp4\n",
      "Moviepy - Building video /Users/idotzhori/Desktop/autoencoderlight/cleaned_highlights/LeedsUnitedvManchesterUnited_scene_5.mp4.\n",
      "MoviePy - Writing audio in LeedsUnitedvManchesterUnited_scene_5TEMP_MPY_wvf_snd.mp3\n"
     ]
    },
    {
     "name": "stderr",
     "output_type": "stream",
     "text": [
      "                                                                                \r"
     ]
    },
    {
     "name": "stdout",
     "output_type": "stream",
     "text": [
      "MoviePy - Done.\n",
      "Moviepy - Writing video /Users/idotzhori/Desktop/autoencoderlight/cleaned_highlights/LeedsUnitedvManchesterUnited_scene_5.mp4\n",
      "\n"
     ]
    },
    {
     "name": "stderr",
     "output_type": "stream",
     "text": [
      "                                                                                \r"
     ]
    },
    {
     "name": "stdout",
     "output_type": "stream",
     "text": [
      "Moviepy - Done !\n",
      "Moviepy - video ready /Users/idotzhori/Desktop/autoencoderlight/cleaned_highlights/LeedsUnitedvManchesterUnited_scene_5.mp4\n",
      "Moviepy - Building video /Users/idotzhori/Desktop/autoencoderlight/cleaned_highlights/NewcastleUnitedvBrighton_scene_18.mp4.\n",
      "MoviePy - Writing audio in NewcastleUnitedvBrighton_scene_18TEMP_MPY_wvf_snd.mp3\n"
     ]
    },
    {
     "name": "stderr",
     "output_type": "stream",
     "text": [
      "                                                                                \r"
     ]
    },
    {
     "name": "stdout",
     "output_type": "stream",
     "text": [
      "MoviePy - Done.\n",
      "Moviepy - Writing video /Users/idotzhori/Desktop/autoencoderlight/cleaned_highlights/NewcastleUnitedvBrighton_scene_18.mp4\n",
      "\n"
     ]
    },
    {
     "name": "stderr",
     "output_type": "stream",
     "text": [
      "                                                                                \r"
     ]
    },
    {
     "name": "stdout",
     "output_type": "stream",
     "text": [
      "Moviepy - Done !\n",
      "Moviepy - video ready /Users/idotzhori/Desktop/autoencoderlight/cleaned_highlights/NewcastleUnitedvBrighton_scene_18.mp4\n",
      "Moviepy - Building video /Users/idotzhori/Desktop/autoencoderlight/cleaned_highlights/TottenhamHotspurvNottinghamForest_scene_10.mp4.\n",
      "MoviePy - Writing audio in TottenhamHotspurvNottinghamForest_scene_10TEMP_MPY_wvf_snd.mp3\n"
     ]
    },
    {
     "name": "stderr",
     "output_type": "stream",
     "text": [
      "                                                                                \r"
     ]
    },
    {
     "name": "stdout",
     "output_type": "stream",
     "text": [
      "MoviePy - Done.\n",
      "Moviepy - Writing video /Users/idotzhori/Desktop/autoencoderlight/cleaned_highlights/TottenhamHotspurvNottinghamForest_scene_10.mp4\n",
      "\n"
     ]
    },
    {
     "name": "stderr",
     "output_type": "stream",
     "text": [
      "                                                                                \r"
     ]
    },
    {
     "name": "stdout",
     "output_type": "stream",
     "text": [
      "Moviepy - Done !\n",
      "Moviepy - video ready /Users/idotzhori/Desktop/autoencoderlight/cleaned_highlights/TottenhamHotspurvNottinghamForest_scene_10.mp4\n",
      "Moviepy - Building video /Users/idotzhori/Desktop/autoencoderlight/cleaned_highlights/CrystalPalacevLeicesterCity_scene_18.mp4.\n",
      "MoviePy - Writing audio in CrystalPalacevLeicesterCity_scene_18TEMP_MPY_wvf_snd.mp3\n"
     ]
    },
    {
     "name": "stderr",
     "output_type": "stream",
     "text": [
      "                                                                                \r"
     ]
    },
    {
     "name": "stdout",
     "output_type": "stream",
     "text": [
      "MoviePy - Done.\n",
      "Moviepy - Writing video /Users/idotzhori/Desktop/autoencoderlight/cleaned_highlights/CrystalPalacevLeicesterCity_scene_18.mp4\n",
      "\n"
     ]
    },
    {
     "name": "stderr",
     "output_type": "stream",
     "text": [
      "                                                                                \r"
     ]
    },
    {
     "name": "stdout",
     "output_type": "stream",
     "text": [
      "Moviepy - Done !\n",
      "Moviepy - video ready /Users/idotzhori/Desktop/autoencoderlight/cleaned_highlights/CrystalPalacevLeicesterCity_scene_18.mp4\n",
      "Moviepy - Building video /Users/idotzhori/Desktop/autoencoderlight/cleaned_highlights/ChelseavNottinghamForest_scene_19.mp4.\n",
      "MoviePy - Writing audio in ChelseavNottinghamForest_scene_19TEMP_MPY_wvf_snd.mp3\n"
     ]
    },
    {
     "name": "stderr",
     "output_type": "stream",
     "text": [
      "                                                                                \r"
     ]
    },
    {
     "name": "stdout",
     "output_type": "stream",
     "text": [
      "MoviePy - Done.\n",
      "Moviepy - Writing video /Users/idotzhori/Desktop/autoencoderlight/cleaned_highlights/ChelseavNottinghamForest_scene_19.mp4\n",
      "\n"
     ]
    },
    {
     "name": "stderr",
     "output_type": "stream",
     "text": [
      "                                                                                \r"
     ]
    },
    {
     "name": "stdout",
     "output_type": "stream",
     "text": [
      "Moviepy - Done !\n",
      "Moviepy - video ready /Users/idotzhori/Desktop/autoencoderlight/cleaned_highlights/ChelseavNottinghamForest_scene_19.mp4\n",
      "Moviepy - Building video /Users/idotzhori/Desktop/autoencoderlight/cleaned_highlights/ManchesterUnitedvChelsea_scene_11.mp4.\n",
      "MoviePy - Writing audio in ManchesterUnitedvChelsea_scene_11TEMP_MPY_wvf_snd.mp3\n"
     ]
    },
    {
     "name": "stderr",
     "output_type": "stream",
     "text": [
      "                                                                                \r"
     ]
    },
    {
     "name": "stdout",
     "output_type": "stream",
     "text": [
      "MoviePy - Done.\n",
      "Moviepy - Writing video /Users/idotzhori/Desktop/autoencoderlight/cleaned_highlights/ManchesterUnitedvChelsea_scene_11.mp4\n",
      "\n"
     ]
    },
    {
     "name": "stderr",
     "output_type": "stream",
     "text": [
      "                                                                                \r"
     ]
    },
    {
     "name": "stdout",
     "output_type": "stream",
     "text": [
      "Moviepy - Done !\n",
      "Moviepy - video ready /Users/idotzhori/Desktop/autoencoderlight/cleaned_highlights/ManchesterUnitedvChelsea_scene_11.mp4\n",
      "Moviepy - Building video /Users/idotzhori/Desktop/autoencoderlight/cleaned_highlights/LeedsUnitedvNewcastleUnited_scene_5.mp4.\n",
      "MoviePy - Writing audio in LeedsUnitedvNewcastleUnited_scene_5TEMP_MPY_wvf_snd.mp3\n"
     ]
    },
    {
     "name": "stderr",
     "output_type": "stream",
     "text": [
      "                                                                                \r"
     ]
    },
    {
     "name": "stdout",
     "output_type": "stream",
     "text": [
      "MoviePy - Done.\n",
      "Moviepy - Writing video /Users/idotzhori/Desktop/autoencoderlight/cleaned_highlights/LeedsUnitedvNewcastleUnited_scene_5.mp4\n",
      "\n"
     ]
    },
    {
     "name": "stderr",
     "output_type": "stream",
     "text": [
      "                                                                                \r"
     ]
    },
    {
     "name": "stdout",
     "output_type": "stream",
     "text": [
      "Moviepy - Done !\n",
      "Moviepy - video ready /Users/idotzhori/Desktop/autoencoderlight/cleaned_highlights/LeedsUnitedvNewcastleUnited_scene_5.mp4\n",
      "Moviepy - Building video /Users/idotzhori/Desktop/autoencoderlight/cleaned_highlights/WolvesvBournemouth_scene_4.mp4.\n",
      "MoviePy - Writing audio in WolvesvBournemouth_scene_4TEMP_MPY_wvf_snd.mp3\n"
     ]
    },
    {
     "name": "stderr",
     "output_type": "stream",
     "text": [
      "                                                                                \r"
     ]
    },
    {
     "name": "stdout",
     "output_type": "stream",
     "text": [
      "MoviePy - Done.\n",
      "Moviepy - Writing video /Users/idotzhori/Desktop/autoencoderlight/cleaned_highlights/WolvesvBournemouth_scene_4.mp4\n",
      "\n"
     ]
    },
    {
     "name": "stderr",
     "output_type": "stream",
     "text": [
      "                                                                                \r"
     ]
    },
    {
     "name": "stdout",
     "output_type": "stream",
     "text": [
      "Moviepy - Done !\n",
      "Moviepy - video ready /Users/idotzhori/Desktop/autoencoderlight/cleaned_highlights/WolvesvBournemouth_scene_4.mp4\n",
      "Moviepy - Building video /Users/idotzhori/Desktop/autoencoderlight/cleaned_highlights/BrightonvCrystalPalace_scene_12.mp4.\n",
      "MoviePy - Writing audio in BrightonvCrystalPalace_scene_12TEMP_MPY_wvf_snd.mp3\n"
     ]
    },
    {
     "name": "stderr",
     "output_type": "stream",
     "text": [
      "                                                                                \r"
     ]
    },
    {
     "name": "stdout",
     "output_type": "stream",
     "text": [
      "MoviePy - Done.\n",
      "Moviepy - Writing video /Users/idotzhori/Desktop/autoencoderlight/cleaned_highlights/BrightonvCrystalPalace_scene_12.mp4\n",
      "\n"
     ]
    },
    {
     "name": "stderr",
     "output_type": "stream",
     "text": [
      "                                                                                \r"
     ]
    },
    {
     "name": "stdout",
     "output_type": "stream",
     "text": [
      "Moviepy - Done !\n",
      "Moviepy - video ready /Users/idotzhori/Desktop/autoencoderlight/cleaned_highlights/BrightonvCrystalPalace_scene_12.mp4\n",
      "Moviepy - Building video /Users/idotzhori/Desktop/autoencoderlight/cleaned_highlights/WolvesvTottenhamHotspur_scene_9.mp4.\n",
      "MoviePy - Writing audio in WolvesvTottenhamHotspur_scene_9TEMP_MPY_wvf_snd.mp3\n"
     ]
    },
    {
     "name": "stderr",
     "output_type": "stream",
     "text": [
      "                                                                                \r"
     ]
    },
    {
     "name": "stdout",
     "output_type": "stream",
     "text": [
      "MoviePy - Done.\n",
      "Moviepy - Writing video /Users/idotzhori/Desktop/autoencoderlight/cleaned_highlights/WolvesvTottenhamHotspur_scene_9.mp4\n",
      "\n"
     ]
    },
    {
     "name": "stderr",
     "output_type": "stream",
     "text": [
      "                                                                                \r"
     ]
    },
    {
     "name": "stdout",
     "output_type": "stream",
     "text": [
      "Moviepy - Done !\n",
      "Moviepy - video ready /Users/idotzhori/Desktop/autoencoderlight/cleaned_highlights/WolvesvTottenhamHotspur_scene_9.mp4\n",
      "Moviepy - Building video /Users/idotzhori/Desktop/autoencoderlight/cleaned_highlights/ManchesterUnitedvBrentford_scene_20.mp4.\n",
      "MoviePy - Writing audio in ManchesterUnitedvBrentford_scene_20TEMP_MPY_wvf_snd.mp3\n"
     ]
    },
    {
     "name": "stderr",
     "output_type": "stream",
     "text": [
      "                                                                                \r"
     ]
    },
    {
     "name": "stdout",
     "output_type": "stream",
     "text": [
      "MoviePy - Done.\n",
      "Moviepy - Writing video /Users/idotzhori/Desktop/autoencoderlight/cleaned_highlights/ManchesterUnitedvBrentford_scene_20.mp4\n",
      "\n"
     ]
    },
    {
     "name": "stderr",
     "output_type": "stream",
     "text": [
      "                                                                                \r"
     ]
    },
    {
     "name": "stdout",
     "output_type": "stream",
     "text": [
      "Moviepy - Done !\n",
      "Moviepy - video ready /Users/idotzhori/Desktop/autoencoderlight/cleaned_highlights/ManchesterUnitedvBrentford_scene_20.mp4\n",
      "Moviepy - Building video /Users/idotzhori/Desktop/autoencoderlight/cleaned_highlights/BrightonvCrystalPalace_scene_10.mp4.\n",
      "MoviePy - Writing audio in BrightonvCrystalPalace_scene_10TEMP_MPY_wvf_snd.mp3\n"
     ]
    },
    {
     "name": "stderr",
     "output_type": "stream",
     "text": [
      "                                                                                \r"
     ]
    },
    {
     "name": "stdout",
     "output_type": "stream",
     "text": [
      "MoviePy - Done.\n",
      "Moviepy - Writing video /Users/idotzhori/Desktop/autoencoderlight/cleaned_highlights/BrightonvCrystalPalace_scene_10.mp4\n",
      "\n"
     ]
    },
    {
     "name": "stderr",
     "output_type": "stream",
     "text": [
      "                                                                                \r"
     ]
    },
    {
     "name": "stdout",
     "output_type": "stream",
     "text": [
      "Moviepy - Done !\n",
      "Moviepy - video ready /Users/idotzhori/Desktop/autoencoderlight/cleaned_highlights/BrightonvCrystalPalace_scene_10.mp4\n",
      "Moviepy - Building video /Users/idotzhori/Desktop/autoencoderlight/cleaned_highlights/LeedsUnitedvNewcastleUnited_scene_7.mp4.\n",
      "MoviePy - Writing audio in LeedsUnitedvNewcastleUnited_scene_7TEMP_MPY_wvf_snd.mp3\n"
     ]
    },
    {
     "name": "stderr",
     "output_type": "stream",
     "text": [
      "                                                                                \r"
     ]
    },
    {
     "name": "stdout",
     "output_type": "stream",
     "text": [
      "MoviePy - Done.\n",
      "Moviepy - Writing video /Users/idotzhori/Desktop/autoencoderlight/cleaned_highlights/LeedsUnitedvNewcastleUnited_scene_7.mp4\n",
      "\n"
     ]
    },
    {
     "name": "stderr",
     "output_type": "stream",
     "text": [
      "                                                                                \r"
     ]
    },
    {
     "name": "stdout",
     "output_type": "stream",
     "text": [
      "Moviepy - Done !\n",
      "Moviepy - video ready /Users/idotzhori/Desktop/autoencoderlight/cleaned_highlights/LeedsUnitedvNewcastleUnited_scene_7.mp4\n",
      "Moviepy - Building video /Users/idotzhori/Desktop/autoencoderlight/cleaned_highlights/LeedsUnitedvNottinghamForest_scene_23.mp4.\n",
      "MoviePy - Writing audio in LeedsUnitedvNottinghamForest_scene_23TEMP_MPY_wvf_snd.mp3\n"
     ]
    },
    {
     "name": "stderr",
     "output_type": "stream",
     "text": [
      "                                                                                \r"
     ]
    },
    {
     "name": "stdout",
     "output_type": "stream",
     "text": [
      "MoviePy - Done.\n",
      "Moviepy - Writing video /Users/idotzhori/Desktop/autoencoderlight/cleaned_highlights/LeedsUnitedvNottinghamForest_scene_23.mp4\n",
      "\n"
     ]
    },
    {
     "name": "stderr",
     "output_type": "stream",
     "text": [
      "                                                                                \r"
     ]
    },
    {
     "name": "stdout",
     "output_type": "stream",
     "text": [
      "Moviepy - Done !\n",
      "Moviepy - video ready /Users/idotzhori/Desktop/autoencoderlight/cleaned_highlights/LeedsUnitedvNottinghamForest_scene_23.mp4\n",
      "Moviepy - Building video /Users/idotzhori/Desktop/autoencoderlight/cleaned_highlights/FulhamvWolves_scene_1.mp4.\n",
      "MoviePy - Writing audio in FulhamvWolves_scene_1TEMP_MPY_wvf_snd.mp3\n"
     ]
    },
    {
     "name": "stderr",
     "output_type": "stream",
     "text": [
      "                                                                                \r"
     ]
    },
    {
     "name": "stdout",
     "output_type": "stream",
     "text": [
      "MoviePy - Done.\n",
      "Moviepy - Writing video /Users/idotzhori/Desktop/autoencoderlight/cleaned_highlights/FulhamvWolves_scene_1.mp4\n",
      "\n"
     ]
    },
    {
     "name": "stderr",
     "output_type": "stream",
     "text": [
      "                                                                                \r"
     ]
    },
    {
     "name": "stdout",
     "output_type": "stream",
     "text": [
      "Moviepy - Done !\n",
      "Moviepy - video ready /Users/idotzhori/Desktop/autoencoderlight/cleaned_highlights/FulhamvWolves_scene_1.mp4\n",
      "Moviepy - Building video /Users/idotzhori/Desktop/autoencoderlight/cleaned_highlights/WestHamUnitedvArsenal_scene_5.mp4.\n",
      "MoviePy - Writing audio in WestHamUnitedvArsenal_scene_5TEMP_MPY_wvf_snd.mp3\n"
     ]
    },
    {
     "name": "stderr",
     "output_type": "stream",
     "text": [
      "                                                                                \r"
     ]
    },
    {
     "name": "stdout",
     "output_type": "stream",
     "text": [
      "MoviePy - Done.\n",
      "Moviepy - Writing video /Users/idotzhori/Desktop/autoencoderlight/cleaned_highlights/WestHamUnitedvArsenal_scene_5.mp4\n",
      "\n"
     ]
    },
    {
     "name": "stderr",
     "output_type": "stream",
     "text": [
      "                                                                                \r"
     ]
    },
    {
     "name": "stdout",
     "output_type": "stream",
     "text": [
      "Moviepy - Done !\n",
      "Moviepy - video ready /Users/idotzhori/Desktop/autoencoderlight/cleaned_highlights/WestHamUnitedvArsenal_scene_5.mp4\n",
      "Moviepy - Building video /Users/idotzhori/Desktop/autoencoderlight/cleaned_highlights/ManchesterUnitedvChelsea_scene_6.mp4.\n",
      "MoviePy - Writing audio in ManchesterUnitedvChelsea_scene_6TEMP_MPY_wvf_snd.mp3\n"
     ]
    },
    {
     "name": "stderr",
     "output_type": "stream",
     "text": [
      "                                                                                \r"
     ]
    },
    {
     "name": "stdout",
     "output_type": "stream",
     "text": [
      "MoviePy - Done.\n",
      "Moviepy - Writing video /Users/idotzhori/Desktop/autoencoderlight/cleaned_highlights/ManchesterUnitedvChelsea_scene_6.mp4\n",
      "\n"
     ]
    },
    {
     "name": "stderr",
     "output_type": "stream",
     "text": [
      "                                                                                \r"
     ]
    },
    {
     "name": "stdout",
     "output_type": "stream",
     "text": [
      "Moviepy - Done !\n",
      "Moviepy - video ready /Users/idotzhori/Desktop/autoencoderlight/cleaned_highlights/ManchesterUnitedvChelsea_scene_6.mp4\n",
      "Moviepy - Building video /Users/idotzhori/Desktop/autoencoderlight/cleaned_highlights/EvertonvBrentford_scene_13.mp4.\n",
      "MoviePy - Writing audio in EvertonvBrentford_scene_13TEMP_MPY_wvf_snd.mp3\n"
     ]
    },
    {
     "name": "stderr",
     "output_type": "stream",
     "text": [
      "                                                                                \r"
     ]
    },
    {
     "name": "stdout",
     "output_type": "stream",
     "text": [
      "MoviePy - Done.\n",
      "Moviepy - Writing video /Users/idotzhori/Desktop/autoencoderlight/cleaned_highlights/EvertonvBrentford_scene_13.mp4\n",
      "\n"
     ]
    },
    {
     "name": "stderr",
     "output_type": "stream",
     "text": [
      "                                                                                \r"
     ]
    },
    {
     "name": "stdout",
     "output_type": "stream",
     "text": [
      "Moviepy - Done !\n",
      "Moviepy - video ready /Users/idotzhori/Desktop/autoencoderlight/cleaned_highlights/EvertonvBrentford_scene_13.mp4\n",
      "Moviepy - Building video /Users/idotzhori/Desktop/autoencoderlight/cleaned_highlights/NottinghamForestvArsenal_scene_12.mp4.\n",
      "MoviePy - Writing audio in NottinghamForestvArsenal_scene_12TEMP_MPY_wvf_snd.mp3\n"
     ]
    },
    {
     "name": "stderr",
     "output_type": "stream",
     "text": [
      "                                                                                \r"
     ]
    },
    {
     "name": "stdout",
     "output_type": "stream",
     "text": [
      "MoviePy - Done.\n",
      "Moviepy - Writing video /Users/idotzhori/Desktop/autoencoderlight/cleaned_highlights/NottinghamForestvArsenal_scene_12.mp4\n",
      "\n"
     ]
    },
    {
     "name": "stderr",
     "output_type": "stream",
     "text": [
      "                                                                                \r"
     ]
    },
    {
     "name": "stdout",
     "output_type": "stream",
     "text": [
      "Moviepy - Done !\n",
      "Moviepy - video ready /Users/idotzhori/Desktop/autoencoderlight/cleaned_highlights/NottinghamForestvArsenal_scene_12.mp4\n",
      "Moviepy - Building video /Users/idotzhori/Desktop/autoencoderlight/cleaned_highlights/ManchesterUnitedvChelsea_scene_7.mp4.\n",
      "MoviePy - Writing audio in ManchesterUnitedvChelsea_scene_7TEMP_MPY_wvf_snd.mp3\n"
     ]
    },
    {
     "name": "stderr",
     "output_type": "stream",
     "text": [
      "                                                                                \r"
     ]
    },
    {
     "name": "stdout",
     "output_type": "stream",
     "text": [
      "MoviePy - Done.\n",
      "Moviepy - Writing video /Users/idotzhori/Desktop/autoencoderlight/cleaned_highlights/ManchesterUnitedvChelsea_scene_7.mp4\n",
      "\n"
     ]
    },
    {
     "name": "stderr",
     "output_type": "stream",
     "text": [
      "                                                                                \r"
     ]
    },
    {
     "name": "stdout",
     "output_type": "stream",
     "text": [
      "Moviepy - Done !\n",
      "Moviepy - video ready /Users/idotzhori/Desktop/autoencoderlight/cleaned_highlights/ManchesterUnitedvChelsea_scene_7.mp4\n",
      "Moviepy - Building video /Users/idotzhori/Desktop/autoencoderlight/cleaned_highlights/FulhamvLeedsUnited_scene_8.mp4.\n",
      "MoviePy - Writing audio in FulhamvLeedsUnited_scene_8TEMP_MPY_wvf_snd.mp3\n"
     ]
    },
    {
     "name": "stderr",
     "output_type": "stream",
     "text": [
      "                                                                                \r"
     ]
    },
    {
     "name": "stdout",
     "output_type": "stream",
     "text": [
      "MoviePy - Done.\n",
      "Moviepy - Writing video /Users/idotzhori/Desktop/autoencoderlight/cleaned_highlights/FulhamvLeedsUnited_scene_8.mp4\n",
      "\n"
     ]
    },
    {
     "name": "stderr",
     "output_type": "stream",
     "text": [
      "                                                                                \r"
     ]
    },
    {
     "name": "stdout",
     "output_type": "stream",
     "text": [
      "Moviepy - Done !\n",
      "Moviepy - video ready /Users/idotzhori/Desktop/autoencoderlight/cleaned_highlights/FulhamvLeedsUnited_scene_8.mp4\n",
      "Moviepy - Building video /Users/idotzhori/Desktop/autoencoderlight/cleaned_highlights/SouthamptonvLiverpool_scene_15.mp4.\n",
      "MoviePy - Writing audio in SouthamptonvLiverpool_scene_15TEMP_MPY_wvf_snd.mp3\n"
     ]
    },
    {
     "name": "stderr",
     "output_type": "stream",
     "text": [
      "                                                                                \r"
     ]
    },
    {
     "name": "stdout",
     "output_type": "stream",
     "text": [
      "MoviePy - Done.\n",
      "Moviepy - Writing video /Users/idotzhori/Desktop/autoencoderlight/cleaned_highlights/SouthamptonvLiverpool_scene_15.mp4\n",
      "\n"
     ]
    },
    {
     "name": "stderr",
     "output_type": "stream",
     "text": [
      "                                                                                \r"
     ]
    },
    {
     "name": "stdout",
     "output_type": "stream",
     "text": [
      "Moviepy - Done !\n",
      "Moviepy - video ready /Users/idotzhori/Desktop/autoencoderlight/cleaned_highlights/SouthamptonvLiverpool_scene_15.mp4\n",
      "Moviepy - Building video /Users/idotzhori/Desktop/autoencoderlight/cleaned_highlights/LeicesterCityvAstonVilla_scene_29.mp4.\n",
      "MoviePy - Writing audio in LeicesterCityvAstonVilla_scene_29TEMP_MPY_wvf_snd.mp3\n"
     ]
    },
    {
     "name": "stderr",
     "output_type": "stream",
     "text": [
      "                                                                                \r"
     ]
    },
    {
     "name": "stdout",
     "output_type": "stream",
     "text": [
      "MoviePy - Done.\n",
      "Moviepy - Writing video /Users/idotzhori/Desktop/autoencoderlight/cleaned_highlights/LeicesterCityvAstonVilla_scene_29.mp4\n",
      "\n"
     ]
    },
    {
     "name": "stderr",
     "output_type": "stream",
     "text": [
      "                                                                                \r"
     ]
    },
    {
     "name": "stdout",
     "output_type": "stream",
     "text": [
      "Moviepy - Done !\n",
      "Moviepy - video ready /Users/idotzhori/Desktop/autoencoderlight/cleaned_highlights/LeicesterCityvAstonVilla_scene_29.mp4\n",
      "Moviepy - Building video /Users/idotzhori/Desktop/autoencoderlight/cleaned_highlights/NottinghamForestvNewcastle_scene_1.mp4.\n",
      "MoviePy - Writing audio in NottinghamForestvNewcastle_scene_1TEMP_MPY_wvf_snd.mp3\n"
     ]
    },
    {
     "name": "stderr",
     "output_type": "stream",
     "text": [
      "                                                                                \r"
     ]
    },
    {
     "name": "stdout",
     "output_type": "stream",
     "text": [
      "MoviePy - Done.\n",
      "Moviepy - Writing video /Users/idotzhori/Desktop/autoencoderlight/cleaned_highlights/NottinghamForestvNewcastle_scene_1.mp4\n",
      "\n"
     ]
    },
    {
     "name": "stderr",
     "output_type": "stream",
     "text": [
      "                                                                                \r"
     ]
    },
    {
     "name": "stdout",
     "output_type": "stream",
     "text": [
      "Moviepy - Done !\n",
      "Moviepy - video ready /Users/idotzhori/Desktop/autoencoderlight/cleaned_highlights/NottinghamForestvNewcastle_scene_1.mp4\n",
      "Moviepy - Building video /Users/idotzhori/Desktop/autoencoderlight/cleaned_highlights/FulhamvCrystalPalace_scene_7.mp4.\n",
      "MoviePy - Writing audio in FulhamvCrystalPalace_scene_7TEMP_MPY_wvf_snd.mp3\n"
     ]
    },
    {
     "name": "stderr",
     "output_type": "stream",
     "text": [
      "                                                                                \r"
     ]
    },
    {
     "name": "stdout",
     "output_type": "stream",
     "text": [
      "MoviePy - Done.\n",
      "Moviepy - Writing video /Users/idotzhori/Desktop/autoencoderlight/cleaned_highlights/FulhamvCrystalPalace_scene_7.mp4\n",
      "\n"
     ]
    },
    {
     "name": "stderr",
     "output_type": "stream",
     "text": [
      "                                                                                \r"
     ]
    },
    {
     "name": "stdout",
     "output_type": "stream",
     "text": [
      "Moviepy - Done !\n",
      "Moviepy - video ready /Users/idotzhori/Desktop/autoencoderlight/cleaned_highlights/FulhamvCrystalPalace_scene_7.mp4\n",
      "Moviepy - Building video /Users/idotzhori/Desktop/autoencoderlight/cleaned_highlights/NewcastleUnitedvLeicesterCity_scene_3.mp4.\n",
      "MoviePy - Writing audio in NewcastleUnitedvLeicesterCity_scene_3TEMP_MPY_wvf_snd.mp3\n"
     ]
    },
    {
     "name": "stderr",
     "output_type": "stream",
     "text": [
      "                                                                                \r"
     ]
    },
    {
     "name": "stdout",
     "output_type": "stream",
     "text": [
      "MoviePy - Done.\n",
      "Moviepy - Writing video /Users/idotzhori/Desktop/autoencoderlight/cleaned_highlights/NewcastleUnitedvLeicesterCity_scene_3.mp4\n",
      "\n"
     ]
    },
    {
     "name": "stderr",
     "output_type": "stream",
     "text": [
      "                                                                                \r"
     ]
    },
    {
     "name": "stdout",
     "output_type": "stream",
     "text": [
      "Moviepy - Done !\n",
      "Moviepy - video ready /Users/idotzhori/Desktop/autoencoderlight/cleaned_highlights/NewcastleUnitedvLeicesterCity_scene_3.mp4\n",
      "Moviepy - Building video /Users/idotzhori/Desktop/autoencoderlight/cleaned_highlights/BrightonvCrystalPalace_scene_11.mp4.\n",
      "MoviePy - Writing audio in BrightonvCrystalPalace_scene_11TEMP_MPY_wvf_snd.mp3\n"
     ]
    },
    {
     "name": "stderr",
     "output_type": "stream",
     "text": [
      "                                                                                \r"
     ]
    },
    {
     "name": "stdout",
     "output_type": "stream",
     "text": [
      "MoviePy - Done.\n",
      "Moviepy - Writing video /Users/idotzhori/Desktop/autoencoderlight/cleaned_highlights/BrightonvCrystalPalace_scene_11.mp4\n",
      "\n"
     ]
    },
    {
     "name": "stderr",
     "output_type": "stream",
     "text": [
      "                                                                                \r"
     ]
    },
    {
     "name": "stdout",
     "output_type": "stream",
     "text": [
      "Moviepy - Done !\n",
      "Moviepy - video ready /Users/idotzhori/Desktop/autoencoderlight/cleaned_highlights/BrightonvCrystalPalace_scene_11.mp4\n",
      "Moviepy - Building video /Users/idotzhori/Desktop/autoencoderlight/cleaned_highlights/ManchesterUnitedvBrentford_scene_27.mp4.\n",
      "MoviePy - Writing audio in ManchesterUnitedvBrentford_scene_27TEMP_MPY_wvf_snd.mp3\n"
     ]
    },
    {
     "name": "stderr",
     "output_type": "stream",
     "text": [
      "                                                                                \r"
     ]
    },
    {
     "name": "stdout",
     "output_type": "stream",
     "text": [
      "MoviePy - Done.\n",
      "Moviepy - Writing video /Users/idotzhori/Desktop/autoencoderlight/cleaned_highlights/ManchesterUnitedvBrentford_scene_27.mp4\n",
      "\n"
     ]
    },
    {
     "name": "stderr",
     "output_type": "stream",
     "text": [
      "                                                                                \r"
     ]
    },
    {
     "name": "stdout",
     "output_type": "stream",
     "text": [
      "Moviepy - Done !\n",
      "Moviepy - video ready /Users/idotzhori/Desktop/autoencoderlight/cleaned_highlights/ManchesterUnitedvBrentford_scene_27.mp4\n",
      "Moviepy - Building video /Users/idotzhori/Desktop/autoencoderlight/cleaned_highlights/ManchesterUnitedvChelsea_scene_16.mp4.\n",
      "MoviePy - Writing audio in ManchesterUnitedvChelsea_scene_16TEMP_MPY_wvf_snd.mp3\n"
     ]
    },
    {
     "name": "stderr",
     "output_type": "stream",
     "text": [
      "                                                                                \r"
     ]
    },
    {
     "name": "stdout",
     "output_type": "stream",
     "text": [
      "MoviePy - Done.\n",
      "Moviepy - Writing video /Users/idotzhori/Desktop/autoencoderlight/cleaned_highlights/ManchesterUnitedvChelsea_scene_16.mp4\n",
      "\n"
     ]
    },
    {
     "name": "stderr",
     "output_type": "stream",
     "text": [
      "                                                                                \r"
     ]
    },
    {
     "name": "stdout",
     "output_type": "stream",
     "text": [
      "Moviepy - Done !\n",
      "Moviepy - video ready /Users/idotzhori/Desktop/autoencoderlight/cleaned_highlights/ManchesterUnitedvChelsea_scene_16.mp4\n",
      "Moviepy - Building video /Users/idotzhori/Desktop/autoencoderlight/cleaned_highlights/NottinghamForestvNewcastle_scene_5.mp4.\n",
      "MoviePy - Writing audio in NottinghamForestvNewcastle_scene_5TEMP_MPY_wvf_snd.mp3\n"
     ]
    },
    {
     "name": "stderr",
     "output_type": "stream",
     "text": [
      "                                                                                \r"
     ]
    },
    {
     "name": "stdout",
     "output_type": "stream",
     "text": [
      "MoviePy - Done.\n",
      "Moviepy - Writing video /Users/idotzhori/Desktop/autoencoderlight/cleaned_highlights/NottinghamForestvNewcastle_scene_5.mp4\n",
      "\n"
     ]
    },
    {
     "name": "stderr",
     "output_type": "stream",
     "text": [
      "                                                                                \r"
     ]
    },
    {
     "name": "stdout",
     "output_type": "stream",
     "text": [
      "Moviepy - Done !\n",
      "Moviepy - video ready /Users/idotzhori/Desktop/autoencoderlight/cleaned_highlights/NottinghamForestvNewcastle_scene_5.mp4\n",
      "Moviepy - Building video /Users/idotzhori/Desktop/autoencoderlight/cleaned_highlights/WestHamUnitedvLeedsUnited_scene_8.mp4.\n",
      "MoviePy - Writing audio in WestHamUnitedvLeedsUnited_scene_8TEMP_MPY_wvf_snd.mp3\n"
     ]
    },
    {
     "name": "stderr",
     "output_type": "stream",
     "text": [
      "                                                                                \r"
     ]
    },
    {
     "name": "stdout",
     "output_type": "stream",
     "text": [
      "MoviePy - Done.\n",
      "Moviepy - Writing video /Users/idotzhori/Desktop/autoencoderlight/cleaned_highlights/WestHamUnitedvLeedsUnited_scene_8.mp4\n",
      "\n"
     ]
    },
    {
     "name": "stderr",
     "output_type": "stream",
     "text": [
      "                                                                                \r"
     ]
    },
    {
     "name": "stdout",
     "output_type": "stream",
     "text": [
      "Moviepy - Done !\n",
      "Moviepy - video ready /Users/idotzhori/Desktop/autoencoderlight/cleaned_highlights/WestHamUnitedvLeedsUnited_scene_8.mp4\n",
      "Moviepy - Building video /Users/idotzhori/Desktop/autoencoderlight/cleaned_highlights/ChelseavEverton_scene_8.mp4.\n",
      "MoviePy - Writing audio in ChelseavEverton_scene_8TEMP_MPY_wvf_snd.mp3\n"
     ]
    },
    {
     "name": "stderr",
     "output_type": "stream",
     "text": [
      "                                                                                \r"
     ]
    },
    {
     "name": "stdout",
     "output_type": "stream",
     "text": [
      "MoviePy - Done.\n",
      "Moviepy - Writing video /Users/idotzhori/Desktop/autoencoderlight/cleaned_highlights/ChelseavEverton_scene_8.mp4\n",
      "\n"
     ]
    },
    {
     "name": "stderr",
     "output_type": "stream",
     "text": [
      "                                                                                \r"
     ]
    },
    {
     "name": "stdout",
     "output_type": "stream",
     "text": [
      "Moviepy - Done !\n",
      "Moviepy - video ready /Users/idotzhori/Desktop/autoencoderlight/cleaned_highlights/ChelseavEverton_scene_8.mp4\n",
      "Moviepy - Building video /Users/idotzhori/Desktop/autoencoderlight/cleaned_highlights/LeedsUnitedvManchesterUnited_scene_2.mp4.\n",
      "MoviePy - Writing audio in LeedsUnitedvManchesterUnited_scene_2TEMP_MPY_wvf_snd.mp3\n"
     ]
    },
    {
     "name": "stderr",
     "output_type": "stream",
     "text": [
      "                                                                                \r"
     ]
    },
    {
     "name": "stdout",
     "output_type": "stream",
     "text": [
      "MoviePy - Done.\n",
      "Moviepy - Writing video /Users/idotzhori/Desktop/autoencoderlight/cleaned_highlights/LeedsUnitedvManchesterUnited_scene_2.mp4\n",
      "\n"
     ]
    },
    {
     "name": "stderr",
     "output_type": "stream",
     "text": [
      "                                                                                \r"
     ]
    },
    {
     "name": "stdout",
     "output_type": "stream",
     "text": [
      "Moviepy - Done !\n",
      "Moviepy - video ready /Users/idotzhori/Desktop/autoencoderlight/cleaned_highlights/LeedsUnitedvManchesterUnited_scene_2.mp4\n",
      "Moviepy - Building video /Users/idotzhori/Desktop/autoencoderlight/cleaned_highlights/LiverpoolvAstonVilla_scene_3.mp4.\n",
      "MoviePy - Writing audio in LiverpoolvAstonVilla_scene_3TEMP_MPY_wvf_snd.mp3\n"
     ]
    },
    {
     "name": "stderr",
     "output_type": "stream",
     "text": [
      "                                                                                \r"
     ]
    },
    {
     "name": "stdout",
     "output_type": "stream",
     "text": [
      "MoviePy - Done.\n",
      "Moviepy - Writing video /Users/idotzhori/Desktop/autoencoderlight/cleaned_highlights/LiverpoolvAstonVilla_scene_3.mp4\n",
      "\n"
     ]
    },
    {
     "name": "stderr",
     "output_type": "stream",
     "text": [
      "                                                                                \r"
     ]
    },
    {
     "name": "stdout",
     "output_type": "stream",
     "text": [
      "Moviepy - Done !\n",
      "Moviepy - video ready /Users/idotzhori/Desktop/autoencoderlight/cleaned_highlights/LiverpoolvAstonVilla_scene_3.mp4\n",
      "Moviepy - Building video /Users/idotzhori/Desktop/autoencoderlight/cleaned_highlights/FulhamvManchesterCity_scene_5.mp4.\n",
      "MoviePy - Writing audio in FulhamvManchesterCity_scene_5TEMP_MPY_wvf_snd.mp3\n"
     ]
    },
    {
     "name": "stderr",
     "output_type": "stream",
     "text": [
      "                                                                                \r"
     ]
    },
    {
     "name": "stdout",
     "output_type": "stream",
     "text": [
      "MoviePy - Done.\n",
      "Moviepy - Writing video /Users/idotzhori/Desktop/autoencoderlight/cleaned_highlights/FulhamvManchesterCity_scene_5.mp4\n",
      "\n"
     ]
    },
    {
     "name": "stderr",
     "output_type": "stream",
     "text": [
      "                                                                                \r"
     ]
    },
    {
     "name": "stdout",
     "output_type": "stream",
     "text": [
      "Moviepy - Done !\n",
      "Moviepy - video ready /Users/idotzhori/Desktop/autoencoderlight/cleaned_highlights/FulhamvManchesterCity_scene_5.mp4\n",
      "Moviepy - Building video /Users/idotzhori/Desktop/autoencoderlight/cleaned_highlights/SouthamptonvLiverpool_scene_11.mp4.\n",
      "MoviePy - Writing audio in SouthamptonvLiverpool_scene_11TEMP_MPY_wvf_snd.mp3\n"
     ]
    },
    {
     "name": "stderr",
     "output_type": "stream",
     "text": [
      "                                                                                \r"
     ]
    },
    {
     "name": "stdout",
     "output_type": "stream",
     "text": [
      "MoviePy - Done.\n",
      "Moviepy - Writing video /Users/idotzhori/Desktop/autoencoderlight/cleaned_highlights/SouthamptonvLiverpool_scene_11.mp4\n",
      "\n"
     ]
    },
    {
     "name": "stderr",
     "output_type": "stream",
     "text": [
      "                                                                                \r"
     ]
    },
    {
     "name": "stdout",
     "output_type": "stream",
     "text": [
      "Moviepy - Done !\n",
      "Moviepy - video ready /Users/idotzhori/Desktop/autoencoderlight/cleaned_highlights/SouthamptonvLiverpool_scene_11.mp4\n",
      "Moviepy - Building video /Users/idotzhori/Desktop/autoencoderlight/cleaned_highlights/EvertonvFulham_scene_17.mp4.\n",
      "MoviePy - Writing audio in EvertonvFulham_scene_17TEMP_MPY_wvf_snd.mp3\n"
     ]
    },
    {
     "name": "stderr",
     "output_type": "stream",
     "text": [
      "                                                                                \r"
     ]
    },
    {
     "name": "stdout",
     "output_type": "stream",
     "text": [
      "MoviePy - Done.\n",
      "Moviepy - Writing video /Users/idotzhori/Desktop/autoencoderlight/cleaned_highlights/EvertonvFulham_scene_17.mp4\n",
      "\n"
     ]
    },
    {
     "name": "stderr",
     "output_type": "stream",
     "text": [
      "                                                                                \r"
     ]
    },
    {
     "name": "stdout",
     "output_type": "stream",
     "text": [
      "Moviepy - Done !\n",
      "Moviepy - video ready /Users/idotzhori/Desktop/autoencoderlight/cleaned_highlights/EvertonvFulham_scene_17.mp4\n",
      "Moviepy - Building video /Users/idotzhori/Desktop/autoencoderlight/cleaned_highlights/CrystalPalacevManchesterCity_scene_10.mp4.\n",
      "MoviePy - Writing audio in CrystalPalacevManchesterCity_scene_10TEMP_MPY_wvf_snd.mp3\n"
     ]
    },
    {
     "name": "stderr",
     "output_type": "stream",
     "text": [
      "                                                                                \r"
     ]
    },
    {
     "name": "stdout",
     "output_type": "stream",
     "text": [
      "MoviePy - Done.\n",
      "Moviepy - Writing video /Users/idotzhori/Desktop/autoencoderlight/cleaned_highlights/CrystalPalacevManchesterCity_scene_10.mp4\n",
      "\n"
     ]
    },
    {
     "name": "stderr",
     "output_type": "stream",
     "text": [
      "                                                                                \r"
     ]
    },
    {
     "name": "stdout",
     "output_type": "stream",
     "text": [
      "Moviepy - Done !\n",
      "Moviepy - video ready /Users/idotzhori/Desktop/autoencoderlight/cleaned_highlights/CrystalPalacevManchesterCity_scene_10.mp4\n",
      "Moviepy - Building video /Users/idotzhori/Desktop/autoencoderlight/cleaned_highlights/EvertonvTottenhamHotspur_scene_12.mp4.\n",
      "MoviePy - Writing audio in EvertonvTottenhamHotspur_scene_12TEMP_MPY_wvf_snd.mp3\n"
     ]
    },
    {
     "name": "stderr",
     "output_type": "stream",
     "text": [
      "                                                                                \r"
     ]
    },
    {
     "name": "stdout",
     "output_type": "stream",
     "text": [
      "MoviePy - Done.\n",
      "Moviepy - Writing video /Users/idotzhori/Desktop/autoencoderlight/cleaned_highlights/EvertonvTottenhamHotspur_scene_12.mp4\n",
      "\n"
     ]
    },
    {
     "name": "stderr",
     "output_type": "stream",
     "text": [
      "                                                                                \r"
     ]
    },
    {
     "name": "stdout",
     "output_type": "stream",
     "text": [
      "Moviepy - Done !\n",
      "Moviepy - video ready /Users/idotzhori/Desktop/autoencoderlight/cleaned_highlights/EvertonvTottenhamHotspur_scene_12.mp4\n",
      "Moviepy - Building video /Users/idotzhori/Desktop/autoencoderlight/cleaned_highlights/LeedsUnitedvBrighton_scene_3.mp4.\n",
      "MoviePy - Writing audio in LeedsUnitedvBrighton_scene_3TEMP_MPY_wvf_snd.mp3\n"
     ]
    },
    {
     "name": "stderr",
     "output_type": "stream",
     "text": [
      "                                                                                \r"
     ]
    },
    {
     "name": "stdout",
     "output_type": "stream",
     "text": [
      "MoviePy - Done.\n",
      "Moviepy - Writing video /Users/idotzhori/Desktop/autoencoderlight/cleaned_highlights/LeedsUnitedvBrighton_scene_3.mp4\n",
      "\n"
     ]
    },
    {
     "name": "stderr",
     "output_type": "stream",
     "text": [
      "                                                                                \r"
     ]
    },
    {
     "name": "stdout",
     "output_type": "stream",
     "text": [
      "Moviepy - Done !\n",
      "Moviepy - video ready /Users/idotzhori/Desktop/autoencoderlight/cleaned_highlights/LeedsUnitedvBrighton_scene_3.mp4\n",
      "Moviepy - Building video /Users/idotzhori/Desktop/autoencoderlight/cleaned_highlights/BrentfordvNottinghamForest_scene_6.mp4.\n",
      "MoviePy - Writing audio in BrentfordvNottinghamForest_scene_6TEMP_MPY_wvf_snd.mp3\n"
     ]
    },
    {
     "name": "stderr",
     "output_type": "stream",
     "text": [
      "                                                                                \r"
     ]
    },
    {
     "name": "stdout",
     "output_type": "stream",
     "text": [
      "MoviePy - Done.\n",
      "Moviepy - Writing video /Users/idotzhori/Desktop/autoencoderlight/cleaned_highlights/BrentfordvNottinghamForest_scene_6.mp4\n",
      "\n"
     ]
    },
    {
     "name": "stderr",
     "output_type": "stream",
     "text": [
      "                                                                                \r"
     ]
    },
    {
     "name": "stdout",
     "output_type": "stream",
     "text": [
      "Moviepy - Done !\n",
      "Moviepy - video ready /Users/idotzhori/Desktop/autoencoderlight/cleaned_highlights/BrentfordvNottinghamForest_scene_6.mp4\n",
      "Moviepy - Building video /Users/idotzhori/Desktop/autoencoderlight/cleaned_highlights/EvertonvBrentford_scene_16.mp4.\n",
      "MoviePy - Writing audio in EvertonvBrentford_scene_16TEMP_MPY_wvf_snd.mp3\n"
     ]
    },
    {
     "name": "stderr",
     "output_type": "stream",
     "text": [
      "                                                                                \r"
     ]
    },
    {
     "name": "stdout",
     "output_type": "stream",
     "text": [
      "MoviePy - Done.\n",
      "Moviepy - Writing video /Users/idotzhori/Desktop/autoencoderlight/cleaned_highlights/EvertonvBrentford_scene_16.mp4\n",
      "\n"
     ]
    },
    {
     "name": "stderr",
     "output_type": "stream",
     "text": [
      "                                                                                \r"
     ]
    },
    {
     "name": "stdout",
     "output_type": "stream",
     "text": [
      "Moviepy - Done !\n",
      "Moviepy - video ready /Users/idotzhori/Desktop/autoencoderlight/cleaned_highlights/EvertonvBrentford_scene_16.mp4\n",
      "Moviepy - Building video /Users/idotzhori/Desktop/autoencoderlight/cleaned_highlights/ManchesterUnitedvEverton_scene_16.mp4.\n",
      "MoviePy - Writing audio in ManchesterUnitedvEverton_scene_16TEMP_MPY_wvf_snd.mp3\n"
     ]
    },
    {
     "name": "stderr",
     "output_type": "stream",
     "text": [
      "                                                                                \r"
     ]
    },
    {
     "name": "stdout",
     "output_type": "stream",
     "text": [
      "MoviePy - Done.\n",
      "Moviepy - Writing video /Users/idotzhori/Desktop/autoencoderlight/cleaned_highlights/ManchesterUnitedvEverton_scene_16.mp4\n",
      "\n"
     ]
    },
    {
     "name": "stderr",
     "output_type": "stream",
     "text": [
      "                                                                                \r"
     ]
    },
    {
     "name": "stdout",
     "output_type": "stream",
     "text": [
      "Moviepy - Done !\n",
      "Moviepy - video ready /Users/idotzhori/Desktop/autoencoderlight/cleaned_highlights/ManchesterUnitedvEverton_scene_16.mp4\n",
      "Moviepy - Building video /Users/idotzhori/Desktop/autoencoderlight/cleaned_highlights/EvertonvTottenhamHotspur_scene_13.mp4.\n",
      "MoviePy - Writing audio in EvertonvTottenhamHotspur_scene_13TEMP_MPY_wvf_snd.mp3\n"
     ]
    },
    {
     "name": "stderr",
     "output_type": "stream",
     "text": [
      "                                                                                \r"
     ]
    },
    {
     "name": "stdout",
     "output_type": "stream",
     "text": [
      "MoviePy - Done.\n",
      "Moviepy - Writing video /Users/idotzhori/Desktop/autoencoderlight/cleaned_highlights/EvertonvTottenhamHotspur_scene_13.mp4\n",
      "\n"
     ]
    },
    {
     "name": "stderr",
     "output_type": "stream",
     "text": [
      "                                                                                \r"
     ]
    },
    {
     "name": "stdout",
     "output_type": "stream",
     "text": [
      "Moviepy - Done !\n",
      "Moviepy - video ready /Users/idotzhori/Desktop/autoencoderlight/cleaned_highlights/EvertonvTottenhamHotspur_scene_13.mp4\n",
      "Moviepy - Building video /Users/idotzhori/Desktop/autoencoderlight/cleaned_highlights/ManchesterUnitedvChelsea_scene_2.mp4.\n",
      "MoviePy - Writing audio in ManchesterUnitedvChelsea_scene_2TEMP_MPY_wvf_snd.mp3\n"
     ]
    },
    {
     "name": "stderr",
     "output_type": "stream",
     "text": [
      "                                                                                \r"
     ]
    },
    {
     "name": "stdout",
     "output_type": "stream",
     "text": [
      "MoviePy - Done.\n",
      "Moviepy - Writing video /Users/idotzhori/Desktop/autoencoderlight/cleaned_highlights/ManchesterUnitedvChelsea_scene_2.mp4\n",
      "\n"
     ]
    },
    {
     "name": "stderr",
     "output_type": "stream",
     "text": [
      "                                                                                \r"
     ]
    },
    {
     "name": "stdout",
     "output_type": "stream",
     "text": [
      "Moviepy - Done !\n",
      "Moviepy - video ready /Users/idotzhori/Desktop/autoencoderlight/cleaned_highlights/ManchesterUnitedvChelsea_scene_2.mp4\n",
      "Moviepy - Building video /Users/idotzhori/Desktop/autoencoderlight/cleaned_highlights/SouthamptonvLiverpool_scene_10.mp4.\n",
      "MoviePy - Writing audio in SouthamptonvLiverpool_scene_10TEMP_MPY_wvf_snd.mp3\n"
     ]
    },
    {
     "name": "stderr",
     "output_type": "stream",
     "text": [
      "                                                                                \r"
     ]
    },
    {
     "name": "stdout",
     "output_type": "stream",
     "text": [
      "MoviePy - Done.\n",
      "Moviepy - Writing video /Users/idotzhori/Desktop/autoencoderlight/cleaned_highlights/SouthamptonvLiverpool_scene_10.mp4\n",
      "\n"
     ]
    },
    {
     "name": "stderr",
     "output_type": "stream",
     "text": [
      "                                                                                \r"
     ]
    },
    {
     "name": "stdout",
     "output_type": "stream",
     "text": [
      "Moviepy - Done !\n",
      "Moviepy - video ready /Users/idotzhori/Desktop/autoencoderlight/cleaned_highlights/SouthamptonvLiverpool_scene_10.mp4\n",
      "Moviepy - Building video /Users/idotzhori/Desktop/autoencoderlight/cleaned_highlights/ManchesterUnitedvFulham_scene_1.mp4.\n",
      "MoviePy - Writing audio in ManchesterUnitedvFulham_scene_1TEMP_MPY_wvf_snd.mp3\n"
     ]
    },
    {
     "name": "stderr",
     "output_type": "stream",
     "text": [
      "                                                                                \r"
     ]
    },
    {
     "name": "stdout",
     "output_type": "stream",
     "text": [
      "MoviePy - Done.\n",
      "Moviepy - Writing video /Users/idotzhori/Desktop/autoencoderlight/cleaned_highlights/ManchesterUnitedvFulham_scene_1.mp4\n",
      "\n"
     ]
    },
    {
     "name": "stderr",
     "output_type": "stream",
     "text": [
      "                                                                                \r"
     ]
    },
    {
     "name": "stdout",
     "output_type": "stream",
     "text": [
      "Moviepy - Done !\n",
      "Moviepy - video ready /Users/idotzhori/Desktop/autoencoderlight/cleaned_highlights/ManchesterUnitedvFulham_scene_1.mp4\n",
      "Moviepy - Building video /Users/idotzhori/Desktop/autoencoderlight/cleaned_highlights/FulhamvArsenal_scene_6.mp4.\n",
      "MoviePy - Writing audio in FulhamvArsenal_scene_6TEMP_MPY_wvf_snd.mp3\n"
     ]
    },
    {
     "name": "stderr",
     "output_type": "stream",
     "text": [
      "                                                                                \r"
     ]
    },
    {
     "name": "stdout",
     "output_type": "stream",
     "text": [
      "MoviePy - Done.\n",
      "Moviepy - Writing video /Users/idotzhori/Desktop/autoencoderlight/cleaned_highlights/FulhamvArsenal_scene_6.mp4\n",
      "\n"
     ]
    },
    {
     "name": "stderr",
     "output_type": "stream",
     "text": [
      "                                                                                \r"
     ]
    },
    {
     "name": "stdout",
     "output_type": "stream",
     "text": [
      "Moviepy - Done !\n",
      "Moviepy - video ready /Users/idotzhori/Desktop/autoencoderlight/cleaned_highlights/FulhamvArsenal_scene_6.mp4\n",
      "Moviepy - Building video /Users/idotzhori/Desktop/autoencoderlight/cleaned_highlights/ChelseavEverton_scene_23.mp4.\n",
      "MoviePy - Writing audio in ChelseavEverton_scene_23TEMP_MPY_wvf_snd.mp3\n"
     ]
    },
    {
     "name": "stderr",
     "output_type": "stream",
     "text": [
      "                                                                                \r"
     ]
    },
    {
     "name": "stdout",
     "output_type": "stream",
     "text": [
      "MoviePy - Done.\n",
      "Moviepy - Writing video /Users/idotzhori/Desktop/autoencoderlight/cleaned_highlights/ChelseavEverton_scene_23.mp4\n",
      "\n"
     ]
    },
    {
     "name": "stderr",
     "output_type": "stream",
     "text": [
      "                                                                                \r"
     ]
    },
    {
     "name": "stdout",
     "output_type": "stream",
     "text": [
      "Moviepy - Done !\n",
      "Moviepy - video ready /Users/idotzhori/Desktop/autoencoderlight/cleaned_highlights/ChelseavEverton_scene_23.mp4\n",
      "Moviepy - Building video /Users/idotzhori/Desktop/autoencoderlight/cleaned_highlights/ManchesterUnitedvBrentford_scene_26.mp4.\n",
      "MoviePy - Writing audio in ManchesterUnitedvBrentford_scene_26TEMP_MPY_wvf_snd.mp3\n"
     ]
    },
    {
     "name": "stderr",
     "output_type": "stream",
     "text": [
      "                                                                                \r"
     ]
    },
    {
     "name": "stdout",
     "output_type": "stream",
     "text": [
      "MoviePy - Done.\n",
      "Moviepy - Writing video /Users/idotzhori/Desktop/autoencoderlight/cleaned_highlights/ManchesterUnitedvBrentford_scene_26.mp4\n",
      "\n"
     ]
    },
    {
     "name": "stderr",
     "output_type": "stream",
     "text": [
      "                                                                                \r"
     ]
    },
    {
     "name": "stdout",
     "output_type": "stream",
     "text": [
      "Moviepy - Done !\n",
      "Moviepy - video ready /Users/idotzhori/Desktop/autoencoderlight/cleaned_highlights/ManchesterUnitedvBrentford_scene_26.mp4\n",
      "Moviepy - Building video /Users/idotzhori/Desktop/autoencoderlight/cleaned_highlights/FulhamvWolves_scene_7.mp4.\n",
      "MoviePy - Writing audio in FulhamvWolves_scene_7TEMP_MPY_wvf_snd.mp3\n"
     ]
    },
    {
     "name": "stderr",
     "output_type": "stream",
     "text": [
      "                                                                                \r"
     ]
    },
    {
     "name": "stdout",
     "output_type": "stream",
     "text": [
      "MoviePy - Done.\n",
      "Moviepy - Writing video /Users/idotzhori/Desktop/autoencoderlight/cleaned_highlights/FulhamvWolves_scene_7.mp4\n",
      "\n"
     ]
    },
    {
     "name": "stderr",
     "output_type": "stream",
     "text": [
      "                                                                                \r"
     ]
    },
    {
     "name": "stdout",
     "output_type": "stream",
     "text": [
      "Moviepy - Done !\n",
      "Moviepy - video ready /Users/idotzhori/Desktop/autoencoderlight/cleaned_highlights/FulhamvWolves_scene_7.mp4\n",
      "Moviepy - Building video /Users/idotzhori/Desktop/autoencoderlight/cleaned_highlights/FulhamvArsenal_scene_4.mp4.\n",
      "MoviePy - Writing audio in FulhamvArsenal_scene_4TEMP_MPY_wvf_snd.mp3\n"
     ]
    },
    {
     "name": "stderr",
     "output_type": "stream",
     "text": [
      "                                                                                \r"
     ]
    },
    {
     "name": "stdout",
     "output_type": "stream",
     "text": [
      "MoviePy - Done.\n",
      "Moviepy - Writing video /Users/idotzhori/Desktop/autoencoderlight/cleaned_highlights/FulhamvArsenal_scene_4.mp4\n",
      "\n"
     ]
    },
    {
     "name": "stderr",
     "output_type": "stream",
     "text": [
      "                                                                                \r"
     ]
    },
    {
     "name": "stdout",
     "output_type": "stream",
     "text": [
      "Moviepy - Done !\n",
      "Moviepy - video ready /Users/idotzhori/Desktop/autoencoderlight/cleaned_highlights/FulhamvArsenal_scene_4.mp4\n",
      "Moviepy - Building video /Users/idotzhori/Desktop/autoencoderlight/cleaned_highlights/SouthamptonvLiverpool_scene_12.mp4.\n",
      "MoviePy - Writing audio in SouthamptonvLiverpool_scene_12TEMP_MPY_wvf_snd.mp3\n"
     ]
    },
    {
     "name": "stderr",
     "output_type": "stream",
     "text": [
      "                                                                                \r"
     ]
    },
    {
     "name": "stdout",
     "output_type": "stream",
     "text": [
      "MoviePy - Done.\n",
      "Moviepy - Writing video /Users/idotzhori/Desktop/autoencoderlight/cleaned_highlights/SouthamptonvLiverpool_scene_12.mp4\n",
      "\n"
     ]
    },
    {
     "name": "stderr",
     "output_type": "stream",
     "text": [
      "                                                                                \r"
     ]
    },
    {
     "name": "stdout",
     "output_type": "stream",
     "text": [
      "Moviepy - Done !\n",
      "Moviepy - video ready /Users/idotzhori/Desktop/autoencoderlight/cleaned_highlights/SouthamptonvLiverpool_scene_12.mp4\n",
      "Moviepy - Building video /Users/idotzhori/Desktop/autoencoderlight/cleaned_highlights/EvertonvTottenhamHotspur_scene_11.mp4.\n",
      "MoviePy - Writing audio in EvertonvTottenhamHotspur_scene_11TEMP_MPY_wvf_snd.mp3\n"
     ]
    },
    {
     "name": "stderr",
     "output_type": "stream",
     "text": [
      "                                                                                \r"
     ]
    },
    {
     "name": "stdout",
     "output_type": "stream",
     "text": [
      "MoviePy - Done.\n",
      "Moviepy - Writing video /Users/idotzhori/Desktop/autoencoderlight/cleaned_highlights/EvertonvTottenhamHotspur_scene_11.mp4\n",
      "\n"
     ]
    },
    {
     "name": "stderr",
     "output_type": "stream",
     "text": [
      "                                                                                \r"
     ]
    },
    {
     "name": "stdout",
     "output_type": "stream",
     "text": [
      "Moviepy - Done !\n",
      "Moviepy - video ready /Users/idotzhori/Desktop/autoencoderlight/cleaned_highlights/EvertonvTottenhamHotspur_scene_11.mp4\n",
      "Moviepy - Building video /Users/idotzhori/Desktop/autoencoderlight/cleaned_highlights/EvertonvTottenhamHotspur_scene_39.mp4.\n",
      "MoviePy - Writing audio in EvertonvTottenhamHotspur_scene_39TEMP_MPY_wvf_snd.mp3\n"
     ]
    },
    {
     "name": "stderr",
     "output_type": "stream",
     "text": [
      "                                                                                \r"
     ]
    },
    {
     "name": "stdout",
     "output_type": "stream",
     "text": [
      "MoviePy - Done.\n",
      "Moviepy - Writing video /Users/idotzhori/Desktop/autoencoderlight/cleaned_highlights/EvertonvTottenhamHotspur_scene_39.mp4\n",
      "\n"
     ]
    },
    {
     "name": "stderr",
     "output_type": "stream",
     "text": [
      "                                                                                \r"
     ]
    },
    {
     "name": "stdout",
     "output_type": "stream",
     "text": [
      "Moviepy - Done !\n",
      "Moviepy - video ready /Users/idotzhori/Desktop/autoencoderlight/cleaned_highlights/EvertonvTottenhamHotspur_scene_39.mp4\n",
      "Moviepy - Building video /Users/idotzhori/Desktop/autoencoderlight/cleaned_highlights/ChelseavBrighton_scene_24.mp4.\n",
      "MoviePy - Writing audio in ChelseavBrighton_scene_24TEMP_MPY_wvf_snd.mp3\n"
     ]
    },
    {
     "name": "stderr",
     "output_type": "stream",
     "text": [
      "                                                                                \r"
     ]
    },
    {
     "name": "stdout",
     "output_type": "stream",
     "text": [
      "MoviePy - Done.\n",
      "Moviepy - Writing video /Users/idotzhori/Desktop/autoencoderlight/cleaned_highlights/ChelseavBrighton_scene_24.mp4\n",
      "\n"
     ]
    },
    {
     "name": "stderr",
     "output_type": "stream",
     "text": [
      "                                                                                \r"
     ]
    },
    {
     "name": "stdout",
     "output_type": "stream",
     "text": [
      "Moviepy - Done !\n",
      "Moviepy - video ready /Users/idotzhori/Desktop/autoencoderlight/cleaned_highlights/ChelseavBrighton_scene_24.mp4\n",
      "Moviepy - Building video /Users/idotzhori/Desktop/autoencoderlight/cleaned_highlights/EvertonvTottenhamHotspur_scene_8.mp4.\n",
      "MoviePy - Writing audio in EvertonvTottenhamHotspur_scene_8TEMP_MPY_wvf_snd.mp3\n"
     ]
    },
    {
     "name": "stderr",
     "output_type": "stream",
     "text": [
      "                                                                                \r"
     ]
    },
    {
     "name": "stdout",
     "output_type": "stream",
     "text": [
      "MoviePy - Done.\n",
      "Moviepy - Writing video /Users/idotzhori/Desktop/autoencoderlight/cleaned_highlights/EvertonvTottenhamHotspur_scene_8.mp4\n",
      "\n"
     ]
    },
    {
     "name": "stderr",
     "output_type": "stream",
     "text": [
      "                                                                                \r"
     ]
    },
    {
     "name": "stdout",
     "output_type": "stream",
     "text": [
      "Moviepy - Done !\n",
      "Moviepy - video ready /Users/idotzhori/Desktop/autoencoderlight/cleaned_highlights/EvertonvTottenhamHotspur_scene_8.mp4\n",
      "Moviepy - Building video /Users/idotzhori/Desktop/autoencoderlight/cleaned_highlights/ManchesterUnitedvEverton_scene_15.mp4.\n",
      "MoviePy - Writing audio in ManchesterUnitedvEverton_scene_15TEMP_MPY_wvf_snd.mp3\n"
     ]
    },
    {
     "name": "stderr",
     "output_type": "stream",
     "text": [
      "                                                                                \r"
     ]
    },
    {
     "name": "stdout",
     "output_type": "stream",
     "text": [
      "MoviePy - Done.\n",
      "Moviepy - Writing video /Users/idotzhori/Desktop/autoencoderlight/cleaned_highlights/ManchesterUnitedvEverton_scene_15.mp4\n",
      "\n"
     ]
    },
    {
     "name": "stderr",
     "output_type": "stream",
     "text": [
      "                                                                                \r"
     ]
    },
    {
     "name": "stdout",
     "output_type": "stream",
     "text": [
      "Moviepy - Done !\n",
      "Moviepy - video ready /Users/idotzhori/Desktop/autoencoderlight/cleaned_highlights/ManchesterUnitedvEverton_scene_15.mp4\n",
      "Moviepy - Building video /Users/idotzhori/Desktop/autoencoderlight/cleaned_highlights/BrentfordvNottinghamForest_scene_4.mp4.\n",
      "MoviePy - Writing audio in BrentfordvNottinghamForest_scene_4TEMP_MPY_wvf_snd.mp3\n"
     ]
    },
    {
     "name": "stderr",
     "output_type": "stream",
     "text": [
      "                                                                                \r"
     ]
    },
    {
     "name": "stdout",
     "output_type": "stream",
     "text": [
      "MoviePy - Done.\n",
      "Moviepy - Writing video /Users/idotzhori/Desktop/autoencoderlight/cleaned_highlights/BrentfordvNottinghamForest_scene_4.mp4\n",
      "\n"
     ]
    },
    {
     "name": "stderr",
     "output_type": "stream",
     "text": [
      "                                                                                \r"
     ]
    },
    {
     "name": "stdout",
     "output_type": "stream",
     "text": [
      "Moviepy - Done !\n",
      "Moviepy - video ready /Users/idotzhori/Desktop/autoencoderlight/cleaned_highlights/BrentfordvNottinghamForest_scene_4.mp4\n",
      "Moviepy - Building video /Users/idotzhori/Desktop/autoencoderlight/cleaned_highlights/LeedsUnitedvBrighton_scene_1.mp4.\n",
      "MoviePy - Writing audio in LeedsUnitedvBrighton_scene_1TEMP_MPY_wvf_snd.mp3\n"
     ]
    },
    {
     "name": "stderr",
     "output_type": "stream",
     "text": [
      "                                                                                \r"
     ]
    },
    {
     "name": "stdout",
     "output_type": "stream",
     "text": [
      "MoviePy - Done.\n",
      "Moviepy - Writing video /Users/idotzhori/Desktop/autoencoderlight/cleaned_highlights/LeedsUnitedvBrighton_scene_1.mp4\n",
      "\n"
     ]
    },
    {
     "name": "stderr",
     "output_type": "stream",
     "text": [
      "                                                                                \r"
     ]
    },
    {
     "name": "stdout",
     "output_type": "stream",
     "text": [
      "Moviepy - Done !\n",
      "Moviepy - video ready /Users/idotzhori/Desktop/autoencoderlight/cleaned_highlights/LeedsUnitedvBrighton_scene_1.mp4\n",
      "Moviepy - Building video /Users/idotzhori/Desktop/autoencoderlight/cleaned_highlights/EvertonvTottenhamHotspur_scene_10.mp4.\n",
      "MoviePy - Writing audio in EvertonvTottenhamHotspur_scene_10TEMP_MPY_wvf_snd.mp3\n"
     ]
    },
    {
     "name": "stderr",
     "output_type": "stream",
     "text": [
      "                                                                                \r"
     ]
    },
    {
     "name": "stdout",
     "output_type": "stream",
     "text": [
      "MoviePy - Done.\n",
      "Moviepy - Writing video /Users/idotzhori/Desktop/autoencoderlight/cleaned_highlights/EvertonvTottenhamHotspur_scene_10.mp4\n",
      "\n"
     ]
    },
    {
     "name": "stderr",
     "output_type": "stream",
     "text": [
      "                                                                                \r"
     ]
    },
    {
     "name": "stdout",
     "output_type": "stream",
     "text": [
      "Moviepy - Done !\n",
      "Moviepy - video ready /Users/idotzhori/Desktop/autoencoderlight/cleaned_highlights/EvertonvTottenhamHotspur_scene_10.mp4\n",
      "Moviepy - Building video /Users/idotzhori/Desktop/autoencoderlight/cleaned_highlights/WestHamUnitedvArsenal_scene_2.mp4.\n",
      "MoviePy - Writing audio in WestHamUnitedvArsenal_scene_2TEMP_MPY_wvf_snd.mp3\n"
     ]
    },
    {
     "name": "stderr",
     "output_type": "stream",
     "text": [
      "                                                                                \r"
     ]
    },
    {
     "name": "stdout",
     "output_type": "stream",
     "text": [
      "MoviePy - Done.\n",
      "Moviepy - Writing video /Users/idotzhori/Desktop/autoencoderlight/cleaned_highlights/WestHamUnitedvArsenal_scene_2.mp4\n",
      "\n"
     ]
    },
    {
     "name": "stderr",
     "output_type": "stream",
     "text": [
      "                                                                                \r"
     ]
    },
    {
     "name": "stdout",
     "output_type": "stream",
     "text": [
      "Moviepy - Done !\n",
      "Moviepy - video ready /Users/idotzhori/Desktop/autoencoderlight/cleaned_highlights/WestHamUnitedvArsenal_scene_2.mp4\n",
      "Moviepy - Building video /Users/idotzhori/Desktop/autoencoderlight/cleaned_highlights/TottenhamHotspurvCrystalPalace_scene_8.mp4.\n",
      "MoviePy - Writing audio in TottenhamHotspurvCrystalPalace_scene_8TEMP_MPY_wvf_snd.mp3\n"
     ]
    },
    {
     "name": "stderr",
     "output_type": "stream",
     "text": [
      "                                                                                \r"
     ]
    },
    {
     "name": "stdout",
     "output_type": "stream",
     "text": [
      "MoviePy - Done.\n",
      "Moviepy - Writing video /Users/idotzhori/Desktop/autoencoderlight/cleaned_highlights/TottenhamHotspurvCrystalPalace_scene_8.mp4\n",
      "\n"
     ]
    },
    {
     "name": "stderr",
     "output_type": "stream",
     "text": [
      "                                                                                \r"
     ]
    },
    {
     "name": "stdout",
     "output_type": "stream",
     "text": [
      "Moviepy - Done !\n",
      "Moviepy - video ready /Users/idotzhori/Desktop/autoencoderlight/cleaned_highlights/TottenhamHotspurvCrystalPalace_scene_8.mp4\n",
      "Moviepy - Building video /Users/idotzhori/Desktop/autoencoderlight/cleaned_highlights/LeicesterCityvAstonVilla_scene_13.mp4.\n",
      "MoviePy - Writing audio in LeicesterCityvAstonVilla_scene_13TEMP_MPY_wvf_snd.mp3\n"
     ]
    },
    {
     "name": "stderr",
     "output_type": "stream",
     "text": [
      "                                                                                \r"
     ]
    },
    {
     "name": "stdout",
     "output_type": "stream",
     "text": [
      "MoviePy - Done.\n",
      "Moviepy - Writing video /Users/idotzhori/Desktop/autoencoderlight/cleaned_highlights/LeicesterCityvAstonVilla_scene_13.mp4\n",
      "\n"
     ]
    },
    {
     "name": "stderr",
     "output_type": "stream",
     "text": [
      "                                                                                \r"
     ]
    },
    {
     "name": "stdout",
     "output_type": "stream",
     "text": [
      "Moviepy - Done !\n",
      "Moviepy - video ready /Users/idotzhori/Desktop/autoencoderlight/cleaned_highlights/LeicesterCityvAstonVilla_scene_13.mp4\n",
      "Moviepy - Building video /Users/idotzhori/Desktop/autoencoderlight/cleaned_highlights/ChelseavBrighton_scene_6.mp4.\n",
      "MoviePy - Writing audio in ChelseavBrighton_scene_6TEMP_MPY_wvf_snd.mp3\n"
     ]
    },
    {
     "name": "stderr",
     "output_type": "stream",
     "text": [
      "                                                                                \r"
     ]
    },
    {
     "name": "stdout",
     "output_type": "stream",
     "text": [
      "MoviePy - Done.\n",
      "Moviepy - Writing video /Users/idotzhori/Desktop/autoencoderlight/cleaned_highlights/ChelseavBrighton_scene_6.mp4\n",
      "\n"
     ]
    },
    {
     "name": "stderr",
     "output_type": "stream",
     "text": [
      "                                                                                \r"
     ]
    },
    {
     "name": "stdout",
     "output_type": "stream",
     "text": [
      "Moviepy - Done !\n",
      "Moviepy - video ready /Users/idotzhori/Desktop/autoencoderlight/cleaned_highlights/ChelseavBrighton_scene_6.mp4\n",
      "Moviepy - Building video /Users/idotzhori/Desktop/autoencoderlight/cleaned_highlights/ManchesterUnitedvChelsea_scene_14.mp4.\n",
      "MoviePy - Writing audio in ManchesterUnitedvChelsea_scene_14TEMP_MPY_wvf_snd.mp3\n"
     ]
    },
    {
     "name": "stderr",
     "output_type": "stream",
     "text": [
      "                                                                                \r"
     ]
    },
    {
     "name": "stdout",
     "output_type": "stream",
     "text": [
      "MoviePy - Done.\n",
      "Moviepy - Writing video /Users/idotzhori/Desktop/autoencoderlight/cleaned_highlights/ManchesterUnitedvChelsea_scene_14.mp4\n",
      "\n"
     ]
    },
    {
     "name": "stderr",
     "output_type": "stream",
     "text": [
      "                                                                                \r"
     ]
    },
    {
     "name": "stdout",
     "output_type": "stream",
     "text": [
      "Moviepy - Done !\n",
      "Moviepy - video ready /Users/idotzhori/Desktop/autoencoderlight/cleaned_highlights/ManchesterUnitedvChelsea_scene_14.mp4\n",
      "Moviepy - Building video /Users/idotzhori/Desktop/autoencoderlight/cleaned_highlights/ManchesterUnitedvBrentford_scene_19.mp4.\n",
      "MoviePy - Writing audio in ManchesterUnitedvBrentford_scene_19TEMP_MPY_wvf_snd.mp3\n"
     ]
    },
    {
     "name": "stderr",
     "output_type": "stream",
     "text": [
      "                                                                                \r"
     ]
    },
    {
     "name": "stdout",
     "output_type": "stream",
     "text": [
      "MoviePy - Done.\n",
      "Moviepy - Writing video /Users/idotzhori/Desktop/autoencoderlight/cleaned_highlights/ManchesterUnitedvBrentford_scene_19.mp4\n",
      "\n"
     ]
    },
    {
     "name": "stderr",
     "output_type": "stream",
     "text": [
      "                                                                                \r"
     ]
    },
    {
     "name": "stdout",
     "output_type": "stream",
     "text": [
      "Moviepy - Done !\n",
      "Moviepy - video ready /Users/idotzhori/Desktop/autoencoderlight/cleaned_highlights/ManchesterUnitedvBrentford_scene_19.mp4\n",
      "Moviepy - Building video /Users/idotzhori/Desktop/autoencoderlight/cleaned_highlights/ChelseavNottinghamForest_scene_11.mp4.\n",
      "MoviePy - Writing audio in ChelseavNottinghamForest_scene_11TEMP_MPY_wvf_snd.mp3\n"
     ]
    },
    {
     "name": "stderr",
     "output_type": "stream",
     "text": [
      "                                                                                \r"
     ]
    },
    {
     "name": "stdout",
     "output_type": "stream",
     "text": [
      "MoviePy - Done.\n",
      "Moviepy - Writing video /Users/idotzhori/Desktop/autoencoderlight/cleaned_highlights/ChelseavNottinghamForest_scene_11.mp4\n",
      "\n"
     ]
    },
    {
     "name": "stderr",
     "output_type": "stream",
     "text": [
      "                                                                                \r"
     ]
    },
    {
     "name": "stdout",
     "output_type": "stream",
     "text": [
      "Moviepy - Done !\n",
      "Moviepy - video ready /Users/idotzhori/Desktop/autoencoderlight/cleaned_highlights/ChelseavNottinghamForest_scene_11.mp4\n",
      "Moviepy - Building video /Users/idotzhori/Desktop/autoencoderlight/cleaned_highlights/ManchesterCityvLiverpool_scene_2.mp4.\n",
      "MoviePy - Writing audio in ManchesterCityvLiverpool_scene_2TEMP_MPY_wvf_snd.mp3\n"
     ]
    },
    {
     "name": "stderr",
     "output_type": "stream",
     "text": [
      "                                                                                "
     ]
    },
    {
     "name": "stdout",
     "output_type": "stream",
     "text": [
      "MoviePy - Done.\n",
      "Moviepy - Writing video /Users/idotzhori/Desktop/autoencoderlight/cleaned_highlights/ManchesterCityvLiverpool_scene_2.mp4\n",
      "\n"
     ]
    },
    {
     "name": "stderr",
     "output_type": "stream",
     "text": [
      "                                                                                \r"
     ]
    },
    {
     "name": "stdout",
     "output_type": "stream",
     "text": [
      "Moviepy - Done !\n",
      "Moviepy - video ready /Users/idotzhori/Desktop/autoencoderlight/cleaned_highlights/ManchesterCityvLiverpool_scene_2.mp4\n",
      "Moviepy - Building video /Users/idotzhori/Desktop/autoencoderlight/cleaned_highlights/SouthamptonvLiverpool_scene_22.mp4.\n",
      "MoviePy - Writing audio in SouthamptonvLiverpool_scene_22TEMP_MPY_wvf_snd.mp3\n"
     ]
    },
    {
     "name": "stderr",
     "output_type": "stream",
     "text": [
      "                                                                                \r"
     ]
    },
    {
     "name": "stdout",
     "output_type": "stream",
     "text": [
      "MoviePy - Done.\n",
      "Moviepy - Writing video /Users/idotzhori/Desktop/autoencoderlight/cleaned_highlights/SouthamptonvLiverpool_scene_22.mp4\n",
      "\n"
     ]
    },
    {
     "name": "stderr",
     "output_type": "stream",
     "text": [
      "                                                                                \r"
     ]
    },
    {
     "name": "stdout",
     "output_type": "stream",
     "text": [
      "Moviepy - Done !\n",
      "Moviepy - video ready /Users/idotzhori/Desktop/autoencoderlight/cleaned_highlights/SouthamptonvLiverpool_scene_22.mp4\n",
      "Moviepy - Building video /Users/idotzhori/Desktop/autoencoderlight/cleaned_highlights/BrentfordvNottinghamForest_scene_9.mp4.\n",
      "MoviePy - Writing audio in BrentfordvNottinghamForest_scene_9TEMP_MPY_wvf_snd.mp3\n"
     ]
    },
    {
     "name": "stderr",
     "output_type": "stream",
     "text": [
      "                                                                                \r"
     ]
    },
    {
     "name": "stdout",
     "output_type": "stream",
     "text": [
      "MoviePy - Done.\n",
      "Moviepy - Writing video /Users/idotzhori/Desktop/autoencoderlight/cleaned_highlights/BrentfordvNottinghamForest_scene_9.mp4\n",
      "\n"
     ]
    },
    {
     "name": "stderr",
     "output_type": "stream",
     "text": [
      "                                                                                \r"
     ]
    },
    {
     "name": "stdout",
     "output_type": "stream",
     "text": [
      "Moviepy - Done !\n",
      "Moviepy - video ready /Users/idotzhori/Desktop/autoencoderlight/cleaned_highlights/BrentfordvNottinghamForest_scene_9.mp4\n",
      "Moviepy - Building video /Users/idotzhori/Desktop/autoencoderlight/cleaned_highlights/WestHamUnitedvLeedsUnited_scene_6.mp4.\n",
      "MoviePy - Writing audio in WestHamUnitedvLeedsUnited_scene_6TEMP_MPY_wvf_snd.mp3\n"
     ]
    },
    {
     "name": "stderr",
     "output_type": "stream",
     "text": [
      "                                                                                \r"
     ]
    },
    {
     "name": "stdout",
     "output_type": "stream",
     "text": [
      "MoviePy - Done.\n",
      "Moviepy - Writing video /Users/idotzhori/Desktop/autoencoderlight/cleaned_highlights/WestHamUnitedvLeedsUnited_scene_6.mp4\n",
      "\n"
     ]
    },
    {
     "name": "stderr",
     "output_type": "stream",
     "text": [
      "                                                                                \r"
     ]
    },
    {
     "name": "stdout",
     "output_type": "stream",
     "text": [
      "Moviepy - Done !\n",
      "Moviepy - video ready /Users/idotzhori/Desktop/autoencoderlight/cleaned_highlights/WestHamUnitedvLeedsUnited_scene_6.mp4\n",
      "Moviepy - Building video /Users/idotzhori/Desktop/autoencoderlight/cleaned_highlights/ManchesterUnitedvChelsea_scene_18.mp4.\n",
      "MoviePy - Writing audio in ManchesterUnitedvChelsea_scene_18TEMP_MPY_wvf_snd.mp3\n"
     ]
    },
    {
     "name": "stderr",
     "output_type": "stream",
     "text": [
      "                                                                                \r"
     ]
    },
    {
     "name": "stdout",
     "output_type": "stream",
     "text": [
      "MoviePy - Done.\n",
      "Moviepy - Writing video /Users/idotzhori/Desktop/autoencoderlight/cleaned_highlights/ManchesterUnitedvChelsea_scene_18.mp4\n",
      "\n"
     ]
    },
    {
     "name": "stderr",
     "output_type": "stream",
     "text": [
      "                                                                                \r"
     ]
    },
    {
     "name": "stdout",
     "output_type": "stream",
     "text": [
      "Moviepy - Done !\n",
      "Moviepy - video ready /Users/idotzhori/Desktop/autoencoderlight/cleaned_highlights/ManchesterUnitedvChelsea_scene_18.mp4\n",
      "Moviepy - Building video /Users/idotzhori/Desktop/autoencoderlight/cleaned_highlights/FulhamvWestHamUnited_scene_14.mp4.\n",
      "MoviePy - Writing audio in FulhamvWestHamUnited_scene_14TEMP_MPY_wvf_snd.mp3\n"
     ]
    },
    {
     "name": "stderr",
     "output_type": "stream",
     "text": [
      "                                                                                \r"
     ]
    },
    {
     "name": "stdout",
     "output_type": "stream",
     "text": [
      "MoviePy - Done.\n",
      "Moviepy - Writing video /Users/idotzhori/Desktop/autoencoderlight/cleaned_highlights/FulhamvWestHamUnited_scene_14.mp4\n",
      "\n"
     ]
    },
    {
     "name": "stderr",
     "output_type": "stream",
     "text": [
      "                                                                                \r"
     ]
    },
    {
     "name": "stdout",
     "output_type": "stream",
     "text": [
      "Moviepy - Done !\n",
      "Moviepy - video ready /Users/idotzhori/Desktop/autoencoderlight/cleaned_highlights/FulhamvWestHamUnited_scene_14.mp4\n",
      "Moviepy - Building video /Users/idotzhori/Desktop/autoencoderlight/cleaned_highlights/CrystalPalacevManchesterCity_scene_20.mp4.\n",
      "MoviePy - Writing audio in CrystalPalacevManchesterCity_scene_20TEMP_MPY_wvf_snd.mp3\n"
     ]
    },
    {
     "name": "stderr",
     "output_type": "stream",
     "text": [
      "                                                                                \r"
     ]
    },
    {
     "name": "stdout",
     "output_type": "stream",
     "text": [
      "MoviePy - Done.\n",
      "Moviepy - Writing video /Users/idotzhori/Desktop/autoencoderlight/cleaned_highlights/CrystalPalacevManchesterCity_scene_20.mp4\n",
      "\n"
     ]
    },
    {
     "name": "stderr",
     "output_type": "stream",
     "text": [
      "                                                                                \r"
     ]
    },
    {
     "name": "stdout",
     "output_type": "stream",
     "text": [
      "Moviepy - Done !\n",
      "Moviepy - video ready /Users/idotzhori/Desktop/autoencoderlight/cleaned_highlights/CrystalPalacevManchesterCity_scene_20.mp4\n",
      "Moviepy - Building video /Users/idotzhori/Desktop/autoencoderlight/cleaned_highlights/EvertonvTottenhamHotspur_scene_6.mp4.\n",
      "MoviePy - Writing audio in EvertonvTottenhamHotspur_scene_6TEMP_MPY_wvf_snd.mp3\n"
     ]
    },
    {
     "name": "stderr",
     "output_type": "stream",
     "text": [
      "                                                                                \r"
     ]
    },
    {
     "name": "stdout",
     "output_type": "stream",
     "text": [
      "MoviePy - Done.\n",
      "Moviepy - Writing video /Users/idotzhori/Desktop/autoencoderlight/cleaned_highlights/EvertonvTottenhamHotspur_scene_6.mp4\n",
      "\n"
     ]
    },
    {
     "name": "stderr",
     "output_type": "stream",
     "text": [
      "                                                                                \r"
     ]
    },
    {
     "name": "stdout",
     "output_type": "stream",
     "text": [
      "Moviepy - Done !\n",
      "Moviepy - video ready /Users/idotzhori/Desktop/autoencoderlight/cleaned_highlights/EvertonvTottenhamHotspur_scene_6.mp4\n",
      "Moviepy - Building video /Users/idotzhori/Desktop/autoencoderlight/cleaned_highlights/ChelseavEverton_scene_5.mp4.\n",
      "MoviePy - Writing audio in ChelseavEverton_scene_5TEMP_MPY_wvf_snd.mp3\n"
     ]
    },
    {
     "name": "stderr",
     "output_type": "stream",
     "text": [
      "                                                                                \r"
     ]
    },
    {
     "name": "stdout",
     "output_type": "stream",
     "text": [
      "MoviePy - Done.\n",
      "Moviepy - Writing video /Users/idotzhori/Desktop/autoencoderlight/cleaned_highlights/ChelseavEverton_scene_5.mp4\n",
      "\n"
     ]
    },
    {
     "name": "stderr",
     "output_type": "stream",
     "text": [
      "                                                                                \r"
     ]
    },
    {
     "name": "stdout",
     "output_type": "stream",
     "text": [
      "Moviepy - Done !\n",
      "Moviepy - video ready /Users/idotzhori/Desktop/autoencoderlight/cleaned_highlights/ChelseavEverton_scene_5.mp4\n",
      "Moviepy - Building video /Users/idotzhori/Desktop/autoencoderlight/cleaned_highlights/WestHamUnitedvNottinghamForest_scene_15.mp4.\n",
      "MoviePy - Writing audio in WestHamUnitedvNottinghamForest_scene_15TEMP_MPY_wvf_snd.mp3\n"
     ]
    },
    {
     "name": "stderr",
     "output_type": "stream",
     "text": [
      "                                                                                \r"
     ]
    },
    {
     "name": "stdout",
     "output_type": "stream",
     "text": [
      "MoviePy - Done.\n",
      "Moviepy - Writing video /Users/idotzhori/Desktop/autoencoderlight/cleaned_highlights/WestHamUnitedvNottinghamForest_scene_15.mp4\n",
      "\n"
     ]
    },
    {
     "name": "stderr",
     "output_type": "stream",
     "text": [
      "                                                                                \r"
     ]
    },
    {
     "name": "stdout",
     "output_type": "stream",
     "text": [
      "Moviepy - Done !\n",
      "Moviepy - video ready /Users/idotzhori/Desktop/autoencoderlight/cleaned_highlights/WestHamUnitedvNottinghamForest_scene_15.mp4\n",
      "Moviepy - Building video /Users/idotzhori/Desktop/autoencoderlight/cleaned_highlights/CrystalPalacevLeicesterCity_scene_16.mp4.\n",
      "MoviePy - Writing audio in CrystalPalacevLeicesterCity_scene_16TEMP_MPY_wvf_snd.mp3\n"
     ]
    },
    {
     "name": "stderr",
     "output_type": "stream",
     "text": [
      "                                                                                \r"
     ]
    },
    {
     "name": "stdout",
     "output_type": "stream",
     "text": [
      "MoviePy - Done.\n",
      "Moviepy - Writing video /Users/idotzhori/Desktop/autoencoderlight/cleaned_highlights/CrystalPalacevLeicesterCity_scene_16.mp4\n",
      "\n"
     ]
    },
    {
     "name": "stderr",
     "output_type": "stream",
     "text": [
      "                                                                                \r"
     ]
    },
    {
     "name": "stdout",
     "output_type": "stream",
     "text": [
      "Moviepy - Done !\n",
      "Moviepy - video ready /Users/idotzhori/Desktop/autoencoderlight/cleaned_highlights/CrystalPalacevLeicesterCity_scene_16.mp4\n",
      "Moviepy - Building video /Users/idotzhori/Desktop/autoencoderlight/cleaned_highlights/TottenhamHotspurvNottinghamForest_scene_22.mp4.\n",
      "MoviePy - Writing audio in TottenhamHotspurvNottinghamForest_scene_22TEMP_MPY_wvf_snd.mp3\n"
     ]
    },
    {
     "name": "stderr",
     "output_type": "stream",
     "text": [
      "                                                                                \r"
     ]
    },
    {
     "name": "stdout",
     "output_type": "stream",
     "text": [
      "MoviePy - Done.\n",
      "Moviepy - Writing video /Users/idotzhori/Desktop/autoencoderlight/cleaned_highlights/TottenhamHotspurvNottinghamForest_scene_22.mp4\n",
      "\n"
     ]
    },
    {
     "name": "stderr",
     "output_type": "stream",
     "text": [
      "                                                                                \r"
     ]
    },
    {
     "name": "stdout",
     "output_type": "stream",
     "text": [
      "Moviepy - Done !\n",
      "Moviepy - video ready /Users/idotzhori/Desktop/autoencoderlight/cleaned_highlights/TottenhamHotspurvNottinghamForest_scene_22.mp4\n",
      "Moviepy - Building video /Users/idotzhori/Desktop/autoencoderlight/cleaned_highlights/SouthamptonvLiverpool_scene_18.mp4.\n",
      "MoviePy - Writing audio in SouthamptonvLiverpool_scene_18TEMP_MPY_wvf_snd.mp3\n"
     ]
    },
    {
     "name": "stderr",
     "output_type": "stream",
     "text": [
      "                                                                                \r"
     ]
    },
    {
     "name": "stdout",
     "output_type": "stream",
     "text": [
      "MoviePy - Done.\n",
      "Moviepy - Writing video /Users/idotzhori/Desktop/autoencoderlight/cleaned_highlights/SouthamptonvLiverpool_scene_18.mp4\n",
      "\n"
     ]
    },
    {
     "name": "stderr",
     "output_type": "stream",
     "text": [
      "                                                                                \r"
     ]
    },
    {
     "name": "stdout",
     "output_type": "stream",
     "text": [
      "Moviepy - Done !\n",
      "Moviepy - video ready /Users/idotzhori/Desktop/autoencoderlight/cleaned_highlights/SouthamptonvLiverpool_scene_18.mp4\n",
      "Moviepy - Building video /Users/idotzhori/Desktop/autoencoderlight/cleaned_highlights/EvertonvTottenhamHotspur_scene_2.mp4.\n",
      "MoviePy - Writing audio in EvertonvTottenhamHotspur_scene_2TEMP_MPY_wvf_snd.mp3\n"
     ]
    },
    {
     "name": "stderr",
     "output_type": "stream",
     "text": [
      "                                                                                \r"
     ]
    },
    {
     "name": "stdout",
     "output_type": "stream",
     "text": [
      "MoviePy - Done.\n",
      "Moviepy - Writing video /Users/idotzhori/Desktop/autoencoderlight/cleaned_highlights/EvertonvTottenhamHotspur_scene_2.mp4\n",
      "\n"
     ]
    },
    {
     "name": "stderr",
     "output_type": "stream",
     "text": [
      "                                                                                \r"
     ]
    },
    {
     "name": "stdout",
     "output_type": "stream",
     "text": [
      "Moviepy - Done !\n",
      "Moviepy - video ready /Users/idotzhori/Desktop/autoencoderlight/cleaned_highlights/EvertonvTottenhamHotspur_scene_2.mp4\n",
      "Moviepy - Building video /Users/idotzhori/Desktop/autoencoderlight/cleaned_highlights/EvertonvBrentford_scene_6.mp4.\n",
      "MoviePy - Writing audio in EvertonvBrentford_scene_6TEMP_MPY_wvf_snd.mp3\n"
     ]
    },
    {
     "name": "stderr",
     "output_type": "stream",
     "text": [
      "                                                                                \r"
     ]
    },
    {
     "name": "stdout",
     "output_type": "stream",
     "text": [
      "MoviePy - Done.\n",
      "Moviepy - Writing video /Users/idotzhori/Desktop/autoencoderlight/cleaned_highlights/EvertonvBrentford_scene_6.mp4\n",
      "\n"
     ]
    },
    {
     "name": "stderr",
     "output_type": "stream",
     "text": [
      "                                                                                \r"
     ]
    },
    {
     "name": "stdout",
     "output_type": "stream",
     "text": [
      "Moviepy - Done !\n",
      "Moviepy - video ready /Users/idotzhori/Desktop/autoencoderlight/cleaned_highlights/EvertonvBrentford_scene_6.mp4\n",
      "Moviepy - Building video /Users/idotzhori/Desktop/autoencoderlight/cleaned_highlights/SouthamptonvFulham_scene_10.mp4.\n",
      "MoviePy - Writing audio in SouthamptonvFulham_scene_10TEMP_MPY_wvf_snd.mp3\n"
     ]
    },
    {
     "name": "stderr",
     "output_type": "stream",
     "text": [
      "                                                                                \r"
     ]
    },
    {
     "name": "stdout",
     "output_type": "stream",
     "text": [
      "MoviePy - Done.\n",
      "Moviepy - Writing video /Users/idotzhori/Desktop/autoencoderlight/cleaned_highlights/SouthamptonvFulham_scene_10.mp4\n",
      "\n"
     ]
    },
    {
     "name": "stderr",
     "output_type": "stream",
     "text": [
      "                                                                                \r"
     ]
    },
    {
     "name": "stdout",
     "output_type": "stream",
     "text": [
      "Moviepy - Done !\n",
      "Moviepy - video ready /Users/idotzhori/Desktop/autoencoderlight/cleaned_highlights/SouthamptonvFulham_scene_10.mp4\n",
      "Moviepy - Building video /Users/idotzhori/Desktop/autoencoderlight/cleaned_highlights/BrightonvCrystalPalace_scene_21.mp4.\n",
      "MoviePy - Writing audio in BrightonvCrystalPalace_scene_21TEMP_MPY_wvf_snd.mp3\n"
     ]
    },
    {
     "name": "stderr",
     "output_type": "stream",
     "text": [
      "                                                                                \r"
     ]
    },
    {
     "name": "stdout",
     "output_type": "stream",
     "text": [
      "MoviePy - Done.\n",
      "Moviepy - Writing video /Users/idotzhori/Desktop/autoencoderlight/cleaned_highlights/BrightonvCrystalPalace_scene_21.mp4\n",
      "\n"
     ]
    },
    {
     "name": "stderr",
     "output_type": "stream",
     "text": [
      "                                                                                \r"
     ]
    },
    {
     "name": "stdout",
     "output_type": "stream",
     "text": [
      "Moviepy - Done !\n",
      "Moviepy - video ready /Users/idotzhori/Desktop/autoencoderlight/cleaned_highlights/BrightonvCrystalPalace_scene_21.mp4\n",
      "Moviepy - Building video /Users/idotzhori/Desktop/autoencoderlight/cleaned_highlights/WolvesvBournemouth_scene_9.mp4.\n",
      "MoviePy - Writing audio in WolvesvBournemouth_scene_9TEMP_MPY_wvf_snd.mp3\n"
     ]
    },
    {
     "name": "stderr",
     "output_type": "stream",
     "text": [
      "                                                                                \r"
     ]
    },
    {
     "name": "stdout",
     "output_type": "stream",
     "text": [
      "MoviePy - Done.\n",
      "Moviepy - Writing video /Users/idotzhori/Desktop/autoencoderlight/cleaned_highlights/WolvesvBournemouth_scene_9.mp4\n",
      "\n"
     ]
    },
    {
     "name": "stderr",
     "output_type": "stream",
     "text": [
      "                                                                                \r"
     ]
    },
    {
     "name": "stdout",
     "output_type": "stream",
     "text": [
      "Moviepy - Done !\n",
      "Moviepy - video ready /Users/idotzhori/Desktop/autoencoderlight/cleaned_highlights/WolvesvBournemouth_scene_9.mp4\n",
      "Moviepy - Building video /Users/idotzhori/Desktop/autoencoderlight/cleaned_highlights/ManchesterCityvNewcastleUnited_scene_2.mp4.\n",
      "MoviePy - Writing audio in ManchesterCityvNewcastleUnited_scene_2TEMP_MPY_wvf_snd.mp3\n"
     ]
    },
    {
     "name": "stderr",
     "output_type": "stream",
     "text": [
      "                                                                                \r"
     ]
    },
    {
     "name": "stdout",
     "output_type": "stream",
     "text": [
      "MoviePy - Done.\n",
      "Moviepy - Writing video /Users/idotzhori/Desktop/autoencoderlight/cleaned_highlights/ManchesterCityvNewcastleUnited_scene_2.mp4\n",
      "\n"
     ]
    },
    {
     "name": "stderr",
     "output_type": "stream",
     "text": [
      "                                                                                \r"
     ]
    },
    {
     "name": "stdout",
     "output_type": "stream",
     "text": [
      "Moviepy - Done !\n",
      "Moviepy - video ready /Users/idotzhori/Desktop/autoencoderlight/cleaned_highlights/ManchesterCityvNewcastleUnited_scene_2.mp4\n",
      "Moviepy - Building video /Users/idotzhori/Desktop/autoencoderlight/cleaned_highlights/ManchesterUnitedvBrentford_scene_10.mp4.\n",
      "MoviePy - Writing audio in ManchesterUnitedvBrentford_scene_10TEMP_MPY_wvf_snd.mp3\n"
     ]
    },
    {
     "name": "stderr",
     "output_type": "stream",
     "text": [
      "                                                                                \r"
     ]
    },
    {
     "name": "stdout",
     "output_type": "stream",
     "text": [
      "MoviePy - Done.\n",
      "Moviepy - Writing video /Users/idotzhori/Desktop/autoencoderlight/cleaned_highlights/ManchesterUnitedvBrentford_scene_10.mp4\n",
      "\n"
     ]
    },
    {
     "name": "stderr",
     "output_type": "stream",
     "text": [
      "                                                                                \r"
     ]
    },
    {
     "name": "stdout",
     "output_type": "stream",
     "text": [
      "Moviepy - Done !\n",
      "Moviepy - video ready /Users/idotzhori/Desktop/autoencoderlight/cleaned_highlights/ManchesterUnitedvBrentford_scene_10.mp4\n",
      "Moviepy - Building video /Users/idotzhori/Desktop/autoencoderlight/cleaned_highlights/BrightonvWestHamUnited_scene_16.mp4.\n",
      "MoviePy - Writing audio in BrightonvWestHamUnited_scene_16TEMP_MPY_wvf_snd.mp3\n"
     ]
    },
    {
     "name": "stderr",
     "output_type": "stream",
     "text": [
      "                                                                                \r"
     ]
    },
    {
     "name": "stdout",
     "output_type": "stream",
     "text": [
      "MoviePy - Done.\n",
      "Moviepy - Writing video /Users/idotzhori/Desktop/autoencoderlight/cleaned_highlights/BrightonvWestHamUnited_scene_16.mp4\n",
      "\n"
     ]
    },
    {
     "name": "stderr",
     "output_type": "stream",
     "text": [
      "                                                                                \r"
     ]
    },
    {
     "name": "stdout",
     "output_type": "stream",
     "text": [
      "Moviepy - Done !\n",
      "Moviepy - video ready /Users/idotzhori/Desktop/autoencoderlight/cleaned_highlights/BrightonvWestHamUnited_scene_16.mp4\n",
      "Moviepy - Building video /Users/idotzhori/Desktop/autoencoderlight/cleaned_highlights/ManchesterUnitedvAstonVilla_scene_15.mp4.\n",
      "MoviePy - Writing audio in ManchesterUnitedvAstonVilla_scene_15TEMP_MPY_wvf_snd.mp3\n"
     ]
    },
    {
     "name": "stderr",
     "output_type": "stream",
     "text": [
      "                                                                                \r"
     ]
    },
    {
     "name": "stdout",
     "output_type": "stream",
     "text": [
      "MoviePy - Done.\n",
      "Moviepy - Writing video /Users/idotzhori/Desktop/autoencoderlight/cleaned_highlights/ManchesterUnitedvAstonVilla_scene_15.mp4\n",
      "\n"
     ]
    },
    {
     "name": "stderr",
     "output_type": "stream",
     "text": [
      "                                                                                \r"
     ]
    },
    {
     "name": "stdout",
     "output_type": "stream",
     "text": [
      "Moviepy - Done !\n",
      "Moviepy - video ready /Users/idotzhori/Desktop/autoencoderlight/cleaned_highlights/ManchesterUnitedvAstonVilla_scene_15.mp4\n",
      "Moviepy - Building video /Users/idotzhori/Desktop/autoencoderlight/cleaned_highlights/LeicesterCityvAstonVilla_scene_6.mp4.\n",
      "MoviePy - Writing audio in LeicesterCityvAstonVilla_scene_6TEMP_MPY_wvf_snd.mp3\n"
     ]
    },
    {
     "name": "stderr",
     "output_type": "stream",
     "text": [
      "                                                                                \r"
     ]
    },
    {
     "name": "stdout",
     "output_type": "stream",
     "text": [
      "MoviePy - Done.\n",
      "Moviepy - Writing video /Users/idotzhori/Desktop/autoencoderlight/cleaned_highlights/LeicesterCityvAstonVilla_scene_6.mp4\n",
      "\n"
     ]
    },
    {
     "name": "stderr",
     "output_type": "stream",
     "text": [
      "                                                                                \r"
     ]
    },
    {
     "name": "stdout",
     "output_type": "stream",
     "text": [
      "Moviepy - Done !\n",
      "Moviepy - video ready /Users/idotzhori/Desktop/autoencoderlight/cleaned_highlights/LeicesterCityvAstonVilla_scene_6.mp4\n",
      "Moviepy - Building video /Users/idotzhori/Desktop/autoencoderlight/cleaned_highlights/WestHamUnitedvNottinghamForest_scene_3.mp4.\n",
      "MoviePy - Writing audio in WestHamUnitedvNottinghamForest_scene_3TEMP_MPY_wvf_snd.mp3\n"
     ]
    },
    {
     "name": "stderr",
     "output_type": "stream",
     "text": [
      "                                                                                \r"
     ]
    },
    {
     "name": "stdout",
     "output_type": "stream",
     "text": [
      "MoviePy - Done.\n",
      "Moviepy - Writing video /Users/idotzhori/Desktop/autoencoderlight/cleaned_highlights/WestHamUnitedvNottinghamForest_scene_3.mp4\n",
      "\n"
     ]
    },
    {
     "name": "stderr",
     "output_type": "stream",
     "text": [
      "                                                                                \r"
     ]
    },
    {
     "name": "stdout",
     "output_type": "stream",
     "text": [
      "Moviepy - Done !\n",
      "Moviepy - video ready /Users/idotzhori/Desktop/autoencoderlight/cleaned_highlights/WestHamUnitedvNottinghamForest_scene_3.mp4\n",
      "Moviepy - Building video /Users/idotzhori/Desktop/autoencoderlight/cleaned_highlights/NottinghamForestvBrighton_scene_21.mp4.\n",
      "MoviePy - Writing audio in NottinghamForestvBrighton_scene_21TEMP_MPY_wvf_snd.mp3\n"
     ]
    },
    {
     "name": "stderr",
     "output_type": "stream",
     "text": [
      "                                                                                \r"
     ]
    },
    {
     "name": "stdout",
     "output_type": "stream",
     "text": [
      "MoviePy - Done.\n",
      "Moviepy - Writing video /Users/idotzhori/Desktop/autoencoderlight/cleaned_highlights/NottinghamForestvBrighton_scene_21.mp4\n",
      "\n"
     ]
    },
    {
     "name": "stderr",
     "output_type": "stream",
     "text": [
      "                                                                                \r"
     ]
    },
    {
     "name": "stdout",
     "output_type": "stream",
     "text": [
      "Moviepy - Done !\n",
      "Moviepy - video ready /Users/idotzhori/Desktop/autoencoderlight/cleaned_highlights/NottinghamForestvBrighton_scene_21.mp4\n",
      "Moviepy - Building video /Users/idotzhori/Desktop/autoencoderlight/cleaned_highlights/ManchesterCityvArsenal_scene_30.mp4.\n",
      "MoviePy - Writing audio in ManchesterCityvArsenal_scene_30TEMP_MPY_wvf_snd.mp3\n"
     ]
    },
    {
     "name": "stderr",
     "output_type": "stream",
     "text": [
      "                                                                                \r"
     ]
    },
    {
     "name": "stdout",
     "output_type": "stream",
     "text": [
      "MoviePy - Done.\n",
      "Moviepy - Writing video /Users/idotzhori/Desktop/autoencoderlight/cleaned_highlights/ManchesterCityvArsenal_scene_30.mp4\n",
      "\n"
     ]
    },
    {
     "name": "stderr",
     "output_type": "stream",
     "text": [
      "                                                                                \r"
     ]
    },
    {
     "name": "stdout",
     "output_type": "stream",
     "text": [
      "Moviepy - Done !\n",
      "Moviepy - video ready /Users/idotzhori/Desktop/autoencoderlight/cleaned_highlights/ManchesterCityvArsenal_scene_30.mp4\n",
      "Moviepy - Building video /Users/idotzhori/Desktop/autoencoderlight/cleaned_highlights/SouthamptonvFulham_scene_3.mp4.\n",
      "MoviePy - Writing audio in SouthamptonvFulham_scene_3TEMP_MPY_wvf_snd.mp3\n"
     ]
    },
    {
     "name": "stderr",
     "output_type": "stream",
     "text": [
      "                                                                                \r"
     ]
    },
    {
     "name": "stdout",
     "output_type": "stream",
     "text": [
      "MoviePy - Done.\n",
      "Moviepy - Writing video /Users/idotzhori/Desktop/autoencoderlight/cleaned_highlights/SouthamptonvFulham_scene_3.mp4\n",
      "\n"
     ]
    },
    {
     "name": "stderr",
     "output_type": "stream",
     "text": [
      "                                                                                \r"
     ]
    },
    {
     "name": "stdout",
     "output_type": "stream",
     "text": [
      "Moviepy - Done !\n",
      "Moviepy - video ready /Users/idotzhori/Desktop/autoencoderlight/cleaned_highlights/SouthamptonvFulham_scene_3.mp4\n",
      "Moviepy - Building video /Users/idotzhori/Desktop/autoencoderlight/cleaned_highlights/LeedsUnitedvSouthampton_scene_2.mp4.\n",
      "MoviePy - Writing audio in LeedsUnitedvSouthampton_scene_2TEMP_MPY_wvf_snd.mp3\n"
     ]
    },
    {
     "name": "stderr",
     "output_type": "stream",
     "text": [
      "                                                                                \r"
     ]
    },
    {
     "name": "stdout",
     "output_type": "stream",
     "text": [
      "MoviePy - Done.\n",
      "Moviepy - Writing video /Users/idotzhori/Desktop/autoencoderlight/cleaned_highlights/LeedsUnitedvSouthampton_scene_2.mp4\n",
      "\n"
     ]
    },
    {
     "name": "stderr",
     "output_type": "stream",
     "text": [
      "                                                                                \r"
     ]
    },
    {
     "name": "stdout",
     "output_type": "stream",
     "text": [
      "Moviepy - Done !\n",
      "Moviepy - video ready /Users/idotzhori/Desktop/autoencoderlight/cleaned_highlights/LeedsUnitedvSouthampton_scene_2.mp4\n",
      "Moviepy - Building video /Users/idotzhori/Desktop/autoencoderlight/cleaned_highlights/LeedsUnitedvNewcastleUnited_scene_12.mp4.\n",
      "MoviePy - Writing audio in LeedsUnitedvNewcastleUnited_scene_12TEMP_MPY_wvf_snd.mp3\n"
     ]
    },
    {
     "name": "stderr",
     "output_type": "stream",
     "text": [
      "                                                                                \r"
     ]
    },
    {
     "name": "stdout",
     "output_type": "stream",
     "text": [
      "MoviePy - Done.\n",
      "Moviepy - Writing video /Users/idotzhori/Desktop/autoencoderlight/cleaned_highlights/LeedsUnitedvNewcastleUnited_scene_12.mp4\n",
      "\n"
     ]
    },
    {
     "name": "stderr",
     "output_type": "stream",
     "text": [
      "                                                                                \r"
     ]
    },
    {
     "name": "stdout",
     "output_type": "stream",
     "text": [
      "Moviepy - Done !\n",
      "Moviepy - video ready /Users/idotzhori/Desktop/autoencoderlight/cleaned_highlights/LeedsUnitedvNewcastleUnited_scene_12.mp4\n",
      "Moviepy - Building video /Users/idotzhori/Desktop/autoencoderlight/cleaned_highlights/SouthamptonvLiverpool_scene_8.mp4.\n",
      "MoviePy - Writing audio in SouthamptonvLiverpool_scene_8TEMP_MPY_wvf_snd.mp3\n"
     ]
    },
    {
     "name": "stderr",
     "output_type": "stream",
     "text": [
      "                                                                                \r"
     ]
    },
    {
     "name": "stdout",
     "output_type": "stream",
     "text": [
      "MoviePy - Done.\n",
      "Moviepy - Writing video /Users/idotzhori/Desktop/autoencoderlight/cleaned_highlights/SouthamptonvLiverpool_scene_8.mp4\n",
      "\n"
     ]
    },
    {
     "name": "stderr",
     "output_type": "stream",
     "text": [
      "                                                                                \r"
     ]
    },
    {
     "name": "stdout",
     "output_type": "stream",
     "text": [
      "Moviepy - Done !\n",
      "Moviepy - video ready /Users/idotzhori/Desktop/autoencoderlight/cleaned_highlights/SouthamptonvLiverpool_scene_8.mp4\n",
      "Moviepy - Building video /Users/idotzhori/Desktop/autoencoderlight/cleaned_highlights/NottinghamForestvManchesterCity_scene_1.mp4.\n",
      "MoviePy - Writing audio in NottinghamForestvManchesterCity_scene_1TEMP_MPY_wvf_snd.mp3\n"
     ]
    },
    {
     "name": "stderr",
     "output_type": "stream",
     "text": [
      "                                                                                \r"
     ]
    },
    {
     "name": "stdout",
     "output_type": "stream",
     "text": [
      "MoviePy - Done.\n",
      "Moviepy - Writing video /Users/idotzhori/Desktop/autoencoderlight/cleaned_highlights/NottinghamForestvManchesterCity_scene_1.mp4\n",
      "\n"
     ]
    },
    {
     "name": "stderr",
     "output_type": "stream",
     "text": [
      "                                                                                \r"
     ]
    },
    {
     "name": "stdout",
     "output_type": "stream",
     "text": [
      "Moviepy - Done !\n",
      "Moviepy - video ready /Users/idotzhori/Desktop/autoencoderlight/cleaned_highlights/NottinghamForestvManchesterCity_scene_1.mp4\n",
      "Moviepy - Building video /Users/idotzhori/Desktop/autoencoderlight/cleaned_highlights/AstonVillavNottinghamForest_scene_8.mp4.\n",
      "MoviePy - Writing audio in AstonVillavNottinghamForest_scene_8TEMP_MPY_wvf_snd.mp3\n"
     ]
    },
    {
     "name": "stderr",
     "output_type": "stream",
     "text": [
      "                                                                                \r"
     ]
    },
    {
     "name": "stdout",
     "output_type": "stream",
     "text": [
      "MoviePy - Done.\n",
      "Moviepy - Writing video /Users/idotzhori/Desktop/autoencoderlight/cleaned_highlights/AstonVillavNottinghamForest_scene_8.mp4\n",
      "\n"
     ]
    },
    {
     "name": "stderr",
     "output_type": "stream",
     "text": [
      "                                                                                \r"
     ]
    },
    {
     "name": "stdout",
     "output_type": "stream",
     "text": [
      "Moviepy - Done !\n",
      "Moviepy - video ready /Users/idotzhori/Desktop/autoencoderlight/cleaned_highlights/AstonVillavNottinghamForest_scene_8.mp4\n",
      "Moviepy - Building video /Users/idotzhori/Desktop/autoencoderlight/cleaned_highlights/ManchesterUnitedvLeicesterCity_scene_10.mp4.\n",
      "MoviePy - Writing audio in ManchesterUnitedvLeicesterCity_scene_10TEMP_MPY_wvf_snd.mp3\n"
     ]
    },
    {
     "name": "stderr",
     "output_type": "stream",
     "text": [
      "                                                                                \r"
     ]
    },
    {
     "name": "stdout",
     "output_type": "stream",
     "text": [
      "MoviePy - Done.\n",
      "Moviepy - Writing video /Users/idotzhori/Desktop/autoencoderlight/cleaned_highlights/ManchesterUnitedvLeicesterCity_scene_10.mp4\n",
      "\n"
     ]
    },
    {
     "name": "stderr",
     "output_type": "stream",
     "text": [
      "                                                                                \r"
     ]
    },
    {
     "name": "stdout",
     "output_type": "stream",
     "text": [
      "Moviepy - Done !\n",
      "Moviepy - video ready /Users/idotzhori/Desktop/autoencoderlight/cleaned_highlights/ManchesterUnitedvLeicesterCity_scene_10.mp4\n",
      "Moviepy - Building video /Users/idotzhori/Desktop/autoencoderlight/cleaned_highlights/ManchesterUnitedvLeicesterCity_scene_8.mp4.\n",
      "MoviePy - Writing audio in ManchesterUnitedvLeicesterCity_scene_8TEMP_MPY_wvf_snd.mp3\n"
     ]
    },
    {
     "name": "stderr",
     "output_type": "stream",
     "text": [
      "                                                                                \r"
     ]
    },
    {
     "name": "stdout",
     "output_type": "stream",
     "text": [
      "MoviePy - Done.\n",
      "Moviepy - Writing video /Users/idotzhori/Desktop/autoencoderlight/cleaned_highlights/ManchesterUnitedvLeicesterCity_scene_8.mp4\n",
      "\n"
     ]
    },
    {
     "name": "stderr",
     "output_type": "stream",
     "text": [
      "                                                                                \r"
     ]
    },
    {
     "name": "stdout",
     "output_type": "stream",
     "text": [
      "Moviepy - Done !\n",
      "Moviepy - video ready /Users/idotzhori/Desktop/autoencoderlight/cleaned_highlights/ManchesterUnitedvLeicesterCity_scene_8.mp4\n",
      "Moviepy - Building video /Users/idotzhori/Desktop/autoencoderlight/cleaned_highlights/SouthamptonvFulham_scene_7.mp4.\n",
      "MoviePy - Writing audio in SouthamptonvFulham_scene_7TEMP_MPY_wvf_snd.mp3\n"
     ]
    },
    {
     "name": "stderr",
     "output_type": "stream",
     "text": [
      "                                                                                \r"
     ]
    },
    {
     "name": "stdout",
     "output_type": "stream",
     "text": [
      "MoviePy - Done.\n",
      "Moviepy - Writing video /Users/idotzhori/Desktop/autoencoderlight/cleaned_highlights/SouthamptonvFulham_scene_7.mp4\n",
      "\n"
     ]
    },
    {
     "name": "stderr",
     "output_type": "stream",
     "text": [
      "                                                                                \r"
     ]
    },
    {
     "name": "stdout",
     "output_type": "stream",
     "text": [
      "Moviepy - Done !\n",
      "Moviepy - video ready /Users/idotzhori/Desktop/autoencoderlight/cleaned_highlights/SouthamptonvFulham_scene_7.mp4\n",
      "Moviepy - Building video /Users/idotzhori/Desktop/autoencoderlight/cleaned_highlights/TottenhamHotspurvBournemouth_scene_3.mp4.\n",
      "MoviePy - Writing audio in TottenhamHotspurvBournemouth_scene_3TEMP_MPY_wvf_snd.mp3\n"
     ]
    },
    {
     "name": "stderr",
     "output_type": "stream",
     "text": [
      "                                                                                \r"
     ]
    },
    {
     "name": "stdout",
     "output_type": "stream",
     "text": [
      "MoviePy - Done.\n",
      "Moviepy - Writing video /Users/idotzhori/Desktop/autoencoderlight/cleaned_highlights/TottenhamHotspurvBournemouth_scene_3.mp4\n",
      "\n"
     ]
    },
    {
     "name": "stderr",
     "output_type": "stream",
     "text": [
      "                                                                                \r"
     ]
    },
    {
     "name": "stdout",
     "output_type": "stream",
     "text": [
      "Moviepy - Done !\n",
      "Moviepy - video ready /Users/idotzhori/Desktop/autoencoderlight/cleaned_highlights/TottenhamHotspurvBournemouth_scene_3.mp4\n",
      "Moviepy - Building video /Users/idotzhori/Desktop/autoencoderlight/cleaned_highlights/NewcastleUnitedvLiverpool_scene_9.mp4.\n",
      "MoviePy - Writing audio in NewcastleUnitedvLiverpool_scene_9TEMP_MPY_wvf_snd.mp3\n"
     ]
    },
    {
     "name": "stderr",
     "output_type": "stream",
     "text": [
      "                                                                                \r"
     ]
    },
    {
     "name": "stdout",
     "output_type": "stream",
     "text": [
      "MoviePy - Done.\n",
      "Moviepy - Writing video /Users/idotzhori/Desktop/autoencoderlight/cleaned_highlights/NewcastleUnitedvLiverpool_scene_9.mp4\n",
      "\n"
     ]
    },
    {
     "name": "stderr",
     "output_type": "stream",
     "text": [
      "                                                                                \r"
     ]
    },
    {
     "name": "stdout",
     "output_type": "stream",
     "text": [
      "Moviepy - Done !\n",
      "Moviepy - video ready /Users/idotzhori/Desktop/autoencoderlight/cleaned_highlights/NewcastleUnitedvLiverpool_scene_9.mp4\n",
      "Moviepy - Building video /Users/idotzhori/Desktop/autoencoderlight/cleaned_highlights/TottenhamHotspurvBournemouth_scene_13.mp4.\n",
      "MoviePy - Writing audio in TottenhamHotspurvBournemouth_scene_13TEMP_MPY_wvf_snd.mp3\n"
     ]
    },
    {
     "name": "stderr",
     "output_type": "stream",
     "text": [
      "                                                                                \r"
     ]
    },
    {
     "name": "stdout",
     "output_type": "stream",
     "text": [
      "MoviePy - Done.\n",
      "Moviepy - Writing video /Users/idotzhori/Desktop/autoencoderlight/cleaned_highlights/TottenhamHotspurvBournemouth_scene_13.mp4\n",
      "\n"
     ]
    },
    {
     "name": "stderr",
     "output_type": "stream",
     "text": [
      "                                                                                \r"
     ]
    },
    {
     "name": "stdout",
     "output_type": "stream",
     "text": [
      "Moviepy - Done !\n",
      "Moviepy - video ready /Users/idotzhori/Desktop/autoencoderlight/cleaned_highlights/TottenhamHotspurvBournemouth_scene_13.mp4\n",
      "Moviepy - Building video /Users/idotzhori/Desktop/autoencoderlight/cleaned_highlights/LiverpoolvAstonVilla_scene_11.mp4.\n",
      "MoviePy - Writing audio in LiverpoolvAstonVilla_scene_11TEMP_MPY_wvf_snd.mp3\n"
     ]
    },
    {
     "name": "stderr",
     "output_type": "stream",
     "text": [
      "                                                                                \r"
     ]
    },
    {
     "name": "stdout",
     "output_type": "stream",
     "text": [
      "MoviePy - Done.\n",
      "Moviepy - Writing video /Users/idotzhori/Desktop/autoencoderlight/cleaned_highlights/LiverpoolvAstonVilla_scene_11.mp4\n",
      "\n"
     ]
    },
    {
     "name": "stderr",
     "output_type": "stream",
     "text": [
      "                                                                                \r"
     ]
    },
    {
     "name": "stdout",
     "output_type": "stream",
     "text": [
      "Moviepy - Done !\n",
      "Moviepy - video ready /Users/idotzhori/Desktop/autoencoderlight/cleaned_highlights/LiverpoolvAstonVilla_scene_11.mp4\n",
      "Moviepy - Building video /Users/idotzhori/Desktop/autoencoderlight/cleaned_highlights/NewcastleUnitedvLiverpool_scene_21.mp4.\n",
      "MoviePy - Writing audio in NewcastleUnitedvLiverpool_scene_21TEMP_MPY_wvf_snd.mp3\n"
     ]
    },
    {
     "name": "stderr",
     "output_type": "stream",
     "text": [
      "                                                                                \r"
     ]
    },
    {
     "name": "stdout",
     "output_type": "stream",
     "text": [
      "MoviePy - Done.\n",
      "Moviepy - Writing video /Users/idotzhori/Desktop/autoencoderlight/cleaned_highlights/NewcastleUnitedvLiverpool_scene_21.mp4\n",
      "\n"
     ]
    },
    {
     "name": "stderr",
     "output_type": "stream",
     "text": [
      "                                                                                \r"
     ]
    },
    {
     "name": "stdout",
     "output_type": "stream",
     "text": [
      "Moviepy - Done !\n",
      "Moviepy - video ready /Users/idotzhori/Desktop/autoencoderlight/cleaned_highlights/NewcastleUnitedvLiverpool_scene_21.mp4\n",
      "Moviepy - Building video /Users/idotzhori/Desktop/autoencoderlight/cleaned_highlights/WolvesvBournemouth_scene_11.mp4.\n",
      "MoviePy - Writing audio in WolvesvBournemouth_scene_11TEMP_MPY_wvf_snd.mp3\n"
     ]
    },
    {
     "name": "stderr",
     "output_type": "stream",
     "text": [
      "                                                                                \r"
     ]
    },
    {
     "name": "stdout",
     "output_type": "stream",
     "text": [
      "MoviePy - Done.\n",
      "Moviepy - Writing video /Users/idotzhori/Desktop/autoencoderlight/cleaned_highlights/WolvesvBournemouth_scene_11.mp4\n",
      "\n"
     ]
    },
    {
     "name": "stderr",
     "output_type": "stream",
     "text": [
      "                                                                                \r"
     ]
    },
    {
     "name": "stdout",
     "output_type": "stream",
     "text": [
      "Moviepy - Done !\n",
      "Moviepy - video ready /Users/idotzhori/Desktop/autoencoderlight/cleaned_highlights/WolvesvBournemouth_scene_11.mp4\n",
      "Moviepy - Building video /Users/idotzhori/Desktop/autoencoderlight/cleaned_highlights/ManchesterCityvLeedsUnited_scene_8.mp4.\n",
      "MoviePy - Writing audio in ManchesterCityvLeedsUnited_scene_8TEMP_MPY_wvf_snd.mp3\n"
     ]
    },
    {
     "name": "stderr",
     "output_type": "stream",
     "text": [
      "                                                                                \r"
     ]
    },
    {
     "name": "stdout",
     "output_type": "stream",
     "text": [
      "MoviePy - Done.\n",
      "Moviepy - Writing video /Users/idotzhori/Desktop/autoencoderlight/cleaned_highlights/ManchesterCityvLeedsUnited_scene_8.mp4\n",
      "\n"
     ]
    },
    {
     "name": "stderr",
     "output_type": "stream",
     "text": [
      "                                                                                \r"
     ]
    },
    {
     "name": "stdout",
     "output_type": "stream",
     "text": [
      "Moviepy - Done !\n",
      "Moviepy - video ready /Users/idotzhori/Desktop/autoencoderlight/cleaned_highlights/ManchesterCityvLeedsUnited_scene_8.mp4\n",
      "Moviepy - Building video /Users/idotzhori/Desktop/autoencoderlight/cleaned_highlights/LeedsUnitedvBrighton_scene_17.mp4.\n",
      "MoviePy - Writing audio in LeedsUnitedvBrighton_scene_17TEMP_MPY_wvf_snd.mp3\n"
     ]
    },
    {
     "name": "stderr",
     "output_type": "stream",
     "text": [
      "                                                                                \r"
     ]
    },
    {
     "name": "stdout",
     "output_type": "stream",
     "text": [
      "MoviePy - Done.\n",
      "Moviepy - Writing video /Users/idotzhori/Desktop/autoencoderlight/cleaned_highlights/LeedsUnitedvBrighton_scene_17.mp4\n",
      "\n"
     ]
    },
    {
     "name": "stderr",
     "output_type": "stream",
     "text": [
      "                                                                                \r"
     ]
    },
    {
     "name": "stdout",
     "output_type": "stream",
     "text": [
      "Moviepy - Done !\n",
      "Moviepy - video ready /Users/idotzhori/Desktop/autoencoderlight/cleaned_highlights/LeedsUnitedvBrighton_scene_17.mp4\n",
      "Moviepy - Building video /Users/idotzhori/Desktop/autoencoderlight/cleaned_highlights/BournemouthvLiverpool_scene_5.mp4.\n",
      "MoviePy - Writing audio in BournemouthvLiverpool_scene_5TEMP_MPY_wvf_snd.mp3\n"
     ]
    },
    {
     "name": "stderr",
     "output_type": "stream",
     "text": [
      "                                                                                \r"
     ]
    },
    {
     "name": "stdout",
     "output_type": "stream",
     "text": [
      "MoviePy - Done.\n",
      "Moviepy - Writing video /Users/idotzhori/Desktop/autoencoderlight/cleaned_highlights/BournemouthvLiverpool_scene_5.mp4\n",
      "\n"
     ]
    },
    {
     "name": "stderr",
     "output_type": "stream",
     "text": [
      "                                                                                \r"
     ]
    },
    {
     "name": "stdout",
     "output_type": "stream",
     "text": [
      "Moviepy - Done !\n",
      "Moviepy - video ready /Users/idotzhori/Desktop/autoencoderlight/cleaned_highlights/BournemouthvLiverpool_scene_5.mp4\n",
      "Moviepy - Building video /Users/idotzhori/Desktop/autoencoderlight/cleaned_highlights/ManchesterCityvArsenal_scene_12.mp4.\n",
      "MoviePy - Writing audio in ManchesterCityvArsenal_scene_12TEMP_MPY_wvf_snd.mp3\n"
     ]
    },
    {
     "name": "stderr",
     "output_type": "stream",
     "text": [
      "                                                                                \r"
     ]
    },
    {
     "name": "stdout",
     "output_type": "stream",
     "text": [
      "MoviePy - Done.\n",
      "Moviepy - Writing video /Users/idotzhori/Desktop/autoencoderlight/cleaned_highlights/ManchesterCityvArsenal_scene_12.mp4\n",
      "\n"
     ]
    },
    {
     "name": "stderr",
     "output_type": "stream",
     "text": [
      "                                                                                \r"
     ]
    },
    {
     "name": "stdout",
     "output_type": "stream",
     "text": [
      "Moviepy - Done !\n",
      "Moviepy - video ready /Users/idotzhori/Desktop/autoencoderlight/cleaned_highlights/ManchesterCityvArsenal_scene_12.mp4\n",
      "Moviepy - Building video /Users/idotzhori/Desktop/autoencoderlight/cleaned_highlights/NottinghamForestvManchesterCity_scene_16.mp4.\n",
      "MoviePy - Writing audio in NottinghamForestvManchesterCity_scene_16TEMP_MPY_wvf_snd.mp3\n"
     ]
    },
    {
     "name": "stderr",
     "output_type": "stream",
     "text": [
      "                                                                                \r"
     ]
    },
    {
     "name": "stdout",
     "output_type": "stream",
     "text": [
      "MoviePy - Done.\n",
      "Moviepy - Writing video /Users/idotzhori/Desktop/autoencoderlight/cleaned_highlights/NottinghamForestvManchesterCity_scene_16.mp4\n",
      "\n"
     ]
    },
    {
     "name": "stderr",
     "output_type": "stream",
     "text": [
      "                                                                                \r"
     ]
    },
    {
     "name": "stdout",
     "output_type": "stream",
     "text": [
      "Moviepy - Done !\n",
      "Moviepy - video ready /Users/idotzhori/Desktop/autoencoderlight/cleaned_highlights/NottinghamForestvManchesterCity_scene_16.mp4\n",
      "Moviepy - Building video /Users/idotzhori/Desktop/autoencoderlight/cleaned_highlights/ManchesterCityvLeicesterCity_scene_18.mp4.\n",
      "MoviePy - Writing audio in ManchesterCityvLeicesterCity_scene_18TEMP_MPY_wvf_snd.mp3\n"
     ]
    },
    {
     "name": "stderr",
     "output_type": "stream",
     "text": [
      "                                                                                \r"
     ]
    },
    {
     "name": "stdout",
     "output_type": "stream",
     "text": [
      "MoviePy - Done.\n",
      "Moviepy - Writing video /Users/idotzhori/Desktop/autoencoderlight/cleaned_highlights/ManchesterCityvLeicesterCity_scene_18.mp4\n",
      "\n"
     ]
    },
    {
     "name": "stderr",
     "output_type": "stream",
     "text": [
      "                                                                                \r"
     ]
    },
    {
     "name": "stdout",
     "output_type": "stream",
     "text": [
      "Moviepy - Done !\n",
      "Moviepy - video ready /Users/idotzhori/Desktop/autoencoderlight/cleaned_highlights/ManchesterCityvLeicesterCity_scene_18.mp4\n",
      "Moviepy - Building video /Users/idotzhori/Desktop/autoencoderlight/cleaned_highlights/ManchesterCityvArsenal_scene_4.mp4.\n",
      "MoviePy - Writing audio in ManchesterCityvArsenal_scene_4TEMP_MPY_wvf_snd.mp3\n"
     ]
    },
    {
     "name": "stderr",
     "output_type": "stream",
     "text": [
      "                                                                                \r"
     ]
    },
    {
     "name": "stdout",
     "output_type": "stream",
     "text": [
      "MoviePy - Done.\n",
      "Moviepy - Writing video /Users/idotzhori/Desktop/autoencoderlight/cleaned_highlights/ManchesterCityvArsenal_scene_4.mp4\n",
      "\n"
     ]
    },
    {
     "name": "stderr",
     "output_type": "stream",
     "text": [
      "                                                                                \r"
     ]
    },
    {
     "name": "stdout",
     "output_type": "stream",
     "text": [
      "Moviepy - Done !\n",
      "Moviepy - video ready /Users/idotzhori/Desktop/autoencoderlight/cleaned_highlights/ManchesterCityvArsenal_scene_4.mp4\n",
      "Moviepy - Building video /Users/idotzhori/Desktop/autoencoderlight/cleaned_highlights/NottinghamForestvNewcastle_scene_12.mp4.\n",
      "MoviePy - Writing audio in NottinghamForestvNewcastle_scene_12TEMP_MPY_wvf_snd.mp3\n"
     ]
    },
    {
     "name": "stderr",
     "output_type": "stream",
     "text": [
      "                                                                                \r"
     ]
    },
    {
     "name": "stdout",
     "output_type": "stream",
     "text": [
      "MoviePy - Done.\n",
      "Moviepy - Writing video /Users/idotzhori/Desktop/autoencoderlight/cleaned_highlights/NottinghamForestvNewcastle_scene_12.mp4\n",
      "\n"
     ]
    },
    {
     "name": "stderr",
     "output_type": "stream",
     "text": [
      "                                                                                \r"
     ]
    },
    {
     "name": "stdout",
     "output_type": "stream",
     "text": [
      "Moviepy - Done !\n",
      "Moviepy - video ready /Users/idotzhori/Desktop/autoencoderlight/cleaned_highlights/NottinghamForestvNewcastle_scene_12.mp4\n",
      "Moviepy - Building video /Users/idotzhori/Desktop/autoencoderlight/cleaned_highlights/BrightonvFulham_scene_1.mp4.\n",
      "MoviePy - Writing audio in BrightonvFulham_scene_1TEMP_MPY_wvf_snd.mp3\n"
     ]
    },
    {
     "name": "stderr",
     "output_type": "stream",
     "text": [
      "                                                                                \r"
     ]
    },
    {
     "name": "stdout",
     "output_type": "stream",
     "text": [
      "MoviePy - Done.\n",
      "Moviepy - Writing video /Users/idotzhori/Desktop/autoencoderlight/cleaned_highlights/BrightonvFulham_scene_1.mp4\n",
      "\n"
     ]
    },
    {
     "name": "stderr",
     "output_type": "stream",
     "text": [
      "                                                                                \r"
     ]
    },
    {
     "name": "stdout",
     "output_type": "stream",
     "text": [
      "Moviepy - Done !\n",
      "Moviepy - video ready /Users/idotzhori/Desktop/autoencoderlight/cleaned_highlights/BrightonvFulham_scene_1.mp4\n",
      "Moviepy - Building video /Users/idotzhori/Desktop/autoencoderlight/cleaned_highlights/BrentfordvNewcastleUnited_scene_7.mp4.\n",
      "MoviePy - Writing audio in BrentfordvNewcastleUnited_scene_7TEMP_MPY_wvf_snd.mp3\n"
     ]
    },
    {
     "name": "stderr",
     "output_type": "stream",
     "text": [
      "                                                                                \r"
     ]
    },
    {
     "name": "stdout",
     "output_type": "stream",
     "text": [
      "MoviePy - Done.\n",
      "Moviepy - Writing video /Users/idotzhori/Desktop/autoencoderlight/cleaned_highlights/BrentfordvNewcastleUnited_scene_7.mp4\n",
      "\n"
     ]
    },
    {
     "name": "stderr",
     "output_type": "stream",
     "text": [
      "                                                                                \r"
     ]
    },
    {
     "name": "stdout",
     "output_type": "stream",
     "text": [
      "Moviepy - Done !\n",
      "Moviepy - video ready /Users/idotzhori/Desktop/autoencoderlight/cleaned_highlights/BrentfordvNewcastleUnited_scene_7.mp4\n",
      "Moviepy - Building video /Users/idotzhori/Desktop/autoencoderlight/cleaned_highlights/BrentfordvNewcastleUnited_scene_5.mp4.\n",
      "MoviePy - Writing audio in BrentfordvNewcastleUnited_scene_5TEMP_MPY_wvf_snd.mp3\n"
     ]
    },
    {
     "name": "stderr",
     "output_type": "stream",
     "text": [
      "                                                                                \r"
     ]
    },
    {
     "name": "stdout",
     "output_type": "stream",
     "text": [
      "MoviePy - Done.\n",
      "Moviepy - Writing video /Users/idotzhori/Desktop/autoencoderlight/cleaned_highlights/BrentfordvNewcastleUnited_scene_5.mp4\n",
      "\n"
     ]
    },
    {
     "name": "stderr",
     "output_type": "stream",
     "text": [
      "                                                                                \r"
     ]
    },
    {
     "name": "stdout",
     "output_type": "stream",
     "text": [
      "Moviepy - Done !\n",
      "Moviepy - video ready /Users/idotzhori/Desktop/autoencoderlight/cleaned_highlights/BrentfordvNewcastleUnited_scene_5.mp4\n",
      "Moviepy - Building video /Users/idotzhori/Desktop/autoencoderlight/cleaned_highlights/ManchesterUnitedvLeicesterCity_scene_4.mp4.\n",
      "MoviePy - Writing audio in ManchesterUnitedvLeicesterCity_scene_4TEMP_MPY_wvf_snd.mp3\n"
     ]
    },
    {
     "name": "stderr",
     "output_type": "stream",
     "text": [
      "                                                                                \r"
     ]
    },
    {
     "name": "stdout",
     "output_type": "stream",
     "text": [
      "MoviePy - Done.\n",
      "Moviepy - Writing video /Users/idotzhori/Desktop/autoencoderlight/cleaned_highlights/ManchesterUnitedvLeicesterCity_scene_4.mp4\n",
      "\n"
     ]
    },
    {
     "name": "stderr",
     "output_type": "stream",
     "text": [
      "                                                                                \r"
     ]
    },
    {
     "name": "stdout",
     "output_type": "stream",
     "text": [
      "Moviepy - Done !\n",
      "Moviepy - video ready /Users/idotzhori/Desktop/autoencoderlight/cleaned_highlights/ManchesterUnitedvLeicesterCity_scene_4.mp4\n",
      "Moviepy - Building video /Users/idotzhori/Desktop/autoencoderlight/cleaned_highlights/BrightonvFulham_scene_16.mp4.\n",
      "MoviePy - Writing audio in BrightonvFulham_scene_16TEMP_MPY_wvf_snd.mp3\n"
     ]
    },
    {
     "name": "stderr",
     "output_type": "stream",
     "text": [
      "                                                                                \r"
     ]
    },
    {
     "name": "stdout",
     "output_type": "stream",
     "text": [
      "MoviePy - Done.\n",
      "Moviepy - Writing video /Users/idotzhori/Desktop/autoencoderlight/cleaned_highlights/BrightonvFulham_scene_16.mp4\n",
      "\n"
     ]
    },
    {
     "name": "stderr",
     "output_type": "stream",
     "text": [
      "                                                                                \r"
     ]
    },
    {
     "name": "stdout",
     "output_type": "stream",
     "text": [
      "Moviepy - Done !\n",
      "Moviepy - video ready /Users/idotzhori/Desktop/autoencoderlight/cleaned_highlights/BrightonvFulham_scene_16.mp4\n",
      "Moviepy - Building video /Users/idotzhori/Desktop/autoencoderlight/cleaned_highlights/BournemouthvLiverpool_scene_20.mp4.\n",
      "MoviePy - Writing audio in BournemouthvLiverpool_scene_20TEMP_MPY_wvf_snd.mp3\n"
     ]
    },
    {
     "name": "stderr",
     "output_type": "stream",
     "text": [
      "                                                                                \r"
     ]
    },
    {
     "name": "stdout",
     "output_type": "stream",
     "text": [
      "MoviePy - Done.\n",
      "Moviepy - Writing video /Users/idotzhori/Desktop/autoencoderlight/cleaned_highlights/BournemouthvLiverpool_scene_20.mp4\n",
      "\n"
     ]
    },
    {
     "name": "stderr",
     "output_type": "stream",
     "text": [
      "                                                                                \r"
     ]
    },
    {
     "name": "stdout",
     "output_type": "stream",
     "text": [
      "Moviepy - Done !\n",
      "Moviepy - video ready /Users/idotzhori/Desktop/autoencoderlight/cleaned_highlights/BournemouthvLiverpool_scene_20.mp4\n",
      "Moviepy - Building video /Users/idotzhori/Desktop/autoencoderlight/cleaned_highlights/BrightonvFulham_scene_17.mp4.\n",
      "MoviePy - Writing audio in BrightonvFulham_scene_17TEMP_MPY_wvf_snd.mp3\n"
     ]
    },
    {
     "name": "stderr",
     "output_type": "stream",
     "text": [
      "                                                                                \r"
     ]
    },
    {
     "name": "stdout",
     "output_type": "stream",
     "text": [
      "MoviePy - Done.\n",
      "Moviepy - Writing video /Users/idotzhori/Desktop/autoencoderlight/cleaned_highlights/BrightonvFulham_scene_17.mp4\n",
      "\n"
     ]
    },
    {
     "name": "stderr",
     "output_type": "stream",
     "text": [
      "                                                                                \r"
     ]
    },
    {
     "name": "stdout",
     "output_type": "stream",
     "text": [
      "Moviepy - Done !\n",
      "Moviepy - video ready /Users/idotzhori/Desktop/autoencoderlight/cleaned_highlights/BrightonvFulham_scene_17.mp4\n",
      "Moviepy - Building video /Users/idotzhori/Desktop/autoencoderlight/cleaned_highlights/FulhamvLeedsUnited_scene_12.mp4.\n",
      "MoviePy - Writing audio in FulhamvLeedsUnited_scene_12TEMP_MPY_wvf_snd.mp3\n"
     ]
    },
    {
     "name": "stderr",
     "output_type": "stream",
     "text": [
      "                                                                                \r"
     ]
    },
    {
     "name": "stdout",
     "output_type": "stream",
     "text": [
      "MoviePy - Done.\n",
      "Moviepy - Writing video /Users/idotzhori/Desktop/autoencoderlight/cleaned_highlights/FulhamvLeedsUnited_scene_12.mp4\n",
      "\n"
     ]
    },
    {
     "name": "stderr",
     "output_type": "stream",
     "text": [
      "                                                                                \r"
     ]
    },
    {
     "name": "stdout",
     "output_type": "stream",
     "text": [
      "Moviepy - Done !\n",
      "Moviepy - video ready /Users/idotzhori/Desktop/autoencoderlight/cleaned_highlights/FulhamvLeedsUnited_scene_12.mp4\n",
      "Moviepy - Building video /Users/idotzhori/Desktop/autoencoderlight/cleaned_highlights/ManchesterCityvArsenal_scene_10.mp4.\n",
      "MoviePy - Writing audio in ManchesterCityvArsenal_scene_10TEMP_MPY_wvf_snd.mp3\n"
     ]
    },
    {
     "name": "stderr",
     "output_type": "stream",
     "text": [
      "                                                                                \r"
     ]
    },
    {
     "name": "stdout",
     "output_type": "stream",
     "text": [
      "MoviePy - Done.\n",
      "Moviepy - Writing video /Users/idotzhori/Desktop/autoencoderlight/cleaned_highlights/ManchesterCityvArsenal_scene_10.mp4\n",
      "\n"
     ]
    },
    {
     "name": "stderr",
     "output_type": "stream",
     "text": [
      "                                                                                \r"
     ]
    },
    {
     "name": "stdout",
     "output_type": "stream",
     "text": [
      "Moviepy - Done !\n",
      "Moviepy - video ready /Users/idotzhori/Desktop/autoencoderlight/cleaned_highlights/ManchesterCityvArsenal_scene_10.mp4\n",
      "Moviepy - Building video /Users/idotzhori/Desktop/autoencoderlight/cleaned_highlights/NottinghamForestvManchesterCity_scene_14.mp4.\n",
      "MoviePy - Writing audio in NottinghamForestvManchesterCity_scene_14TEMP_MPY_wvf_snd.mp3\n"
     ]
    },
    {
     "name": "stderr",
     "output_type": "stream",
     "text": [
      "                                                                                \r"
     ]
    },
    {
     "name": "stdout",
     "output_type": "stream",
     "text": [
      "MoviePy - Done.\n",
      "Moviepy - Writing video /Users/idotzhori/Desktop/autoencoderlight/cleaned_highlights/NottinghamForestvManchesterCity_scene_14.mp4\n",
      "\n"
     ]
    },
    {
     "name": "stderr",
     "output_type": "stream",
     "text": [
      "                                                                                \r"
     ]
    },
    {
     "name": "stdout",
     "output_type": "stream",
     "text": [
      "Moviepy - Done !\n",
      "Moviepy - video ready /Users/idotzhori/Desktop/autoencoderlight/cleaned_highlights/NottinghamForestvManchesterCity_scene_14.mp4\n",
      "Moviepy - Building video /Users/idotzhori/Desktop/autoencoderlight/cleaned_highlights/WestHamUnitedvNottinghamForest_scene_9.mp4.\n",
      "MoviePy - Writing audio in WestHamUnitedvNottinghamForest_scene_9TEMP_MPY_wvf_snd.mp3\n"
     ]
    },
    {
     "name": "stderr",
     "output_type": "stream",
     "text": [
      "                                                                                \r"
     ]
    },
    {
     "name": "stdout",
     "output_type": "stream",
     "text": [
      "MoviePy - Done.\n",
      "Moviepy - Writing video /Users/idotzhori/Desktop/autoencoderlight/cleaned_highlights/WestHamUnitedvNottinghamForest_scene_9.mp4\n",
      "\n"
     ]
    },
    {
     "name": "stderr",
     "output_type": "stream",
     "text": [
      "                                                                                \r"
     ]
    },
    {
     "name": "stdout",
     "output_type": "stream",
     "text": [
      "Moviepy - Done !\n",
      "Moviepy - video ready /Users/idotzhori/Desktop/autoencoderlight/cleaned_highlights/WestHamUnitedvNottinghamForest_scene_9.mp4\n",
      "Moviepy - Building video /Users/idotzhori/Desktop/autoencoderlight/cleaned_highlights/ManchesterCityvLeedsUnited_scene_25.mp4.\n",
      "MoviePy - Writing audio in ManchesterCityvLeedsUnited_scene_25TEMP_MPY_wvf_snd.mp3\n"
     ]
    },
    {
     "name": "stderr",
     "output_type": "stream",
     "text": [
      "                                                                                \r"
     ]
    },
    {
     "name": "stdout",
     "output_type": "stream",
     "text": [
      "MoviePy - Done.\n",
      "Moviepy - Writing video /Users/idotzhori/Desktop/autoencoderlight/cleaned_highlights/ManchesterCityvLeedsUnited_scene_25.mp4\n",
      "\n"
     ]
    },
    {
     "name": "stderr",
     "output_type": "stream",
     "text": [
      "                                                                                \r"
     ]
    },
    {
     "name": "stdout",
     "output_type": "stream",
     "text": [
      "Moviepy - Done !\n",
      "Moviepy - video ready /Users/idotzhori/Desktop/autoencoderlight/cleaned_highlights/ManchesterCityvLeedsUnited_scene_25.mp4\n",
      "Moviepy - Building video /Users/idotzhori/Desktop/autoencoderlight/cleaned_highlights/FulhamvArsenal_scene_19.mp4.\n",
      "MoviePy - Writing audio in FulhamvArsenal_scene_19TEMP_MPY_wvf_snd.mp3\n"
     ]
    },
    {
     "name": "stderr",
     "output_type": "stream",
     "text": [
      "                                                                                \r"
     ]
    },
    {
     "name": "stdout",
     "output_type": "stream",
     "text": [
      "MoviePy - Done.\n",
      "Moviepy - Writing video /Users/idotzhori/Desktop/autoencoderlight/cleaned_highlights/FulhamvArsenal_scene_19.mp4\n",
      "\n"
     ]
    },
    {
     "name": "stderr",
     "output_type": "stream",
     "text": [
      "                                                                                \r"
     ]
    },
    {
     "name": "stdout",
     "output_type": "stream",
     "text": [
      "Moviepy - Done !\n",
      "Moviepy - video ready /Users/idotzhori/Desktop/autoencoderlight/cleaned_highlights/FulhamvArsenal_scene_19.mp4\n",
      "Moviepy - Building video /Users/idotzhori/Desktop/autoencoderlight/cleaned_highlights/CrystalPalacevManchesterCity_scene_1.mp4.\n",
      "MoviePy - Writing audio in CrystalPalacevManchesterCity_scene_1TEMP_MPY_wvf_snd.mp3\n"
     ]
    },
    {
     "name": "stderr",
     "output_type": "stream",
     "text": [
      "                                                                                \r"
     ]
    },
    {
     "name": "stdout",
     "output_type": "stream",
     "text": [
      "MoviePy - Done.\n",
      "Moviepy - Writing video /Users/idotzhori/Desktop/autoencoderlight/cleaned_highlights/CrystalPalacevManchesterCity_scene_1.mp4\n",
      "\n"
     ]
    },
    {
     "name": "stderr",
     "output_type": "stream",
     "text": [
      "                                                                                \r"
     ]
    },
    {
     "name": "stdout",
     "output_type": "stream",
     "text": [
      "Moviepy - Done !\n",
      "Moviepy - video ready /Users/idotzhori/Desktop/autoencoderlight/cleaned_highlights/CrystalPalacevManchesterCity_scene_1.mp4\n",
      "Moviepy - Building video /Users/idotzhori/Desktop/autoencoderlight/cleaned_highlights/ChelseavSouthampton_scene_16.mp4.\n",
      "MoviePy - Writing audio in ChelseavSouthampton_scene_16TEMP_MPY_wvf_snd.mp3\n"
     ]
    },
    {
     "name": "stderr",
     "output_type": "stream",
     "text": [
      "                                                                                \r"
     ]
    },
    {
     "name": "stdout",
     "output_type": "stream",
     "text": [
      "MoviePy - Done.\n",
      "Moviepy - Writing video /Users/idotzhori/Desktop/autoencoderlight/cleaned_highlights/ChelseavSouthampton_scene_16.mp4\n",
      "\n"
     ]
    },
    {
     "name": "stderr",
     "output_type": "stream",
     "text": [
      "                                                                                \r"
     ]
    },
    {
     "name": "stdout",
     "output_type": "stream",
     "text": [
      "Moviepy - Done !\n",
      "Moviepy - video ready /Users/idotzhori/Desktop/autoencoderlight/cleaned_highlights/ChelseavSouthampton_scene_16.mp4\n",
      "Moviepy - Building video /Users/idotzhori/Desktop/autoencoderlight/cleaned_highlights/ManchesterCityvLeedsUnited_scene_18.mp4.\n",
      "MoviePy - Writing audio in ManchesterCityvLeedsUnited_scene_18TEMP_MPY_wvf_snd.mp3\n"
     ]
    },
    {
     "name": "stderr",
     "output_type": "stream",
     "text": [
      "                                                                                \r"
     ]
    },
    {
     "name": "stdout",
     "output_type": "stream",
     "text": [
      "MoviePy - Done.\n",
      "Moviepy - Writing video /Users/idotzhori/Desktop/autoencoderlight/cleaned_highlights/ManchesterCityvLeedsUnited_scene_18.mp4\n",
      "\n"
     ]
    },
    {
     "name": "stderr",
     "output_type": "stream",
     "text": [
      "                                                                                \r"
     ]
    },
    {
     "name": "stdout",
     "output_type": "stream",
     "text": [
      "Moviepy - Done !\n",
      "Moviepy - video ready /Users/idotzhori/Desktop/autoencoderlight/cleaned_highlights/ManchesterCityvLeedsUnited_scene_18.mp4\n",
      "Moviepy - Building video /Users/idotzhori/Desktop/autoencoderlight/cleaned_highlights/BrightonvFulham_scene_10.mp4.\n",
      "MoviePy - Writing audio in BrightonvFulham_scene_10TEMP_MPY_wvf_snd.mp3\n"
     ]
    },
    {
     "name": "stderr",
     "output_type": "stream",
     "text": [
      "                                                                                \r"
     ]
    },
    {
     "name": "stdout",
     "output_type": "stream",
     "text": [
      "MoviePy - Done.\n",
      "Moviepy - Writing video /Users/idotzhori/Desktop/autoencoderlight/cleaned_highlights/BrightonvFulham_scene_10.mp4\n",
      "\n"
     ]
    },
    {
     "name": "stderr",
     "output_type": "stream",
     "text": [
      "                                                                                \r"
     ]
    },
    {
     "name": "stdout",
     "output_type": "stream",
     "text": [
      "Moviepy - Done !\n",
      "Moviepy - video ready /Users/idotzhori/Desktop/autoencoderlight/cleaned_highlights/BrightonvFulham_scene_10.mp4\n",
      "Moviepy - Building video /Users/idotzhori/Desktop/autoencoderlight/cleaned_highlights/LiverpoolvFulham_scene_10.mp4.\n",
      "MoviePy - Writing audio in LiverpoolvFulham_scene_10TEMP_MPY_wvf_snd.mp3\n"
     ]
    },
    {
     "name": "stderr",
     "output_type": "stream",
     "text": [
      "                                                                                \r"
     ]
    },
    {
     "name": "stdout",
     "output_type": "stream",
     "text": [
      "MoviePy - Done.\n",
      "Moviepy - Writing video /Users/idotzhori/Desktop/autoencoderlight/cleaned_highlights/LiverpoolvFulham_scene_10.mp4\n",
      "\n"
     ]
    },
    {
     "name": "stderr",
     "output_type": "stream",
     "text": [
      "                                                                                \r"
     ]
    },
    {
     "name": "stdout",
     "output_type": "stream",
     "text": [
      "Moviepy - Done !\n",
      "Moviepy - video ready /Users/idotzhori/Desktop/autoencoderlight/cleaned_highlights/LiverpoolvFulham_scene_10.mp4\n",
      "Moviepy - Building video /Users/idotzhori/Desktop/autoencoderlight/cleaned_highlights/WolvesvBournemouth_scene_19.mp4.\n",
      "MoviePy - Writing audio in WolvesvBournemouth_scene_19TEMP_MPY_wvf_snd.mp3\n"
     ]
    },
    {
     "name": "stderr",
     "output_type": "stream",
     "text": [
      "                                                                                \r"
     ]
    },
    {
     "name": "stdout",
     "output_type": "stream",
     "text": [
      "MoviePy - Done.\n",
      "Moviepy - Writing video /Users/idotzhori/Desktop/autoencoderlight/cleaned_highlights/WolvesvBournemouth_scene_19.mp4\n",
      "\n"
     ]
    },
    {
     "name": "stderr",
     "output_type": "stream",
     "text": [
      "                                                                                \r"
     ]
    },
    {
     "name": "stdout",
     "output_type": "stream",
     "text": [
      "Moviepy - Done !\n",
      "Moviepy - video ready /Users/idotzhori/Desktop/autoencoderlight/cleaned_highlights/WolvesvBournemouth_scene_19.mp4\n",
      "Moviepy - Building video /Users/idotzhori/Desktop/autoencoderlight/cleaned_highlights/ChelseavNottinghamForest_scene_18.mp4.\n",
      "MoviePy - Writing audio in ChelseavNottinghamForest_scene_18TEMP_MPY_wvf_snd.mp3\n"
     ]
    },
    {
     "name": "stderr",
     "output_type": "stream",
     "text": [
      "                                                                                \r"
     ]
    },
    {
     "name": "stdout",
     "output_type": "stream",
     "text": [
      "MoviePy - Done.\n",
      "Moviepy - Writing video /Users/idotzhori/Desktop/autoencoderlight/cleaned_highlights/ChelseavNottinghamForest_scene_18.mp4\n",
      "\n"
     ]
    },
    {
     "name": "stderr",
     "output_type": "stream",
     "text": [
      "                                                                                \r"
     ]
    },
    {
     "name": "stdout",
     "output_type": "stream",
     "text": [
      "Moviepy - Done !\n",
      "Moviepy - video ready /Users/idotzhori/Desktop/autoencoderlight/cleaned_highlights/ChelseavNottinghamForest_scene_18.mp4\n",
      "Moviepy - Building video /Users/idotzhori/Desktop/autoencoderlight/cleaned_highlights/NewcastleUnitedvBrighton_scene_19.mp4.\n",
      "MoviePy - Writing audio in NewcastleUnitedvBrighton_scene_19TEMP_MPY_wvf_snd.mp3\n"
     ]
    },
    {
     "name": "stderr",
     "output_type": "stream",
     "text": [
      "                                                                                \r"
     ]
    },
    {
     "name": "stdout",
     "output_type": "stream",
     "text": [
      "MoviePy - Done.\n",
      "Moviepy - Writing video /Users/idotzhori/Desktop/autoencoderlight/cleaned_highlights/NewcastleUnitedvBrighton_scene_19.mp4\n",
      "\n"
     ]
    },
    {
     "name": "stderr",
     "output_type": "stream",
     "text": [
      "                                                                                \r"
     ]
    },
    {
     "name": "stdout",
     "output_type": "stream",
     "text": [
      "Moviepy - Done !\n",
      "Moviepy - video ready /Users/idotzhori/Desktop/autoencoderlight/cleaned_highlights/NewcastleUnitedvBrighton_scene_19.mp4\n",
      "Moviepy - Building video /Users/idotzhori/Desktop/autoencoderlight/cleaned_highlights/LeedsUnitedvBrighton_scene_5.mp4.\n",
      "MoviePy - Writing audio in LeedsUnitedvBrighton_scene_5TEMP_MPY_wvf_snd.mp3\n"
     ]
    },
    {
     "name": "stderr",
     "output_type": "stream",
     "text": [
      "                                                                                \r"
     ]
    },
    {
     "name": "stdout",
     "output_type": "stream",
     "text": [
      "MoviePy - Done.\n",
      "Moviepy - Writing video /Users/idotzhori/Desktop/autoencoderlight/cleaned_highlights/LeedsUnitedvBrighton_scene_5.mp4\n",
      "\n"
     ]
    },
    {
     "name": "stderr",
     "output_type": "stream",
     "text": [
      "                                                                                \r"
     ]
    },
    {
     "name": "stdout",
     "output_type": "stream",
     "text": [
      "Moviepy - Done !\n",
      "Moviepy - video ready /Users/idotzhori/Desktop/autoencoderlight/cleaned_highlights/LeedsUnitedvBrighton_scene_5.mp4\n",
      "Moviepy - Building video /Users/idotzhori/Desktop/autoencoderlight/cleaned_highlights/ManchesterUnitedvChelsea_scene_4.mp4.\n",
      "MoviePy - Writing audio in ManchesterUnitedvChelsea_scene_4TEMP_MPY_wvf_snd.mp3\n"
     ]
    },
    {
     "name": "stderr",
     "output_type": "stream",
     "text": [
      "                                                                                \r"
     ]
    },
    {
     "name": "stdout",
     "output_type": "stream",
     "text": [
      "MoviePy - Done.\n",
      "Moviepy - Writing video /Users/idotzhori/Desktop/autoencoderlight/cleaned_highlights/ManchesterUnitedvChelsea_scene_4.mp4\n",
      "\n"
     ]
    },
    {
     "name": "stderr",
     "output_type": "stream",
     "text": [
      "                                                                                \r"
     ]
    },
    {
     "name": "stdout",
     "output_type": "stream",
     "text": [
      "Moviepy - Done !\n",
      "Moviepy - video ready /Users/idotzhori/Desktop/autoencoderlight/cleaned_highlights/ManchesterUnitedvChelsea_scene_4.mp4\n",
      "Moviepy - Building video /Users/idotzhori/Desktop/autoencoderlight/cleaned_highlights/WestHamUnitedvNottinghamForest_scene_23.mp4.\n",
      "MoviePy - Writing audio in WestHamUnitedvNottinghamForest_scene_23TEMP_MPY_wvf_snd.mp3\n"
     ]
    },
    {
     "name": "stderr",
     "output_type": "stream",
     "text": [
      "                                                                                "
     ]
    },
    {
     "name": "stdout",
     "output_type": "stream",
     "text": [
      "MoviePy - Done.\n",
      "Moviepy - Writing video /Users/idotzhori/Desktop/autoencoderlight/cleaned_highlights/WestHamUnitedvNottinghamForest_scene_23.mp4\n",
      "\n"
     ]
    },
    {
     "name": "stderr",
     "output_type": "stream",
     "text": [
      "                                                                                \r"
     ]
    },
    {
     "name": "stdout",
     "output_type": "stream",
     "text": [
      "Moviepy - Done !\n",
      "Moviepy - video ready /Users/idotzhori/Desktop/autoencoderlight/cleaned_highlights/WestHamUnitedvNottinghamForest_scene_23.mp4\n",
      "Moviepy - Building video /Users/idotzhori/Desktop/autoencoderlight/cleaned_highlights/SouthamptonvLiverpool_scene_14.mp4.\n",
      "MoviePy - Writing audio in SouthamptonvLiverpool_scene_14TEMP_MPY_wvf_snd.mp3\n"
     ]
    },
    {
     "name": "stderr",
     "output_type": "stream",
     "text": [
      "                                                                                \r"
     ]
    },
    {
     "name": "stdout",
     "output_type": "stream",
     "text": [
      "MoviePy - Done.\n",
      "Moviepy - Writing video /Users/idotzhori/Desktop/autoencoderlight/cleaned_highlights/SouthamptonvLiverpool_scene_14.mp4\n",
      "\n"
     ]
    },
    {
     "name": "stderr",
     "output_type": "stream",
     "text": [
      "                                                                                \r"
     ]
    },
    {
     "name": "stdout",
     "output_type": "stream",
     "text": [
      "Moviepy - Done !\n",
      "Moviepy - video ready /Users/idotzhori/Desktop/autoencoderlight/cleaned_highlights/SouthamptonvLiverpool_scene_14.mp4\n",
      "Moviepy - Building video /Users/idotzhori/Desktop/autoencoderlight/cleaned_highlights/ManchesterCityvLiverpool_scene_10.mp4.\n",
      "MoviePy - Writing audio in ManchesterCityvLiverpool_scene_10TEMP_MPY_wvf_snd.mp3\n"
     ]
    },
    {
     "name": "stderr",
     "output_type": "stream",
     "text": [
      "                                                                                \r"
     ]
    },
    {
     "name": "stdout",
     "output_type": "stream",
     "text": [
      "MoviePy - Done.\n",
      "Moviepy - Writing video /Users/idotzhori/Desktop/autoencoderlight/cleaned_highlights/ManchesterCityvLiverpool_scene_10.mp4\n",
      "\n"
     ]
    },
    {
     "name": "stderr",
     "output_type": "stream",
     "text": [
      "                                                                                \r"
     ]
    },
    {
     "name": "stdout",
     "output_type": "stream",
     "text": [
      "Moviepy - Done !\n",
      "Moviepy - video ready /Users/idotzhori/Desktop/autoencoderlight/cleaned_highlights/ManchesterCityvLiverpool_scene_10.mp4\n",
      "Moviepy - Building video /Users/idotzhori/Desktop/autoencoderlight/cleaned_highlights/LeicesterCityvAstonVilla_scene_11.mp4.\n",
      "MoviePy - Writing audio in LeicesterCityvAstonVilla_scene_11TEMP_MPY_wvf_snd.mp3\n"
     ]
    },
    {
     "name": "stderr",
     "output_type": "stream",
     "text": [
      "                                                                                \r"
     ]
    },
    {
     "name": "stdout",
     "output_type": "stream",
     "text": [
      "MoviePy - Done.\n",
      "Moviepy - Writing video /Users/idotzhori/Desktop/autoencoderlight/cleaned_highlights/LeicesterCityvAstonVilla_scene_11.mp4\n",
      "\n"
     ]
    },
    {
     "name": "stderr",
     "output_type": "stream",
     "text": [
      "                                                                                \r"
     ]
    },
    {
     "name": "stdout",
     "output_type": "stream",
     "text": [
      "Moviepy - Done !\n",
      "Moviepy - video ready /Users/idotzhori/Desktop/autoencoderlight/cleaned_highlights/LeicesterCityvAstonVilla_scene_11.mp4\n",
      "Moviepy - Building video /Users/idotzhori/Desktop/autoencoderlight/cleaned_highlights/LeedsUnitedvManchesterUnited_scene_3.mp4.\n",
      "MoviePy - Writing audio in LeedsUnitedvManchesterUnited_scene_3TEMP_MPY_wvf_snd.mp3\n"
     ]
    },
    {
     "name": "stderr",
     "output_type": "stream",
     "text": [
      "                                                                                \r"
     ]
    },
    {
     "name": "stdout",
     "output_type": "stream",
     "text": [
      "MoviePy - Done.\n",
      "Moviepy - Writing video /Users/idotzhori/Desktop/autoencoderlight/cleaned_highlights/LeedsUnitedvManchesterUnited_scene_3.mp4\n",
      "\n"
     ]
    },
    {
     "name": "stderr",
     "output_type": "stream",
     "text": [
      "                                                                                \r"
     ]
    },
    {
     "name": "stdout",
     "output_type": "stream",
     "text": [
      "Moviepy - Done !\n",
      "Moviepy - video ready /Users/idotzhori/Desktop/autoencoderlight/cleaned_highlights/LeedsUnitedvManchesterUnited_scene_3.mp4\n",
      "Moviepy - Building video /Users/idotzhori/Desktop/autoencoderlight/cleaned_highlights/LeicesterCityvAstonVilla_scene_12.mp4.\n",
      "MoviePy - Writing audio in LeicesterCityvAstonVilla_scene_12TEMP_MPY_wvf_snd.mp3\n"
     ]
    },
    {
     "name": "stderr",
     "output_type": "stream",
     "text": [
      "                                                                                \r"
     ]
    },
    {
     "name": "stdout",
     "output_type": "stream",
     "text": [
      "MoviePy - Done.\n",
      "Moviepy - Writing video /Users/idotzhori/Desktop/autoencoderlight/cleaned_highlights/LeicesterCityvAstonVilla_scene_12.mp4\n",
      "\n"
     ]
    },
    {
     "name": "stderr",
     "output_type": "stream",
     "text": [
      "                                                                                \r"
     ]
    },
    {
     "name": "stdout",
     "output_type": "stream",
     "text": [
      "Moviepy - Done !\n",
      "Moviepy - video ready /Users/idotzhori/Desktop/autoencoderlight/cleaned_highlights/LeicesterCityvAstonVilla_scene_12.mp4\n",
      "Moviepy - Building video /Users/idotzhori/Desktop/autoencoderlight/cleaned_highlights/WestHamUnitedvNottinghamForest_scene_17.mp4.\n",
      "MoviePy - Writing audio in WestHamUnitedvNottinghamForest_scene_17TEMP_MPY_wvf_snd.mp3\n"
     ]
    },
    {
     "name": "stderr",
     "output_type": "stream",
     "text": [
      "                                                                                \r"
     ]
    },
    {
     "name": "stdout",
     "output_type": "stream",
     "text": [
      "MoviePy - Done.\n",
      "Moviepy - Writing video /Users/idotzhori/Desktop/autoencoderlight/cleaned_highlights/WestHamUnitedvNottinghamForest_scene_17.mp4\n",
      "\n"
     ]
    },
    {
     "name": "stderr",
     "output_type": "stream",
     "text": [
      "                                                                                \r"
     ]
    },
    {
     "name": "stdout",
     "output_type": "stream",
     "text": [
      "Moviepy - Done !\n",
      "Moviepy - video ready /Users/idotzhori/Desktop/autoencoderlight/cleaned_highlights/WestHamUnitedvNottinghamForest_scene_17.mp4\n",
      "Moviepy - Building video /Users/idotzhori/Desktop/autoencoderlight/cleaned_highlights/WestHamUnitedvLeedsUnited_scene_7.mp4.\n",
      "MoviePy - Writing audio in WestHamUnitedvLeedsUnited_scene_7TEMP_MPY_wvf_snd.mp3\n"
     ]
    },
    {
     "name": "stderr",
     "output_type": "stream",
     "text": [
      "                                                                                \r"
     ]
    },
    {
     "name": "stdout",
     "output_type": "stream",
     "text": [
      "MoviePy - Done.\n",
      "Moviepy - Writing video /Users/idotzhori/Desktop/autoencoderlight/cleaned_highlights/WestHamUnitedvLeedsUnited_scene_7.mp4\n",
      "\n"
     ]
    },
    {
     "name": "stderr",
     "output_type": "stream",
     "text": [
      "                                                                                \r"
     ]
    },
    {
     "name": "stdout",
     "output_type": "stream",
     "text": [
      "Moviepy - Done !\n",
      "Moviepy - video ready /Users/idotzhori/Desktop/autoencoderlight/cleaned_highlights/WestHamUnitedvLeedsUnited_scene_7.mp4\n",
      "Moviepy - Building video /Users/idotzhori/Desktop/autoencoderlight/cleaned_highlights/BrightonvWolves_scene_22.mp4.\n",
      "MoviePy - Writing audio in BrightonvWolves_scene_22TEMP_MPY_wvf_snd.mp3\n"
     ]
    },
    {
     "name": "stderr",
     "output_type": "stream",
     "text": [
      "                                                                                \r"
     ]
    },
    {
     "name": "stdout",
     "output_type": "stream",
     "text": [
      "MoviePy - Done.\n",
      "Moviepy - Writing video /Users/idotzhori/Desktop/autoencoderlight/cleaned_highlights/BrightonvWolves_scene_22.mp4\n",
      "\n"
     ]
    },
    {
     "name": "stderr",
     "output_type": "stream",
     "text": [
      "                                                                                \r"
     ]
    },
    {
     "name": "stdout",
     "output_type": "stream",
     "text": [
      "Moviepy - Done !\n",
      "Moviepy - video ready /Users/idotzhori/Desktop/autoencoderlight/cleaned_highlights/BrightonvWolves_scene_22.mp4\n",
      "Moviepy - Building video /Users/idotzhori/Desktop/autoencoderlight/cleaned_highlights/FulhamvLeedsUnited_scene_1.mp4.\n",
      "MoviePy - Writing audio in FulhamvLeedsUnited_scene_1TEMP_MPY_wvf_snd.mp3\n"
     ]
    },
    {
     "name": "stderr",
     "output_type": "stream",
     "text": [
      "                                                                                \r"
     ]
    },
    {
     "name": "stdout",
     "output_type": "stream",
     "text": [
      "MoviePy - Done.\n",
      "Moviepy - Writing video /Users/idotzhori/Desktop/autoencoderlight/cleaned_highlights/FulhamvLeedsUnited_scene_1.mp4\n",
      "\n"
     ]
    },
    {
     "name": "stderr",
     "output_type": "stream",
     "text": [
      "                                                                                \r"
     ]
    },
    {
     "name": "stdout",
     "output_type": "stream",
     "text": [
      "Moviepy - Done !\n",
      "Moviepy - video ready /Users/idotzhori/Desktop/autoencoderlight/cleaned_highlights/FulhamvLeedsUnited_scene_1.mp4\n",
      "Moviepy - Building video /Users/idotzhori/Desktop/autoencoderlight/cleaned_highlights/BrightonvCrystalPalace_scene_20.mp4.\n",
      "MoviePy - Writing audio in BrightonvCrystalPalace_scene_20TEMP_MPY_wvf_snd.mp3\n"
     ]
    },
    {
     "name": "stderr",
     "output_type": "stream",
     "text": [
      "                                                                                \r"
     ]
    },
    {
     "name": "stdout",
     "output_type": "stream",
     "text": [
      "MoviePy - Done.\n",
      "Moviepy - Writing video /Users/idotzhori/Desktop/autoencoderlight/cleaned_highlights/BrightonvCrystalPalace_scene_20.mp4\n",
      "\n"
     ]
    },
    {
     "name": "stderr",
     "output_type": "stream",
     "text": [
      "                                                                                \r"
     ]
    },
    {
     "name": "stdout",
     "output_type": "stream",
     "text": [
      "Moviepy - Done !\n",
      "Moviepy - video ready /Users/idotzhori/Desktop/autoencoderlight/cleaned_highlights/BrightonvCrystalPalace_scene_20.mp4\n",
      "Moviepy - Building video /Users/idotzhori/Desktop/autoencoderlight/cleaned_highlights/NottinghamForestvBrighton_scene_22.mp4.\n",
      "MoviePy - Writing audio in NottinghamForestvBrighton_scene_22TEMP_MPY_wvf_snd.mp3\n"
     ]
    },
    {
     "name": "stderr",
     "output_type": "stream",
     "text": [
      "                                                                                \r"
     ]
    },
    {
     "name": "stdout",
     "output_type": "stream",
     "text": [
      "MoviePy - Done.\n",
      "Moviepy - Writing video /Users/idotzhori/Desktop/autoencoderlight/cleaned_highlights/NottinghamForestvBrighton_scene_22.mp4\n",
      "\n"
     ]
    },
    {
     "name": "stderr",
     "output_type": "stream",
     "text": [
      "                                                                                \r"
     ]
    },
    {
     "name": "stdout",
     "output_type": "stream",
     "text": [
      "Moviepy - Done !\n",
      "Moviepy - video ready /Users/idotzhori/Desktop/autoencoderlight/cleaned_highlights/NottinghamForestvBrighton_scene_22.mp4\n",
      "Moviepy - Building video /Users/idotzhori/Desktop/autoencoderlight/cleaned_highlights/ManchesterCityvLeedsUnited_scene_22.mp4.\n",
      "MoviePy - Writing audio in ManchesterCityvLeedsUnited_scene_22TEMP_MPY_wvf_snd.mp3\n"
     ]
    },
    {
     "name": "stderr",
     "output_type": "stream",
     "text": [
      "                                                                                \r"
     ]
    },
    {
     "name": "stdout",
     "output_type": "stream",
     "text": [
      "MoviePy - Done.\n",
      "Moviepy - Writing video /Users/idotzhori/Desktop/autoencoderlight/cleaned_highlights/ManchesterCityvLeedsUnited_scene_22.mp4\n",
      "\n"
     ]
    },
    {
     "name": "stderr",
     "output_type": "stream",
     "text": [
      "                                                                                \r"
     ]
    },
    {
     "name": "stdout",
     "output_type": "stream",
     "text": [
      "Moviepy - Done !\n",
      "Moviepy - video ready /Users/idotzhori/Desktop/autoencoderlight/cleaned_highlights/ManchesterCityvLeedsUnited_scene_22.mp4\n",
      "Moviepy - Building video /Users/idotzhori/Desktop/autoencoderlight/cleaned_highlights/NewcastleUnitedvLeicesterCity_scene_24.mp4.\n",
      "MoviePy - Writing audio in NewcastleUnitedvLeicesterCity_scene_24TEMP_MPY_wvf_snd.mp3\n"
     ]
    },
    {
     "name": "stderr",
     "output_type": "stream",
     "text": [
      "                                                                                \r"
     ]
    },
    {
     "name": "stdout",
     "output_type": "stream",
     "text": [
      "MoviePy - Done.\n",
      "Moviepy - Writing video /Users/idotzhori/Desktop/autoencoderlight/cleaned_highlights/NewcastleUnitedvLeicesterCity_scene_24.mp4\n",
      "\n"
     ]
    },
    {
     "name": "stderr",
     "output_type": "stream",
     "text": [
      "                                                                                \r"
     ]
    },
    {
     "name": "stdout",
     "output_type": "stream",
     "text": [
      "Moviepy - Done !\n",
      "Moviepy - video ready /Users/idotzhori/Desktop/autoencoderlight/cleaned_highlights/NewcastleUnitedvLeicesterCity_scene_24.mp4\n",
      "Moviepy - Building video /Users/idotzhori/Desktop/autoencoderlight/cleaned_highlights/EvertonvBrentford_scene_11.mp4.\n",
      "MoviePy - Writing audio in EvertonvBrentford_scene_11TEMP_MPY_wvf_snd.mp3\n"
     ]
    },
    {
     "name": "stderr",
     "output_type": "stream",
     "text": [
      "                                                                                \r"
     ]
    },
    {
     "name": "stdout",
     "output_type": "stream",
     "text": [
      "MoviePy - Done.\n",
      "Moviepy - Writing video /Users/idotzhori/Desktop/autoencoderlight/cleaned_highlights/EvertonvBrentford_scene_11.mp4\n",
      "\n"
     ]
    },
    {
     "name": "stderr",
     "output_type": "stream",
     "text": [
      "                                                                                \r"
     ]
    },
    {
     "name": "stdout",
     "output_type": "stream",
     "text": [
      "Moviepy - Done !\n",
      "Moviepy - video ready /Users/idotzhori/Desktop/autoencoderlight/cleaned_highlights/EvertonvBrentford_scene_11.mp4\n",
      "Moviepy - Building video /Users/idotzhori/Desktop/autoencoderlight/cleaned_highlights/ManchesterUnitedvFulham_scene_4.mp4.\n",
      "MoviePy - Writing audio in ManchesterUnitedvFulham_scene_4TEMP_MPY_wvf_snd.mp3\n"
     ]
    },
    {
     "name": "stderr",
     "output_type": "stream",
     "text": [
      "                                                                                \r"
     ]
    },
    {
     "name": "stdout",
     "output_type": "stream",
     "text": [
      "MoviePy - Done.\n",
      "Moviepy - Writing video /Users/idotzhori/Desktop/autoencoderlight/cleaned_highlights/ManchesterUnitedvFulham_scene_4.mp4\n",
      "\n"
     ]
    },
    {
     "name": "stderr",
     "output_type": "stream",
     "text": [
      "                                                                                \r"
     ]
    },
    {
     "name": "stdout",
     "output_type": "stream",
     "text": [
      "Moviepy - Done !\n",
      "Moviepy - video ready /Users/idotzhori/Desktop/autoencoderlight/cleaned_highlights/ManchesterUnitedvFulham_scene_4.mp4\n",
      "Moviepy - Building video /Users/idotzhori/Desktop/autoencoderlight/cleaned_highlights/EvertonvBrentford_scene_17.mp4.\n",
      "MoviePy - Writing audio in EvertonvBrentford_scene_17TEMP_MPY_wvf_snd.mp3\n"
     ]
    },
    {
     "name": "stderr",
     "output_type": "stream",
     "text": [
      "                                                                                \r"
     ]
    },
    {
     "name": "stdout",
     "output_type": "stream",
     "text": [
      "MoviePy - Done.\n",
      "Moviepy - Writing video /Users/idotzhori/Desktop/autoencoderlight/cleaned_highlights/EvertonvBrentford_scene_17.mp4\n",
      "\n"
     ]
    },
    {
     "name": "stderr",
     "output_type": "stream",
     "text": [
      "                                                                                \r"
     ]
    },
    {
     "name": "stdout",
     "output_type": "stream",
     "text": [
      "Moviepy - Done !\n",
      "Moviepy - video ready /Users/idotzhori/Desktop/autoencoderlight/cleaned_highlights/EvertonvBrentford_scene_17.mp4\n",
      "Moviepy - Building video /Users/idotzhori/Desktop/autoencoderlight/cleaned_highlights/EvertonvTottenhamHotspur_scene_38.mp4.\n",
      "MoviePy - Writing audio in EvertonvTottenhamHotspur_scene_38TEMP_MPY_wvf_snd.mp3\n"
     ]
    },
    {
     "name": "stderr",
     "output_type": "stream",
     "text": [
      "                                                                                \r"
     ]
    },
    {
     "name": "stdout",
     "output_type": "stream",
     "text": [
      "MoviePy - Done.\n",
      "Moviepy - Writing video /Users/idotzhori/Desktop/autoencoderlight/cleaned_highlights/EvertonvTottenhamHotspur_scene_38.mp4\n",
      "\n"
     ]
    },
    {
     "name": "stderr",
     "output_type": "stream",
     "text": [
      "                                                                                \r"
     ]
    },
    {
     "name": "stdout",
     "output_type": "stream",
     "text": [
      "Moviepy - Done !\n",
      "Moviepy - video ready /Users/idotzhori/Desktop/autoencoderlight/cleaned_highlights/EvertonvTottenhamHotspur_scene_38.mp4\n",
      "Moviepy - Building video /Users/idotzhori/Desktop/autoencoderlight/cleaned_highlights/FulhamvLeedsUnited_scene_3.mp4.\n",
      "MoviePy - Writing audio in FulhamvLeedsUnited_scene_3TEMP_MPY_wvf_snd.mp3\n"
     ]
    },
    {
     "name": "stderr",
     "output_type": "stream",
     "text": [
      "                                                                                \r"
     ]
    },
    {
     "name": "stdout",
     "output_type": "stream",
     "text": [
      "MoviePy - Done.\n",
      "Moviepy - Writing video /Users/idotzhori/Desktop/autoencoderlight/cleaned_highlights/FulhamvLeedsUnited_scene_3.mp4\n",
      "\n"
     ]
    },
    {
     "name": "stderr",
     "output_type": "stream",
     "text": [
      "                                                                                \r"
     ]
    },
    {
     "name": "stdout",
     "output_type": "stream",
     "text": [
      "Moviepy - Done !\n",
      "Moviepy - video ready /Users/idotzhori/Desktop/autoencoderlight/cleaned_highlights/FulhamvLeedsUnited_scene_3.mp4\n",
      "Moviepy - Building video /Users/idotzhori/Desktop/autoencoderlight/cleaned_highlights/WolvesvTottenhamHotspur_scene_12.mp4.\n",
      "MoviePy - Writing audio in WolvesvTottenhamHotspur_scene_12TEMP_MPY_wvf_snd.mp3\n"
     ]
    },
    {
     "name": "stderr",
     "output_type": "stream",
     "text": [
      "                                                                                \r"
     ]
    },
    {
     "name": "stdout",
     "output_type": "stream",
     "text": [
      "MoviePy - Done.\n",
      "Moviepy - Writing video /Users/idotzhori/Desktop/autoencoderlight/cleaned_highlights/WolvesvTottenhamHotspur_scene_12.mp4\n",
      "\n"
     ]
    },
    {
     "name": "stderr",
     "output_type": "stream",
     "text": [
      "                                                                                \r"
     ]
    },
    {
     "name": "stdout",
     "output_type": "stream",
     "text": [
      "Moviepy - Done !\n",
      "Moviepy - video ready /Users/idotzhori/Desktop/autoencoderlight/cleaned_highlights/WolvesvTottenhamHotspur_scene_12.mp4\n",
      "Moviepy - Building video /Users/idotzhori/Desktop/autoencoderlight/cleaned_highlights/BrightonvWolves_scene_24.mp4.\n",
      "MoviePy - Writing audio in BrightonvWolves_scene_24TEMP_MPY_wvf_snd.mp3\n"
     ]
    },
    {
     "name": "stderr",
     "output_type": "stream",
     "text": [
      "                                                                                \r"
     ]
    },
    {
     "name": "stdout",
     "output_type": "stream",
     "text": [
      "MoviePy - Done.\n",
      "Moviepy - Writing video /Users/idotzhori/Desktop/autoencoderlight/cleaned_highlights/BrightonvWolves_scene_24.mp4\n",
      "\n"
     ]
    },
    {
     "name": "stderr",
     "output_type": "stream",
     "text": [
      "                                                                                \r"
     ]
    },
    {
     "name": "stdout",
     "output_type": "stream",
     "text": [
      "Moviepy - Done !\n",
      "Moviepy - video ready /Users/idotzhori/Desktop/autoencoderlight/cleaned_highlights/BrightonvWolves_scene_24.mp4\n",
      "Moviepy - Building video /Users/idotzhori/Desktop/autoencoderlight/cleaned_highlights/ManchesterUnitedvEverton_scene_21.mp4.\n",
      "MoviePy - Writing audio in ManchesterUnitedvEverton_scene_21TEMP_MPY_wvf_snd.mp3\n"
     ]
    },
    {
     "name": "stderr",
     "output_type": "stream",
     "text": [
      "                                                                                \r"
     ]
    },
    {
     "name": "stdout",
     "output_type": "stream",
     "text": [
      "MoviePy - Done.\n",
      "Moviepy - Writing video /Users/idotzhori/Desktop/autoencoderlight/cleaned_highlights/ManchesterUnitedvEverton_scene_21.mp4\n",
      "\n"
     ]
    },
    {
     "name": "stderr",
     "output_type": "stream",
     "text": [
      "                                                                                \r"
     ]
    },
    {
     "name": "stdout",
     "output_type": "stream",
     "text": [
      "Moviepy - Done !\n",
      "Moviepy - video ready /Users/idotzhori/Desktop/autoencoderlight/cleaned_highlights/ManchesterUnitedvEverton_scene_21.mp4\n",
      "Moviepy - Building video /Users/idotzhori/Desktop/autoencoderlight/cleaned_highlights/WestHamUnitedvManchesterUnited_scene_13.mp4.\n",
      "MoviePy - Writing audio in WestHamUnitedvManchesterUnited_scene_13TEMP_MPY_wvf_snd.mp3\n"
     ]
    },
    {
     "name": "stderr",
     "output_type": "stream",
     "text": [
      "                                                                                \r"
     ]
    },
    {
     "name": "stdout",
     "output_type": "stream",
     "text": [
      "MoviePy - Done.\n",
      "Moviepy - Writing video /Users/idotzhori/Desktop/autoencoderlight/cleaned_highlights/WestHamUnitedvManchesterUnited_scene_13.mp4\n",
      "\n"
     ]
    },
    {
     "name": "stderr",
     "output_type": "stream",
     "text": [
      "                                                                                \r"
     ]
    },
    {
     "name": "stdout",
     "output_type": "stream",
     "text": [
      "Moviepy - Done !\n",
      "Moviepy - video ready /Users/idotzhori/Desktop/autoencoderlight/cleaned_highlights/WestHamUnitedvManchesterUnited_scene_13.mp4\n",
      "Moviepy - Building video /Users/idotzhori/Desktop/autoencoderlight/cleaned_highlights/BournemouthvFulham_scene_2.mp4.\n",
      "MoviePy - Writing audio in BournemouthvFulham_scene_2TEMP_MPY_wvf_snd.mp3\n"
     ]
    },
    {
     "name": "stderr",
     "output_type": "stream",
     "text": [
      "                                                                                \r"
     ]
    },
    {
     "name": "stdout",
     "output_type": "stream",
     "text": [
      "MoviePy - Done.\n",
      "Moviepy - Writing video /Users/idotzhori/Desktop/autoencoderlight/cleaned_highlights/BournemouthvFulham_scene_2.mp4\n",
      "\n"
     ]
    },
    {
     "name": "stderr",
     "output_type": "stream",
     "text": [
      "                                                                                \r"
     ]
    },
    {
     "name": "stdout",
     "output_type": "stream",
     "text": [
      "Moviepy - Done !\n",
      "Moviepy - video ready /Users/idotzhori/Desktop/autoencoderlight/cleaned_highlights/BournemouthvFulham_scene_2.mp4\n",
      "Moviepy - Building video /Users/idotzhori/Desktop/autoencoderlight/cleaned_highlights/BournemouthvLiverpool_scene_14.mp4.\n",
      "MoviePy - Writing audio in BournemouthvLiverpool_scene_14TEMP_MPY_wvf_snd.mp3\n"
     ]
    },
    {
     "name": "stderr",
     "output_type": "stream",
     "text": [
      "                                                                                \r"
     ]
    },
    {
     "name": "stdout",
     "output_type": "stream",
     "text": [
      "MoviePy - Done.\n",
      "Moviepy - Writing video /Users/idotzhori/Desktop/autoencoderlight/cleaned_highlights/BournemouthvLiverpool_scene_14.mp4\n",
      "\n"
     ]
    },
    {
     "name": "stderr",
     "output_type": "stream",
     "text": [
      "                                                                                \r"
     ]
    },
    {
     "name": "stdout",
     "output_type": "stream",
     "text": [
      "Moviepy - Done !\n",
      "Moviepy - video ready /Users/idotzhori/Desktop/autoencoderlight/cleaned_highlights/BournemouthvLiverpool_scene_14.mp4\n",
      "Moviepy - Building video /Users/idotzhori/Desktop/autoencoderlight/cleaned_highlights/BrightonvCrystalPalace_scene_7.mp4.\n",
      "MoviePy - Writing audio in BrightonvCrystalPalace_scene_7TEMP_MPY_wvf_snd.mp3\n"
     ]
    },
    {
     "name": "stderr",
     "output_type": "stream",
     "text": [
      "                                                                                \r"
     ]
    },
    {
     "name": "stdout",
     "output_type": "stream",
     "text": [
      "MoviePy - Done.\n",
      "Moviepy - Writing video /Users/idotzhori/Desktop/autoencoderlight/cleaned_highlights/BrightonvCrystalPalace_scene_7.mp4\n",
      "\n"
     ]
    },
    {
     "name": "stderr",
     "output_type": "stream",
     "text": [
      "                                                                                \r"
     ]
    },
    {
     "name": "stdout",
     "output_type": "stream",
     "text": [
      "Moviepy - Done !\n",
      "Moviepy - video ready /Users/idotzhori/Desktop/autoencoderlight/cleaned_highlights/BrightonvCrystalPalace_scene_7.mp4\n",
      "Moviepy - Building video /Users/idotzhori/Desktop/autoencoderlight/cleaned_highlights/ManchesterUnitedvEverton_scene_6.mp4.\n",
      "MoviePy - Writing audio in ManchesterUnitedvEverton_scene_6TEMP_MPY_wvf_snd.mp3\n"
     ]
    },
    {
     "name": "stderr",
     "output_type": "stream",
     "text": [
      "                                                                                \r"
     ]
    },
    {
     "name": "stdout",
     "output_type": "stream",
     "text": [
      "MoviePy - Done.\n",
      "Moviepy - Writing video /Users/idotzhori/Desktop/autoencoderlight/cleaned_highlights/ManchesterUnitedvEverton_scene_6.mp4\n",
      "\n"
     ]
    },
    {
     "name": "stderr",
     "output_type": "stream",
     "text": [
      "                                                                                \r"
     ]
    },
    {
     "name": "stdout",
     "output_type": "stream",
     "text": [
      "Moviepy - Done !\n",
      "Moviepy - video ready /Users/idotzhori/Desktop/autoencoderlight/cleaned_highlights/ManchesterUnitedvEverton_scene_6.mp4\n",
      "Moviepy - Building video /Users/idotzhori/Desktop/autoencoderlight/cleaned_highlights/NottinghamForestvArsenal_scene_6.mp4.\n",
      "MoviePy - Writing audio in NottinghamForestvArsenal_scene_6TEMP_MPY_wvf_snd.mp3\n"
     ]
    },
    {
     "name": "stderr",
     "output_type": "stream",
     "text": [
      "                                                                                \r"
     ]
    },
    {
     "name": "stdout",
     "output_type": "stream",
     "text": [
      "MoviePy - Done.\n",
      "Moviepy - Writing video /Users/idotzhori/Desktop/autoencoderlight/cleaned_highlights/NottinghamForestvArsenal_scene_6.mp4\n",
      "\n"
     ]
    },
    {
     "name": "stderr",
     "output_type": "stream",
     "text": [
      "                                                                                \r"
     ]
    },
    {
     "name": "stdout",
     "output_type": "stream",
     "text": [
      "Moviepy - Done !\n",
      "Moviepy - video ready /Users/idotzhori/Desktop/autoencoderlight/cleaned_highlights/NottinghamForestvArsenal_scene_6.mp4\n",
      "Moviepy - Building video /Users/idotzhori/Desktop/autoencoderlight/cleaned_highlights/LiverpoolvArsenal_scene_6.mp4.\n",
      "MoviePy - Writing audio in LiverpoolvArsenal_scene_6TEMP_MPY_wvf_snd.mp3\n"
     ]
    },
    {
     "name": "stderr",
     "output_type": "stream",
     "text": [
      "                                                                                \r"
     ]
    },
    {
     "name": "stdout",
     "output_type": "stream",
     "text": [
      "MoviePy - Done.\n",
      "Moviepy - Writing video /Users/idotzhori/Desktop/autoencoderlight/cleaned_highlights/LiverpoolvArsenal_scene_6.mp4\n",
      "\n"
     ]
    },
    {
     "name": "stderr",
     "output_type": "stream",
     "text": [
      "                                                                                \r"
     ]
    },
    {
     "name": "stdout",
     "output_type": "stream",
     "text": [
      "Moviepy - Done !\n",
      "Moviepy - video ready /Users/idotzhori/Desktop/autoencoderlight/cleaned_highlights/LiverpoolvArsenal_scene_6.mp4\n",
      "Moviepy - Building video /Users/idotzhori/Desktop/autoencoderlight/cleaned_highlights/WestHamUnitedvManchesterUnited_scene_5.mp4.\n",
      "MoviePy - Writing audio in WestHamUnitedvManchesterUnited_scene_5TEMP_MPY_wvf_snd.mp3\n"
     ]
    },
    {
     "name": "stderr",
     "output_type": "stream",
     "text": [
      "                                                                                \r"
     ]
    },
    {
     "name": "stdout",
     "output_type": "stream",
     "text": [
      "MoviePy - Done.\n",
      "Moviepy - Writing video /Users/idotzhori/Desktop/autoencoderlight/cleaned_highlights/WestHamUnitedvManchesterUnited_scene_5.mp4\n",
      "\n"
     ]
    },
    {
     "name": "stderr",
     "output_type": "stream",
     "text": [
      "                                                                                \r"
     ]
    },
    {
     "name": "stdout",
     "output_type": "stream",
     "text": [
      "Moviepy - Done !\n",
      "Moviepy - video ready /Users/idotzhori/Desktop/autoencoderlight/cleaned_highlights/WestHamUnitedvManchesterUnited_scene_5.mp4\n",
      "Moviepy - Building video /Users/idotzhori/Desktop/autoencoderlight/cleaned_highlights/BournemouthvLiverpool_scene_3.mp4.\n",
      "MoviePy - Writing audio in BournemouthvLiverpool_scene_3TEMP_MPY_wvf_snd.mp3\n"
     ]
    },
    {
     "name": "stderr",
     "output_type": "stream",
     "text": [
      "                                                                                \r"
     ]
    },
    {
     "name": "stdout",
     "output_type": "stream",
     "text": [
      "MoviePy - Done.\n",
      "Moviepy - Writing video /Users/idotzhori/Desktop/autoencoderlight/cleaned_highlights/BournemouthvLiverpool_scene_3.mp4\n",
      "\n"
     ]
    },
    {
     "name": "stderr",
     "output_type": "stream",
     "text": [
      "                                                                                \r"
     ]
    },
    {
     "name": "stdout",
     "output_type": "stream",
     "text": [
      "Moviepy - Done !\n",
      "Moviepy - video ready /Users/idotzhori/Desktop/autoencoderlight/cleaned_highlights/BournemouthvLiverpool_scene_3.mp4\n",
      "Moviepy - Building video /Users/idotzhori/Desktop/autoencoderlight/cleaned_highlights/ManchesterUnitedvLeicesterCity_scene_2.mp4.\n",
      "MoviePy - Writing audio in ManchesterUnitedvLeicesterCity_scene_2TEMP_MPY_wvf_snd.mp3\n"
     ]
    },
    {
     "name": "stderr",
     "output_type": "stream",
     "text": [
      "                                                                                \r"
     ]
    },
    {
     "name": "stdout",
     "output_type": "stream",
     "text": [
      "MoviePy - Done.\n",
      "Moviepy - Writing video /Users/idotzhori/Desktop/autoencoderlight/cleaned_highlights/ManchesterUnitedvLeicesterCity_scene_2.mp4\n",
      "\n"
     ]
    },
    {
     "name": "stderr",
     "output_type": "stream",
     "text": [
      "                                                                                \r"
     ]
    },
    {
     "name": "stdout",
     "output_type": "stream",
     "text": [
      "Moviepy - Done !\n",
      "Moviepy - video ready /Users/idotzhori/Desktop/autoencoderlight/cleaned_highlights/ManchesterUnitedvLeicesterCity_scene_2.mp4\n",
      "Moviepy - Building video /Users/idotzhori/Desktop/autoencoderlight/cleaned_highlights/NottinghamForestvArsenal_scene_3.mp4.\n",
      "MoviePy - Writing audio in NottinghamForestvArsenal_scene_3TEMP_MPY_wvf_snd.mp3\n"
     ]
    },
    {
     "name": "stderr",
     "output_type": "stream",
     "text": [
      "                                                                                \r"
     ]
    },
    {
     "name": "stdout",
     "output_type": "stream",
     "text": [
      "MoviePy - Done.\n",
      "Moviepy - Writing video /Users/idotzhori/Desktop/autoencoderlight/cleaned_highlights/NottinghamForestvArsenal_scene_3.mp4\n",
      "\n"
     ]
    },
    {
     "name": "stderr",
     "output_type": "stream",
     "text": [
      "                                                                                \r"
     ]
    },
    {
     "name": "stdout",
     "output_type": "stream",
     "text": [
      "Moviepy - Done !\n",
      "Moviepy - video ready /Users/idotzhori/Desktop/autoencoderlight/cleaned_highlights/NottinghamForestvArsenal_scene_3.mp4\n",
      "Moviepy - Building video /Users/idotzhori/Desktop/autoencoderlight/cleaned_highlights/WestHamUnitedvArsenal_scene_15.mp4.\n",
      "MoviePy - Writing audio in WestHamUnitedvArsenal_scene_15TEMP_MPY_wvf_snd.mp3\n"
     ]
    },
    {
     "name": "stderr",
     "output_type": "stream",
     "text": [
      "                                                                                \r"
     ]
    },
    {
     "name": "stdout",
     "output_type": "stream",
     "text": [
      "MoviePy - Done.\n",
      "Moviepy - Writing video /Users/idotzhori/Desktop/autoencoderlight/cleaned_highlights/WestHamUnitedvArsenal_scene_15.mp4\n",
      "\n"
     ]
    },
    {
     "name": "stderr",
     "output_type": "stream",
     "text": [
      "                                                                                \r"
     ]
    },
    {
     "name": "stdout",
     "output_type": "stream",
     "text": [
      "Moviepy - Done !\n",
      "Moviepy - video ready /Users/idotzhori/Desktop/autoencoderlight/cleaned_highlights/WestHamUnitedvArsenal_scene_15.mp4\n",
      "Moviepy - Building video /Users/idotzhori/Desktop/autoencoderlight/cleaned_highlights/LiverpoolvEverton_scene_14.mp4.\n",
      "MoviePy - Writing audio in LiverpoolvEverton_scene_14TEMP_MPY_wvf_snd.mp3\n"
     ]
    },
    {
     "name": "stderr",
     "output_type": "stream",
     "text": [
      "                                                                                \r"
     ]
    },
    {
     "name": "stdout",
     "output_type": "stream",
     "text": [
      "MoviePy - Done.\n",
      "Moviepy - Writing video /Users/idotzhori/Desktop/autoencoderlight/cleaned_highlights/LiverpoolvEverton_scene_14.mp4\n",
      "\n"
     ]
    },
    {
     "name": "stderr",
     "output_type": "stream",
     "text": [
      "                                                                                \r"
     ]
    },
    {
     "name": "stdout",
     "output_type": "stream",
     "text": [
      "Moviepy - Done !\n",
      "Moviepy - video ready /Users/idotzhori/Desktop/autoencoderlight/cleaned_highlights/LiverpoolvEverton_scene_14.mp4\n",
      "Moviepy - Building video /Users/idotzhori/Desktop/autoencoderlight/cleaned_highlights/ChelseavBrighton_scene_21.mp4.\n",
      "MoviePy - Writing audio in ChelseavBrighton_scene_21TEMP_MPY_wvf_snd.mp3\n"
     ]
    },
    {
     "name": "stderr",
     "output_type": "stream",
     "text": [
      "                                                                                \r"
     ]
    },
    {
     "name": "stdout",
     "output_type": "stream",
     "text": [
      "MoviePy - Done.\n",
      "Moviepy - Writing video /Users/idotzhori/Desktop/autoencoderlight/cleaned_highlights/ChelseavBrighton_scene_21.mp4\n",
      "\n"
     ]
    },
    {
     "name": "stderr",
     "output_type": "stream",
     "text": [
      "                                                                                \r"
     ]
    },
    {
     "name": "stdout",
     "output_type": "stream",
     "text": [
      "Moviepy - Done !\n",
      "Moviepy - video ready /Users/idotzhori/Desktop/autoencoderlight/cleaned_highlights/ChelseavBrighton_scene_21.mp4\n",
      "Moviepy - Building video /Users/idotzhori/Desktop/autoencoderlight/cleaned_highlights/FulhamvCrystalPalace_scene_4.mp4.\n",
      "MoviePy - Writing audio in FulhamvCrystalPalace_scene_4TEMP_MPY_wvf_snd.mp3\n"
     ]
    },
    {
     "name": "stderr",
     "output_type": "stream",
     "text": [
      "                                                                                \r"
     ]
    },
    {
     "name": "stdout",
     "output_type": "stream",
     "text": [
      "MoviePy - Done.\n",
      "Moviepy - Writing video /Users/idotzhori/Desktop/autoencoderlight/cleaned_highlights/FulhamvCrystalPalace_scene_4.mp4\n",
      "\n"
     ]
    },
    {
     "name": "stderr",
     "output_type": "stream",
     "text": [
      "                                                                                \r"
     ]
    },
    {
     "name": "stdout",
     "output_type": "stream",
     "text": [
      "Moviepy - Done !\n",
      "Moviepy - video ready /Users/idotzhori/Desktop/autoencoderlight/cleaned_highlights/FulhamvCrystalPalace_scene_4.mp4\n",
      "Moviepy - Building video /Users/idotzhori/Desktop/autoencoderlight/cleaned_highlights/ChelseavEverton_scene_27.mp4.\n",
      "MoviePy - Writing audio in ChelseavEverton_scene_27TEMP_MPY_wvf_snd.mp3\n"
     ]
    },
    {
     "name": "stderr",
     "output_type": "stream",
     "text": [
      "                                                                                \r"
     ]
    },
    {
     "name": "stdout",
     "output_type": "stream",
     "text": [
      "MoviePy - Done.\n",
      "Moviepy - Writing video /Users/idotzhori/Desktop/autoencoderlight/cleaned_highlights/ChelseavEverton_scene_27.mp4\n",
      "\n"
     ]
    },
    {
     "name": "stderr",
     "output_type": "stream",
     "text": [
      "                                                                                \r"
     ]
    },
    {
     "name": "stdout",
     "output_type": "stream",
     "text": [
      "Moviepy - Done !\n",
      "Moviepy - video ready /Users/idotzhori/Desktop/autoencoderlight/cleaned_highlights/ChelseavEverton_scene_27.mp4\n",
      "Moviepy - Building video /Users/idotzhori/Desktop/autoencoderlight/cleaned_highlights/FulhamvWolves_scene_5.mp4.\n",
      "MoviePy - Writing audio in FulhamvWolves_scene_5TEMP_MPY_wvf_snd.mp3\n"
     ]
    },
    {
     "name": "stderr",
     "output_type": "stream",
     "text": [
      "                                                                                \r"
     ]
    },
    {
     "name": "stdout",
     "output_type": "stream",
     "text": [
      "MoviePy - Done.\n",
      "Moviepy - Writing video /Users/idotzhori/Desktop/autoencoderlight/cleaned_highlights/FulhamvWolves_scene_5.mp4\n",
      "\n"
     ]
    },
    {
     "name": "stderr",
     "output_type": "stream",
     "text": [
      "                                                                                \r"
     ]
    },
    {
     "name": "stdout",
     "output_type": "stream",
     "text": [
      "Moviepy - Done !\n",
      "Moviepy - video ready /Users/idotzhori/Desktop/autoencoderlight/cleaned_highlights/FulhamvWolves_scene_5.mp4\n",
      "Moviepy - Building video /Users/idotzhori/Desktop/autoencoderlight/cleaned_highlights/TottenhamHotspurvNottinghamForest_scene_28.mp4.\n",
      "MoviePy - Writing audio in TottenhamHotspurvNottinghamForest_scene_28TEMP_MPY_wvf_snd.mp3\n"
     ]
    },
    {
     "name": "stderr",
     "output_type": "stream",
     "text": [
      "                                                                                \r"
     ]
    },
    {
     "name": "stdout",
     "output_type": "stream",
     "text": [
      "MoviePy - Done.\n",
      "Moviepy - Writing video /Users/idotzhori/Desktop/autoencoderlight/cleaned_highlights/TottenhamHotspurvNottinghamForest_scene_28.mp4\n",
      "\n"
     ]
    },
    {
     "name": "stderr",
     "output_type": "stream",
     "text": [
      "                                                                                \r"
     ]
    },
    {
     "name": "stdout",
     "output_type": "stream",
     "text": [
      "Moviepy - Done !\n",
      "Moviepy - video ready /Users/idotzhori/Desktop/autoencoderlight/cleaned_highlights/TottenhamHotspurvNottinghamForest_scene_28.mp4\n",
      "Moviepy - Building video /Users/idotzhori/Desktop/autoencoderlight/cleaned_highlights/NottinghamForestvArsenal_scene_14.mp4.\n",
      "MoviePy - Writing audio in NottinghamForestvArsenal_scene_14TEMP_MPY_wvf_snd.mp3\n"
     ]
    },
    {
     "name": "stderr",
     "output_type": "stream",
     "text": [
      "                                                                                \r"
     ]
    },
    {
     "name": "stdout",
     "output_type": "stream",
     "text": [
      "MoviePy - Done.\n",
      "Moviepy - Writing video /Users/idotzhori/Desktop/autoencoderlight/cleaned_highlights/NottinghamForestvArsenal_scene_14.mp4\n",
      "\n"
     ]
    },
    {
     "name": "stderr",
     "output_type": "stream",
     "text": [
      "                                                                                \r"
     ]
    },
    {
     "name": "stdout",
     "output_type": "stream",
     "text": [
      "Moviepy - Done !\n",
      "Moviepy - video ready /Users/idotzhori/Desktop/autoencoderlight/cleaned_highlights/NottinghamForestvArsenal_scene_14.mp4\n",
      "Moviepy - Building video /Users/idotzhori/Desktop/autoencoderlight/cleaned_highlights/TottenhamHotspurvNottinghamForest_scene_15.mp4.\n",
      "MoviePy - Writing audio in TottenhamHotspurvNottinghamForest_scene_15TEMP_MPY_wvf_snd.mp3\n"
     ]
    },
    {
     "name": "stderr",
     "output_type": "stream",
     "text": [
      "                                                                                \r"
     ]
    },
    {
     "name": "stdout",
     "output_type": "stream",
     "text": [
      "MoviePy - Done.\n",
      "Moviepy - Writing video /Users/idotzhori/Desktop/autoencoderlight/cleaned_highlights/TottenhamHotspurvNottinghamForest_scene_15.mp4\n",
      "\n"
     ]
    },
    {
     "name": "stderr",
     "output_type": "stream",
     "text": [
      "                                                                                \r"
     ]
    },
    {
     "name": "stdout",
     "output_type": "stream",
     "text": [
      "Moviepy - Done !\n",
      "Moviepy - video ready /Users/idotzhori/Desktop/autoencoderlight/cleaned_highlights/TottenhamHotspurvNottinghamForest_scene_15.mp4\n",
      "Moviepy - Building video /Users/idotzhori/Desktop/autoencoderlight/cleaned_highlights/WolvesvBournemouth_scene_1.mp4.\n",
      "MoviePy - Writing audio in WolvesvBournemouth_scene_1TEMP_MPY_wvf_snd.mp3\n"
     ]
    },
    {
     "name": "stderr",
     "output_type": "stream",
     "text": [
      "                                                                                \r"
     ]
    },
    {
     "name": "stdout",
     "output_type": "stream",
     "text": [
      "MoviePy - Done.\n",
      "Moviepy - Writing video /Users/idotzhori/Desktop/autoencoderlight/cleaned_highlights/WolvesvBournemouth_scene_1.mp4\n",
      "\n"
     ]
    },
    {
     "name": "stderr",
     "output_type": "stream",
     "text": [
      "                                                                                \r"
     ]
    },
    {
     "name": "stdout",
     "output_type": "stream",
     "text": [
      "Moviepy - Done !\n",
      "Moviepy - video ready /Users/idotzhori/Desktop/autoencoderlight/cleaned_highlights/WolvesvBournemouth_scene_1.mp4\n",
      "Moviepy - Building video /Users/idotzhori/Desktop/autoencoderlight/cleaned_highlights/EvertonvFulham_scene_25.mp4.\n",
      "MoviePy - Writing audio in EvertonvFulham_scene_25TEMP_MPY_wvf_snd.mp3\n"
     ]
    },
    {
     "name": "stderr",
     "output_type": "stream",
     "text": [
      "                                                                                \r"
     ]
    },
    {
     "name": "stdout",
     "output_type": "stream",
     "text": [
      "MoviePy - Done.\n",
      "Moviepy - Writing video /Users/idotzhori/Desktop/autoencoderlight/cleaned_highlights/EvertonvFulham_scene_25.mp4\n",
      "\n"
     ]
    },
    {
     "name": "stderr",
     "output_type": "stream",
     "text": [
      "                                                                                \r"
     ]
    },
    {
     "name": "stdout",
     "output_type": "stream",
     "text": [
      "Moviepy - Done !\n",
      "Moviepy - video ready /Users/idotzhori/Desktop/autoencoderlight/cleaned_highlights/EvertonvFulham_scene_25.mp4\n",
      "Moviepy - Building video /Users/idotzhori/Desktop/autoencoderlight/cleaned_highlights/SouthamptonvLiverpool_scene_23.mp4.\n",
      "MoviePy - Writing audio in SouthamptonvLiverpool_scene_23TEMP_MPY_wvf_snd.mp3\n"
     ]
    },
    {
     "name": "stderr",
     "output_type": "stream",
     "text": [
      "                                                                                \r"
     ]
    },
    {
     "name": "stdout",
     "output_type": "stream",
     "text": [
      "MoviePy - Done.\n",
      "Moviepy - Writing video /Users/idotzhori/Desktop/autoencoderlight/cleaned_highlights/SouthamptonvLiverpool_scene_23.mp4\n",
      "\n"
     ]
    },
    {
     "name": "stderr",
     "output_type": "stream",
     "text": [
      "                                                                                \r"
     ]
    },
    {
     "name": "stdout",
     "output_type": "stream",
     "text": [
      "Moviepy - Done !\n",
      "Moviepy - video ready /Users/idotzhori/Desktop/autoencoderlight/cleaned_highlights/SouthamptonvLiverpool_scene_23.mp4\n",
      "Moviepy - Building video /Users/idotzhori/Desktop/autoencoderlight/cleaned_highlights/WolvesvTottenhamHotspur_scene_15.mp4.\n",
      "MoviePy - Writing audio in WolvesvTottenhamHotspur_scene_15TEMP_MPY_wvf_snd.mp3\n"
     ]
    },
    {
     "name": "stderr",
     "output_type": "stream",
     "text": [
      "                                                                                \r"
     ]
    },
    {
     "name": "stdout",
     "output_type": "stream",
     "text": [
      "MoviePy - Done.\n",
      "Moviepy - Writing video /Users/idotzhori/Desktop/autoencoderlight/cleaned_highlights/WolvesvTottenhamHotspur_scene_15.mp4\n",
      "\n"
     ]
    },
    {
     "name": "stderr",
     "output_type": "stream",
     "text": [
      "                                                                                \r"
     ]
    },
    {
     "name": "stdout",
     "output_type": "stream",
     "text": [
      "Moviepy - Done !\n",
      "Moviepy - video ready /Users/idotzhori/Desktop/autoencoderlight/cleaned_highlights/WolvesvTottenhamHotspur_scene_15.mp4\n",
      "Moviepy - Building video /Users/idotzhori/Desktop/autoencoderlight/cleaned_highlights/LeedsUnitedvNottinghamForest_scene_16.mp4.\n",
      "MoviePy - Writing audio in LeedsUnitedvNottinghamForest_scene_16TEMP_MPY_wvf_snd.mp3\n"
     ]
    },
    {
     "name": "stderr",
     "output_type": "stream",
     "text": [
      "                                                                                \r"
     ]
    },
    {
     "name": "stdout",
     "output_type": "stream",
     "text": [
      "MoviePy - Done.\n",
      "Moviepy - Writing video /Users/idotzhori/Desktop/autoencoderlight/cleaned_highlights/LeedsUnitedvNottinghamForest_scene_16.mp4\n",
      "\n"
     ]
    },
    {
     "name": "stderr",
     "output_type": "stream",
     "text": [
      "                                                                                \r"
     ]
    },
    {
     "name": "stdout",
     "output_type": "stream",
     "text": [
      "Moviepy - Done !\n",
      "Moviepy - video ready /Users/idotzhori/Desktop/autoencoderlight/cleaned_highlights/LeedsUnitedvNottinghamForest_scene_16.mp4\n",
      "Moviepy - Building video /Users/idotzhori/Desktop/autoencoderlight/cleaned_highlights/FulhamvManchesterCity_scene_9.mp4.\n",
      "MoviePy - Writing audio in FulhamvManchesterCity_scene_9TEMP_MPY_wvf_snd.mp3\n"
     ]
    },
    {
     "name": "stderr",
     "output_type": "stream",
     "text": [
      "                                                                                \r"
     ]
    },
    {
     "name": "stdout",
     "output_type": "stream",
     "text": [
      "MoviePy - Done.\n",
      "Moviepy - Writing video /Users/idotzhori/Desktop/autoencoderlight/cleaned_highlights/FulhamvManchesterCity_scene_9.mp4\n",
      "\n"
     ]
    },
    {
     "name": "stderr",
     "output_type": "stream",
     "text": [
      "                                                                                \r"
     ]
    },
    {
     "name": "stdout",
     "output_type": "stream",
     "text": [
      "Moviepy - Done !\n",
      "Moviepy - video ready /Users/idotzhori/Desktop/autoencoderlight/cleaned_highlights/FulhamvManchesterCity_scene_9.mp4\n",
      "Moviepy - Building video /Users/idotzhori/Desktop/autoencoderlight/cleaned_highlights/LeedsUnitedvLeicesterCity_scene_12.mp4.\n",
      "MoviePy - Writing audio in LeedsUnitedvLeicesterCity_scene_12TEMP_MPY_wvf_snd.mp3\n"
     ]
    },
    {
     "name": "stderr",
     "output_type": "stream",
     "text": [
      "                                                                                \r"
     ]
    },
    {
     "name": "stdout",
     "output_type": "stream",
     "text": [
      "MoviePy - Done.\n",
      "Moviepy - Writing video /Users/idotzhori/Desktop/autoencoderlight/cleaned_highlights/LeedsUnitedvLeicesterCity_scene_12.mp4\n",
      "\n"
     ]
    },
    {
     "name": "stderr",
     "output_type": "stream",
     "text": [
      "                                                                                \r"
     ]
    },
    {
     "name": "stdout",
     "output_type": "stream",
     "text": [
      "Moviepy - Done !\n",
      "Moviepy - video ready /Users/idotzhori/Desktop/autoencoderlight/cleaned_highlights/LeedsUnitedvLeicesterCity_scene_12.mp4\n",
      "Moviepy - Building video /Users/idotzhori/Desktop/autoencoderlight/cleaned_highlights/BrentfordvNottinghamForest_scene_10.mp4.\n",
      "MoviePy - Writing audio in BrentfordvNottinghamForest_scene_10TEMP_MPY_wvf_snd.mp3\n"
     ]
    },
    {
     "name": "stderr",
     "output_type": "stream",
     "text": [
      "                                                                                \r"
     ]
    },
    {
     "name": "stdout",
     "output_type": "stream",
     "text": [
      "MoviePy - Done.\n",
      "Moviepy - Writing video /Users/idotzhori/Desktop/autoencoderlight/cleaned_highlights/BrentfordvNottinghamForest_scene_10.mp4\n",
      "\n"
     ]
    },
    {
     "name": "stderr",
     "output_type": "stream",
     "text": [
      "                                                                                \r"
     ]
    },
    {
     "name": "stdout",
     "output_type": "stream",
     "text": [
      "Moviepy - Done !\n",
      "Moviepy - video ready /Users/idotzhori/Desktop/autoencoderlight/cleaned_highlights/BrentfordvNottinghamForest_scene_10.mp4\n",
      "Moviepy - Building video /Users/idotzhori/Desktop/autoencoderlight/cleaned_highlights/NottinghamForestvNewcastle_scene_8.mp4.\n",
      "MoviePy - Writing audio in NottinghamForestvNewcastle_scene_8TEMP_MPY_wvf_snd.mp3\n"
     ]
    },
    {
     "name": "stderr",
     "output_type": "stream",
     "text": [
      "                                                                                \r"
     ]
    },
    {
     "name": "stdout",
     "output_type": "stream",
     "text": [
      "MoviePy - Done.\n",
      "Moviepy - Writing video /Users/idotzhori/Desktop/autoencoderlight/cleaned_highlights/NottinghamForestvNewcastle_scene_8.mp4\n",
      "\n"
     ]
    },
    {
     "name": "stderr",
     "output_type": "stream",
     "text": [
      "                                                                                \r"
     ]
    },
    {
     "name": "stdout",
     "output_type": "stream",
     "text": [
      "Moviepy - Done !\n",
      "Moviepy - video ready /Users/idotzhori/Desktop/autoencoderlight/cleaned_highlights/NottinghamForestvNewcastle_scene_8.mp4\n",
      "Moviepy - Building video /Users/idotzhori/Desktop/autoencoderlight/cleaned_highlights/EvertonvBrentford_scene_7.mp4.\n",
      "MoviePy - Writing audio in EvertonvBrentford_scene_7TEMP_MPY_wvf_snd.mp3\n"
     ]
    },
    {
     "name": "stderr",
     "output_type": "stream",
     "text": [
      "                                                                                \r"
     ]
    },
    {
     "name": "stdout",
     "output_type": "stream",
     "text": [
      "MoviePy - Done.\n",
      "Moviepy - Writing video /Users/idotzhori/Desktop/autoencoderlight/cleaned_highlights/EvertonvBrentford_scene_7.mp4\n",
      "\n"
     ]
    },
    {
     "name": "stderr",
     "output_type": "stream",
     "text": [
      "                                                                                \r"
     ]
    },
    {
     "name": "stdout",
     "output_type": "stream",
     "text": [
      "Moviepy - Done !\n",
      "Moviepy - video ready /Users/idotzhori/Desktop/autoencoderlight/cleaned_highlights/EvertonvBrentford_scene_7.mp4\n",
      "Moviepy - Building video /Users/idotzhori/Desktop/autoencoderlight/cleaned_highlights/EvertonvBrentford_scene_22.mp4.\n",
      "MoviePy - Writing audio in EvertonvBrentford_scene_22TEMP_MPY_wvf_snd.mp3\n"
     ]
    },
    {
     "name": "stderr",
     "output_type": "stream",
     "text": [
      "                                                                                \r"
     ]
    },
    {
     "name": "stdout",
     "output_type": "stream",
     "text": [
      "MoviePy - Done.\n",
      "Moviepy - Writing video /Users/idotzhori/Desktop/autoencoderlight/cleaned_highlights/EvertonvBrentford_scene_22.mp4\n",
      "\n"
     ]
    },
    {
     "name": "stderr",
     "output_type": "stream",
     "text": [
      "                                                                                \r"
     ]
    },
    {
     "name": "stdout",
     "output_type": "stream",
     "text": [
      "Moviepy - Done !\n",
      "Moviepy - video ready /Users/idotzhori/Desktop/autoencoderlight/cleaned_highlights/EvertonvBrentford_scene_22.mp4\n",
      "Moviepy - Building video /Users/idotzhori/Desktop/autoencoderlight/cleaned_highlights/ManchesterCityvNewcastleUnited_scene_1.mp4.\n",
      "MoviePy - Writing audio in ManchesterCityvNewcastleUnited_scene_1TEMP_MPY_wvf_snd.mp3\n"
     ]
    },
    {
     "name": "stderr",
     "output_type": "stream",
     "text": [
      "                                                                                \r"
     ]
    },
    {
     "name": "stdout",
     "output_type": "stream",
     "text": [
      "MoviePy - Done.\n",
      "Moviepy - Writing video /Users/idotzhori/Desktop/autoencoderlight/cleaned_highlights/ManchesterCityvNewcastleUnited_scene_1.mp4\n",
      "\n"
     ]
    },
    {
     "name": "stderr",
     "output_type": "stream",
     "text": [
      "                                                                                \r"
     ]
    },
    {
     "name": "stdout",
     "output_type": "stream",
     "text": [
      "Moviepy - Done !\n",
      "Moviepy - video ready /Users/idotzhori/Desktop/autoencoderlight/cleaned_highlights/ManchesterCityvNewcastleUnited_scene_1.mp4\n",
      "Moviepy - Building video /Users/idotzhori/Desktop/autoencoderlight/cleaned_highlights/ChelseavEverton_scene_16.mp4.\n",
      "MoviePy - Writing audio in ChelseavEverton_scene_16TEMP_MPY_wvf_snd.mp3\n"
     ]
    },
    {
     "name": "stderr",
     "output_type": "stream",
     "text": [
      "                                                                                \r"
     ]
    },
    {
     "name": "stdout",
     "output_type": "stream",
     "text": [
      "MoviePy - Done.\n",
      "Moviepy - Writing video /Users/idotzhori/Desktop/autoencoderlight/cleaned_highlights/ChelseavEverton_scene_16.mp4\n",
      "\n"
     ]
    },
    {
     "name": "stderr",
     "output_type": "stream",
     "text": [
      "                                                                                \r"
     ]
    },
    {
     "name": "stdout",
     "output_type": "stream",
     "text": [
      "Moviepy - Done !\n",
      "Moviepy - video ready /Users/idotzhori/Desktop/autoencoderlight/cleaned_highlights/ChelseavEverton_scene_16.mp4\n",
      "Moviepy - Building video /Users/idotzhori/Desktop/autoencoderlight/cleaned_highlights/WolvesvTottenhamHotspur_scene_6.mp4.\n",
      "MoviePy - Writing audio in WolvesvTottenhamHotspur_scene_6TEMP_MPY_wvf_snd.mp3\n"
     ]
    },
    {
     "name": "stderr",
     "output_type": "stream",
     "text": [
      "                                                                                \r"
     ]
    },
    {
     "name": "stdout",
     "output_type": "stream",
     "text": [
      "MoviePy - Done.\n",
      "Moviepy - Writing video /Users/idotzhori/Desktop/autoencoderlight/cleaned_highlights/WolvesvTottenhamHotspur_scene_6.mp4\n",
      "\n"
     ]
    },
    {
     "name": "stderr",
     "output_type": "stream",
     "text": [
      "                                                                                \r"
     ]
    },
    {
     "name": "stdout",
     "output_type": "stream",
     "text": [
      "Moviepy - Done !\n",
      "Moviepy - video ready /Users/idotzhori/Desktop/autoencoderlight/cleaned_highlights/WolvesvTottenhamHotspur_scene_6.mp4\n",
      "Moviepy - Building video /Users/idotzhori/Desktop/autoencoderlight/cleaned_highlights/LeedsUnitedvBrighton_scene_8.mp4.\n",
      "MoviePy - Writing audio in LeedsUnitedvBrighton_scene_8TEMP_MPY_wvf_snd.mp3\n"
     ]
    },
    {
     "name": "stderr",
     "output_type": "stream",
     "text": [
      "                                                                                \r"
     ]
    },
    {
     "name": "stdout",
     "output_type": "stream",
     "text": [
      "MoviePy - Done.\n",
      "Moviepy - Writing video /Users/idotzhori/Desktop/autoencoderlight/cleaned_highlights/LeedsUnitedvBrighton_scene_8.mp4\n",
      "\n"
     ]
    },
    {
     "name": "stderr",
     "output_type": "stream",
     "text": [
      "                                                                                \r"
     ]
    },
    {
     "name": "stdout",
     "output_type": "stream",
     "text": [
      "Moviepy - Done !\n",
      "Moviepy - video ready /Users/idotzhori/Desktop/autoencoderlight/cleaned_highlights/LeedsUnitedvBrighton_scene_8.mp4\n",
      "Moviepy - Building video /Users/idotzhori/Desktop/autoencoderlight/cleaned_highlights/WolvesvTottenhamHotspur_scene_10.mp4.\n",
      "MoviePy - Writing audio in WolvesvTottenhamHotspur_scene_10TEMP_MPY_wvf_snd.mp3\n"
     ]
    },
    {
     "name": "stderr",
     "output_type": "stream",
     "text": [
      "                                                                                \r"
     ]
    },
    {
     "name": "stdout",
     "output_type": "stream",
     "text": [
      "MoviePy - Done.\n",
      "Moviepy - Writing video /Users/idotzhori/Desktop/autoencoderlight/cleaned_highlights/WolvesvTottenhamHotspur_scene_10.mp4\n",
      "\n"
     ]
    },
    {
     "name": "stderr",
     "output_type": "stream",
     "text": [
      "                                                                                \r"
     ]
    },
    {
     "name": "stdout",
     "output_type": "stream",
     "text": [
      "Moviepy - Done !\n",
      "Moviepy - video ready /Users/idotzhori/Desktop/autoencoderlight/cleaned_highlights/WolvesvTottenhamHotspur_scene_10.mp4\n",
      "Moviepy - Building video /Users/idotzhori/Desktop/autoencoderlight/cleaned_highlights/BrightonvCrystalPalace_scene_22.mp4.\n",
      "MoviePy - Writing audio in BrightonvCrystalPalace_scene_22TEMP_MPY_wvf_snd.mp3\n"
     ]
    },
    {
     "name": "stderr",
     "output_type": "stream",
     "text": [
      "                                                                                \r"
     ]
    },
    {
     "name": "stdout",
     "output_type": "stream",
     "text": [
      "MoviePy - Done.\n",
      "Moviepy - Writing video /Users/idotzhori/Desktop/autoencoderlight/cleaned_highlights/BrightonvCrystalPalace_scene_22.mp4\n",
      "\n"
     ]
    },
    {
     "name": "stderr",
     "output_type": "stream",
     "text": [
      "                                                                                \r"
     ]
    },
    {
     "name": "stdout",
     "output_type": "stream",
     "text": [
      "Moviepy - Done !\n",
      "Moviepy - video ready /Users/idotzhori/Desktop/autoencoderlight/cleaned_highlights/BrightonvCrystalPalace_scene_22.mp4\n",
      "Moviepy - Building video /Users/idotzhori/Desktop/autoencoderlight/cleaned_highlights/LiverpoolvFulham_scene_6.mp4.\n",
      "MoviePy - Writing audio in LiverpoolvFulham_scene_6TEMP_MPY_wvf_snd.mp3\n"
     ]
    },
    {
     "name": "stderr",
     "output_type": "stream",
     "text": [
      "                                                                                \r"
     ]
    },
    {
     "name": "stdout",
     "output_type": "stream",
     "text": [
      "MoviePy - Done.\n",
      "Moviepy - Writing video /Users/idotzhori/Desktop/autoencoderlight/cleaned_highlights/LiverpoolvFulham_scene_6.mp4\n",
      "\n"
     ]
    },
    {
     "name": "stderr",
     "output_type": "stream",
     "text": [
      "                                                                                \r"
     ]
    },
    {
     "name": "stdout",
     "output_type": "stream",
     "text": [
      "Moviepy - Done !\n",
      "Moviepy - video ready /Users/idotzhori/Desktop/autoencoderlight/cleaned_highlights/LiverpoolvFulham_scene_6.mp4\n",
      "Moviepy - Building video /Users/idotzhori/Desktop/autoencoderlight/cleaned_highlights/LeicesterCityvAstonVilla_scene_7.mp4.\n",
      "MoviePy - Writing audio in LeicesterCityvAstonVilla_scene_7TEMP_MPY_wvf_snd.mp3\n"
     ]
    },
    {
     "name": "stderr",
     "output_type": "stream",
     "text": [
      "                                                                                \r"
     ]
    },
    {
     "name": "stdout",
     "output_type": "stream",
     "text": [
      "MoviePy - Done.\n",
      "Moviepy - Writing video /Users/idotzhori/Desktop/autoencoderlight/cleaned_highlights/LeicesterCityvAstonVilla_scene_7.mp4\n",
      "\n"
     ]
    },
    {
     "name": "stderr",
     "output_type": "stream",
     "text": [
      "                                                                                \r"
     ]
    },
    {
     "name": "stdout",
     "output_type": "stream",
     "text": [
      "Moviepy - Done !\n",
      "Moviepy - video ready /Users/idotzhori/Desktop/autoencoderlight/cleaned_highlights/LeicesterCityvAstonVilla_scene_7.mp4\n",
      "Moviepy - Building video /Users/idotzhori/Desktop/autoencoderlight/cleaned_highlights/WolvesvBournemouth_scene_14.mp4.\n",
      "MoviePy - Writing audio in WolvesvBournemouth_scene_14TEMP_MPY_wvf_snd.mp3\n"
     ]
    },
    {
     "name": "stderr",
     "output_type": "stream",
     "text": [
      "                                                                                \r"
     ]
    },
    {
     "name": "stdout",
     "output_type": "stream",
     "text": [
      "MoviePy - Done.\n",
      "Moviepy - Writing video /Users/idotzhori/Desktop/autoencoderlight/cleaned_highlights/WolvesvBournemouth_scene_14.mp4\n",
      "\n"
     ]
    },
    {
     "name": "stderr",
     "output_type": "stream",
     "text": [
      "                                                                                \r"
     ]
    },
    {
     "name": "stdout",
     "output_type": "stream",
     "text": [
      "Moviepy - Done !\n",
      "Moviepy - video ready /Users/idotzhori/Desktop/autoencoderlight/cleaned_highlights/WolvesvBournemouth_scene_14.mp4\n",
      "Moviepy - Building video /Users/idotzhori/Desktop/autoencoderlight/cleaned_highlights/NottinghamForestvBrighton_scene_23.mp4.\n",
      "MoviePy - Writing audio in NottinghamForestvBrighton_scene_23TEMP_MPY_wvf_snd.mp3\n"
     ]
    },
    {
     "name": "stderr",
     "output_type": "stream",
     "text": [
      "                                                                                \r"
     ]
    },
    {
     "name": "stdout",
     "output_type": "stream",
     "text": [
      "MoviePy - Done.\n",
      "Moviepy - Writing video /Users/idotzhori/Desktop/autoencoderlight/cleaned_highlights/NottinghamForestvBrighton_scene_23.mp4\n",
      "\n"
     ]
    },
    {
     "name": "stderr",
     "output_type": "stream",
     "text": [
      "                                                                                \r"
     ]
    },
    {
     "name": "stdout",
     "output_type": "stream",
     "text": [
      "Moviepy - Done !\n",
      "Moviepy - video ready /Users/idotzhori/Desktop/autoencoderlight/cleaned_highlights/NottinghamForestvBrighton_scene_23.mp4\n",
      "Moviepy - Building video /Users/idotzhori/Desktop/autoencoderlight/cleaned_highlights/LeedsUnitedvBrighton_scene_12.mp4.\n",
      "MoviePy - Writing audio in LeedsUnitedvBrighton_scene_12TEMP_MPY_wvf_snd.mp3\n"
     ]
    },
    {
     "name": "stderr",
     "output_type": "stream",
     "text": [
      "                                                                                \r"
     ]
    },
    {
     "name": "stdout",
     "output_type": "stream",
     "text": [
      "MoviePy - Done.\n",
      "Moviepy - Writing video /Users/idotzhori/Desktop/autoencoderlight/cleaned_highlights/LeedsUnitedvBrighton_scene_12.mp4\n",
      "\n"
     ]
    },
    {
     "name": "stderr",
     "output_type": "stream",
     "text": [
      "                                                                                \r"
     ]
    },
    {
     "name": "stdout",
     "output_type": "stream",
     "text": [
      "Moviepy - Done !\n",
      "Moviepy - video ready /Users/idotzhori/Desktop/autoencoderlight/cleaned_highlights/LeedsUnitedvBrighton_scene_12.mp4\n",
      "Moviepy - Building video /Users/idotzhori/Desktop/autoencoderlight/cleaned_highlights/NottinghamForestvManchesterCity_scene_6.mp4.\n",
      "MoviePy - Writing audio in NottinghamForestvManchesterCity_scene_6TEMP_MPY_wvf_snd.mp3\n"
     ]
    },
    {
     "name": "stderr",
     "output_type": "stream",
     "text": [
      "                                                                                \r"
     ]
    },
    {
     "name": "stdout",
     "output_type": "stream",
     "text": [
      "MoviePy - Done.\n",
      "Moviepy - Writing video /Users/idotzhori/Desktop/autoencoderlight/cleaned_highlights/NottinghamForestvManchesterCity_scene_6.mp4\n",
      "\n"
     ]
    },
    {
     "name": "stderr",
     "output_type": "stream",
     "text": [
      "                                                                                \r"
     ]
    },
    {
     "name": "stdout",
     "output_type": "stream",
     "text": [
      "Moviepy - Done !\n",
      "Moviepy - video ready /Users/idotzhori/Desktop/autoencoderlight/cleaned_highlights/NottinghamForestvManchesterCity_scene_6.mp4\n",
      "Moviepy - Building video /Users/idotzhori/Desktop/autoencoderlight/cleaned_highlights/BrightonvCrystalPalace_scene_6.mp4.\n",
      "MoviePy - Writing audio in BrightonvCrystalPalace_scene_6TEMP_MPY_wvf_snd.mp3\n"
     ]
    },
    {
     "name": "stderr",
     "output_type": "stream",
     "text": [
      "                                                                                \r"
     ]
    },
    {
     "name": "stdout",
     "output_type": "stream",
     "text": [
      "MoviePy - Done.\n",
      "Moviepy - Writing video /Users/idotzhori/Desktop/autoencoderlight/cleaned_highlights/BrightonvCrystalPalace_scene_6.mp4\n",
      "\n"
     ]
    },
    {
     "name": "stderr",
     "output_type": "stream",
     "text": [
      "                                                                                \r"
     ]
    },
    {
     "name": "stdout",
     "output_type": "stream",
     "text": [
      "Moviepy - Done !\n",
      "Moviepy - video ready /Users/idotzhori/Desktop/autoencoderlight/cleaned_highlights/BrightonvCrystalPalace_scene_6.mp4\n",
      "Moviepy - Building video /Users/idotzhori/Desktop/autoencoderlight/cleaned_highlights/BournemouthvFulham_scene_28.mp4.\n",
      "MoviePy - Writing audio in BournemouthvFulham_scene_28TEMP_MPY_wvf_snd.mp3\n"
     ]
    },
    {
     "name": "stderr",
     "output_type": "stream",
     "text": [
      "                                                                                \r"
     ]
    },
    {
     "name": "stdout",
     "output_type": "stream",
     "text": [
      "MoviePy - Done.\n",
      "Moviepy - Writing video /Users/idotzhori/Desktop/autoencoderlight/cleaned_highlights/BournemouthvFulham_scene_28.mp4\n",
      "\n"
     ]
    },
    {
     "name": "stderr",
     "output_type": "stream",
     "text": [
      "                                                                                \r"
     ]
    },
    {
     "name": "stdout",
     "output_type": "stream",
     "text": [
      "Moviepy - Done !\n",
      "Moviepy - video ready /Users/idotzhori/Desktop/autoencoderlight/cleaned_highlights/BournemouthvFulham_scene_28.mp4\n",
      "Moviepy - Building video /Users/idotzhori/Desktop/autoencoderlight/cleaned_highlights/BrightonvWestHamUnited_scene_15.mp4.\n",
      "MoviePy - Writing audio in BrightonvWestHamUnited_scene_15TEMP_MPY_wvf_snd.mp3\n"
     ]
    },
    {
     "name": "stderr",
     "output_type": "stream",
     "text": [
      "                                                                                \r"
     ]
    },
    {
     "name": "stdout",
     "output_type": "stream",
     "text": [
      "MoviePy - Done.\n",
      "Moviepy - Writing video /Users/idotzhori/Desktop/autoencoderlight/cleaned_highlights/BrightonvWestHamUnited_scene_15.mp4\n",
      "\n"
     ]
    },
    {
     "name": "stderr",
     "output_type": "stream",
     "text": [
      "                                                                                \r"
     ]
    },
    {
     "name": "stdout",
     "output_type": "stream",
     "text": [
      "Moviepy - Done !\n",
      "Moviepy - video ready /Users/idotzhori/Desktop/autoencoderlight/cleaned_highlights/BrightonvWestHamUnited_scene_15.mp4\n",
      "Moviepy - Building video /Users/idotzhori/Desktop/autoencoderlight/cleaned_highlights/WestHamUnitedvAstonVilla_scene_3.mp4.\n",
      "MoviePy - Writing audio in WestHamUnitedvAstonVilla_scene_3TEMP_MPY_wvf_snd.mp3\n"
     ]
    },
    {
     "name": "stderr",
     "output_type": "stream",
     "text": [
      "                                                                                \r"
     ]
    },
    {
     "name": "stdout",
     "output_type": "stream",
     "text": [
      "MoviePy - Done.\n",
      "Moviepy - Writing video /Users/idotzhori/Desktop/autoencoderlight/cleaned_highlights/WestHamUnitedvAstonVilla_scene_3.mp4\n",
      "\n"
     ]
    },
    {
     "name": "stderr",
     "output_type": "stream",
     "text": [
      "                                                                                \r"
     ]
    },
    {
     "name": "stdout",
     "output_type": "stream",
     "text": [
      "Moviepy - Done !\n",
      "Moviepy - video ready /Users/idotzhori/Desktop/autoencoderlight/cleaned_highlights/WestHamUnitedvAstonVilla_scene_3.mp4\n",
      "Moviepy - Building video /Users/idotzhori/Desktop/autoencoderlight/cleaned_highlights/BournemouthvLiverpool_scene_15.mp4.\n",
      "MoviePy - Writing audio in BournemouthvLiverpool_scene_15TEMP_MPY_wvf_snd.mp3\n"
     ]
    },
    {
     "name": "stderr",
     "output_type": "stream",
     "text": [
      "                                                                                \r"
     ]
    },
    {
     "name": "stdout",
     "output_type": "stream",
     "text": [
      "MoviePy - Done.\n",
      "Moviepy - Writing video /Users/idotzhori/Desktop/autoencoderlight/cleaned_highlights/BournemouthvLiverpool_scene_15.mp4\n",
      "\n"
     ]
    },
    {
     "name": "stderr",
     "output_type": "stream",
     "text": [
      "                                                                                \r"
     ]
    },
    {
     "name": "stdout",
     "output_type": "stream",
     "text": [
      "Moviepy - Done !\n",
      "Moviepy - video ready /Users/idotzhori/Desktop/autoencoderlight/cleaned_highlights/BournemouthvLiverpool_scene_15.mp4\n",
      "Moviepy - Building video /Users/idotzhori/Desktop/autoencoderlight/cleaned_highlights/WolvesvBournemouth_scene_16.mp4.\n",
      "MoviePy - Writing audio in WolvesvBournemouth_scene_16TEMP_MPY_wvf_snd.mp3\n"
     ]
    },
    {
     "name": "stderr",
     "output_type": "stream",
     "text": [
      "                                                                                \r"
     ]
    },
    {
     "name": "stdout",
     "output_type": "stream",
     "text": [
      "MoviePy - Done.\n",
      "Moviepy - Writing video /Users/idotzhori/Desktop/autoencoderlight/cleaned_highlights/WolvesvBournemouth_scene_16.mp4\n",
      "\n"
     ]
    },
    {
     "name": "stderr",
     "output_type": "stream",
     "text": [
      "                                                                                \r"
     ]
    },
    {
     "name": "stdout",
     "output_type": "stream",
     "text": [
      "Moviepy - Done !\n",
      "Moviepy - video ready /Users/idotzhori/Desktop/autoencoderlight/cleaned_highlights/WolvesvBournemouth_scene_16.mp4\n",
      "Moviepy - Building video /Users/idotzhori/Desktop/autoencoderlight/cleaned_highlights/LeedsUnitedvBrighton_scene_11.mp4.\n",
      "MoviePy - Writing audio in LeedsUnitedvBrighton_scene_11TEMP_MPY_wvf_snd.mp3\n"
     ]
    },
    {
     "name": "stderr",
     "output_type": "stream",
     "text": [
      "                                                                                \r"
     ]
    },
    {
     "name": "stdout",
     "output_type": "stream",
     "text": [
      "MoviePy - Done.\n",
      "Moviepy - Writing video /Users/idotzhori/Desktop/autoencoderlight/cleaned_highlights/LeedsUnitedvBrighton_scene_11.mp4\n",
      "\n"
     ]
    },
    {
     "name": "stderr",
     "output_type": "stream",
     "text": [
      "                                                                                \r"
     ]
    },
    {
     "name": "stdout",
     "output_type": "stream",
     "text": [
      "Moviepy - Done !\n",
      "Moviepy - video ready /Users/idotzhori/Desktop/autoencoderlight/cleaned_highlights/LeedsUnitedvBrighton_scene_11.mp4\n",
      "Moviepy - Building video /Users/idotzhori/Desktop/autoencoderlight/cleaned_highlights/NottinghamForestvBrighton_scene_8.mp4.\n",
      "MoviePy - Writing audio in NottinghamForestvBrighton_scene_8TEMP_MPY_wvf_snd.mp3\n"
     ]
    },
    {
     "name": "stderr",
     "output_type": "stream",
     "text": [
      "                                                                                \r"
     ]
    },
    {
     "name": "stdout",
     "output_type": "stream",
     "text": [
      "MoviePy - Done.\n",
      "Moviepy - Writing video /Users/idotzhori/Desktop/autoencoderlight/cleaned_highlights/NottinghamForestvBrighton_scene_8.mp4\n",
      "\n"
     ]
    },
    {
     "name": "stderr",
     "output_type": "stream",
     "text": [
      "                                                                                \r"
     ]
    },
    {
     "name": "stdout",
     "output_type": "stream",
     "text": [
      "Moviepy - Done !\n",
      "Moviepy - video ready /Users/idotzhori/Desktop/autoencoderlight/cleaned_highlights/NottinghamForestvBrighton_scene_8.mp4\n",
      "Moviepy - Building video /Users/idotzhori/Desktop/autoencoderlight/cleaned_highlights/LeedsUnitedvSouthampton_scene_6.mp4.\n",
      "MoviePy - Writing audio in LeedsUnitedvSouthampton_scene_6TEMP_MPY_wvf_snd.mp3\n"
     ]
    },
    {
     "name": "stderr",
     "output_type": "stream",
     "text": [
      "                                                                                \r"
     ]
    },
    {
     "name": "stdout",
     "output_type": "stream",
     "text": [
      "MoviePy - Done.\n",
      "Moviepy - Writing video /Users/idotzhori/Desktop/autoencoderlight/cleaned_highlights/LeedsUnitedvSouthampton_scene_6.mp4\n",
      "\n"
     ]
    },
    {
     "name": "stderr",
     "output_type": "stream",
     "text": [
      "                                                                                \r"
     ]
    },
    {
     "name": "stdout",
     "output_type": "stream",
     "text": [
      "Moviepy - Done !\n",
      "Moviepy - video ready /Users/idotzhori/Desktop/autoencoderlight/cleaned_highlights/LeedsUnitedvSouthampton_scene_6.mp4\n",
      "Moviepy - Building video /Users/idotzhori/Desktop/autoencoderlight/cleaned_highlights/BournemouthvLiverpool_scene_11.mp4.\n",
      "MoviePy - Writing audio in BournemouthvLiverpool_scene_11TEMP_MPY_wvf_snd.mp3\n"
     ]
    },
    {
     "name": "stderr",
     "output_type": "stream",
     "text": [
      "                                                                                \r"
     ]
    },
    {
     "name": "stdout",
     "output_type": "stream",
     "text": [
      "MoviePy - Done.\n",
      "Moviepy - Writing video /Users/idotzhori/Desktop/autoencoderlight/cleaned_highlights/BournemouthvLiverpool_scene_11.mp4\n",
      "\n"
     ]
    },
    {
     "name": "stderr",
     "output_type": "stream",
     "text": [
      "                                                                                \r"
     ]
    },
    {
     "name": "stdout",
     "output_type": "stream",
     "text": [
      "Moviepy - Done !\n",
      "Moviepy - video ready /Users/idotzhori/Desktop/autoencoderlight/cleaned_highlights/BournemouthvLiverpool_scene_11.mp4\n",
      "Moviepy - Building video /Users/idotzhori/Desktop/autoencoderlight/cleaned_highlights/NottinghamForestvManchesterCity_scene_24.mp4.\n",
      "MoviePy - Writing audio in NottinghamForestvManchesterCity_scene_24TEMP_MPY_wvf_snd.mp3\n"
     ]
    },
    {
     "name": "stderr",
     "output_type": "stream",
     "text": [
      "                                                                                \r"
     ]
    },
    {
     "name": "stdout",
     "output_type": "stream",
     "text": [
      "MoviePy - Done.\n",
      "Moviepy - Writing video /Users/idotzhori/Desktop/autoencoderlight/cleaned_highlights/NottinghamForestvManchesterCity_scene_24.mp4\n",
      "\n"
     ]
    },
    {
     "name": "stderr",
     "output_type": "stream",
     "text": [
      "                                                                                \r"
     ]
    },
    {
     "name": "stdout",
     "output_type": "stream",
     "text": [
      "Moviepy - Done !\n",
      "Moviepy - video ready /Users/idotzhori/Desktop/autoencoderlight/cleaned_highlights/NottinghamForestvManchesterCity_scene_24.mp4\n",
      "Moviepy - Building video /Users/idotzhori/Desktop/autoencoderlight/cleaned_highlights/NottinghamForestvManchesterCity_scene_18.mp4.\n",
      "MoviePy - Writing audio in NottinghamForestvManchesterCity_scene_18TEMP_MPY_wvf_snd.mp3\n"
     ]
    },
    {
     "name": "stderr",
     "output_type": "stream",
     "text": [
      "                                                                                \r"
     ]
    },
    {
     "name": "stdout",
     "output_type": "stream",
     "text": [
      "MoviePy - Done.\n",
      "Moviepy - Writing video /Users/idotzhori/Desktop/autoencoderlight/cleaned_highlights/NottinghamForestvManchesterCity_scene_18.mp4\n",
      "\n"
     ]
    },
    {
     "name": "stderr",
     "output_type": "stream",
     "text": [
      "                                                                                \r"
     ]
    },
    {
     "name": "stdout",
     "output_type": "stream",
     "text": [
      "Moviepy - Done !\n",
      "Moviepy - video ready /Users/idotzhori/Desktop/autoencoderlight/cleaned_highlights/NottinghamForestvManchesterCity_scene_18.mp4\n",
      "Moviepy - Building video /Users/idotzhori/Desktop/autoencoderlight/cleaned_highlights/NottinghamForestvBrighton_scene_19.mp4.\n",
      "MoviePy - Writing audio in NottinghamForestvBrighton_scene_19TEMP_MPY_wvf_snd.mp3\n"
     ]
    },
    {
     "name": "stderr",
     "output_type": "stream",
     "text": [
      "                                                                                \r"
     ]
    },
    {
     "name": "stdout",
     "output_type": "stream",
     "text": [
      "MoviePy - Done.\n",
      "Moviepy - Writing video /Users/idotzhori/Desktop/autoencoderlight/cleaned_highlights/NottinghamForestvBrighton_scene_19.mp4\n",
      "\n"
     ]
    },
    {
     "name": "stderr",
     "output_type": "stream",
     "text": [
      "                                                                                \r"
     ]
    },
    {
     "name": "stdout",
     "output_type": "stream",
     "text": [
      "Moviepy - Done !\n",
      "Moviepy - video ready /Users/idotzhori/Desktop/autoencoderlight/cleaned_highlights/NottinghamForestvBrighton_scene_19.mp4\n",
      "Moviepy - Building video /Users/idotzhori/Desktop/autoencoderlight/cleaned_highlights/BournemouthvLiverpool_scene_9.mp4.\n",
      "MoviePy - Writing audio in BournemouthvLiverpool_scene_9TEMP_MPY_wvf_snd.mp3\n"
     ]
    },
    {
     "name": "stderr",
     "output_type": "stream",
     "text": [
      "                                                                                \r"
     ]
    },
    {
     "name": "stdout",
     "output_type": "stream",
     "text": [
      "MoviePy - Done.\n",
      "Moviepy - Writing video /Users/idotzhori/Desktop/autoencoderlight/cleaned_highlights/BournemouthvLiverpool_scene_9.mp4\n",
      "\n"
     ]
    },
    {
     "name": "stderr",
     "output_type": "stream",
     "text": [
      "                                                                                \r"
     ]
    },
    {
     "name": "stdout",
     "output_type": "stream",
     "text": [
      "Moviepy - Done !\n",
      "Moviepy - video ready /Users/idotzhori/Desktop/autoencoderlight/cleaned_highlights/BournemouthvLiverpool_scene_9.mp4\n",
      "Moviepy - Building video /Users/idotzhori/Desktop/autoencoderlight/cleaned_highlights/ManchesterUnitedvLeicesterCity_scene_13.mp4.\n",
      "MoviePy - Writing audio in ManchesterUnitedvLeicesterCity_scene_13TEMP_MPY_wvf_snd.mp3\n"
     ]
    },
    {
     "name": "stderr",
     "output_type": "stream",
     "text": [
      "                                                                                \r"
     ]
    },
    {
     "name": "stdout",
     "output_type": "stream",
     "text": [
      "MoviePy - Done.\n",
      "Moviepy - Writing video /Users/idotzhori/Desktop/autoencoderlight/cleaned_highlights/ManchesterUnitedvLeicesterCity_scene_13.mp4\n",
      "\n"
     ]
    },
    {
     "name": "stderr",
     "output_type": "stream",
     "text": [
      "                                                                                \r"
     ]
    },
    {
     "name": "stdout",
     "output_type": "stream",
     "text": [
      "Moviepy - Done !\n",
      "Moviepy - video ready /Users/idotzhori/Desktop/autoencoderlight/cleaned_highlights/ManchesterUnitedvLeicesterCity_scene_13.mp4\n",
      "Moviepy - Building video /Users/idotzhori/Desktop/autoencoderlight/cleaned_highlights/FulhamvArsenal_scene_13.mp4.\n",
      "MoviePy - Writing audio in FulhamvArsenal_scene_13TEMP_MPY_wvf_snd.mp3\n"
     ]
    },
    {
     "name": "stderr",
     "output_type": "stream",
     "text": [
      "                                                                                \r"
     ]
    },
    {
     "name": "stdout",
     "output_type": "stream",
     "text": [
      "MoviePy - Done.\n",
      "Moviepy - Writing video /Users/idotzhori/Desktop/autoencoderlight/cleaned_highlights/FulhamvArsenal_scene_13.mp4\n",
      "\n"
     ]
    },
    {
     "name": "stderr",
     "output_type": "stream",
     "text": [
      "                                                                                \r"
     ]
    },
    {
     "name": "stdout",
     "output_type": "stream",
     "text": [
      "Moviepy - Done !\n",
      "Moviepy - video ready /Users/idotzhori/Desktop/autoencoderlight/cleaned_highlights/FulhamvArsenal_scene_13.mp4\n",
      "Moviepy - Building video /Users/idotzhori/Desktop/autoencoderlight/cleaned_highlights/LiverpoolvFulham_scene_19.mp4.\n",
      "MoviePy - Writing audio in LiverpoolvFulham_scene_19TEMP_MPY_wvf_snd.mp3\n"
     ]
    },
    {
     "name": "stderr",
     "output_type": "stream",
     "text": [
      "                                                                                \r"
     ]
    },
    {
     "name": "stdout",
     "output_type": "stream",
     "text": [
      "MoviePy - Done.\n",
      "Moviepy - Writing video /Users/idotzhori/Desktop/autoencoderlight/cleaned_highlights/LiverpoolvFulham_scene_19.mp4\n",
      "\n"
     ]
    },
    {
     "name": "stderr",
     "output_type": "stream",
     "text": [
      "                                                                                \r"
     ]
    },
    {
     "name": "stdout",
     "output_type": "stream",
     "text": [
      "Moviepy - Done !\n",
      "Moviepy - video ready /Users/idotzhori/Desktop/autoencoderlight/cleaned_highlights/LiverpoolvFulham_scene_19.mp4\n",
      "Moviepy - Building video /Users/idotzhori/Desktop/autoencoderlight/cleaned_highlights/ChelseavSouthampton_scene_20.mp4.\n",
      "MoviePy - Writing audio in ChelseavSouthampton_scene_20TEMP_MPY_wvf_snd.mp3\n"
     ]
    },
    {
     "name": "stderr",
     "output_type": "stream",
     "text": [
      "                                                                                \r"
     ]
    },
    {
     "name": "stdout",
     "output_type": "stream",
     "text": [
      "MoviePy - Done.\n",
      "Moviepy - Writing video /Users/idotzhori/Desktop/autoencoderlight/cleaned_highlights/ChelseavSouthampton_scene_20.mp4\n",
      "\n"
     ]
    },
    {
     "name": "stderr",
     "output_type": "stream",
     "text": [
      "                                                                                \r"
     ]
    },
    {
     "name": "stdout",
     "output_type": "stream",
     "text": [
      "Moviepy - Done !\n",
      "Moviepy - video ready /Users/idotzhori/Desktop/autoencoderlight/cleaned_highlights/ChelseavSouthampton_scene_20.mp4\n",
      "Moviepy - Building video /Users/idotzhori/Desktop/autoencoderlight/cleaned_highlights/ChelseavSouthampton_scene_9.mp4.\n",
      "MoviePy - Writing audio in ChelseavSouthampton_scene_9TEMP_MPY_wvf_snd.mp3\n"
     ]
    },
    {
     "name": "stderr",
     "output_type": "stream",
     "text": [
      "                                                                                \r"
     ]
    },
    {
     "name": "stdout",
     "output_type": "stream",
     "text": [
      "MoviePy - Done.\n",
      "Moviepy - Writing video /Users/idotzhori/Desktop/autoencoderlight/cleaned_highlights/ChelseavSouthampton_scene_9.mp4\n",
      "\n"
     ]
    },
    {
     "name": "stderr",
     "output_type": "stream",
     "text": [
      "                                                                                \r"
     ]
    },
    {
     "name": "stdout",
     "output_type": "stream",
     "text": [
      "Moviepy - Done !\n",
      "Moviepy - video ready /Users/idotzhori/Desktop/autoencoderlight/cleaned_highlights/ChelseavSouthampton_scene_9.mp4\n",
      "Moviepy - Building video /Users/idotzhori/Desktop/autoencoderlight/cleaned_highlights/ManchesterUnitedvAstonVilla_scene_7.mp4.\n",
      "MoviePy - Writing audio in ManchesterUnitedvAstonVilla_scene_7TEMP_MPY_wvf_snd.mp3\n"
     ]
    },
    {
     "name": "stderr",
     "output_type": "stream",
     "text": [
      "                                                                                \r"
     ]
    },
    {
     "name": "stdout",
     "output_type": "stream",
     "text": [
      "MoviePy - Done.\n",
      "Moviepy - Writing video /Users/idotzhori/Desktop/autoencoderlight/cleaned_highlights/ManchesterUnitedvAstonVilla_scene_7.mp4\n",
      "\n"
     ]
    },
    {
     "name": "stderr",
     "output_type": "stream",
     "text": [
      "                                                                                \r"
     ]
    },
    {
     "name": "stdout",
     "output_type": "stream",
     "text": [
      "Moviepy - Done !\n",
      "Moviepy - video ready /Users/idotzhori/Desktop/autoencoderlight/cleaned_highlights/ManchesterUnitedvAstonVilla_scene_7.mp4\n",
      "Moviepy - Building video /Users/idotzhori/Desktop/autoencoderlight/cleaned_highlights/ChelseavNottinghamForest_scene_3.mp4.\n",
      "MoviePy - Writing audio in ChelseavNottinghamForest_scene_3TEMP_MPY_wvf_snd.mp3\n"
     ]
    },
    {
     "name": "stderr",
     "output_type": "stream",
     "text": [
      "                                                                                \r"
     ]
    },
    {
     "name": "stdout",
     "output_type": "stream",
     "text": [
      "MoviePy - Done.\n",
      "Moviepy - Writing video /Users/idotzhori/Desktop/autoencoderlight/cleaned_highlights/ChelseavNottinghamForest_scene_3.mp4\n",
      "\n"
     ]
    },
    {
     "name": "stderr",
     "output_type": "stream",
     "text": [
      "                                                                                \r"
     ]
    },
    {
     "name": "stdout",
     "output_type": "stream",
     "text": [
      "Moviepy - Done !\n",
      "Moviepy - video ready /Users/idotzhori/Desktop/autoencoderlight/cleaned_highlights/ChelseavNottinghamForest_scene_3.mp4\n",
      "Moviepy - Building video /Users/idotzhori/Desktop/autoencoderlight/cleaned_highlights/BournemouthvFulham_scene_8.mp4.\n",
      "MoviePy - Writing audio in BournemouthvFulham_scene_8TEMP_MPY_wvf_snd.mp3\n"
     ]
    },
    {
     "name": "stderr",
     "output_type": "stream",
     "text": [
      "                                                                                \r"
     ]
    },
    {
     "name": "stdout",
     "output_type": "stream",
     "text": [
      "MoviePy - Done.\n",
      "Moviepy - Writing video /Users/idotzhori/Desktop/autoencoderlight/cleaned_highlights/BournemouthvFulham_scene_8.mp4\n",
      "\n"
     ]
    },
    {
     "name": "stderr",
     "output_type": "stream",
     "text": [
      "                                                                                \r"
     ]
    },
    {
     "name": "stdout",
     "output_type": "stream",
     "text": [
      "Moviepy - Done !\n",
      "Moviepy - video ready /Users/idotzhori/Desktop/autoencoderlight/cleaned_highlights/BournemouthvFulham_scene_8.mp4\n",
      "Moviepy - Building video /Users/idotzhori/Desktop/autoencoderlight/cleaned_highlights/ManchesterCityvLeedsUnited_scene_5.mp4.\n",
      "MoviePy - Writing audio in ManchesterCityvLeedsUnited_scene_5TEMP_MPY_wvf_snd.mp3\n"
     ]
    },
    {
     "name": "stderr",
     "output_type": "stream",
     "text": [
      "                                                                                \r"
     ]
    },
    {
     "name": "stdout",
     "output_type": "stream",
     "text": [
      "MoviePy - Done.\n",
      "Moviepy - Writing video /Users/idotzhori/Desktop/autoencoderlight/cleaned_highlights/ManchesterCityvLeedsUnited_scene_5.mp4\n",
      "\n"
     ]
    },
    {
     "name": "stderr",
     "output_type": "stream",
     "text": [
      "                                                                                \r"
     ]
    },
    {
     "name": "stdout",
     "output_type": "stream",
     "text": [
      "Moviepy - Done !\n",
      "Moviepy - video ready /Users/idotzhori/Desktop/autoencoderlight/cleaned_highlights/ManchesterCityvLeedsUnited_scene_5.mp4\n",
      "Moviepy - Building video /Users/idotzhori/Desktop/autoencoderlight/cleaned_highlights/BrightonvWestHamUnited_scene_23.mp4.\n",
      "MoviePy - Writing audio in BrightonvWestHamUnited_scene_23TEMP_MPY_wvf_snd.mp3\n"
     ]
    },
    {
     "name": "stderr",
     "output_type": "stream",
     "text": [
      "                                                                                \r"
     ]
    },
    {
     "name": "stdout",
     "output_type": "stream",
     "text": [
      "MoviePy - Done.\n",
      "Moviepy - Writing video /Users/idotzhori/Desktop/autoencoderlight/cleaned_highlights/BrightonvWestHamUnited_scene_23.mp4\n",
      "\n"
     ]
    },
    {
     "name": "stderr",
     "output_type": "stream",
     "text": [
      "                                                                                \r"
     ]
    },
    {
     "name": "stdout",
     "output_type": "stream",
     "text": [
      "Moviepy - Done !\n",
      "Moviepy - video ready /Users/idotzhori/Desktop/autoencoderlight/cleaned_highlights/BrightonvWestHamUnited_scene_23.mp4\n",
      "Moviepy - Building video /Users/idotzhori/Desktop/autoencoderlight/cleaned_highlights/ManchesterUnitedvLeicesterCity_scene_7.mp4.\n",
      "MoviePy - Writing audio in ManchesterUnitedvLeicesterCity_scene_7TEMP_MPY_wvf_snd.mp3\n"
     ]
    },
    {
     "name": "stderr",
     "output_type": "stream",
     "text": [
      "                                                                                \r"
     ]
    },
    {
     "name": "stdout",
     "output_type": "stream",
     "text": [
      "MoviePy - Done.\n",
      "Moviepy - Writing video /Users/idotzhori/Desktop/autoencoderlight/cleaned_highlights/ManchesterUnitedvLeicesterCity_scene_7.mp4\n",
      "\n"
     ]
    },
    {
     "name": "stderr",
     "output_type": "stream",
     "text": [
      "                                                                                \r"
     ]
    },
    {
     "name": "stdout",
     "output_type": "stream",
     "text": [
      "Moviepy - Done !\n",
      "Moviepy - video ready /Users/idotzhori/Desktop/autoencoderlight/cleaned_highlights/ManchesterUnitedvLeicesterCity_scene_7.mp4\n",
      "Moviepy - Building video /Users/idotzhori/Desktop/autoencoderlight/cleaned_highlights/LiverpoolvArsenal_scene_35.mp4.\n",
      "MoviePy - Writing audio in LiverpoolvArsenal_scene_35TEMP_MPY_wvf_snd.mp3\n"
     ]
    },
    {
     "name": "stderr",
     "output_type": "stream",
     "text": [
      "                                                                                \r"
     ]
    },
    {
     "name": "stdout",
     "output_type": "stream",
     "text": [
      "MoviePy - Done.\n",
      "Moviepy - Writing video /Users/idotzhori/Desktop/autoencoderlight/cleaned_highlights/LiverpoolvArsenal_scene_35.mp4\n",
      "\n"
     ]
    },
    {
     "name": "stderr",
     "output_type": "stream",
     "text": [
      "                                                                                \r"
     ]
    },
    {
     "name": "stdout",
     "output_type": "stream",
     "text": [
      "Moviepy - Done !\n",
      "Moviepy - video ready /Users/idotzhori/Desktop/autoencoderlight/cleaned_highlights/LiverpoolvArsenal_scene_35.mp4\n",
      "Moviepy - Building video /Users/idotzhori/Desktop/autoencoderlight/cleaned_highlights/BournemouthvLiverpool_scene_6.mp4.\n",
      "MoviePy - Writing audio in BournemouthvLiverpool_scene_6TEMP_MPY_wvf_snd.mp3\n"
     ]
    },
    {
     "name": "stderr",
     "output_type": "stream",
     "text": [
      "                                                                                \r"
     ]
    },
    {
     "name": "stdout",
     "output_type": "stream",
     "text": [
      "MoviePy - Done.\n",
      "Moviepy - Writing video /Users/idotzhori/Desktop/autoencoderlight/cleaned_highlights/BournemouthvLiverpool_scene_6.mp4\n",
      "\n"
     ]
    },
    {
     "name": "stderr",
     "output_type": "stream",
     "text": [
      "                                                                                \r"
     ]
    },
    {
     "name": "stdout",
     "output_type": "stream",
     "text": [
      "Moviepy - Done !\n",
      "Moviepy - video ready /Users/idotzhori/Desktop/autoencoderlight/cleaned_highlights/BournemouthvLiverpool_scene_6.mp4\n",
      "Moviepy - Building video /Users/idotzhori/Desktop/autoencoderlight/cleaned_highlights/ManchesterUnitedvLeicesterCity_scene_20.mp4.\n",
      "MoviePy - Writing audio in ManchesterUnitedvLeicesterCity_scene_20TEMP_MPY_wvf_snd.mp3\n"
     ]
    },
    {
     "name": "stderr",
     "output_type": "stream",
     "text": [
      "                                                                                \r"
     ]
    },
    {
     "name": "stdout",
     "output_type": "stream",
     "text": [
      "MoviePy - Done.\n",
      "Moviepy - Writing video /Users/idotzhori/Desktop/autoencoderlight/cleaned_highlights/ManchesterUnitedvLeicesterCity_scene_20.mp4\n",
      "\n"
     ]
    },
    {
     "name": "stderr",
     "output_type": "stream",
     "text": [
      "                                                                                \r"
     ]
    },
    {
     "name": "stdout",
     "output_type": "stream",
     "text": [
      "Moviepy - Done !\n",
      "Moviepy - video ready /Users/idotzhori/Desktop/autoencoderlight/cleaned_highlights/ManchesterUnitedvLeicesterCity_scene_20.mp4\n",
      "Moviepy - Building video /Users/idotzhori/Desktop/autoencoderlight/cleaned_highlights/ManchesterUnitedvBrentford_scene_1.mp4.\n",
      "MoviePy - Writing audio in ManchesterUnitedvBrentford_scene_1TEMP_MPY_wvf_snd.mp3\n"
     ]
    },
    {
     "name": "stderr",
     "output_type": "stream",
     "text": [
      "                                                                                \r"
     ]
    },
    {
     "name": "stdout",
     "output_type": "stream",
     "text": [
      "MoviePy - Done.\n",
      "Moviepy - Writing video /Users/idotzhori/Desktop/autoencoderlight/cleaned_highlights/ManchesterUnitedvBrentford_scene_1.mp4\n",
      "\n"
     ]
    },
    {
     "name": "stderr",
     "output_type": "stream",
     "text": [
      "                                                                                \r"
     ]
    },
    {
     "name": "stdout",
     "output_type": "stream",
     "text": [
      "Moviepy - Done !\n",
      "Moviepy - video ready /Users/idotzhori/Desktop/autoencoderlight/cleaned_highlights/ManchesterUnitedvBrentford_scene_1.mp4\n",
      "Moviepy - Building video /Users/idotzhori/Desktop/autoencoderlight/cleaned_highlights/SouthamptonvLiverpool_scene_5.mp4.\n",
      "MoviePy - Writing audio in SouthamptonvLiverpool_scene_5TEMP_MPY_wvf_snd.mp3\n"
     ]
    },
    {
     "name": "stderr",
     "output_type": "stream",
     "text": [
      "                                                                                \r"
     ]
    },
    {
     "name": "stdout",
     "output_type": "stream",
     "text": [
      "MoviePy - Done.\n",
      "Moviepy - Writing video /Users/idotzhori/Desktop/autoencoderlight/cleaned_highlights/SouthamptonvLiverpool_scene_5.mp4\n",
      "\n"
     ]
    },
    {
     "name": "stderr",
     "output_type": "stream",
     "text": [
      "                                                                                \r"
     ]
    },
    {
     "name": "stdout",
     "output_type": "stream",
     "text": [
      "Moviepy - Done !\n",
      "Moviepy - video ready /Users/idotzhori/Desktop/autoencoderlight/cleaned_highlights/SouthamptonvLiverpool_scene_5.mp4\n",
      "Moviepy - Building video /Users/idotzhori/Desktop/autoencoderlight/cleaned_highlights/BrightonvFulham_scene_12.mp4.\n",
      "MoviePy - Writing audio in BrightonvFulham_scene_12TEMP_MPY_wvf_snd.mp3\n"
     ]
    },
    {
     "name": "stderr",
     "output_type": "stream",
     "text": [
      "                                                                                \r"
     ]
    },
    {
     "name": "stdout",
     "output_type": "stream",
     "text": [
      "MoviePy - Done.\n",
      "Moviepy - Writing video /Users/idotzhori/Desktop/autoencoderlight/cleaned_highlights/BrightonvFulham_scene_12.mp4\n",
      "\n"
     ]
    },
    {
     "name": "stderr",
     "output_type": "stream",
     "text": [
      "                                                                                \r"
     ]
    },
    {
     "name": "stdout",
     "output_type": "stream",
     "text": [
      "Moviepy - Done !\n",
      "Moviepy - video ready /Users/idotzhori/Desktop/autoencoderlight/cleaned_highlights/BrightonvFulham_scene_12.mp4\n",
      "Moviepy - Building video /Users/idotzhori/Desktop/autoencoderlight/cleaned_highlights/TottenhamHotspurvBournemouth_scene_18.mp4.\n",
      "MoviePy - Writing audio in TottenhamHotspurvBournemouth_scene_18TEMP_MPY_wvf_snd.mp3\n"
     ]
    },
    {
     "name": "stderr",
     "output_type": "stream",
     "text": [
      "                                                                                \r"
     ]
    },
    {
     "name": "stdout",
     "output_type": "stream",
     "text": [
      "MoviePy - Done.\n",
      "Moviepy - Writing video /Users/idotzhori/Desktop/autoencoderlight/cleaned_highlights/TottenhamHotspurvBournemouth_scene_18.mp4\n",
      "\n"
     ]
    },
    {
     "name": "stderr",
     "output_type": "stream",
     "text": [
      "                                                                                \r"
     ]
    },
    {
     "name": "stdout",
     "output_type": "stream",
     "text": [
      "Moviepy - Done !\n",
      "Moviepy - video ready /Users/idotzhori/Desktop/autoencoderlight/cleaned_highlights/TottenhamHotspurvBournemouth_scene_18.mp4\n",
      "Moviepy - Building video /Users/idotzhori/Desktop/autoencoderlight/cleaned_highlights/ManchesterUnitedvAstonVilla_scene_18.mp4.\n",
      "MoviePy - Writing audio in ManchesterUnitedvAstonVilla_scene_18TEMP_MPY_wvf_snd.mp3\n"
     ]
    },
    {
     "name": "stderr",
     "output_type": "stream",
     "text": [
      "                                                                                \r"
     ]
    },
    {
     "name": "stdout",
     "output_type": "stream",
     "text": [
      "MoviePy - Done.\n",
      "Moviepy - Writing video /Users/idotzhori/Desktop/autoencoderlight/cleaned_highlights/ManchesterUnitedvAstonVilla_scene_18.mp4\n",
      "\n"
     ]
    },
    {
     "name": "stderr",
     "output_type": "stream",
     "text": [
      "                                                                                \r"
     ]
    },
    {
     "name": "stdout",
     "output_type": "stream",
     "text": [
      "Moviepy - Done !\n",
      "Moviepy - video ready /Users/idotzhori/Desktop/autoencoderlight/cleaned_highlights/ManchesterUnitedvAstonVilla_scene_18.mp4\n",
      "Moviepy - Building video /Users/idotzhori/Desktop/autoencoderlight/cleaned_highlights/BrightonvFulham_scene_11.mp4.\n",
      "MoviePy - Writing audio in BrightonvFulham_scene_11TEMP_MPY_wvf_snd.mp3\n"
     ]
    },
    {
     "name": "stderr",
     "output_type": "stream",
     "text": [
      "                                                                                \r"
     ]
    },
    {
     "name": "stdout",
     "output_type": "stream",
     "text": [
      "MoviePy - Done.\n",
      "Moviepy - Writing video /Users/idotzhori/Desktop/autoencoderlight/cleaned_highlights/BrightonvFulham_scene_11.mp4\n",
      "\n"
     ]
    },
    {
     "name": "stderr",
     "output_type": "stream",
     "text": [
      "                                                                                \r"
     ]
    },
    {
     "name": "stdout",
     "output_type": "stream",
     "text": [
      "Moviepy - Done !\n",
      "Moviepy - video ready /Users/idotzhori/Desktop/autoencoderlight/cleaned_highlights/BrightonvFulham_scene_11.mp4\n",
      "Moviepy - Building video /Users/idotzhori/Desktop/autoencoderlight/cleaned_highlights/NewcastleUnitedvLiverpool_scene_3.mp4.\n",
      "MoviePy - Writing audio in NewcastleUnitedvLiverpool_scene_3TEMP_MPY_wvf_snd.mp3\n"
     ]
    },
    {
     "name": "stderr",
     "output_type": "stream",
     "text": [
      "                                                                                \r"
     ]
    },
    {
     "name": "stdout",
     "output_type": "stream",
     "text": [
      "MoviePy - Done.\n",
      "Moviepy - Writing video /Users/idotzhori/Desktop/autoencoderlight/cleaned_highlights/NewcastleUnitedvLiverpool_scene_3.mp4\n",
      "\n"
     ]
    },
    {
     "name": "stderr",
     "output_type": "stream",
     "text": [
      "                                                                                \r"
     ]
    },
    {
     "name": "stdout",
     "output_type": "stream",
     "text": [
      "Moviepy - Done !\n",
      "Moviepy - video ready /Users/idotzhori/Desktop/autoencoderlight/cleaned_highlights/NewcastleUnitedvLiverpool_scene_3.mp4\n",
      "Moviepy - Building video /Users/idotzhori/Desktop/autoencoderlight/cleaned_highlights/BournemouthvFulham_scene_32.mp4.\n",
      "MoviePy - Writing audio in BournemouthvFulham_scene_32TEMP_MPY_wvf_snd.mp3\n"
     ]
    },
    {
     "name": "stderr",
     "output_type": "stream",
     "text": [
      "                                                                                \r"
     ]
    },
    {
     "name": "stdout",
     "output_type": "stream",
     "text": [
      "MoviePy - Done.\n",
      "Moviepy - Writing video /Users/idotzhori/Desktop/autoencoderlight/cleaned_highlights/BournemouthvFulham_scene_32.mp4\n",
      "\n"
     ]
    },
    {
     "name": "stderr",
     "output_type": "stream",
     "text": [
      "                                                                                \r"
     ]
    },
    {
     "name": "stdout",
     "output_type": "stream",
     "text": [
      "Moviepy - Done !\n",
      "Moviepy - video ready /Users/idotzhori/Desktop/autoencoderlight/cleaned_highlights/BournemouthvFulham_scene_32.mp4\n",
      "Moviepy - Building video /Users/idotzhori/Desktop/autoencoderlight/cleaned_highlights/LeedsUnitedvManchesterUnited_scene_4.mp4.\n",
      "MoviePy - Writing audio in LeedsUnitedvManchesterUnited_scene_4TEMP_MPY_wvf_snd.mp3\n"
     ]
    },
    {
     "name": "stderr",
     "output_type": "stream",
     "text": [
      "                                                                                \r"
     ]
    },
    {
     "name": "stdout",
     "output_type": "stream",
     "text": [
      "MoviePy - Done.\n",
      "Moviepy - Writing video /Users/idotzhori/Desktop/autoencoderlight/cleaned_highlights/LeedsUnitedvManchesterUnited_scene_4.mp4\n",
      "\n"
     ]
    },
    {
     "name": "stderr",
     "output_type": "stream",
     "text": [
      "                                                                                \r"
     ]
    },
    {
     "name": "stdout",
     "output_type": "stream",
     "text": [
      "Moviepy - Done !\n",
      "Moviepy - video ready /Users/idotzhori/Desktop/autoencoderlight/cleaned_highlights/LeedsUnitedvManchesterUnited_scene_4.mp4\n",
      "Moviepy - Building video /Users/idotzhori/Desktop/autoencoderlight/cleaned_highlights/ManchesterUnitedvEverton_scene_11.mp4.\n",
      "MoviePy - Writing audio in ManchesterUnitedvEverton_scene_11TEMP_MPY_wvf_snd.mp3\n"
     ]
    },
    {
     "name": "stderr",
     "output_type": "stream",
     "text": [
      "                                                                                \r"
     ]
    },
    {
     "name": "stdout",
     "output_type": "stream",
     "text": [
      "MoviePy - Done.\n",
      "Moviepy - Writing video /Users/idotzhori/Desktop/autoencoderlight/cleaned_highlights/ManchesterUnitedvEverton_scene_11.mp4\n",
      "\n"
     ]
    },
    {
     "name": "stderr",
     "output_type": "stream",
     "text": [
      "                                                                                \r"
     ]
    },
    {
     "name": "stdout",
     "output_type": "stream",
     "text": [
      "Moviepy - Done !\n",
      "Moviepy - video ready /Users/idotzhori/Desktop/autoencoderlight/cleaned_highlights/ManchesterUnitedvEverton_scene_11.mp4\n",
      "Moviepy - Building video /Users/idotzhori/Desktop/autoencoderlight/cleaned_highlights/BrightonvWolves_scene_17.mp4.\n",
      "MoviePy - Writing audio in BrightonvWolves_scene_17TEMP_MPY_wvf_snd.mp3\n"
     ]
    },
    {
     "name": "stderr",
     "output_type": "stream",
     "text": [
      "                                                                                \r"
     ]
    },
    {
     "name": "stdout",
     "output_type": "stream",
     "text": [
      "MoviePy - Done.\n",
      "Moviepy - Writing video /Users/idotzhori/Desktop/autoencoderlight/cleaned_highlights/BrightonvWolves_scene_17.mp4\n",
      "\n"
     ]
    },
    {
     "name": "stderr",
     "output_type": "stream",
     "text": [
      "                                                                                \r"
     ]
    },
    {
     "name": "stdout",
     "output_type": "stream",
     "text": [
      "Moviepy - Done !\n",
      "Moviepy - video ready /Users/idotzhori/Desktop/autoencoderlight/cleaned_highlights/BrightonvWolves_scene_17.mp4\n",
      "Moviepy - Building video /Users/idotzhori/Desktop/autoencoderlight/cleaned_highlights/FulhamvWestHamUnited_scene_23.mp4.\n",
      "MoviePy - Writing audio in FulhamvWestHamUnited_scene_23TEMP_MPY_wvf_snd.mp3\n"
     ]
    },
    {
     "name": "stderr",
     "output_type": "stream",
     "text": [
      "                                                                                \r"
     ]
    },
    {
     "name": "stdout",
     "output_type": "stream",
     "text": [
      "MoviePy - Done.\n",
      "Moviepy - Writing video /Users/idotzhori/Desktop/autoencoderlight/cleaned_highlights/FulhamvWestHamUnited_scene_23.mp4\n",
      "\n"
     ]
    },
    {
     "name": "stderr",
     "output_type": "stream",
     "text": [
      "                                                                                \r"
     ]
    },
    {
     "name": "stdout",
     "output_type": "stream",
     "text": [
      "Moviepy - Done !\n",
      "Moviepy - video ready /Users/idotzhori/Desktop/autoencoderlight/cleaned_highlights/FulhamvWestHamUnited_scene_23.mp4\n",
      "Moviepy - Building video /Users/idotzhori/Desktop/autoencoderlight/cleaned_highlights/EvertonvBrentford_scene_9.mp4.\n",
      "MoviePy - Writing audio in EvertonvBrentford_scene_9TEMP_MPY_wvf_snd.mp3\n"
     ]
    },
    {
     "name": "stderr",
     "output_type": "stream",
     "text": [
      "                                                                                "
     ]
    },
    {
     "name": "stdout",
     "output_type": "stream",
     "text": [
      "MoviePy - Done.\n",
      "Moviepy - Writing video /Users/idotzhori/Desktop/autoencoderlight/cleaned_highlights/EvertonvBrentford_scene_9.mp4\n",
      "\n"
     ]
    },
    {
     "name": "stderr",
     "output_type": "stream",
     "text": [
      "                                                                                \r"
     ]
    },
    {
     "name": "stdout",
     "output_type": "stream",
     "text": [
      "Moviepy - Done !\n",
      "Moviepy - video ready /Users/idotzhori/Desktop/autoencoderlight/cleaned_highlights/EvertonvBrentford_scene_9.mp4\n",
      "Moviepy - Building video /Users/idotzhori/Desktop/autoencoderlight/cleaned_highlights/LeedsUnitedvManchesterUnited_scene_7.mp4.\n",
      "MoviePy - Writing audio in LeedsUnitedvManchesterUnited_scene_7TEMP_MPY_wvf_snd.mp3\n"
     ]
    },
    {
     "name": "stderr",
     "output_type": "stream",
     "text": [
      "                                                                                \r"
     ]
    },
    {
     "name": "stdout",
     "output_type": "stream",
     "text": [
      "MoviePy - Done.\n",
      "Moviepy - Writing video /Users/idotzhori/Desktop/autoencoderlight/cleaned_highlights/LeedsUnitedvManchesterUnited_scene_7.mp4\n",
      "\n"
     ]
    },
    {
     "name": "stderr",
     "output_type": "stream",
     "text": [
      "                                                                                \r"
     ]
    },
    {
     "name": "stdout",
     "output_type": "stream",
     "text": [
      "Moviepy - Done !\n",
      "Moviepy - video ready /Users/idotzhori/Desktop/autoencoderlight/cleaned_highlights/LeedsUnitedvManchesterUnited_scene_7.mp4\n",
      "Moviepy - Building video /Users/idotzhori/Desktop/autoencoderlight/cleaned_highlights/BrightonvCrystalPalace_scene_15.mp4.\n",
      "MoviePy - Writing audio in BrightonvCrystalPalace_scene_15TEMP_MPY_wvf_snd.mp3\n"
     ]
    },
    {
     "name": "stderr",
     "output_type": "stream",
     "text": [
      "                                                                                \r"
     ]
    },
    {
     "name": "stdout",
     "output_type": "stream",
     "text": [
      "MoviePy - Done.\n",
      "Moviepy - Writing video /Users/idotzhori/Desktop/autoencoderlight/cleaned_highlights/BrightonvCrystalPalace_scene_15.mp4\n",
      "\n"
     ]
    },
    {
     "name": "stderr",
     "output_type": "stream",
     "text": [
      "                                                                                \r"
     ]
    },
    {
     "name": "stdout",
     "output_type": "stream",
     "text": [
      "Moviepy - Done !\n",
      "Moviepy - video ready /Users/idotzhori/Desktop/autoencoderlight/cleaned_highlights/BrightonvCrystalPalace_scene_15.mp4\n",
      "Moviepy - Building video /Users/idotzhori/Desktop/autoencoderlight/cleaned_highlights/FulhamvWolves_scene_4.mp4.\n",
      "MoviePy - Writing audio in FulhamvWolves_scene_4TEMP_MPY_wvf_snd.mp3\n"
     ]
    },
    {
     "name": "stderr",
     "output_type": "stream",
     "text": [
      "                                                                                \r"
     ]
    },
    {
     "name": "stdout",
     "output_type": "stream",
     "text": [
      "MoviePy - Done.\n",
      "Moviepy - Writing video /Users/idotzhori/Desktop/autoencoderlight/cleaned_highlights/FulhamvWolves_scene_4.mp4\n",
      "\n"
     ]
    },
    {
     "name": "stderr",
     "output_type": "stream",
     "text": [
      "                                                                                \r"
     ]
    },
    {
     "name": "stdout",
     "output_type": "stream",
     "text": [
      "Moviepy - Done !\n",
      "Moviepy - video ready /Users/idotzhori/Desktop/autoencoderlight/cleaned_highlights/FulhamvWolves_scene_4.mp4\n",
      "Moviepy - Building video /Users/idotzhori/Desktop/autoencoderlight/cleaned_highlights/LeedsUnitedvSouthampton_scene_19.mp4.\n",
      "MoviePy - Writing audio in LeedsUnitedvSouthampton_scene_19TEMP_MPY_wvf_snd.mp3\n"
     ]
    },
    {
     "name": "stderr",
     "output_type": "stream",
     "text": [
      "                                                                                \r"
     ]
    },
    {
     "name": "stdout",
     "output_type": "stream",
     "text": [
      "MoviePy - Done.\n",
      "Moviepy - Writing video /Users/idotzhori/Desktop/autoencoderlight/cleaned_highlights/LeedsUnitedvSouthampton_scene_19.mp4\n",
      "\n"
     ]
    },
    {
     "name": "stderr",
     "output_type": "stream",
     "text": [
      "                                                                                \r"
     ]
    },
    {
     "name": "stdout",
     "output_type": "stream",
     "text": [
      "Moviepy - Done !\n",
      "Moviepy - video ready /Users/idotzhori/Desktop/autoencoderlight/cleaned_highlights/LeedsUnitedvSouthampton_scene_19.mp4\n",
      "Moviepy - Building video /Users/idotzhori/Desktop/autoencoderlight/cleaned_highlights/ChelseavBrighton_scene_26.mp4.\n",
      "MoviePy - Writing audio in ChelseavBrighton_scene_26TEMP_MPY_wvf_snd.mp3\n"
     ]
    },
    {
     "name": "stderr",
     "output_type": "stream",
     "text": [
      "                                                                                \r"
     ]
    },
    {
     "name": "stdout",
     "output_type": "stream",
     "text": [
      "MoviePy - Done.\n",
      "Moviepy - Writing video /Users/idotzhori/Desktop/autoencoderlight/cleaned_highlights/ChelseavBrighton_scene_26.mp4\n",
      "\n"
     ]
    },
    {
     "name": "stderr",
     "output_type": "stream",
     "text": [
      "                                                                                \r"
     ]
    },
    {
     "name": "stdout",
     "output_type": "stream",
     "text": [
      "Moviepy - Done !\n",
      "Moviepy - video ready /Users/idotzhori/Desktop/autoencoderlight/cleaned_highlights/ChelseavBrighton_scene_26.mp4\n",
      "Moviepy - Building video /Users/idotzhori/Desktop/autoencoderlight/cleaned_highlights/TottenhamHotspurvNottinghamForest_scene_16.mp4.\n",
      "MoviePy - Writing audio in TottenhamHotspurvNottinghamForest_scene_16TEMP_MPY_wvf_snd.mp3\n"
     ]
    },
    {
     "name": "stderr",
     "output_type": "stream",
     "text": [
      "                                                                                \r"
     ]
    },
    {
     "name": "stdout",
     "output_type": "stream",
     "text": [
      "MoviePy - Done.\n",
      "Moviepy - Writing video /Users/idotzhori/Desktop/autoencoderlight/cleaned_highlights/TottenhamHotspurvNottinghamForest_scene_16.mp4\n",
      "\n"
     ]
    },
    {
     "name": "stderr",
     "output_type": "stream",
     "text": [
      "                                                                                \r"
     ]
    },
    {
     "name": "stdout",
     "output_type": "stream",
     "text": [
      "Moviepy - Done !\n",
      "Moviepy - video ready /Users/idotzhori/Desktop/autoencoderlight/cleaned_highlights/TottenhamHotspurvNottinghamForest_scene_16.mp4\n",
      "Moviepy - Building video /Users/idotzhori/Desktop/autoencoderlight/cleaned_highlights/BrightonvCrystalPalace_scene_14.mp4.\n",
      "MoviePy - Writing audio in BrightonvCrystalPalace_scene_14TEMP_MPY_wvf_snd.mp3\n"
     ]
    },
    {
     "name": "stderr",
     "output_type": "stream",
     "text": [
      "                                                                                \r"
     ]
    },
    {
     "name": "stdout",
     "output_type": "stream",
     "text": [
      "MoviePy - Done.\n",
      "Moviepy - Writing video /Users/idotzhori/Desktop/autoencoderlight/cleaned_highlights/BrightonvCrystalPalace_scene_14.mp4\n",
      "\n"
     ]
    },
    {
     "name": "stderr",
     "output_type": "stream",
     "text": [
      "                                                                                \r"
     ]
    },
    {
     "name": "stdout",
     "output_type": "stream",
     "text": [
      "Moviepy - Done !\n",
      "Moviepy - video ready /Users/idotzhori/Desktop/autoencoderlight/cleaned_highlights/BrightonvCrystalPalace_scene_14.mp4\n",
      "Moviepy - Building video /Users/idotzhori/Desktop/autoencoderlight/cleaned_highlights/NewcastleUnitedvLeicesterCity_scene_21.mp4.\n",
      "MoviePy - Writing audio in NewcastleUnitedvLeicesterCity_scene_21TEMP_MPY_wvf_snd.mp3\n"
     ]
    },
    {
     "name": "stderr",
     "output_type": "stream",
     "text": [
      "                                                                                \r"
     ]
    },
    {
     "name": "stdout",
     "output_type": "stream",
     "text": [
      "MoviePy - Done.\n",
      "Moviepy - Writing video /Users/idotzhori/Desktop/autoencoderlight/cleaned_highlights/NewcastleUnitedvLeicesterCity_scene_21.mp4\n",
      "\n"
     ]
    },
    {
     "name": "stderr",
     "output_type": "stream",
     "text": [
      "                                                                                \r"
     ]
    },
    {
     "name": "stdout",
     "output_type": "stream",
     "text": [
      "Moviepy - Done !\n",
      "Moviepy - video ready /Users/idotzhori/Desktop/autoencoderlight/cleaned_highlights/NewcastleUnitedvLeicesterCity_scene_21.mp4\n",
      "Moviepy - Building video /Users/idotzhori/Desktop/autoencoderlight/cleaned_highlights/BrightonvWestHamUnited_scene_9.mp4.\n",
      "MoviePy - Writing audio in BrightonvWestHamUnited_scene_9TEMP_MPY_wvf_snd.mp3\n"
     ]
    },
    {
     "name": "stderr",
     "output_type": "stream",
     "text": [
      "                                                                                \r"
     ]
    },
    {
     "name": "stdout",
     "output_type": "stream",
     "text": [
      "MoviePy - Done.\n",
      "Moviepy - Writing video /Users/idotzhori/Desktop/autoencoderlight/cleaned_highlights/BrightonvWestHamUnited_scene_9.mp4\n",
      "\n"
     ]
    },
    {
     "name": "stderr",
     "output_type": "stream",
     "text": [
      "                                                                                \r"
     ]
    },
    {
     "name": "stdout",
     "output_type": "stream",
     "text": [
      "Moviepy - Done !\n",
      "Moviepy - video ready /Users/idotzhori/Desktop/autoencoderlight/cleaned_highlights/BrightonvWestHamUnited_scene_9.mp4\n",
      "Moviepy - Building video /Users/idotzhori/Desktop/autoencoderlight/cleaned_highlights/ChelseavBrighton_scene_30.mp4.\n",
      "MoviePy - Writing audio in ChelseavBrighton_scene_30TEMP_MPY_wvf_snd.mp3\n"
     ]
    },
    {
     "name": "stderr",
     "output_type": "stream",
     "text": [
      "                                                                                \r"
     ]
    },
    {
     "name": "stdout",
     "output_type": "stream",
     "text": [
      "MoviePy - Done.\n",
      "Moviepy - Writing video /Users/idotzhori/Desktop/autoencoderlight/cleaned_highlights/ChelseavBrighton_scene_30.mp4\n",
      "\n"
     ]
    },
    {
     "name": "stderr",
     "output_type": "stream",
     "text": [
      "                                                                                \r"
     ]
    },
    {
     "name": "stdout",
     "output_type": "stream",
     "text": [
      "Moviepy - Done !\n",
      "Moviepy - video ready /Users/idotzhori/Desktop/autoencoderlight/cleaned_highlights/ChelseavBrighton_scene_30.mp4\n",
      "Moviepy - Building video /Users/idotzhori/Desktop/autoencoderlight/cleaned_highlights/CrystalPalacevManchesterCity_scene_12.mp4.\n",
      "MoviePy - Writing audio in CrystalPalacevManchesterCity_scene_12TEMP_MPY_wvf_snd.mp3\n"
     ]
    },
    {
     "name": "stderr",
     "output_type": "stream",
     "text": [
      "                                                                                \r"
     ]
    },
    {
     "name": "stdout",
     "output_type": "stream",
     "text": [
      "MoviePy - Done.\n",
      "Moviepy - Writing video /Users/idotzhori/Desktop/autoencoderlight/cleaned_highlights/CrystalPalacevManchesterCity_scene_12.mp4\n",
      "\n"
     ]
    },
    {
     "name": "stderr",
     "output_type": "stream",
     "text": [
      "                                                                                \r"
     ]
    },
    {
     "name": "stdout",
     "output_type": "stream",
     "text": [
      "Moviepy - Done !\n",
      "Moviepy - video ready /Users/idotzhori/Desktop/autoencoderlight/cleaned_highlights/CrystalPalacevManchesterCity_scene_12.mp4\n",
      "Moviepy - Building video /Users/idotzhori/Desktop/autoencoderlight/cleaned_highlights/FulhamvWolves_scene_6.mp4.\n",
      "MoviePy - Writing audio in FulhamvWolves_scene_6TEMP_MPY_wvf_snd.mp3\n"
     ]
    },
    {
     "name": "stderr",
     "output_type": "stream",
     "text": [
      "                                                                                \r"
     ]
    },
    {
     "name": "stdout",
     "output_type": "stream",
     "text": [
      "MoviePy - Done.\n",
      "Moviepy - Writing video /Users/idotzhori/Desktop/autoencoderlight/cleaned_highlights/FulhamvWolves_scene_6.mp4\n",
      "\n"
     ]
    },
    {
     "name": "stderr",
     "output_type": "stream",
     "text": [
      "                                                                                \r"
     ]
    },
    {
     "name": "stdout",
     "output_type": "stream",
     "text": [
      "Moviepy - Done !\n",
      "Moviepy - video ready /Users/idotzhori/Desktop/autoencoderlight/cleaned_highlights/FulhamvWolves_scene_6.mp4\n",
      "Moviepy - Building video /Users/idotzhori/Desktop/autoencoderlight/cleaned_highlights/FulhamvWolves_scene_8.mp4.\n",
      "MoviePy - Writing audio in FulhamvWolves_scene_8TEMP_MPY_wvf_snd.mp3\n"
     ]
    },
    {
     "name": "stderr",
     "output_type": "stream",
     "text": [
      "                                                                                \r"
     ]
    },
    {
     "name": "stdout",
     "output_type": "stream",
     "text": [
      "MoviePy - Done.\n",
      "Moviepy - Writing video /Users/idotzhori/Desktop/autoencoderlight/cleaned_highlights/FulhamvWolves_scene_8.mp4\n",
      "\n"
     ]
    },
    {
     "name": "stderr",
     "output_type": "stream",
     "text": [
      "                                                                                \r"
     ]
    },
    {
     "name": "stdout",
     "output_type": "stream",
     "text": [
      "Moviepy - Done !\n",
      "Moviepy - video ready /Users/idotzhori/Desktop/autoencoderlight/cleaned_highlights/FulhamvWolves_scene_8.mp4\n",
      "Moviepy - Building video /Users/idotzhori/Desktop/autoencoderlight/cleaned_highlights/LeicesterCityvLiverpool_scene_4.mp4.\n",
      "MoviePy - Writing audio in LeicesterCityvLiverpool_scene_4TEMP_MPY_wvf_snd.mp3\n"
     ]
    },
    {
     "name": "stderr",
     "output_type": "stream",
     "text": [
      "                                                                                \r"
     ]
    },
    {
     "name": "stdout",
     "output_type": "stream",
     "text": [
      "MoviePy - Done.\n",
      "Moviepy - Writing video /Users/idotzhori/Desktop/autoencoderlight/cleaned_highlights/LeicesterCityvLiverpool_scene_4.mp4\n",
      "\n"
     ]
    },
    {
     "name": "stderr",
     "output_type": "stream",
     "text": [
      "                                                                                \r"
     ]
    },
    {
     "name": "stdout",
     "output_type": "stream",
     "text": [
      "Moviepy - Done !\n",
      "Moviepy - video ready /Users/idotzhori/Desktop/autoencoderlight/cleaned_highlights/LeicesterCityvLiverpool_scene_4.mp4\n",
      "Moviepy - Building video /Users/idotzhori/Desktop/autoencoderlight/cleaned_highlights/NewcastleUnitedvWolves_scene_9.mp4.\n",
      "MoviePy - Writing audio in NewcastleUnitedvWolves_scene_9TEMP_MPY_wvf_snd.mp3\n"
     ]
    },
    {
     "name": "stderr",
     "output_type": "stream",
     "text": [
      "                                                                                \r"
     ]
    },
    {
     "name": "stdout",
     "output_type": "stream",
     "text": [
      "MoviePy - Done.\n",
      "Moviepy - Writing video /Users/idotzhori/Desktop/autoencoderlight/cleaned_highlights/NewcastleUnitedvWolves_scene_9.mp4\n",
      "\n"
     ]
    },
    {
     "name": "stderr",
     "output_type": "stream",
     "text": [
      "                                                                                \r"
     ]
    },
    {
     "name": "stdout",
     "output_type": "stream",
     "text": [
      "Moviepy - Done !\n",
      "Moviepy - video ready /Users/idotzhori/Desktop/autoencoderlight/cleaned_highlights/NewcastleUnitedvWolves_scene_9.mp4\n",
      "Moviepy - Building video /Users/idotzhori/Desktop/autoencoderlight/cleaned_highlights/FulhamvLeedsUnited_scene_16.mp4.\n",
      "MoviePy - Writing audio in FulhamvLeedsUnited_scene_16TEMP_MPY_wvf_snd.mp3\n"
     ]
    },
    {
     "name": "stderr",
     "output_type": "stream",
     "text": [
      "                                                                                \r"
     ]
    },
    {
     "name": "stdout",
     "output_type": "stream",
     "text": [
      "MoviePy - Done.\n",
      "Moviepy - Writing video /Users/idotzhori/Desktop/autoencoderlight/cleaned_highlights/FulhamvLeedsUnited_scene_16.mp4\n",
      "\n"
     ]
    },
    {
     "name": "stderr",
     "output_type": "stream",
     "text": [
      "                                                                                \r"
     ]
    },
    {
     "name": "stdout",
     "output_type": "stream",
     "text": [
      "Moviepy - Done !\n",
      "Moviepy - video ready /Users/idotzhori/Desktop/autoencoderlight/cleaned_highlights/FulhamvLeedsUnited_scene_16.mp4\n",
      "Moviepy - Building video /Users/idotzhori/Desktop/autoencoderlight/cleaned_highlights/BournemouthvLiverpool_scene_19.mp4.\n",
      "MoviePy - Writing audio in BournemouthvLiverpool_scene_19TEMP_MPY_wvf_snd.mp3\n"
     ]
    },
    {
     "name": "stderr",
     "output_type": "stream",
     "text": [
      "                                                                                \r"
     ]
    },
    {
     "name": "stdout",
     "output_type": "stream",
     "text": [
      "MoviePy - Done.\n",
      "Moviepy - Writing video /Users/idotzhori/Desktop/autoencoderlight/cleaned_highlights/BournemouthvLiverpool_scene_19.mp4\n",
      "\n"
     ]
    },
    {
     "name": "stderr",
     "output_type": "stream",
     "text": [
      "                                                                                \r"
     ]
    },
    {
     "name": "stdout",
     "output_type": "stream",
     "text": [
      "Moviepy - Done !\n",
      "Moviepy - video ready /Users/idotzhori/Desktop/autoencoderlight/cleaned_highlights/BournemouthvLiverpool_scene_19.mp4\n",
      "Moviepy - Building video /Users/idotzhori/Desktop/autoencoderlight/cleaned_highlights/WolvesvTottenhamHotspur_scene_8.mp4.\n",
      "MoviePy - Writing audio in WolvesvTottenhamHotspur_scene_8TEMP_MPY_wvf_snd.mp3\n"
     ]
    },
    {
     "name": "stderr",
     "output_type": "stream",
     "text": [
      "                                                                                \r"
     ]
    },
    {
     "name": "stdout",
     "output_type": "stream",
     "text": [
      "MoviePy - Done.\n",
      "Moviepy - Writing video /Users/idotzhori/Desktop/autoencoderlight/cleaned_highlights/WolvesvTottenhamHotspur_scene_8.mp4\n",
      "\n"
     ]
    },
    {
     "name": "stderr",
     "output_type": "stream",
     "text": [
      "                                                                                \r"
     ]
    },
    {
     "name": "stdout",
     "output_type": "stream",
     "text": [
      "Moviepy - Done !\n",
      "Moviepy - video ready /Users/idotzhori/Desktop/autoencoderlight/cleaned_highlights/WolvesvTottenhamHotspur_scene_8.mp4\n",
      "Moviepy - Building video /Users/idotzhori/Desktop/autoencoderlight/cleaned_highlights/LeicesterCityvArsenal_scene_9.mp4.\n",
      "MoviePy - Writing audio in LeicesterCityvArsenal_scene_9TEMP_MPY_wvf_snd.mp3\n"
     ]
    },
    {
     "name": "stderr",
     "output_type": "stream",
     "text": [
      "                                                                                \r"
     ]
    },
    {
     "name": "stdout",
     "output_type": "stream",
     "text": [
      "MoviePy - Done.\n",
      "Moviepy - Writing video /Users/idotzhori/Desktop/autoencoderlight/cleaned_highlights/LeicesterCityvArsenal_scene_9.mp4\n",
      "\n"
     ]
    },
    {
     "name": "stderr",
     "output_type": "stream",
     "text": [
      "                                                                                \r"
     ]
    },
    {
     "name": "stdout",
     "output_type": "stream",
     "text": [
      "Moviepy - Done !\n",
      "Moviepy - video ready /Users/idotzhori/Desktop/autoencoderlight/cleaned_highlights/LeicesterCityvArsenal_scene_9.mp4\n",
      "Moviepy - Building video /Users/idotzhori/Desktop/autoencoderlight/cleaned_highlights/ChelseavBrighton_scene_31.mp4.\n",
      "MoviePy - Writing audio in ChelseavBrighton_scene_31TEMP_MPY_wvf_snd.mp3\n"
     ]
    },
    {
     "name": "stderr",
     "output_type": "stream",
     "text": [
      "                                                                                \r"
     ]
    },
    {
     "name": "stdout",
     "output_type": "stream",
     "text": [
      "MoviePy - Done.\n",
      "Moviepy - Writing video /Users/idotzhori/Desktop/autoencoderlight/cleaned_highlights/ChelseavBrighton_scene_31.mp4\n",
      "\n"
     ]
    },
    {
     "name": "stderr",
     "output_type": "stream",
     "text": [
      "                                                                                \r"
     ]
    },
    {
     "name": "stdout",
     "output_type": "stream",
     "text": [
      "Moviepy - Done !\n",
      "Moviepy - video ready /Users/idotzhori/Desktop/autoencoderlight/cleaned_highlights/ChelseavBrighton_scene_31.mp4\n"
     ]
    }
   ],
   "source": [
    "# Iterate over each folder and file\n",
    "for folder in os.listdir(video_path):\n",
    "    folder_path = os.path.join(video_path, folder)\n",
    "    if os.path.isdir(folder_path) and folder != \"cleaned_highlights\":\n",
    "        for filename in os.listdir(folder_path):\n",
    "            if filename.endswith(\".mp4\"):\n",
    "                file_path = os.path.join(folder_path, filename)\n",
    "                try:\n",
    "                    with VideoFileClip(file_path) as video:\n",
    "                        if folder == \"0\":\n",
    "                            continue  # Skip bad clips\n",
    "                        elif folder == \"1\":\n",
    "                            new_video = video.subclip(1, video.duration)\n",
    "                        elif folder == \"2\":\n",
    "                            new_video = video.subclip(2, video.duration)\n",
    "                        elif folder == \"3\":\n",
    "                            new_video = video.subclip(3, video.duration)\n",
    "                        elif folder == \"4\":\n",
    "                            new_video = video.subclip(0, video.duration - 1)\n",
    "                        elif folder == \"5\":\n",
    "                            new_video = video.subclip(0, video.duration - 2)\n",
    "                        elif folder == \"6\":\n",
    "                            new_video = video.subclip(max(video.duration - 5, 0), video.duration)\n",
    "                        elif folder == \"9\":\n",
    "                            new_video = video  # No changes for good clips\n",
    "\n",
    "                        if folder != '0':\n",
    "                            new_file_path = os.path.join(output_directory, filename)\n",
    "                            new_video.write_videofile(new_file_path, codec=\"libx264\")\n",
    "\n",
    "                except Exception as e:\n",
    "                    print(f\"Error processing {file_path}: {e}\")"
   ]
  },
  {
   "cell_type": "code",
   "execution_count": 9,
   "id": "5f3e731c",
   "metadata": {},
   "outputs": [],
   "source": [
    "def extract_frames_from_video(video_path, size = 256):\n",
    "    \"\"\"\n",
    "    Extracts frames from a video.\n",
    "\n",
    "    :param video_path: Path to the video file.\n",
    "    :return: List of frames as numpy arrays.\n",
    "    \"\"\"\n",
    "    cap = cv2.VideoCapture(video_path)\n",
    "    if not cap.isOpened():\n",
    "        raise IOError(f\"Cannot open video {video_path}\")\n",
    "\n",
    "    frames = []\n",
    "    while True:\n",
    "        ret, frame = cap.read()\n",
    "        if not ret:\n",
    "            break\n",
    "        frame = cv2.cvtColor(frame, cv2.COLOR_BGR2GRAY)\n",
    "        frame = cv2.resize(frame, (size, size))\n",
    "        frames.append(frame / size)\n",
    "    cap.release()\n",
    "    return frames\n",
    "\n",
    "def get_clips(frames_list, sequence_size, stride=10):\n",
    "    \"\"\"\n",
    "    Splits the list of frames into clips of a fixed size with a given stride.\n",
    "\n",
    "    :param frames_list: List of frames.\n",
    "    :param sequence_size: The number of frames in each clip.\n",
    "    :param stride: The step size between the start of each clip.\n",
    "    :return: List of clips.\n",
    "    \"\"\"\n",
    "    clips = []\n",
    "    for i in range(0, len(frames_list) - sequence_size + 1, stride):\n",
    "        clip = np.array(frames_list[i:i + sequence_size])  # Creating a clip\n",
    "        clip = np.expand_dims(clip, axis=-1)  # Adding the channel dimension\n",
    "        clips.append(clip)\n",
    "    return clips\n",
    "\n",
    "def get_training_set_from_video(video_path, sequence_size=16):\n",
    "    frames = extract_frames_from_video(video_path)\n",
    "    return np.array(get_clips(frames, sequence_size))\n",
    "\n",
    "def get_training_set_from_video_flat(video_path):\n",
    "    return np.array(extract_frames_from_video(video_path))\n",
    "\n",
    "def visualize_frames(training_data, num_sequences=1, num_frames=10):\n",
    "    \"\"\"\n",
    "    Visualizes frames from the training data.\n",
    "\n",
    "    :param training_data: The training data containing sequences of frames.\n",
    "    :param num_sequences: Number of sequences to visualize.\n",
    "    :param num_frames: Number of frames to visualize per sequence.\n",
    "    \"\"\"\n",
    "    for sequence in range(min(num_sequences, len(training_data))):\n",
    "        fig, axs = plt.subplots(1, num_frames, figsize=(20, 2))\n",
    "        for frame in range(num_frames):\n",
    "            axs[frame].imshow(training_data[sequence][frame, :, :, 0], cmap='gray')\n",
    "            axs[frame].axis('off')\n",
    "        plt.show()\n",
    "        \n",
    "def visualize_as_video(training_data, sequence_idx=0, delay=30):\n",
    "    \"\"\"\n",
    "    Visualizes a sequence of frames as a video.\n",
    "\n",
    "    :param training_data: The training data containing sequences of frames.\n",
    "    :param sequence_idx: Index of the sequence to visualize.\n",
    "    :param delay: Delay between frames in milliseconds.\n",
    "    \"\"\"\n",
    "    sequence = training_data[sequence_idx]\n",
    "    for frame in sequence:\n",
    "        frame_display = frame[:, :, 0] \n",
    "        cv2.imshow('Frame', frame_display)\n",
    "        if cv2.waitKey(delay) & 0xFF == ord('q'):\n",
    "            break\n",
    "    cv2.destroyAllWindows()\n"
   ]
  },
  {
   "cell_type": "code",
   "execution_count": 10,
   "id": "56c6ead7",
   "metadata": {},
   "outputs": [
    {
     "name": "stdout",
     "output_type": "stream",
     "text": [
      "(19, 16, 256, 256, 1)\n"
     ]
    }
   ],
   "source": [
    "video_path = os.path.join('/Users/idotzhori/Desktop/Desktop - Ido’s Laptop/autoencoderlight/cleaned_highlights',random.choice(os.listdir('cleaned_highlights')))\n",
    "training_data = get_training_set_from_video(video_path)\n",
    "print(training_data.shape)"
   ]
  },
  {
   "cell_type": "code",
   "execution_count": 12,
   "id": "409c5c9b",
   "metadata": {},
   "outputs": [
    {
     "name": "stdout",
     "output_type": "stream",
     "text": [
      "(200, 256, 256)\n"
     ]
    }
   ],
   "source": [
    "training_data = get_training_set_from_video_flat(video_path)\n",
    "print(training_data.shape)"
   ]
  },
  {
   "cell_type": "code",
   "execution_count": 13,
   "id": "7cf89162",
   "metadata": {},
   "outputs": [
    {
     "ename": "IndexError",
     "evalue": "too many indices for array: array is 1-dimensional, but 3 were indexed",
     "output_type": "error",
     "traceback": [
      "\u001b[0;31m---------------------------------------------------------------------------\u001b[0m",
      "\u001b[0;31mIndexError\u001b[0m                                Traceback (most recent call last)",
      "\u001b[0;32m/var/folders/3w/9k57jny569vcndjv5ty099p80000gn/T/ipykernel_67314/611135788.py\u001b[0m in \u001b[0;36m<module>\u001b[0;34m\u001b[0m\n\u001b[1;32m      1\u001b[0m \u001b[0;32mfor\u001b[0m \u001b[0mi\u001b[0m \u001b[0;32min\u001b[0m \u001b[0mrange\u001b[0m\u001b[0;34m(\u001b[0m\u001b[0mlen\u001b[0m\u001b[0;34m(\u001b[0m\u001b[0mtraining_data\u001b[0m\u001b[0;34m)\u001b[0m\u001b[0;34m)\u001b[0m\u001b[0;34m:\u001b[0m\u001b[0;34m\u001b[0m\u001b[0;34m\u001b[0m\u001b[0m\n\u001b[0;32m----> 2\u001b[0;31m     \u001b[0mvisualize_as_video\u001b[0m\u001b[0;34m(\u001b[0m\u001b[0mtraining_data\u001b[0m\u001b[0;34m,\u001b[0m \u001b[0msequence_idx\u001b[0m\u001b[0;34m=\u001b[0m\u001b[0mi\u001b[0m\u001b[0;34m,\u001b[0m \u001b[0mdelay\u001b[0m\u001b[0;34m=\u001b[0m\u001b[0;36m30\u001b[0m\u001b[0;34m)\u001b[0m\u001b[0;34m\u001b[0m\u001b[0;34m\u001b[0m\u001b[0m\n\u001b[0m",
      "\u001b[0;32m/var/folders/3w/9k57jny569vcndjv5ty099p80000gn/T/ipykernel_67314/3122519381.py\u001b[0m in \u001b[0;36mvisualize_as_video\u001b[0;34m(training_data, sequence_idx, delay)\u001b[0m\n\u001b[1;32m     69\u001b[0m     \u001b[0msequence\u001b[0m \u001b[0;34m=\u001b[0m \u001b[0mtraining_data\u001b[0m\u001b[0;34m[\u001b[0m\u001b[0msequence_idx\u001b[0m\u001b[0;34m]\u001b[0m\u001b[0;34m\u001b[0m\u001b[0;34m\u001b[0m\u001b[0m\n\u001b[1;32m     70\u001b[0m     \u001b[0;32mfor\u001b[0m \u001b[0mframe\u001b[0m \u001b[0;32min\u001b[0m \u001b[0msequence\u001b[0m\u001b[0;34m:\u001b[0m\u001b[0;34m\u001b[0m\u001b[0;34m\u001b[0m\u001b[0m\n\u001b[0;32m---> 71\u001b[0;31m         \u001b[0mframe_display\u001b[0m \u001b[0;34m=\u001b[0m \u001b[0mframe\u001b[0m\u001b[0;34m[\u001b[0m\u001b[0;34m:\u001b[0m\u001b[0;34m,\u001b[0m \u001b[0;34m:\u001b[0m\u001b[0;34m,\u001b[0m \u001b[0;36m0\u001b[0m\u001b[0;34m]\u001b[0m\u001b[0;34m\u001b[0m\u001b[0;34m\u001b[0m\u001b[0m\n\u001b[0m\u001b[1;32m     72\u001b[0m         \u001b[0mcv2\u001b[0m\u001b[0;34m.\u001b[0m\u001b[0mimshow\u001b[0m\u001b[0;34m(\u001b[0m\u001b[0;34m'Frame'\u001b[0m\u001b[0;34m,\u001b[0m \u001b[0mframe_display\u001b[0m\u001b[0;34m)\u001b[0m\u001b[0;34m\u001b[0m\u001b[0;34m\u001b[0m\u001b[0m\n\u001b[1;32m     73\u001b[0m         \u001b[0;32mif\u001b[0m \u001b[0mcv2\u001b[0m\u001b[0;34m.\u001b[0m\u001b[0mwaitKey\u001b[0m\u001b[0;34m(\u001b[0m\u001b[0mdelay\u001b[0m\u001b[0;34m)\u001b[0m \u001b[0;34m&\u001b[0m \u001b[0;36m0xFF\u001b[0m \u001b[0;34m==\u001b[0m \u001b[0mord\u001b[0m\u001b[0;34m(\u001b[0m\u001b[0;34m'q'\u001b[0m\u001b[0;34m)\u001b[0m\u001b[0;34m:\u001b[0m\u001b[0;34m\u001b[0m\u001b[0;34m\u001b[0m\u001b[0m\n",
      "\u001b[0;31mIndexError\u001b[0m: too many indices for array: array is 1-dimensional, but 3 were indexed"
     ]
    }
   ],
   "source": [
    "for i in range(len(training_data)):\n",
    "    visualize_as_video(training_data, sequence_idx=i, delay=30)"
   ]
  },
  {
   "cell_type": "code",
   "execution_count": 14,
   "id": "b745c4c3",
   "metadata": {
    "scrolled": false
   },
   "outputs": [
    {
     "ename": "IndexError",
     "evalue": "too many indices for array: array is 2-dimensional, but 4 were indexed",
     "output_type": "error",
     "traceback": [
      "\u001b[0;31m---------------------------------------------------------------------------\u001b[0m",
      "\u001b[0;31mIndexError\u001b[0m                                Traceback (most recent call last)",
      "\u001b[0;32m/var/folders/3w/9k57jny569vcndjv5ty099p80000gn/T/ipykernel_67314/760288335.py\u001b[0m in \u001b[0;36m<module>\u001b[0;34m\u001b[0m\n\u001b[0;32m----> 1\u001b[0;31m \u001b[0mvisualize_frames\u001b[0m\u001b[0;34m(\u001b[0m\u001b[0mtraining_data\u001b[0m\u001b[0;34m,\u001b[0m \u001b[0mnum_sequences\u001b[0m\u001b[0;34m=\u001b[0m\u001b[0;36m1\u001b[0m\u001b[0;34m,\u001b[0m \u001b[0mnum_frames\u001b[0m\u001b[0;34m=\u001b[0m\u001b[0;36m5\u001b[0m\u001b[0;34m)\u001b[0m\u001b[0;34m\u001b[0m\u001b[0;34m\u001b[0m\u001b[0m\n\u001b[0m",
      "\u001b[0;32m/var/folders/3w/9k57jny569vcndjv5ty099p80000gn/T/ipykernel_67314/3122519381.py\u001b[0m in \u001b[0;36mvisualize_frames\u001b[0;34m(training_data, num_sequences, num_frames)\u001b[0m\n\u001b[1;32m     55\u001b[0m         \u001b[0mfig\u001b[0m\u001b[0;34m,\u001b[0m \u001b[0maxs\u001b[0m \u001b[0;34m=\u001b[0m \u001b[0mplt\u001b[0m\u001b[0;34m.\u001b[0m\u001b[0msubplots\u001b[0m\u001b[0;34m(\u001b[0m\u001b[0;36m1\u001b[0m\u001b[0;34m,\u001b[0m \u001b[0mnum_frames\u001b[0m\u001b[0;34m,\u001b[0m \u001b[0mfigsize\u001b[0m\u001b[0;34m=\u001b[0m\u001b[0;34m(\u001b[0m\u001b[0;36m20\u001b[0m\u001b[0;34m,\u001b[0m \u001b[0;36m2\u001b[0m\u001b[0;34m)\u001b[0m\u001b[0;34m)\u001b[0m\u001b[0;34m\u001b[0m\u001b[0;34m\u001b[0m\u001b[0m\n\u001b[1;32m     56\u001b[0m         \u001b[0;32mfor\u001b[0m \u001b[0mframe\u001b[0m \u001b[0;32min\u001b[0m \u001b[0mrange\u001b[0m\u001b[0;34m(\u001b[0m\u001b[0mnum_frames\u001b[0m\u001b[0;34m)\u001b[0m\u001b[0;34m:\u001b[0m\u001b[0;34m\u001b[0m\u001b[0;34m\u001b[0m\u001b[0m\n\u001b[0;32m---> 57\u001b[0;31m             \u001b[0maxs\u001b[0m\u001b[0;34m[\u001b[0m\u001b[0mframe\u001b[0m\u001b[0;34m]\u001b[0m\u001b[0;34m.\u001b[0m\u001b[0mimshow\u001b[0m\u001b[0;34m(\u001b[0m\u001b[0mtraining_data\u001b[0m\u001b[0;34m[\u001b[0m\u001b[0msequence\u001b[0m\u001b[0;34m]\u001b[0m\u001b[0;34m[\u001b[0m\u001b[0mframe\u001b[0m\u001b[0;34m,\u001b[0m \u001b[0;34m:\u001b[0m\u001b[0;34m,\u001b[0m \u001b[0;34m:\u001b[0m\u001b[0;34m,\u001b[0m \u001b[0;36m0\u001b[0m\u001b[0;34m]\u001b[0m\u001b[0;34m,\u001b[0m \u001b[0mcmap\u001b[0m\u001b[0;34m=\u001b[0m\u001b[0;34m'gray'\u001b[0m\u001b[0;34m)\u001b[0m\u001b[0;34m\u001b[0m\u001b[0;34m\u001b[0m\u001b[0m\n\u001b[0m\u001b[1;32m     58\u001b[0m             \u001b[0maxs\u001b[0m\u001b[0;34m[\u001b[0m\u001b[0mframe\u001b[0m\u001b[0;34m]\u001b[0m\u001b[0;34m.\u001b[0m\u001b[0maxis\u001b[0m\u001b[0;34m(\u001b[0m\u001b[0;34m'off'\u001b[0m\u001b[0;34m)\u001b[0m\u001b[0;34m\u001b[0m\u001b[0;34m\u001b[0m\u001b[0m\n\u001b[1;32m     59\u001b[0m         \u001b[0mplt\u001b[0m\u001b[0;34m.\u001b[0m\u001b[0mshow\u001b[0m\u001b[0;34m(\u001b[0m\u001b[0;34m)\u001b[0m\u001b[0;34m\u001b[0m\u001b[0;34m\u001b[0m\u001b[0m\n",
      "\u001b[0;31mIndexError\u001b[0m: too many indices for array: array is 2-dimensional, but 4 were indexed"
     ]
    },
    {
     "data": {
      "image/png": "[encoded data removed]",
      "text/plain": [
       "<Figure size 2000x200 with 5 Axes>"
      ]
     },
     "metadata": {},
     "output_type": "display_data"
    }
   ],
   "source": [
    "visualize_frames(training_data, num_sequences=1, num_frames=5)"
   ]
  },
  {
   "cell_type": "code",
   "execution_count": 8,
   "id": "5cb81452",
   "metadata": {},
   "outputs": [],
   "source": [
    "visualize_as_video(training_data, sequence_idx=2, delay=30)"
   ]
  },
  {
   "cell_type": "code",
   "execution_count": 13,
   "id": "11bd0f98",
   "metadata": {},
   "outputs": [
    {
     "name": "stderr",
     "output_type": "stream",
     "text": [
      "100%|██████████| 200/200 [04:54<00:00,  1.47s/it]\n"
     ]
    }
   ],
   "source": [
    "source_directory = '/Users/idotzhori/Desktop/Desktop - Ido’s Laptop/autoencoderlight/cleaned_highlights'\n",
    "\n",
    "processed_clips_directory = '/Users/idotzhori/Desktop/ae_256'\n",
    "os.makedirs(processed_clips_directory, exist_ok=True)\n",
    "\n",
    "file_names = os.listdir(source_directory)\n",
    "\n",
    "for file_name in tqdm(file_names[0:200]):\n",
    "    video_path = os.path.join(source_directory, file_name)\n",
    "    clip_data = get_training_set_from_video(video_path)\n",
    "    processed_clip_path = os.path.join(processed_clips_directory, f'{file_name}.pkl')\n",
    "\n",
    "    with open(processed_clip_path, 'wb') as f:\n",
    "        pickle.dump(clip_data, f)"
   ]
  },
  {
   "cell_type": "code",
   "execution_count": 16,
   "id": "05235a1f",
   "metadata": {},
   "outputs": [
    {
     "name": "stderr",
     "output_type": "stream",
     "text": [
      "100%|█████████████████████████████████████████| 141/141 [00:46<00:00,  3.00it/s]\n"
     ]
    }
   ],
   "source": [
    "source_directory = '/Users/idotzhori/Desktop/Desktop - Ido’s Laptop/autoencoderlight/cleaned_highlights'\n",
    "\n",
    "processed_clips_directory = '/Users/idotzhori/Desktop/ae_256'\n",
    "os.makedirs(processed_clips_directory, exist_ok=True)\n",
    "\n",
    "file_names = os.listdir(source_directory)\n",
    "\n",
    "for file_name in tqdm(file_names[359:]):\n",
    "    video_path = os.path.join(source_directory, file_name)\n",
    "    clip_data = get_training_set_from_video_flat(video_path)\n",
    "    processed_clip_path = os.path.join(processed_clips_directory, f'{file_name}.pkl')\n",
    "\n",
    "    with open(processed_clip_path, 'wb') as f:\n",
    "        pickle.dump(clip_data, f)"
   ]
  }
 ],
 "metadata": {
  "kernelspec": {
   "display_name": "Python 3 (ipykernel)",
   "language": "python",
   "name": "python3"
  },
  "language_info": {
   "codemirror_mode": {
    "name": "ipython",
    "version": 3
   },
   "file_extension": ".py",
   "mimetype": "text/x-python",
   "name": "python",
   "nbconvert_exporter": "python",
   "pygments_lexer": "ipython3",
   "version": "3.9.13"
  }
 },
 "nbformat": 4,
 "nbformat_minor": 5
}
