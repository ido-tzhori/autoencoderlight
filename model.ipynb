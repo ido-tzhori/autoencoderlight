{
 "cells": [
  {
   "cell_type": "code",
   "execution_count": 1,
   "id": "fc6b410e",
   "metadata": {},
   "outputs": [],
   "source": [
    "import os\n",
    "import pickle\n",
    "import tqdm"
   ]
  },
  {
   "cell_type": "code",
   "execution_count": null,
   "id": "a0f99405",
   "metadata": {},
   "outputs": [
    {
     "name": "stderr",
     "output_type": "stream",
     "text": [
      " 70%|████████████████████████████▊            | 352/500 [00:31<00:12, 11.40it/s]"
     ]
    }
   ],
   "source": [
    "processed_clips_directory = '/Users/idotzhori/Desktop/Desktop - Ido’s Laptop/autoencoderlight/data'\n",
    "\n",
    "file_names = [f for f in os.listdir(processed_clips_directory) if f.endswith('.pkl')]\n",
    "\n",
    "# Initialize an empty list to store the data\n",
    "dataset = []\n",
    "\n",
    "# Unpickle each file and add its contents to the dataset\n",
    "for file_name in tqdm.tqdm(file_names):\n",
    "    processed_clip_path = os.path.join(processed_clips_directory, file_name)\n",
    "    \n",
    "    with open(processed_clip_path, 'rb') as f:\n",
    "        clip_data = pickle.load(f)\n",
    "        dataset.append(clip_data)"
   ]
  },
  {
   "cell_type": "code",
   "execution_count": null,
   "id": "8b3b2890",
   "metadata": {},
   "outputs": [],
   "source": [
    "clips"
   ]
  }
 ],
 "metadata": {
  "kernelspec": {
   "display_name": "Python 3 (ipykernel)",
   "language": "python",
   "name": "python3"
  },
  "language_info": {
   "codemirror_mode": {
    "name": "ipython",
    "version": 3
   },
   "file_extension": ".py",
   "mimetype": "text/x-python",
   "name": "python",
   "nbconvert_exporter": "python",
   "pygments_lexer": "ipython3",
   "version": "3.9.13"
  }
 },
 "nbformat": 4,
 "nbformat_minor": 5
}
