{
 "cells": [
  {
   "cell_type": "code",
   "execution_count": 1,
   "id": "fc6b410e",
   "metadata": {},
   "outputs": [],
   "source": [
    "import os\n",
    "import pickle\n",
    "import tqdm\n",
    "import numpy as np\n",
    "from sklearn.model_selection import train_test_split\n",
    "import tensorflow as tf\n",
    "from tensorflow.keras import layers, models\n",
    "import matplotlib.pyplot as plt\n",
    "from tensorflow.keras.models import load_model\n"
   ]
  },
  {
   "cell_type": "code",
   "execution_count": null,
   "id": "cad64034-40e6-4b64-90ff-c0e0b9f823b8",
   "metadata": {},
   "outputs": [],
   "source": [
    "tf.config.list_physical_devices('GPU')"
   ]
  },
  {
   "cell_type": "code",
   "execution_count": null,
   "id": "dd8113db-461a-4c56-b1fc-7ee0f04c4a4c",
   "metadata": {},
   "outputs": [],
   "source": [
    "!nvidia-smi"
   ]
  },
  {
   "cell_type": "code",
   "execution_count": null,
   "id": "a0f99405",
   "metadata": {},
   "outputs": [],
   "source": [
    "processed_clips_directory = '/scratch/tzhori.i/data_16'\n",
    "\n",
    "file_names = [f for f in os.listdir(processed_clips_directory) if f.endswith('.pkl')]\n",
    "all_clips = []\n",
    "\n",
    "for file_name in tqdm.tqdm(file_names):\n",
    "    try:\n",
    "        processed_clip_path = os.path.join(processed_clips_directory, file_name)\n",
    "\n",
    "        with open(processed_clip_path, 'rb') as f:\n",
    "            clip_data = pickle.load(f)\n",
    "            all_clips.append(clip_data)\n",
    "    except:\n",
    "        pass"
   ]
  },
  {
   "cell_type": "code",
   "execution_count": null,
   "id": "3e6e2e14-3d8d-4064-8411-fecaeab58300",
   "metadata": {},
   "outputs": [],
   "source": [
    "train_list, test_list = train_test_split(np.concatenate(all_clips, axis=0), test_size=0.1, random_state=0, shuffle=True)\n",
    "print(f'train_shape: {train_list.shape} \\ntest_shape: {test_list.shape}')"
   ]
  },
  {
   "cell_type": "code",
   "execution_count": null,
   "id": "ced12c1f-38fe-45b5-ad79-57b81fd30248",
   "metadata": {},
   "outputs": [],
   "source": [
    "def DSTCAE_C3D_256(win_length=16, img_width=128, img_height=128):\n",
    "    temp_pool = 2\n",
    "    temp_depth = 5\n",
    "\n",
    "    # Model initialization\n",
    "    model = models.Sequential()\n",
    "\n",
    "    # Encoding\n",
    "    model.add(layers.Conv3D(16, (5, 3, 3), activation='relu', padding='same', input_shape=(win_length, img_width, img_height, 1)))\n",
    "    model.add(layers.MaxPooling3D((1, 2, 2), padding='same'))\n",
    "\n",
    "    model.add(layers.Conv3D(32, (5, 3, 3), activation='relu', padding='same'))\n",
    "    model.add(layers.MaxPooling3D((temp_pool, 2, 2), padding='same'))\n",
    "\n",
    "    model.add(layers.Conv3D(64, (5, 3, 3), activation='relu', padding='same'))\n",
    "    model.add(layers.MaxPooling3D((temp_pool, 2, 2), padding='same'))\n",
    "\n",
    "    model.add(layers.Dropout(0.25))\n",
    "\n",
    "    model.add(layers.Conv3D(128, (5, 3, 3), activation='relu', padding='same'))\n",
    "    model.add(layers.MaxPooling3D((temp_pool, 2, 2), padding='same'))\n",
    "\n",
    "    # Decoding\n",
    "    model.add(layers.Conv3D(128, (5, 3, 3), activation='relu', padding='same'))\n",
    "    model.add(layers.UpSampling3D((temp_pool, 2, 2)))\n",
    "\n",
    "    model.add(layers.Conv3D(64, (5, 3, 3), activation='relu', padding='same'))\n",
    "    model.add(layers.UpSampling3D((temp_pool, 2, 2)))\n",
    "\n",
    "    model.add(layers.Conv3D(32, (5, 3, 3), activation='relu', padding='same'))\n",
    "    model.add(layers.UpSampling3D((temp_pool, 2, 2)))\n",
    "\n",
    "    model.add(layers.Conv3D(16, (5, 3, 3), activation='relu', padding='same'))\n",
    "    model.add(layers.UpSampling3D((1, 2, 2)))\n",
    "    \n",
    "    model.add(layers.Conv3D(1, (5, 3, 3), activation='sigmoid', padding='same'))\n",
    "    \n",
    "    return model\n",
    "\n",
    "autoencoder = DSTCAE_C3D_256()\n",
    "autoencoder.summary()"
   ]
  },
  {
   "cell_type": "code",
   "execution_count": null,
   "id": "2d09cb46-9dff-4336-8c96-129ec541296f",
   "metadata": {},
   "outputs": [],
   "source": [
    "autoencoder.compile(optimizer='adam', loss='mean_squared_error')"
   ]
  },
  {
   "cell_type": "code",
   "execution_count": null,
   "id": "006948fb-9097-4674-9f86-42faad2c958b",
   "metadata": {},
   "outputs": [],
   "source": [
    "def Enhanced_DSTCAE_C3D_256(win_length=16, img_width=128, img_height=128):\n",
    "    temp_pool = 2\n",
    "    temp_depth = 5\n",
    "\n",
    "    model = models.Sequential()\n",
    "\n",
    "    # Encoding with more filters and additional layers\n",
    "    model.add(layers.Conv3D(16, (7, 5, 5), activation='relu', padding='same', input_shape=(win_length, img_width, img_height, 1)))\n",
    "    model.add(layers.MaxPooling3D((1, 2, 2), padding='same'))\n",
    "\n",
    "    model.add(layers.Conv3D(32, (5, 3, 3), activation='relu', padding='same'))\n",
    "    model.add(layers.MaxPooling3D((temp_pool, 2, 2), padding='same'))\n",
    "\n",
    "    model.add(layers.Conv3D(64, (5, 3, 3), activation='relu', padding='same'))\n",
    "    model.add(layers.MaxPooling3D((temp_pool, 2, 2), padding='same'))\n",
    "\n",
    "    model.add(layers.Conv3D(128, (3, 3, 3), activation='relu', padding='same'))\n",
    "    model.add(layers.MaxPooling3D((temp_pool, 2, 2), padding='same'))\n",
    "\n",
    "    model.add(layers.Dropout(0.25))\n",
    "\n",
    "    # Bottleneck\n",
    "    model.add(layers.Conv3D(256, (3, 3, 3), activation='relu', padding='same'))\n",
    "\n",
    "    # Decoding\n",
    "    model.add(layers.Conv3D(128, (3, 3, 3), activation='relu', padding='same'))\n",
    "    model.add(layers.UpSampling3D((temp_pool, 2, 2)))\n",
    "\n",
    "    model.add(layers.Conv3D(64, (5, 3, 3), activation='relu', padding='same'))\n",
    "    model.add(layers.UpSampling3D((temp_pool, 2, 2)))\n",
    "\n",
    "    model.add(layers.Conv3D(31, (5, 3, 3), activation='relu', padding='same'))\n",
    "    model.add(layers.UpSampling3D((temp_pool, 2, 2)))\n",
    "\n",
    "    model.add(layers.Conv3D(16, (7, 5, 5), activation='relu', padding='same'))\n",
    "    model.add(layers.UpSampling3D((1, 2, 2)))\n",
    "    \n",
    "    model.add(layers.Conv3D(1, (7, 5, 5), activation='sigmoid', padding='same'))\n",
    "    \n",
    "    return model\n",
    "\n",
    "enhanced_autoencoder = Enhanced_DSTCAE_C3D_256()\n",
    "enhanced_autoencoder.summary()"
   ]
  },
  {
   "cell_type": "code",
   "execution_count": null,
   "id": "40ccaa9c-9b1a-4e58-9792-685aca266a80",
   "metadata": {},
   "outputs": [],
   "source": [
    "enhanced_autoencoder.compile(optimizer='adam', loss='mean_squared_error')"
   ]
  },
  {
   "cell_type": "code",
   "execution_count": null,
   "id": "4836a886-7fd1-4464-84e4-7c709f51e6cd",
   "metadata": {},
   "outputs": [],
   "source": [
    "epochs = 10\n",
    "batch_size = 8\n",
    "\n",
    "enhanced_autoencoder.fit(train_list, train_list, epochs=epochs, batch_size=batch_size, shuffle=True)"
   ]
  },
  {
   "cell_type": "code",
   "execution_count": null,
   "id": "be682221-078e-4ac7-b3f5-e3c99438a3b6",
   "metadata": {},
   "outputs": [],
   "source": [
    "epochs = 10\n",
    "batch_size = 4\n",
    "\n",
    "simple_autoencoder.fit(train_list, train_list, epochs=epochs, batch_size=batch_size, shuffle=True)"
   ]
  },
  {
   "cell_type": "code",
   "execution_count": null,
   "id": "ea2ba9d6-5b46-420f-b3e9-b8eec067c4ec",
   "metadata": {},
   "outputs": [],
   "source": [
    "epochs = 5\n",
    "batch_size = 8\n",
    "\n",
    "autoencoder.fit(train_list, train_list, epochs=epochs, batch_size=batch_size, shuffle=True)"
   ]
  },
  {
   "cell_type": "code",
   "execution_count": null,
   "id": "1b0df848-c290-4d7c-9209-56cf70fed541",
   "metadata": {},
   "outputs": [],
   "source": [
    "autoencoder.save('128x128_10_8_all.h5')  # Creates a HDF5 file 'my_model.h5'"
   ]
  },
  {
   "cell_type": "code",
   "execution_count": null,
   "id": "874aed01-be32-48e3-b117-041a8b0459e6",
   "metadata": {},
   "outputs": [],
   "source": [
    "model = load_model('256x256_5_8_all.h5')\n",
    "model.compile(optimizer='adam', loss='mean_squared_error')"
   ]
  },
  {
   "cell_type": "code",
   "execution_count": null,
   "id": "597890fd-ced7-4da8-bbff-7a37151049df",
   "metadata": {},
   "outputs": [],
   "source": [
    "epochs = 5\n",
    "batch_size = 8\n",
    "model.fit(train_list, train_list, epochs=epochs, batch_size=batch_size, shuffle=True)"
   ]
  },
  {
   "cell_type": "code",
   "execution_count": null,
   "id": "1b919e10-f921-43f8-852b-aedec1e9c69d",
   "metadata": {},
   "outputs": [],
   "source": [
    "model.save('256x256_10_8_all.h5')  # Creates a HDF5 file 'my_model.h5'"
   ]
  },
  {
   "cell_type": "code",
   "execution_count": null,
   "id": "63a66fee-e1f5-4461-ba64-b1f10d137ed8",
   "metadata": {},
   "outputs": [],
   "source": [
    "evaluation = autoencoder.evaluate(test_list, test_list)"
   ]
  },
  {
   "cell_type": "code",
   "execution_count": null,
   "id": "e6eea847-e721-47b0-b67a-84a9f181d8bf",
   "metadata": {},
   "outputs": [],
   "source": [
    "predicted = autoencoder.predict(test_list)"
   ]
  },
  {
   "cell_type": "code",
   "execution_count": null,
   "id": "b58c233b-c11b-4f4c-8eed-29cc4d47bcb4",
   "metadata": {},
   "outputs": [],
   "source": [
    "def plot_reconstructed_images(original, reconstructed, n=3):\n",
    "    plt.figure(figsize=(20, 8))\n",
    "    for i in range(n):\n",
    "        ax = plt.subplot(2, n, i + 1)\n",
    "        plt.imshow(original[i].reshape(256, 256))\n",
    "        plt.gray()\n",
    "        ax.get_xaxis().set_visible(False)\n",
    "        ax.get_yaxis().set_visible(False)\n",
    "\n",
    "        ax = plt.subplot(2, n, i + 1 + n)\n",
    "        plt.imshow(reconstructed[i].reshape(256, 256))\n",
    "        plt.gray()\n",
    "        ax.get_xaxis().set_visible(False)\n",
    "        ax.get_yaxis().set_visible(False)\n",
    "    plt.show()\n",
    "    \n",
    "n = 50\n",
    "plot_reconstructed_images(test_list[n], predicted[n])"
   ]
  },
  {
   "cell_type": "code",
   "execution_count": null,
   "id": "0f650037-3efd-4903-8064-608e4dda50e3",
   "metadata": {},
   "outputs": [],
   "source": []
  }
 ],
 "metadata": {
  "kernelspec": {
   "display_name": "Python 3",
   "language": "python",
   "name": "python3"
  },
  "language_info": {
   "codemirror_mode": {
    "name": "ipython",
    "version": 3
   },
   "file_extension": ".py",
   "mimetype": "text/x-python",
   "name": "python",
   "nbconvert_exporter": "python",
   "pygments_lexer": "ipython3",
   "version": "3.8.8"
  }
 },
 "nbformat": 4,
 "nbformat_minor": 5
}
